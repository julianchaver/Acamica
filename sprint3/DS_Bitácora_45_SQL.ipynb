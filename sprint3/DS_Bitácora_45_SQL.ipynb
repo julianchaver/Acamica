{
 "cells": [
  {
   "cell_type": "markdown",
   "metadata": {
    "id": "mmmXLNm8N87s"
   },
   "source": [
    "# SQL\n",
    "\n",
    "¡Bienvenido/a! En este Notebook trabajaremos con bases de datos relacionales y SQL. Así como el de Scraping, es principalmente, demostrativo.\n",
    "\n",
    "Para eso usaremos la librería SQLite3, ya que es muy sencilla de configurar y no necesita instalar un servidor aparte. También tiene la ventaja de ser compatible con muchos lenguajes de programación. Esta librería suele venir instalada por defecto en Python, por lo que no es necesario instalarla.\n",
    "\n",
    "### 1. Creando una Base de Datos\n",
    "\n",
    "Importamos la librería y creamos un objeto **con**, con el cual nos conectaremos a la base de datos. Esto creará un archivo llamado \"mi_primer_BD.db\"."
   ]
  },
  {
   "cell_type": "code",
   "execution_count": 1,
   "metadata": {
    "id": "CYmXXMpiSppi"
   },
   "outputs": [],
   "source": [
    "import pandas as pd\n",
    "import numpy as np\n",
    "import sqlite3\n",
    "\n",
    "con = sqlite3.connect('mi_primer_BD.db')"
   ]
  },
  {
   "cell_type": "markdown",
   "metadata": {
    "id": "UEEguyz3THX-"
   },
   "source": [
    "Presta atención, te ha creado un nuevo archivo en la misma carpeta donde está este notebook. Esto lo hará únicamente si esa base de datos no existe previamente.\n",
    "\n",
    "Si quieres trabajar con Python *puro* deberás crear el objeto **cursor**. En nuestro caso usaremos Pandas, que trae métodos para leer y modificar bases de datos SQL.\n",
    "\n",
    "Igualmente te dejamos el código que deberías utilizar."
   ]
  },
  {
   "cell_type": "code",
   "execution_count": null,
   "metadata": {
    "id": "FP-7xvSWT4T-"
   },
   "outputs": [],
   "source": [
    "#CREAMOS LA BASE\n",
    "#con = sqlite3.connect('mydatabase.db')\n",
    "#CRREAMOS EL OBJETO CURSOR\n",
    "#cursorObj = con.cursor()"
   ]
  },
  {
   "cell_type": "markdown",
   "metadata": {
    "id": "CU5TqwPiWwGv"
   },
   "source": [
    "Vamos a crear un dataframe que insertaremos en la base de datos como una tabla. Esta va a simular tener información sobre alumnos de Acamica."
   ]
  },
  {
   "cell_type": "code",
   "execution_count": 2,
   "metadata": {
    "colab": {
     "base_uri": "https://localhost:8080/",
     "height": 204
    },
    "id": "zrT0s2sEvn2b",
    "outputId": "130d5ea2-7df8-44da-9fae-7627fd971a92"
   },
   "outputs": [
    {
     "data": {
      "text/html": [
       "<div>\n",
       "<style scoped>\n",
       "    .dataframe tbody tr th:only-of-type {\n",
       "        vertical-align: middle;\n",
       "    }\n",
       "\n",
       "    .dataframe tbody tr th {\n",
       "        vertical-align: top;\n",
       "    }\n",
       "\n",
       "    .dataframe thead th {\n",
       "        text-align: right;\n",
       "    }\n",
       "</style>\n",
       "<table border=\"1\" class=\"dataframe\">\n",
       "  <thead>\n",
       "    <tr style=\"text-align: right;\">\n",
       "      <th></th>\n",
       "      <th>Nombre</th>\n",
       "      <th>Edad</th>\n",
       "      <th>Carrera</th>\n",
       "    </tr>\n",
       "  </thead>\n",
       "  <tbody>\n",
       "    <tr>\n",
       "      <th>0</th>\n",
       "      <td>juan</td>\n",
       "      <td>30</td>\n",
       "      <td>data science</td>\n",
       "    </tr>\n",
       "    <tr>\n",
       "      <th>1</th>\n",
       "      <td>esteban</td>\n",
       "      <td>21</td>\n",
       "      <td>data science</td>\n",
       "    </tr>\n",
       "    <tr>\n",
       "      <th>2</th>\n",
       "      <td>nicolas</td>\n",
       "      <td>19</td>\n",
       "      <td>desarrollo web</td>\n",
       "    </tr>\n",
       "    <tr>\n",
       "      <th>3</th>\n",
       "      <td>sofia</td>\n",
       "      <td>45</td>\n",
       "      <td>data science</td>\n",
       "    </tr>\n",
       "    <tr>\n",
       "      <th>4</th>\n",
       "      <td>mariano</td>\n",
       "      <td>27</td>\n",
       "      <td>desarrollo web</td>\n",
       "    </tr>\n",
       "  </tbody>\n",
       "</table>\n",
       "</div>"
      ],
      "text/plain": [
       "    Nombre  Edad         Carrera\n",
       "0     juan    30    data science\n",
       "1  esteban    21    data science\n",
       "2  nicolas    19  desarrollo web\n",
       "3    sofia    45    data science\n",
       "4  mariano    27  desarrollo web"
      ]
     },
     "execution_count": 2,
     "metadata": {},
     "output_type": "execute_result"
    }
   ],
   "source": [
    "# Creamos el diccionario\n",
    "data_estudiantes = {'Nombre':['juan', 'esteban', 'nicolas', 'sofia', 'mariano', 'matias', 'paloma', 'valentina'], 'Edad':[30, 21, 19, 45, 27, 23, 29, 55], 'Carrera':['data science', 'data science', 'desarrollo web', 'data science', 'desarrollo web', 'UX', 'data science', 'desarrollo web']} \n",
    "  \n",
    "# Creamos el DataFrame \n",
    "df_estudiantes = pd.DataFrame(data_estudiantes) \n",
    "df_estudiantes.head()"
   ]
  },
  {
   "cell_type": "markdown",
   "metadata": {
    "id": "6K11ICl7vn2g"
   },
   "source": [
    "Ahora, cargamos el DataFrame `df_estudiantes` en la base de datos."
   ]
  },
  {
   "cell_type": "code",
   "execution_count": 3,
   "metadata": {
    "id": "7vbJuDTZazy_"
   },
   "outputs": [],
   "source": [
    "df_estudiantes.to_sql('estudiantes', con)"
   ]
  },
  {
   "cell_type": "markdown",
   "metadata": {
    "id": "BqZCfwnJcrOl"
   },
   "source": [
    "Para agregarle un poco más de complejidad a la base, vamos a crear una nueva tabla con algunos datos básicos de las carreras."
   ]
  },
  {
   "cell_type": "code",
   "execution_count": 4,
   "metadata": {
    "id": "VKs4zOHBcwOJ"
   },
   "outputs": [],
   "source": [
    "# Creamos el diccionario\n",
    "data_carreras = {'Carrera':['data science', 'desarrollo web', 'UX', 'front end'],'Comisiones_cursando':[20, 15, 7, 9]} \n",
    "  \n",
    "# Creamos el DataFrame \n",
    "df_carreras = pd.DataFrame(data_carreras) \n",
    "\n",
    "#cargamos el df en la BD\n",
    "df_carreras.to_sql('carreras', con)"
   ]
  },
  {
   "cell_type": "code",
   "execution_count": 5,
   "metadata": {
    "id": "IQ-iEJyNvn2w"
   },
   "outputs": [],
   "source": [
    "### Cerramos la conexión con la base de Datos\n",
    "\n",
    "con.close()"
   ]
  },
  {
   "cell_type": "markdown",
   "metadata": {
    "id": "r0rw8OApfPl_"
   },
   "source": [
    "¡Felicitaciones! Ya creaste tu primer base de datos de dos tablas.\n",
    "\n",
    "### 2. Interactuando con la Base de Datos\n",
    "\n",
    "Ahora vamos a interactuar con la base de datos y realizar algunas consultas básicas. Para hacerlo más realista, reinicia el kernel, así borramos cualquier información previa."
   ]
  },
  {
   "cell_type": "code",
   "execution_count": 1,
   "metadata": {
    "id": "nrwHdGTGvn21"
   },
   "outputs": [],
   "source": [
    "import pandas as pd\n",
    "import numpy as np\n",
    "import sqlite3\n",
    "\n",
    "con = sqlite3.connect('mi_primer_BD.db')"
   ]
  },
  {
   "cell_type": "markdown",
   "metadata": {
    "id": "kFiGgA9Cvn25"
   },
   "source": [
    "Tal como viste en la bitácora, usaremos SELECT para buscar elementos. Mirá cada sentencia cómo es y qué hace. Verás que es fácilmente comprensible. Además, presta atención a que, una vez que hicimos el *query*, ya contamos con un DataFrame, ¡con el cual ya sabemos trabajar!"
   ]
  },
  {
   "cell_type": "code",
   "execution_count": 2,
   "metadata": {
    "colab": {
     "base_uri": "https://localhost:8080/"
    },
    "id": "rA0K7rrkfV7E",
    "outputId": "697fa7b6-7d04-4225-96ae-862f1f2142d0"
   },
   "outputs": [
    {
     "name": "stdout",
     "output_type": "stream",
     "text": [
      "    type                  name     tbl_name  rootpage  \\\n",
      "0  table           estudiantes  estudiantes         2   \n",
      "1  index  ix_estudiantes_index  estudiantes         3   \n",
      "2  table              carreras     carreras         4   \n",
      "3  index     ix_carreras_index     carreras         5   \n",
      "4  table                 notas        notas         6   \n",
      "5  index        ix_notas_index        notas         7   \n",
      "\n",
      "                                                 sql  \n",
      "0  CREATE TABLE \"estudiantes\" (\\n\"index\" INTEGER,...  \n",
      "1  CREATE INDEX \"ix_estudiantes_index\"ON \"estudia...  \n",
      "2  CREATE TABLE \"carreras\" (\\n\"index\" INTEGER,\\n ...  \n",
      "3  CREATE INDEX \"ix_carreras_index\"ON \"carreras\" ...  \n",
      "4  CREATE TABLE \"notas\" (\\n\"index\" INTEGER,\\n  \"N...  \n",
      "5  CREATE INDEX \"ix_notas_index\"ON \"notas\" (\"index\")  \n"
     ]
    }
   ],
   "source": [
    "# Consultamos el nombre de las tablas que tiene nuestra BD\n",
    "print(pd.read_sql(\"SELECT * FROM sqlite_master;\", con))"
   ]
  },
  {
   "cell_type": "code",
   "execution_count": 3,
   "metadata": {
    "colab": {
     "base_uri": "https://localhost:8080/"
    },
    "id": "Cn3EWDWgjmGG",
    "outputId": "c3ec443f-158e-4e8a-cd20-513bbdd181d5"
   },
   "outputs": [
    {
     "name": "stdout",
     "output_type": "stream",
     "text": [
      "    index     Nombre  Edad         Carrera\n",
      "0       0       juan    30    data science\n",
      "1       1    esteban    21    data science\n",
      "2       2    nicolas    19  desarrollo web\n",
      "3       3      sofia    45    data science\n",
      "4       4    mariano    27  desarrollo web\n",
      "5       5     matias    23              UX\n",
      "6       6     paloma    29    data science\n",
      "7       7  valentina    55  desarrollo web\n",
      "8       0      maria    60  desarrollo web\n",
      "9       1    celeste    17    data science\n",
      "10      2     martin    45              UX\n",
      "11      3        ana    29              UX\n",
      "12      4     ramiro    33    data science\n",
      "13      5     carlos    23  desarrollo web\n"
     ]
    }
   ],
   "source": [
    "# Consultamos la tabla estudiantes (el * es equivalente a TODO)\n",
    "print(pd.read_sql(\"SELECT * FROM estudiantes;\", con))"
   ]
  },
  {
   "cell_type": "code",
   "execution_count": 4,
   "metadata": {
    "colab": {
     "base_uri": "https://localhost:8080/"
    },
    "id": "vkkj9IWTleel",
    "outputId": "9afb5325-6ad4-4fc6-c77c-ea9b8599ff4d"
   },
   "outputs": [
    {
     "name": "stdout",
     "output_type": "stream",
     "text": [
      "   index         Carrera  Comisiones_cursando\n",
      "0      0    data science                   20\n",
      "1      1  desarrollo web                   15\n",
      "2      2              UX                    7\n",
      "3      3       front end                    9\n"
     ]
    }
   ],
   "source": [
    "# Consultamos la tabla carreras\n",
    "print(pd.read_sql(\"SELECT * FROM carreras;\", con))"
   ]
  },
  {
   "cell_type": "code",
   "execution_count": 5,
   "metadata": {
    "colab": {
     "base_uri": "https://localhost:8080/"
    },
    "id": "mcLIXfSDVcaA",
    "outputId": "595b6f6d-a413-4ebf-bed8-6a44a87cafcd"
   },
   "outputs": [
    {
     "name": "stdout",
     "output_type": "stream",
     "text": [
      "    Nombre\n",
      "0     juan\n",
      "1  esteban\n",
      "2  mariano\n",
      "3   matias\n",
      "4   paloma\n",
      "5      ana\n",
      "6   carlos\n"
     ]
    }
   ],
   "source": [
    "# Agregamos un condicional\n",
    "print(pd.read_sql(\"SELECT Nombre FROM estudiantes WHERE Edad BETWEEN 20 and 30\", con))"
   ]
  },
  {
   "cell_type": "code",
   "execution_count": 6,
   "metadata": {
    "colab": {
     "base_uri": "https://localhost:8080/"
    },
    "id": "vDAWZxPtWTuD",
    "outputId": "41bf81cb-7097-4644-973f-db26377a517c"
   },
   "outputs": [
    {
     "name": "stdout",
     "output_type": "stream",
     "text": [
      "    Nombre         Carrera\n",
      "0     juan    data science\n",
      "1  esteban    data science\n",
      "2  mariano  desarrollo web\n",
      "3   matias              UX\n",
      "4   paloma    data science\n",
      "5      ana              UX\n",
      "6   carlos  desarrollo web\n"
     ]
    }
   ],
   "source": [
    "# Buscamos más información sobre estas personas\n",
    "print(pd.read_sql(\"SELECT Nombre, Carrera FROM estudiantes WHERE Edad BETWEEN 20 and 30\", con))"
   ]
  },
  {
   "cell_type": "code",
   "execution_count": 7,
   "metadata": {
    "colab": {
     "base_uri": "https://localhost:8080/"
    },
    "id": "7AiGPqFwlGp4",
    "outputId": "83799038-85f3-4967-d2d6-8e4d1cd104ce"
   },
   "outputs": [
    {
     "name": "stdout",
     "output_type": "stream",
     "text": [
      "          Carrera\n",
      "0    data science\n",
      "1  desarrollo web\n"
     ]
    }
   ],
   "source": [
    "# Realizamos un pedido de la tabla Carreras\n",
    "print(pd.read_sql(\"SELECT Carrera FROM carreras WHERE Comisiones_cursando > 10\", con))"
   ]
  },
  {
   "cell_type": "code",
   "execution_count": 8,
   "metadata": {
    "colab": {
     "base_uri": "https://localhost:8080/"
    },
    "id": "zzHi_bfbRdjh",
    "outputId": "980b54d6-72ac-4b94-f8fc-2bea258cc21f"
   },
   "outputs": [
    {
     "name": "stdout",
     "output_type": "stream",
     "text": [
      "       Nombre\n",
      "0        juan\n",
      "1     esteban\n",
      "2     nicolas\n",
      "3       sofia\n",
      "4     mariano\n",
      "5      paloma\n",
      "6   valentina\n",
      "7       maria\n",
      "8     celeste\n",
      "9      ramiro\n",
      "10     carlos\n"
     ]
    }
   ],
   "source": [
    "# Vamos a buscar el nombre de los estudiantes que cursan carreras con más de 15 comisiones abiertas (usaremos las dos tablas)\n",
    "print(pd.read_sql(\"SELECT Nombre FROM estudiantes WHERE Carrera IN (SELECT Carrera FROM carreras WHERE Comisiones_cursando > 10)\", con))"
   ]
  },
  {
   "cell_type": "markdown",
   "metadata": {
    "id": "z837L7ztRKxq"
   },
   "source": [
    "### 3. Haciendo cambios en la Base de Datos.\n",
    "\n",
    "En esta sección haremos cambios en la base de datos. Para eso usaremos el método `to_sql` de Pandas: ya lo usaste para crear la base. [Aquí](https://pandas.pydata.org/pandas-docs/stable/reference/api/pandas.DataFrame.to_sql.html) te dejamos la documentación.\n",
    "\n",
    "Por ejemplo, agregaremos filas a la tabla \"estudiantes\"."
   ]
  },
  {
   "cell_type": "code",
   "execution_count": 9,
   "metadata": {
    "colab": {
     "base_uri": "https://localhost:8080/"
    },
    "id": "CYspwTZEm259",
    "outputId": "f8c548e3-ab42-40d1-c995-b267d9d7920b"
   },
   "outputs": [
    {
     "name": "stdout",
     "output_type": "stream",
     "text": [
      "    index     Nombre  Edad         Carrera\n",
      "0       0       juan    30    data science\n",
      "1       1    esteban    21    data science\n",
      "2       2    nicolas    19  desarrollo web\n",
      "3       3      sofia    45    data science\n",
      "4       4    mariano    27  desarrollo web\n",
      "5       5     matias    23              UX\n",
      "6       6     paloma    29    data science\n",
      "7       7  valentina    55  desarrollo web\n",
      "8       0      maria    60  desarrollo web\n",
      "9       1    celeste    17    data science\n",
      "10      2     martin    45              UX\n",
      "11      3        ana    29              UX\n",
      "12      4     ramiro    33    data science\n",
      "13      5     carlos    23  desarrollo web\n",
      "14      0      maria    60  desarrollo web\n",
      "15      1    celeste    17    data science\n",
      "16      2     martin    45              UX\n",
      "17      3        ana    29              UX\n",
      "18      4     ramiro    33    data science\n",
      "19      5     carlos    23  desarrollo web\n"
     ]
    }
   ],
   "source": [
    "# Creamos el diccionario con los datos de los nuevos estudiantes\n",
    "data_estudiantes2 = {'Nombre':['maria', 'celeste', 'martin', 'ana', 'ramiro', 'carlos'], 'Edad':[60, 17, 45, 29, 33, 23], 'Carrera':['desarrollo web', 'data science', 'UX', 'UX', 'data science', 'desarrollo web']} \n",
    "\n",
    "# Creamos el DataFrame \n",
    "df_estudiantes2 = pd.DataFrame(data_estudiantes2) \n",
    "\n",
    "# Cargamos el df en la BD\n",
    "df_estudiantes2.to_sql('estudiantes', con, if_exists='append')\n",
    "\n",
    "#imprimimos la base completa\n",
    "print(pd.read_sql(\"SELECT * FROM estudiantes;\", con))"
   ]
  },
  {
   "cell_type": "markdown",
   "metadata": {
    "id": "6Sa7KLXDvn3h"
   },
   "source": [
    "**Para probar:**\n",
    "1. Modifica la base de datos, agregando nuevas instancias o una tabla nueva.\n",
    "1. Intenta crear tu propia base de datos."
   ]
  },
  {
   "cell_type": "code",
   "execution_count": 15,
   "metadata": {
    "id": "qISSV-z0vn3h"
   },
   "outputs": [
    {
     "name": "stdout",
     "output_type": "stream",
     "text": [
      "   index   Nombre  Nota         Carrera\n",
      "0      0    maria     6  desarrollo web\n",
      "1      1  celeste     7    data science\n",
      "2      2   martin     5              UX\n",
      "3      3      ana     9              UX\n",
      "4      4   ramiro     3    data science\n",
      "5      5   carlos     2  desarrollo web\n"
     ]
    }
   ],
   "source": [
    "#Creamos nuestra propia tabl\n",
    "#pd.read_sql(\"Drop table notas;\", con)\n",
    "# Creamos el diccionario con los datos de los nuevos estudiantes\n",
    "data_notas = {'Nombre':['maria', 'celeste', 'martin', 'ana', 'ramiro', 'carlos'], 'Nota':[6, 7, 5, 9, 3, 2], 'Carrera':['desarrollo web', 'data science', 'UX', 'UX', 'data science', 'desarrollo web']} \n",
    "\n",
    "# Creamos el DataFrame \n",
    "df_notas = pd.DataFrame(data_notas) \n",
    "\n",
    "# Cargamos el df en la BD\n",
    "df_notas.to_sql('notas', con)\n",
    "\n",
    "#imprimimos la base completa\n",
    "print(pd.read_sql(\"SELECT * FROM notas;\", con))"
   ]
  },
  {
   "cell_type": "code",
   "execution_count": 18,
   "metadata": {},
   "outputs": [
    {
     "name": "stdout",
     "output_type": "stream",
     "text": [
      "    index     Nombre  Edad         Carrera\n",
      "0       0       juan    30    data science\n",
      "1       1    esteban    21    data science\n",
      "2       2    nicolas    19  desarrollo web\n",
      "3       3      sofia    45    data science\n",
      "4       4    mariano    27  desarrollo web\n",
      "5       5     matias    23              UX\n",
      "6       6     paloma    29    data science\n",
      "7       7  valentina    55  desarrollo web\n",
      "8       0      maria    60  desarrollo web\n",
      "9       1    celeste    17    data science\n",
      "10      2     martin    45              UX\n",
      "11      3        ana    29              UX\n",
      "12      4     ramiro    33    data science\n",
      "13      5     carlos    23  desarrollo web\n",
      "14      0      maria    60  desarrollo web\n",
      "15      1    celeste    17    data science\n",
      "16      2     martin    45              UX\n",
      "17      3        ana    29              UX\n",
      "18      4     ramiro    33    data science\n",
      "19      5     carlos    23  desarrollo web\n"
     ]
    }
   ],
   "source": [
    "print(pd.read_sql(\"SELECT * FROM estudiantes;\", con))"
   ]
  },
  {
   "cell_type": "code",
   "execution_count": 25,
   "metadata": {},
   "outputs": [],
   "source": [
    "#parámetro\n",
    "\n",
    "def filtro_edad(operador,edad):\n",
    "    print(pd.read_sql(f\"SELECT Nombre FROM estudiantes WHERE Edad {operador}{edad};\", con))\n",
    "    "
   ]
  },
  {
   "cell_type": "code",
   "execution_count": 27,
   "metadata": {},
   "outputs": [
    {
     "name": "stdout",
     "output_type": "stream",
     "text": [
      "      Nombre\n",
      "0      sofia\n",
      "1  valentina\n",
      "2      maria\n",
      "3     martin\n",
      "4      maria\n",
      "5     martin\n"
     ]
    }
   ],
   "source": [
    "consulta1= filtro_edad('>',40)\n",
    "consulta1"
   ]
  },
  {
   "cell_type": "code",
   "execution_count": 28,
   "metadata": {},
   "outputs": [
    {
     "name": "stdout",
     "output_type": "stream",
     "text": [
      "    Nombre\n",
      "0  nicolas\n",
      "1  celeste\n",
      "2  celeste\n"
     ]
    }
   ],
   "source": [
    "consulta2= filtro_edad('<',20)\n",
    "consulta2"
   ]
  },
  {
   "cell_type": "code",
   "execution_count": 29,
   "metadata": {},
   "outputs": [
    {
     "name": "stdout",
     "output_type": "stream",
     "text": [
      "      Nombre\n",
      "0       juan\n",
      "1      sofia\n",
      "2  valentina\n",
      "3      maria\n",
      "4     martin\n",
      "5     ramiro\n",
      "6      maria\n",
      "7     martin\n",
      "8     ramiro\n"
     ]
    }
   ],
   "source": [
    "consulta3= filtro_edad('>=',30)\n",
    "consulta3"
   ]
  }
 ],
 "metadata": {
  "colab": {
   "collapsed_sections": [],
   "name": "DS_Bitácora_45_SQL.ipynb",
   "provenance": []
  },
  "kernelspec": {
   "display_name": "Python 3",
   "language": "python",
   "name": "python3"
  },
  "language_info": {
   "codemirror_mode": {
    "name": "ipython",
    "version": 3
   },
   "file_extension": ".py",
   "mimetype": "text/x-python",
   "name": "python",
   "nbconvert_exporter": "python",
   "pygments_lexer": "ipython3",
   "version": "3.8.5"
  }
 },
 "nbformat": 4,
 "nbformat_minor": 4
}
