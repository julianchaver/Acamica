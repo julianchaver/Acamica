{
 "cells": [
  {
   "cell_type": "markdown",
   "metadata": {
    "id": "U8zyY9Zz1Py3"
   },
   "source": [
    "# Estadística Descriptiva y Pandas\n",
    "\n",
    "El objetivo del siguiente notebook es, además de repasar conceptos de estadística, que sigas aprendiendo a operar con Numpy y que, además, incorpores Pandas a tu caja de herramientas.\n",
    "\n",
    "## 1. Estadística Descriptiva\n",
    "\n",
    "La Estadística Descriptiva nos sirve para comenzar a analizar y entender un conjunto de datos. En el caso de datos numéricos, lo hace obteniendo *valores estadísticos* que, de alguna forma, reemplazan a nuestros datos. Por ejemplo, es muy difícil leer y *entender* la edad de 1000 personas. Pero con un grupo reducido de valores estadísticos (mínimo, máximo, media y desviación estándar, etc.) podemos aproximarnos a ese conjunto de una manera mucho más comprensible. Veamos dos medidas muy importantes:\n",
    "\n",
    "**Promedio**\n",
    "\n",
    "Dados $n$ números $x_1,x_2,...,x_n$, el promedio o media es \n",
    "\n",
    "$$\\overline{x} = \\frac{1}{n}\\sum_{i=1}^{n} x_i = \\frac{x_1 + x_2 + ... + x_n}{n}$$\n",
    "\n",
    "**Desviación Estándar**\n",
    "\n",
    "La varianza y la desviación estándar nos dan una idea de cuán \"dispersos\" están los valores con respecto a su promedio.\n",
    "\n",
    "$$ Var = \\frac{\\sum_{i=1}^{n} (x_i -\\overline{x})^2}{n - 1}$$\n",
    "\n",
    "La desviación estándar es la raiz cuadrada de la varianza. En general se usa la letra griega $\\sigma$ para representarla o las siglas $SD$:\n",
    "\n",
    "$$ SD = \\sqrt{\\frac{\\sum_{i=1}^{n} (x_i -\\overline{x})^2}{n - 1}}$$\n",
    "\n",
    "$$ SD = \\sqrt{Var}$$\n",
    "\n",
    "\n",
    "**Comentarios**:\n",
    "1. Dado un conjunto de números, el promedio suele ser considerado el número más representativo de ese conjunto. Esto no siempre es así. Pensá o googleá por qué.\n",
    "2. Al conjunto de números $x_1,...,x_n$ los pueden encontrar por el nombre de *población* o *muestra* (¡Ojo que no estamos diciendo que *población* y *muestra* sean lo mismo!).\n",
    "\n",
    "### Challenge:\n",
    "\n",
    "Vamos a utilizar de excusa la estadística descriptiva para hacer un desafío de programación:\n",
    "\n",
    "Dadas la siguiente lista de números, escribir una rutina que calcule su promedio, su varianza y desviación estándar. **Pistas:**\n",
    "* Probablemente te sea muy útil usar lo que hiciste para ejercicios anteriores.\n",
    "* Para calcular la varianza y la desviación estándar, usa el resultado que obtuviste al calcular el promedio."
   ]
  },
  {
   "cell_type": "code",
   "execution_count": null,
   "metadata": {
    "colab": {
     "base_uri": "https://localhost:8080/"
    },
    "id": "lqCdXnSP1PzC",
    "outputId": "174c4ffa-b350-496e-b6bb-b72dd479f425"
   },
   "outputs": [
    {
     "data": {
      "text/plain": [
       "2.3333333333333335"
      ]
     },
     "execution_count": 2,
     "metadata": {
      "tags": []
     },
     "output_type": "execute_result"
    }
   ],
   "source": [
    "x_s = [1,2,3,1,2,2,3,4,1,2,3,4,1,2,4]\n",
    "# COMPLETAR\n",
    "\n",
    "sum=0\n",
    "n=0\n",
    "for i in x_s:        ## Promedio\n",
    "  sum+=i\n",
    "  n+=1\n",
    "\n",
    "#len(x_s)\n",
    "\n",
    "prom= sum/n\n",
    "prom"
   ]
  },
  {
   "cell_type": "code",
   "execution_count": null,
   "metadata": {
    "colab": {
     "base_uri": "https://localhost:8080/"
    },
    "id": "PosCOxzC1Pzl",
    "outputId": "3803f84d-0b8b-4ca5-ee34-f3e5894aeb84"
   },
   "outputs": [
    {
     "name": "stdout",
     "output_type": "stream",
     "text": [
      "1.2380952380952384\n"
     ]
    },
    {
     "data": {
      "text/plain": [
       "1.1126972805283737"
      ]
     },
     "execution_count": 18,
     "metadata": {
      "tags": []
     },
     "output_type": "execute_result"
    }
   ],
   "source": [
    "# COMPLETAR\r\n",
    "\r\n",
    "sum2=0              ##Varianza\r\n",
    "for i in x_s:\r\n",
    "  sum2=sum2+(i-prom)**2\r\n",
    "\r\n",
    "var=sum2/(n-1)\r\n",
    "print(var)\r\n",
    "sd=var**(1/2)\r\n",
    "sd"
   ]
  },
  {
   "cell_type": "markdown",
   "metadata": {
    "id": "uMmPPSpQ1Pz9"
   },
   "source": [
    "¿Cómo te fue con el Challenge? Si no pudiste resolverlo, no te preocupes. ¡NumPy tiene funciones ya incorporadas que calcula algunos estadísticos sobre un arreglo!\n",
    "\n",
    "### 1.2 Estadística con NumPy\n",
    "\n",
    "Veamos cómo se calculan, en NumPy, el promedio, varianza y desviación estándar sobre un arreglo."
   ]
  },
  {
   "cell_type": "code",
   "execution_count": 1,
   "metadata": {
    "colab": {
     "base_uri": "https://localhost:8080/"
    },
    "id": "nyJsUM4j1P0C",
    "outputId": "1b879046-f924-4f9b-9248-fcd3bcf41992"
   },
   "outputs": [
    {
     "name": "stdout",
     "output_type": "stream",
     "text": [
      "2.3333333333333335\n",
      "1.238095238095238\n",
      "1.1126972805283735\n"
     ]
    }
   ],
   "source": [
    "import numpy as np\n",
    "\n",
    "x_s = np.array([1,2,3,1,2,2,3,4,1,2,3,4,1,2,4])\n",
    "\n",
    "# Promedio\n",
    "print(x_s.mean())\n",
    "\n",
    "# Varianza\n",
    "print(x_s.var(ddof = 1))\n",
    "\n",
    "# Desviación estándar\n",
    "print(x_s.std(ddof = 1))"
   ]
  },
  {
   "cell_type": "markdown",
   "metadata": {
    "id": "NuADSmLC1P0S"
   },
   "source": [
    "**Para investigar**: ¿qué es el parámetro `ddof` de esa función?¿Qué pasa si no lo usas? Esta pregunta es **difícil** y requiere cierto conocimiento previo. Pero intenta, de todas formas, averiguarlo.\n",
    "\n",
    "NumPy también puede calcular percentilos (¡googlear!), cuantilos, mínimos y máximos:"
   ]
  },
  {
   "cell_type": "code",
   "execution_count": null,
   "metadata": {
    "colab": {
     "base_uri": "https://localhost:8080/"
    },
    "id": "BwBr3Gb_1P0Y",
    "outputId": "0ed714c8-d0af-4aec-a96f-463a4f2187ce"
   },
   "outputs": [
    {
     "name": "stdout",
     "output_type": "stream",
     "text": [
      "3.0\n",
      "2.0\n",
      "1\n",
      "4\n"
     ]
    }
   ],
   "source": [
    "print(np.percentile(x_s,75))\n",
    "print(np.quantile(x_s,0.5))\n",
    "print(np.min(x_s))\n",
    "print(np.max(x_s))"
   ]
  },
  {
   "cell_type": "markdown",
   "metadata": {
    "id": "31cRSU0v1P0n"
   },
   "source": [
    "**Para investigar**: ¿Cuál es la diferencia entre `np.percentile()` y `np.quantile()`?¿Cómo obtendrías los cuartiles a partir de ellos?\n",
    "\n",
    "### 1.3 Generación de muestras al azar\n",
    "\n",
    "Una cosa sumamente útil que podemos hacer con NumPy es generar muestras al azar. Esto no permite simular situaciones. Por ejemplo, las tiradas de dados que aparecen en el GIF de la bitácora. Estas funciones las encontramos dentro del paquete `random` de NumPy, cuya documentación pueden encontrar [aquí](https://docs.scipy.org/doc/numpy-1.15.0/reference/routines.random.html). Veamos cómo lo podemos hacer:"
   ]
  },
  {
   "cell_type": "code",
   "execution_count": null,
   "metadata": {
    "colab": {
     "base_uri": "https://localhost:8080/"
    },
    "id": "LveHBaed1P0u",
    "outputId": "080a0f7d-cac1-4943-b73b-9f9809b578bf"
   },
   "outputs": [
    {
     "name": "stdout",
     "output_type": "stream",
     "text": [
      "[4 4 5 3 2 2 4 4 5 1 3 3 2 3 6]\n",
      "[4 2 6 4 5 4 5 1 2 4 3 4 4 3 4]\n"
     ]
    }
   ],
   "source": [
    "muestras_dado = np.random.randint(1,7, size = 15)\n",
    "print(muestras_dado)\n",
    "\n",
    "### También se puede\n",
    "muestras_dado = np.random.choice([1,2,3,4,5,6], size = 15)\n",
    "print(muestras_dado)"
   ]
  },
  {
   "cell_type": "markdown",
   "metadata": {
    "id": "iw5KJ1sN1P08"
   },
   "source": [
    "### Ejercitación\n",
    "\n",
    "**Ejercicio 1:** ¿Cuál será el promedio de los valores obtenidos al tirar muchas veces un dado?¿Te animás a averiguar - o calcular - cuánto *debería dar* antes de hacerlo? Vamos a tratar de responder esta pregunta **simulando** un dado. Para ello:\n",
    "* Obtener muestras al azar de un dado usando lo que vimos anteriormente.\n",
    "* Calcular su promedio y desviación estándar.\n",
    "\n",
    "¿A partir de qué cantidad de muestras el promedio se \"estabiliza\"?"
   ]
  },
  {
   "cell_type": "code",
   "execution_count": 20,
   "metadata": {
    "colab": {
     "base_uri": "https://localhost:8080/"
    },
    "id": "x5AP10hv1P1A",
    "outputId": "c7885f5f-f34f-4a9f-ed6b-34528bd422e0",
    "scrolled": true
   },
   "outputs": [
    {
     "name": "stdout",
     "output_type": "stream",
     "text": [
      "3.5\n",
      "4.0\n",
      "4.0\n",
      "2.3333333333333335\n",
      "3.5\n",
      "3.6\n",
      "3.6666666666666665\n",
      "2.857142857142857\n",
      "3.0\n",
      "3.5555555555555554\n",
      "3.6\n",
      "4.090909090909091\n",
      "3.6666666666666665\n",
      "4.3076923076923075\n",
      "3.357142857142857\n",
      "3.4\n",
      "3.125\n",
      "3.411764705882353\n",
      "3.888888888888889\n",
      "3.8421052631578947\n",
      "3.4\n",
      "4.190476190476191\n",
      "4.5\n",
      "3.4782608695652173\n",
      "3.2916666666666665\n",
      "3.52\n",
      "3.5384615384615383\n",
      "3.2962962962962963\n",
      "3.5\n",
      "3.586206896551724\n",
      "3.6\n",
      "3.4838709677419355\n",
      "3.96875\n",
      "3.787878787878788\n",
      "3.176470588235294\n",
      "3.8857142857142857\n",
      "3.1666666666666665\n",
      "2.972972972972973\n",
      "3.8157894736842106\n",
      "3.3076923076923075\n",
      "3.7\n",
      "3.8048780487804876\n",
      "3.6904761904761907\n",
      "3.627906976744186\n",
      "3.5\n",
      "3.2222222222222223\n",
      "3.130434782608696\n",
      "3.1702127659574466\n",
      "3.3541666666666665\n",
      "3.4489795918367347\n",
      "3.4\n",
      "3.2745098039215685\n",
      "3.4423076923076925\n",
      "3.6792452830188678\n",
      "3.3703703703703702\n",
      "3.2\n",
      "3.6607142857142856\n",
      "3.43859649122807\n",
      "3.2586206896551726\n",
      "3.406779661016949\n",
      "3.5833333333333335\n",
      "3.360655737704918\n",
      "3.4516129032258065\n",
      "3.3968253968253967\n",
      "3.390625\n",
      "3.1384615384615384\n",
      "3.484848484848485\n",
      "3.1194029850746268\n",
      "3.3529411764705883\n",
      "3.449275362318841\n",
      "3.242857142857143\n",
      "3.3943661971830985\n",
      "3.5833333333333335\n",
      "3.5753424657534247\n",
      "3.472972972972973\n",
      "3.453333333333333\n",
      "3.3552631578947367\n",
      "2.9740259740259742\n",
      "3.3974358974358974\n",
      "3.240506329113924\n",
      "3.4125\n",
      "3.7160493827160495\n",
      "3.597560975609756\n",
      "3.710843373493976\n",
      "3.1666666666666665\n",
      "3.4352941176470586\n",
      "3.1511627906976742\n",
      "3.689655172413793\n",
      "3.6363636363636362\n",
      "3.438202247191011\n",
      "3.6333333333333333\n",
      "3.4615384615384617\n",
      "3.5434782608695654\n",
      "3.3010752688172045\n",
      "3.5851063829787235\n",
      "3.473684210526316\n",
      "3.3333333333333335\n",
      "3.3402061855670104\n",
      "3.295918367346939\n",
      "3.414141414141414\n",
      "3.4\n",
      "3.772277227722772\n"
     ]
    }
   ],
   "source": [
    "# COMPLETAR\r\n",
    "prom_esp=np.mean([1,2,3,4,5,6])\r\n",
    "print(prom_esp)\r\n",
    "\r\n",
    "### ciclo iterativo indefinido\r\n",
    "#n=0\r\n",
    "#prom_i=0\r\n",
    "#prom_f=1\r\n",
    "#while prom_i != prom_f:\r\n",
    "#    n+=1\r\n",
    "#    prom_i = prom_f\r\n",
    "#    prom_f = np.mean(np.random.randint(1,7, size = n))\r\n",
    "\r\n",
    "#print(prom_f)\r\n",
    "#print(n)\r\n",
    "\r\n",
    "#Hasta x iteraciones\r\n",
    "x=0\r\n",
    "while x<=100:\r\n",
    "    x+=1\r\n",
    "    prom_f = np.mean(np.random.randint(1,7, size = x))\r\n",
    "    print(prom_f)"
   ]
  },
  {
   "cell_type": "markdown",
   "metadata": {
    "id": "YBg5eGbD1P1P"
   },
   "source": [
    "**Ejercicio 2:** Simular un dado cargado para favorecer un valor de su elección. Por ejemplo, el seis. Para ello, consultar la ayuda de la función `np.random.choice`. ¿Cómo se modifica el promedio y la desviación estándar?"
   ]
  },
  {
   "cell_type": "code",
   "execution_count": 23,
   "metadata": {
    "colab": {
     "base_uri": "https://localhost:8080/"
    },
    "id": "bsRijYBY1P1U",
    "outputId": "f2a22952-e113-4d33-d937-6c8379f0dee5"
   },
   "outputs": [
    {
     "name": "stdout",
     "output_type": "stream",
     "text": [
      "6.0\n",
      "6.0\n",
      "4.0\n",
      "4.75\n",
      "5.0\n",
      "5.166666666666667\n",
      "5.285714285714286\n",
      "4.5\n",
      "5.222222222222222\n",
      "5.1\n",
      "4.636363636363637\n"
     ]
    }
   ],
   "source": [
    "# COMPLETAR\r\n",
    "x=0\r\n",
    "while x<=10:\r\n",
    "    x+=1\r\n",
    "    prom_f = np.mean(np.random.choice([6,6,6,4,5,3], size = x))\r\n",
    "    print(prom_f)"
   ]
  },
  {
   "cell_type": "markdown",
   "metadata": {
    "id": "E49i11Xa1P1i"
   },
   "source": [
    "## 2. Pandas \n",
    "\n",
    "Pandas es la librería más conocida de Python para manipular y analizar datos. Está montada sobre NumPy, por lo cual muchas funcionalidades son similares. Utilizaremos Pandas para trabajar con datasets estructurados (y bueno, ¡bastante más!). \n",
    "\n",
    "Así como NumPy nos proveé de los *arreglos* y con ellos accedemos a muchas nuevas funcionalidades, Pandas nos provee de los *Data Frames* y las *Series*. Por lejos, el objeto más utilizados es el primero, los Data Frames. \n",
    "\n",
    "\n",
    "En esta sección empezaremos a:\n",
    "\n",
    "1. Familiarizarnos con los Data Frames de Pandas, manipular sus funciones básicas y entender la lógica de las mismas (¡para después googlearlas!).\n",
    "2. Empezar a trabajar con Datasets.\n",
    "\n",
    "**¡Manos a la obra!**\n",
    "\n",
    "### 2.1 Primeros pasos\n",
    "\n",
    "Importamos la librería."
   ]
  },
  {
   "cell_type": "code",
   "execution_count": 40,
   "metadata": {
    "id": "j24h6xmv1P1o"
   },
   "outputs": [],
   "source": [
    "import pandas as pd"
   ]
  },
  {
   "cell_type": "markdown",
   "metadata": {
    "id": "FyLT8HgC1P11"
   },
   "source": [
    "Vamos a crear nuestro propio dataset. Es decir, agarrar a mano los datos poblacionales de http://www.ign.gob.ar/nuestrasactividades/geografia/datosargentina/divisionpolitica y guardarlos en una variable `data_dic`.¿Qué tipo de variable es, desde el punto de vista de la programación?\n",
    "\n",
    "**Nota**: la población está en número de habitantes y la superficie en km2."
   ]
  },
  {
   "cell_type": "code",
   "execution_count": 41,
   "metadata": {
    "id": "WQq6LK041P17"
   },
   "outputs": [],
   "source": [
    "data_dic = {\"Jurisdiccion\":[\"CABA\",\"Buenos Aires\",\"Catamarca\",\"Chaco\",\"Chubut\",\"Córdoba\",\"Jujuy\",\"Mendoza\",\"Misiones\",\"Río Negro\",\"Santa Cruz\",\n",
    "                           \"Santa Fe\"],\"Poblacion\":[2890151,15625084,367828,1055259,509108,3308876,673307,1738929,\n",
    "                                                   1101593,638645,273964,3194537],\"Superficie\":\n",
    "           [200,307521,102606,99633,509108,165321,53219,148827,29801,203013,243943,133007]}"
   ]
  },
  {
   "cell_type": "markdown",
   "metadata": {
    "id": "rGxjjI1c1P2H"
   },
   "source": [
    "Así como podemos crear arreglos a partir de listas, podemos crear Data Frames a partir de diccionarios."
   ]
  },
  {
   "cell_type": "code",
   "execution_count": 73,
   "metadata": {
    "colab": {
     "base_uri": "https://localhost:8080/",
     "height": 421
    },
    "id": "0SMR3d331P2L",
    "outputId": "35270454-2b41-4ba9-dca0-99e9db46e46d"
   },
   "outputs": [
    {
     "data": {
      "text/html": [
       "<div>\n",
       "<style scoped>\n",
       "    .dataframe tbody tr th:only-of-type {\n",
       "        vertical-align: middle;\n",
       "    }\n",
       "\n",
       "    .dataframe tbody tr th {\n",
       "        vertical-align: top;\n",
       "    }\n",
       "\n",
       "    .dataframe thead th {\n",
       "        text-align: right;\n",
       "    }\n",
       "</style>\n",
       "<table border=\"1\" class=\"dataframe\">\n",
       "  <thead>\n",
       "    <tr style=\"text-align: right;\">\n",
       "      <th></th>\n",
       "      <th>Jurisdiccion</th>\n",
       "      <th>Poblacion</th>\n",
       "      <th>Superficie</th>\n",
       "    </tr>\n",
       "  </thead>\n",
       "  <tbody>\n",
       "    <tr>\n",
       "      <th>0</th>\n",
       "      <td>CABA</td>\n",
       "      <td>2890151</td>\n",
       "      <td>200</td>\n",
       "    </tr>\n",
       "    <tr>\n",
       "      <th>1</th>\n",
       "      <td>Buenos Aires</td>\n",
       "      <td>15625084</td>\n",
       "      <td>307521</td>\n",
       "    </tr>\n",
       "    <tr>\n",
       "      <th>2</th>\n",
       "      <td>Catamarca</td>\n",
       "      <td>367828</td>\n",
       "      <td>102606</td>\n",
       "    </tr>\n",
       "    <tr>\n",
       "      <th>3</th>\n",
       "      <td>Chaco</td>\n",
       "      <td>1055259</td>\n",
       "      <td>99633</td>\n",
       "    </tr>\n",
       "    <tr>\n",
       "      <th>4</th>\n",
       "      <td>Chubut</td>\n",
       "      <td>509108</td>\n",
       "      <td>509108</td>\n",
       "    </tr>\n",
       "    <tr>\n",
       "      <th>5</th>\n",
       "      <td>Córdoba</td>\n",
       "      <td>3308876</td>\n",
       "      <td>165321</td>\n",
       "    </tr>\n",
       "    <tr>\n",
       "      <th>6</th>\n",
       "      <td>Jujuy</td>\n",
       "      <td>673307</td>\n",
       "      <td>53219</td>\n",
       "    </tr>\n",
       "    <tr>\n",
       "      <th>7</th>\n",
       "      <td>Mendoza</td>\n",
       "      <td>1738929</td>\n",
       "      <td>148827</td>\n",
       "    </tr>\n",
       "    <tr>\n",
       "      <th>8</th>\n",
       "      <td>Misiones</td>\n",
       "      <td>1101593</td>\n",
       "      <td>29801</td>\n",
       "    </tr>\n",
       "    <tr>\n",
       "      <th>9</th>\n",
       "      <td>Río Negro</td>\n",
       "      <td>638645</td>\n",
       "      <td>203013</td>\n",
       "    </tr>\n",
       "    <tr>\n",
       "      <th>10</th>\n",
       "      <td>Santa Cruz</td>\n",
       "      <td>273964</td>\n",
       "      <td>243943</td>\n",
       "    </tr>\n",
       "    <tr>\n",
       "      <th>11</th>\n",
       "      <td>Santa Fe</td>\n",
       "      <td>3194537</td>\n",
       "      <td>133007</td>\n",
       "    </tr>\n",
       "  </tbody>\n",
       "</table>\n",
       "</div>"
      ],
      "text/plain": [
       "    Jurisdiccion  Poblacion  Superficie\n",
       "0           CABA    2890151         200\n",
       "1   Buenos Aires   15625084      307521\n",
       "2      Catamarca     367828      102606\n",
       "3          Chaco    1055259       99633\n",
       "4         Chubut     509108      509108\n",
       "5        Córdoba    3308876      165321\n",
       "6          Jujuy     673307       53219\n",
       "7        Mendoza    1738929      148827\n",
       "8       Misiones    1101593       29801\n",
       "9      Río Negro     638645      203013\n",
       "10    Santa Cruz     273964      243943\n",
       "11      Santa Fe    3194537      133007"
      ]
     },
     "execution_count": 73,
     "metadata": {
      "tags": []
     },
     "output_type": "execute_result"
    }
   ],
   "source": [
    "# Creamos el DataFrame\n",
    "data_pandas = pd.DataFrame(data_dic)\n",
    "data_pandas"
   ]
  },
  {
   "cell_type": "markdown",
   "metadata": {
    "id": "2UlnyR6O1P2d"
   },
   "source": [
    "**Ejercicio 1:** investigar las funciones que se implementan en la próxima celda. ¿Qué hacen? ¿Para qué piensan que pueden ser útiles?"
   ]
  },
  {
   "cell_type": "code",
   "execution_count": 70,
   "metadata": {
    "colab": {
     "base_uri": "https://localhost:8080/"
    },
    "id": "Y5wTHya41P2i",
    "outputId": "a0da31df-0386-4f04-ebe3-904a8bca7933"
   },
   "outputs": [
    {
     "data": {
      "text/plain": [
       "(12, 3)"
      ]
     },
     "execution_count": 70,
     "metadata": {
      "tags": []
     },
     "output_type": "execute_result"
    }
   ],
   "source": [
    "# data_pandas.head()\n",
    "# data_pandas.tail()\n",
    "# data_pandas.count()\n",
    "data_pandas.shape"
   ]
  },
  {
   "cell_type": "markdown",
   "metadata": {
    "id": "uozfwkNo1P2w"
   },
   "source": [
    "**Ejercicio 2:** agregar al Dataset la información correspondiente a alguna jurisdicción faltante. Recuerden que, al tratarse de una nueva instancia, corresponde a una fila. Pista: googlear \"add row to pandas dataframe\" o similar. No hay una única forma de hacerlo."
   ]
  },
  {
   "cell_type": "code",
   "execution_count": 77,
   "metadata": {
    "colab": {
     "base_uri": "https://localhost:8080/",
     "height": 483
    },
    "id": "i__cR4Hh1P2z",
    "outputId": "5dc17444-0417-409e-a09a-2c8ea0bc99eb"
   },
   "outputs": [
    {
     "data": {
      "text/html": [
       "<div>\n",
       "<style scoped>\n",
       "    .dataframe tbody tr th:only-of-type {\n",
       "        vertical-align: middle;\n",
       "    }\n",
       "\n",
       "    .dataframe tbody tr th {\n",
       "        vertical-align: top;\n",
       "    }\n",
       "\n",
       "    .dataframe thead th {\n",
       "        text-align: right;\n",
       "    }\n",
       "</style>\n",
       "<table border=\"1\" class=\"dataframe\">\n",
       "  <thead>\n",
       "    <tr style=\"text-align: right;\">\n",
       "      <th></th>\n",
       "      <th>Jurisdiccion</th>\n",
       "      <th>Poblacion</th>\n",
       "      <th>Superficie</th>\n",
       "    </tr>\n",
       "  </thead>\n",
       "  <tbody>\n",
       "    <tr>\n",
       "      <th>0</th>\n",
       "      <td>CABA</td>\n",
       "      <td>2890151</td>\n",
       "      <td>200</td>\n",
       "    </tr>\n",
       "    <tr>\n",
       "      <th>1</th>\n",
       "      <td>Buenos Aires</td>\n",
       "      <td>15625084</td>\n",
       "      <td>307521</td>\n",
       "    </tr>\n",
       "    <tr>\n",
       "      <th>2</th>\n",
       "      <td>Catamarca</td>\n",
       "      <td>367828</td>\n",
       "      <td>102606</td>\n",
       "    </tr>\n",
       "    <tr>\n",
       "      <th>3</th>\n",
       "      <td>Chaco</td>\n",
       "      <td>1055259</td>\n",
       "      <td>99633</td>\n",
       "    </tr>\n",
       "    <tr>\n",
       "      <th>4</th>\n",
       "      <td>Chubut</td>\n",
       "      <td>509108</td>\n",
       "      <td>509108</td>\n",
       "    </tr>\n",
       "    <tr>\n",
       "      <th>5</th>\n",
       "      <td>Córdoba</td>\n",
       "      <td>3308876</td>\n",
       "      <td>165321</td>\n",
       "    </tr>\n",
       "    <tr>\n",
       "      <th>6</th>\n",
       "      <td>Jujuy</td>\n",
       "      <td>673307</td>\n",
       "      <td>53219</td>\n",
       "    </tr>\n",
       "    <tr>\n",
       "      <th>7</th>\n",
       "      <td>Mendoza</td>\n",
       "      <td>1738929</td>\n",
       "      <td>148827</td>\n",
       "    </tr>\n",
       "    <tr>\n",
       "      <th>8</th>\n",
       "      <td>Misiones</td>\n",
       "      <td>1101593</td>\n",
       "      <td>29801</td>\n",
       "    </tr>\n",
       "    <tr>\n",
       "      <th>9</th>\n",
       "      <td>Río Negro</td>\n",
       "      <td>638645</td>\n",
       "      <td>203013</td>\n",
       "    </tr>\n",
       "    <tr>\n",
       "      <th>10</th>\n",
       "      <td>Santa Cruz</td>\n",
       "      <td>273964</td>\n",
       "      <td>243943</td>\n",
       "    </tr>\n",
       "    <tr>\n",
       "      <th>11</th>\n",
       "      <td>Santa Fe</td>\n",
       "      <td>3194537</td>\n",
       "      <td>133007</td>\n",
       "    </tr>\n",
       "    <tr>\n",
       "      <th>12</th>\n",
       "      <td>La Rioja</td>\n",
       "      <td>333642</td>\n",
       "      <td>89680</td>\n",
       "    </tr>\n",
       "    <tr>\n",
       "      <th>13</th>\n",
       "      <td>La Rioja</td>\n",
       "      <td>333642</td>\n",
       "      <td>89680</td>\n",
       "    </tr>\n",
       "  </tbody>\n",
       "</table>\n",
       "</div>"
      ],
      "text/plain": [
       "    Jurisdiccion  Poblacion  Superficie\n",
       "0           CABA    2890151         200\n",
       "1   Buenos Aires   15625084      307521\n",
       "2      Catamarca     367828      102606\n",
       "3          Chaco    1055259       99633\n",
       "4         Chubut     509108      509108\n",
       "5        Córdoba    3308876      165321\n",
       "6          Jujuy     673307       53219\n",
       "7        Mendoza    1738929      148827\n",
       "8       Misiones    1101593       29801\n",
       "9      Río Negro     638645      203013\n",
       "10    Santa Cruz     273964      243943\n",
       "11      Santa Fe    3194537      133007\n",
       "12      La Rioja     333642       89680\n",
       "13      La Rioja     333642       89680"
      ]
     },
     "execution_count": 77,
     "metadata": {
      "tags": []
     },
     "output_type": "execute_result"
    }
   ],
   "source": [
    "# COMPLETAR\r\n",
    "#data_pandas.loc[13]= ['La Rioja',333642,89680]\r\n",
    "data_pandas= data_pandas.append({'Jurisdiccion':'La Rioja','Poblacion':333642,'Superficie':89680},ignore_index=True)\r\n",
    "data_pandas"
   ]
  },
  {
   "cell_type": "markdown",
   "metadata": {
    "id": "3XnYJjid1P2_"
   },
   "source": [
    "**Ejercicio 3:** Investigar las funciones columns e index. ¿Qué hacen? ¿Qué tipo de dato es su salida?¿A qué tipo de dato conocido se parecen?"
   ]
  },
  {
   "cell_type": "code",
   "execution_count": 37,
   "metadata": {
    "colab": {
     "base_uri": "https://localhost:8080/"
    },
    "id": "3TypUl1A1P3B",
    "outputId": "de5398b6-b902-4af3-90c4-92670462c9f6"
   },
   "outputs": [
    {
     "data": {
      "text/plain": [
       "Index(['Jurisdiccion', 'Poblacion', 'Superficie'], dtype='object')"
      ]
     },
     "execution_count": 37,
     "metadata": {
      "tags": []
     },
     "output_type": "execute_result"
    }
   ],
   "source": [
    "data_pandas.columns\n",
    "#data_pandas.index"
   ]
  },
  {
   "cell_type": "markdown",
   "metadata": {
    "id": "EK-iDt4a1P3M"
   },
   "source": [
    "**Ejercicio 4:** ¿Qué hacen las siguientes operaciones?"
   ]
  },
  {
   "cell_type": "code",
   "execution_count": 49,
   "metadata": {
    "colab": {
     "base_uri": "https://localhost:8080/"
    },
    "id": "UAg6Cz5v1P3P",
    "outputId": "9f66facb-d7ea-42b7-a751-17cc5380cbc3"
   },
   "outputs": [
    {
     "data": {
      "text/plain": [
       "True"
      ]
     },
     "execution_count": 49,
     "metadata": {
      "tags": []
     },
     "output_type": "execute_result"
    }
   ],
   "source": [
    "#data_pandas['Jurisdiccion']\n",
    "#data_pandas[['Jurisdiccion','Poblacion']]\n",
    "#data_pandas.Jurisdiccion\n",
    "'Poblacion' in data_pandas"
   ]
  },
  {
   "cell_type": "markdown",
   "metadata": {
    "id": "osTgGkDJ1P3X"
   },
   "source": [
    "**Ejercicio 5:** Agregar una columna al dataframe que corresponda a la densidad de cada jurisdicción. Usar la información que **ya está** en el dataset."
   ]
  },
  {
   "cell_type": "code",
   "execution_count": 80,
   "metadata": {
    "colab": {
     "base_uri": "https://localhost:8080/",
     "height": 483
    },
    "id": "8E5lnSqG1P3c",
    "outputId": "f66d7363-1664-42f9-fd2a-da942239bf52"
   },
   "outputs": [
    {
     "data": {
      "text/html": [
       "<div>\n",
       "<style scoped>\n",
       "    .dataframe tbody tr th:only-of-type {\n",
       "        vertical-align: middle;\n",
       "    }\n",
       "\n",
       "    .dataframe tbody tr th {\n",
       "        vertical-align: top;\n",
       "    }\n",
       "\n",
       "    .dataframe thead th {\n",
       "        text-align: right;\n",
       "    }\n",
       "</style>\n",
       "<table border=\"1\" class=\"dataframe\">\n",
       "  <thead>\n",
       "    <tr style=\"text-align: right;\">\n",
       "      <th></th>\n",
       "      <th>Jurisdiccion</th>\n",
       "      <th>Poblacion</th>\n",
       "      <th>Superficie</th>\n",
       "      <th>Densidad</th>\n",
       "    </tr>\n",
       "  </thead>\n",
       "  <tbody>\n",
       "    <tr>\n",
       "      <th>0</th>\n",
       "      <td>CABA</td>\n",
       "      <td>2890151</td>\n",
       "      <td>200</td>\n",
       "      <td>14450.755000</td>\n",
       "    </tr>\n",
       "    <tr>\n",
       "      <th>1</th>\n",
       "      <td>Buenos Aires</td>\n",
       "      <td>15625084</td>\n",
       "      <td>307521</td>\n",
       "      <td>50.809811</td>\n",
       "    </tr>\n",
       "    <tr>\n",
       "      <th>2</th>\n",
       "      <td>Catamarca</td>\n",
       "      <td>367828</td>\n",
       "      <td>102606</td>\n",
       "      <td>3.584859</td>\n",
       "    </tr>\n",
       "    <tr>\n",
       "      <th>3</th>\n",
       "      <td>Chaco</td>\n",
       "      <td>1055259</td>\n",
       "      <td>99633</td>\n",
       "      <td>10.591461</td>\n",
       "    </tr>\n",
       "    <tr>\n",
       "      <th>4</th>\n",
       "      <td>Chubut</td>\n",
       "      <td>509108</td>\n",
       "      <td>509108</td>\n",
       "      <td>1.000000</td>\n",
       "    </tr>\n",
       "    <tr>\n",
       "      <th>5</th>\n",
       "      <td>Córdoba</td>\n",
       "      <td>3308876</td>\n",
       "      <td>165321</td>\n",
       "      <td>20.014856</td>\n",
       "    </tr>\n",
       "    <tr>\n",
       "      <th>6</th>\n",
       "      <td>Jujuy</td>\n",
       "      <td>673307</td>\n",
       "      <td>53219</td>\n",
       "      <td>12.651628</td>\n",
       "    </tr>\n",
       "    <tr>\n",
       "      <th>7</th>\n",
       "      <td>Mendoza</td>\n",
       "      <td>1738929</td>\n",
       "      <td>148827</td>\n",
       "      <td>11.684231</td>\n",
       "    </tr>\n",
       "    <tr>\n",
       "      <th>8</th>\n",
       "      <td>Misiones</td>\n",
       "      <td>1101593</td>\n",
       "      <td>29801</td>\n",
       "      <td>36.964968</td>\n",
       "    </tr>\n",
       "    <tr>\n",
       "      <th>9</th>\n",
       "      <td>Río Negro</td>\n",
       "      <td>638645</td>\n",
       "      <td>203013</td>\n",
       "      <td>3.145833</td>\n",
       "    </tr>\n",
       "    <tr>\n",
       "      <th>10</th>\n",
       "      <td>Santa Cruz</td>\n",
       "      <td>273964</td>\n",
       "      <td>243943</td>\n",
       "      <td>1.123066</td>\n",
       "    </tr>\n",
       "    <tr>\n",
       "      <th>11</th>\n",
       "      <td>Santa Fe</td>\n",
       "      <td>3194537</td>\n",
       "      <td>133007</td>\n",
       "      <td>24.017811</td>\n",
       "    </tr>\n",
       "    <tr>\n",
       "      <th>12</th>\n",
       "      <td>La Rioja</td>\n",
       "      <td>333642</td>\n",
       "      <td>89680</td>\n",
       "      <td>3.720361</td>\n",
       "    </tr>\n",
       "    <tr>\n",
       "      <th>13</th>\n",
       "      <td>La Rioja</td>\n",
       "      <td>333642</td>\n",
       "      <td>89680</td>\n",
       "      <td>3.720361</td>\n",
       "    </tr>\n",
       "  </tbody>\n",
       "</table>\n",
       "</div>"
      ],
      "text/plain": [
       "    Jurisdiccion  Poblacion  Superficie      Densidad\n",
       "0           CABA    2890151         200  14450.755000\n",
       "1   Buenos Aires   15625084      307521     50.809811\n",
       "2      Catamarca     367828      102606      3.584859\n",
       "3          Chaco    1055259       99633     10.591461\n",
       "4         Chubut     509108      509108      1.000000\n",
       "5        Córdoba    3308876      165321     20.014856\n",
       "6          Jujuy     673307       53219     12.651628\n",
       "7        Mendoza    1738929      148827     11.684231\n",
       "8       Misiones    1101593       29801     36.964968\n",
       "9      Río Negro     638645      203013      3.145833\n",
       "10    Santa Cruz     273964      243943      1.123066\n",
       "11      Santa Fe    3194537      133007     24.017811\n",
       "12      La Rioja     333642       89680      3.720361\n",
       "13      La Rioja     333642       89680      3.720361"
      ]
     },
     "execution_count": 80,
     "metadata": {
      "tags": []
     },
     "output_type": "execute_result"
    }
   ],
   "source": [
    "# COMPLETAR\r\n",
    "data_pandas['Densidad']= data_pandas.Poblacion / data_pandas.Superficie\r\n",
    "data_pandas"
   ]
  },
  {
   "cell_type": "markdown",
   "metadata": {
    "id": "svpqtSdf1P3l"
   },
   "source": [
    "### 2.2 Filtrado por máscara.\n",
    "\n",
    "Lo que veremos a continuación es **muy importante**, ya que es una operación que haremos muchas veces. Su implementación es muy parecida tanto en NumPy como en Pandas, por lo que veremos cómo hacerlo primero en NumPy luego en Pandas.\n",
    "\n",
    "Supongamos que hacemos 50 tiradas de un dado, como hicimos en la sección anterior, pero queremos seleccionar solamente aquellas tiradas que fueron menores que cuatro. ¿Cómo podemos hacerlo?"
   ]
  },
  {
   "cell_type": "code",
   "execution_count": null,
   "metadata": {
    "colab": {
     "base_uri": "https://localhost:8080/"
    },
    "id": "w5IZFKI_1P3o",
    "outputId": "35e405a1-bb86-455f-83e0-6cc2456c8aa5"
   },
   "outputs": [
    {
     "name": "stdout",
     "output_type": "stream",
     "text": [
      "[6 5 1 3 2 4 1 2 5 5 4 4 5 6 3 3 5 6 4 6 6 6 1 6 6 3 4 3 5 2 5 4 2 3 6 2 6\n",
      " 5 1 2 1 3 6 4 2 6 6 4 4 2]\n"
     ]
    }
   ],
   "source": [
    "muestras_dado = np.random.randint(1,7, size = 50)\n",
    "print(muestras_dado)"
   ]
  },
  {
   "cell_type": "markdown",
   "metadata": {
    "id": "0QEABcgZ1P3y"
   },
   "source": [
    "Lo que podemos hacer es crear una máscara:"
   ]
  },
  {
   "cell_type": "code",
   "execution_count": null,
   "metadata": {
    "colab": {
     "base_uri": "https://localhost:8080/"
    },
    "id": "STxwWNOi1P32",
    "outputId": "900bd9e0-3781-4c99-fd27-7a8c89e98bba"
   },
   "outputs": [
    {
     "name": "stdout",
     "output_type": "stream",
     "text": [
      "[False False  True  True  True False  True  True False False False False\n",
      " False False  True  True False False False False False False  True False\n",
      " False  True False  True False  True False False  True  True False  True\n",
      " False False  True  True  True  True False False  True False False False\n",
      " False  True]\n",
      "<class 'numpy.ndarray'>\n"
     ]
    }
   ],
   "source": [
    "mascara = muestras_dado < 4\n",
    "print(mascara)\n",
    "print(type(mascara))"
   ]
  },
  {
   "cell_type": "markdown",
   "metadata": {
    "id": "IuAkOYoe1P4B"
   },
   "source": [
    "Notar que `mascara` es un arreglo de booleanos, con `True` en los valores que cumplen la condición y `False` donde no. Una vez que creamos la máscara, podemos usarla para seleccionar de nuestro arreglo aquellos elementos que queríamos:"
   ]
  },
  {
   "cell_type": "code",
   "execution_count": null,
   "metadata": {
    "colab": {
     "base_uri": "https://localhost:8080/"
    },
    "id": "Cw8ZM97f1P4D",
    "outputId": "fc2a5dc7-9b4b-4e5d-e119-27c216e57a47"
   },
   "outputs": [
    {
     "name": "stdout",
     "output_type": "stream",
     "text": [
      "[1 3 2 1 2 3 3 1 3 3 2 2 3 2 1 2 1 3 2 2]\n"
     ]
    }
   ],
   "source": [
    "print(muestras_dado[mascara])"
   ]
  },
  {
   "cell_type": "markdown",
   "metadata": {
    "id": "0rjN7J3A1P4M"
   },
   "source": [
    "Notar que con `mascara.sum()` podemos contar cuántas veces se cumple la condición que pedimos."
   ]
  },
  {
   "cell_type": "code",
   "execution_count": null,
   "metadata": {
    "colab": {
     "base_uri": "https://localhost:8080/"
    },
    "id": "cUHV-_OC1P4Q",
    "outputId": "07b2da61-bf5b-4ba2-94ee-5e2eb1b21167"
   },
   "outputs": [
    {
     "name": "stdout",
     "output_type": "stream",
     "text": [
      "20\n"
     ]
    }
   ],
   "source": [
    "print(mascara.sum())"
   ]
  },
  {
   "cell_type": "markdown",
   "metadata": {
    "id": "UosUz_mI1P4X"
   },
   "source": [
    "A veces, podemos hacerlo en una sola línea. Supongamos que queremos aquellas tiradas donde salió seis:"
   ]
  },
  {
   "cell_type": "code",
   "execution_count": null,
   "metadata": {
    "colab": {
     "base_uri": "https://localhost:8080/"
    },
    "id": "do9s_9vn1P4Y",
    "outputId": "2c1262fb-615f-48a2-b49a-aeeb00a69bb1"
   },
   "outputs": [
    {
     "name": "stdout",
     "output_type": "stream",
     "text": [
      "[6 6 6 6 6 6 6 6 6 6 6 6 6]\n"
     ]
    }
   ],
   "source": [
    "print(muestras_dado[muestras_dado == 6])"
   ]
  },
  {
   "cell_type": "markdown",
   "metadata": {
    "id": "ZI1fVYFf1P4g"
   },
   "source": [
    "**En Pandas**\n",
    "\n",
    "Supongamos que queremos seleccionar aquellas jurisdicciones cuya población sea mayor a un millón de habitantes. Podemos hacerlo de la siguiente forma:"
   ]
  },
  {
   "cell_type": "code",
   "execution_count": null,
   "metadata": {
    "colab": {
     "base_uri": "https://localhost:8080/",
     "height": 266
    },
    "id": "n2sWVVBz1P4i",
    "outputId": "a2597351-e005-44fd-d310-725607e014c8"
   },
   "outputs": [
    {
     "data": {
      "text/html": [
       "<div>\n",
       "<style scoped>\n",
       "    .dataframe tbody tr th:only-of-type {\n",
       "        vertical-align: middle;\n",
       "    }\n",
       "\n",
       "    .dataframe tbody tr th {\n",
       "        vertical-align: top;\n",
       "    }\n",
       "\n",
       "    .dataframe thead th {\n",
       "        text-align: right;\n",
       "    }\n",
       "</style>\n",
       "<table border=\"1\" class=\"dataframe\">\n",
       "  <thead>\n",
       "    <tr style=\"text-align: right;\">\n",
       "      <th></th>\n",
       "      <th>Jurisdiccion</th>\n",
       "      <th>Poblacion</th>\n",
       "      <th>Superficie</th>\n",
       "    </tr>\n",
       "  </thead>\n",
       "  <tbody>\n",
       "    <tr>\n",
       "      <th>0</th>\n",
       "      <td>CABA</td>\n",
       "      <td>2890151</td>\n",
       "      <td>200</td>\n",
       "    </tr>\n",
       "    <tr>\n",
       "      <th>1</th>\n",
       "      <td>Buenos Aires</td>\n",
       "      <td>15625084</td>\n",
       "      <td>307521</td>\n",
       "    </tr>\n",
       "    <tr>\n",
       "      <th>3</th>\n",
       "      <td>Chaco</td>\n",
       "      <td>1055259</td>\n",
       "      <td>99633</td>\n",
       "    </tr>\n",
       "    <tr>\n",
       "      <th>5</th>\n",
       "      <td>Córdoba</td>\n",
       "      <td>3308876</td>\n",
       "      <td>165321</td>\n",
       "    </tr>\n",
       "    <tr>\n",
       "      <th>7</th>\n",
       "      <td>Mendoza</td>\n",
       "      <td>1738929</td>\n",
       "      <td>148827</td>\n",
       "    </tr>\n",
       "    <tr>\n",
       "      <th>8</th>\n",
       "      <td>Misiones</td>\n",
       "      <td>1101593</td>\n",
       "      <td>29801</td>\n",
       "    </tr>\n",
       "    <tr>\n",
       "      <th>11</th>\n",
       "      <td>Santa Fe</td>\n",
       "      <td>3194537</td>\n",
       "      <td>133007</td>\n",
       "    </tr>\n",
       "  </tbody>\n",
       "</table>\n",
       "</div>"
      ],
      "text/plain": [
       "    Jurisdiccion  Poblacion  Superficie\n",
       "0           CABA    2890151         200\n",
       "1   Buenos Aires   15625084      307521\n",
       "3          Chaco    1055259       99633\n",
       "5        Córdoba    3308876      165321\n",
       "7        Mendoza    1738929      148827\n",
       "8       Misiones    1101593       29801\n",
       "11      Santa Fe    3194537      133007"
      ]
     },
     "execution_count": 47,
     "metadata": {
      "tags": []
     },
     "output_type": "execute_result"
    }
   ],
   "source": [
    "data_pandas[data_pandas.Poblacion > 1000000]"
   ]
  },
  {
   "cell_type": "markdown",
   "metadata": {
    "id": "pZo21ebL1P5G"
   },
   "source": [
    "¿Y si queremos seleccionar aquellas jurisdicciones cuya población sea mayor a un millón de habitantes **y** su superficie menor a cien mil km2?"
   ]
  },
  {
   "cell_type": "code",
   "execution_count": null,
   "metadata": {
    "colab": {
     "base_uri": "https://localhost:8080/",
     "height": 142
    },
    "id": "Gia9i3AB1P5L",
    "outputId": "de081315-ac55-45c7-e249-f1275a9e0c22"
   },
   "outputs": [
    {
     "data": {
      "text/html": [
       "<div>\n",
       "<style scoped>\n",
       "    .dataframe tbody tr th:only-of-type {\n",
       "        vertical-align: middle;\n",
       "    }\n",
       "\n",
       "    .dataframe tbody tr th {\n",
       "        vertical-align: top;\n",
       "    }\n",
       "\n",
       "    .dataframe thead th {\n",
       "        text-align: right;\n",
       "    }\n",
       "</style>\n",
       "<table border=\"1\" class=\"dataframe\">\n",
       "  <thead>\n",
       "    <tr style=\"text-align: right;\">\n",
       "      <th></th>\n",
       "      <th>Jurisdiccion</th>\n",
       "      <th>Poblacion</th>\n",
       "      <th>Superficie</th>\n",
       "    </tr>\n",
       "  </thead>\n",
       "  <tbody>\n",
       "    <tr>\n",
       "      <th>0</th>\n",
       "      <td>CABA</td>\n",
       "      <td>2890151</td>\n",
       "      <td>200</td>\n",
       "    </tr>\n",
       "    <tr>\n",
       "      <th>3</th>\n",
       "      <td>Chaco</td>\n",
       "      <td>1055259</td>\n",
       "      <td>99633</td>\n",
       "    </tr>\n",
       "    <tr>\n",
       "      <th>8</th>\n",
       "      <td>Misiones</td>\n",
       "      <td>1101593</td>\n",
       "      <td>29801</td>\n",
       "    </tr>\n",
       "  </tbody>\n",
       "</table>\n",
       "</div>"
      ],
      "text/plain": [
       "  Jurisdiccion  Poblacion  Superficie\n",
       "0         CABA    2890151         200\n",
       "3        Chaco    1055259       99633\n",
       "8     Misiones    1101593       29801"
      ]
     },
     "execution_count": 49,
     "metadata": {
      "tags": []
     },
     "output_type": "execute_result"
    }
   ],
   "source": [
    "#mascara = np.logical_and(data_pandas.Poblacion > 1000000, data_pandas.Superficie < 100000)\n",
    "#data_pandas[mascara]\n",
    "\n",
    "### Es equivalente\n",
    "data_pandas[(data_pandas.Poblacion > 1000000) & (data_pandas.Superficie < 100000)]"
   ]
  },
  {
   "cell_type": "markdown",
   "metadata": {
    "id": "Z057NM351P5W"
   },
   "source": [
    "**Ejercicio:** seleccionar aquellas jurisdicciones cuya población sea menor a 500 mil habitantes **o** su superficie mayor a cien mil km2."
   ]
  },
  {
   "cell_type": "code",
   "execution_count": null,
   "metadata": {
    "colab": {
     "base_uri": "https://localhost:8080/",
     "height": 204
    },
    "id": "EWJwPrS61P5Z",
    "outputId": "aee0bb1f-a96e-4c4d-bdfb-3c6b8c6ce9e5"
   },
   "outputs": [
    {
     "data": {
      "text/html": [
       "<div>\n",
       "<style scoped>\n",
       "    .dataframe tbody tr th:only-of-type {\n",
       "        vertical-align: middle;\n",
       "    }\n",
       "\n",
       "    .dataframe tbody tr th {\n",
       "        vertical-align: top;\n",
       "    }\n",
       "\n",
       "    .dataframe thead th {\n",
       "        text-align: right;\n",
       "    }\n",
       "</style>\n",
       "<table border=\"1\" class=\"dataframe\">\n",
       "  <thead>\n",
       "    <tr style=\"text-align: right;\">\n",
       "      <th></th>\n",
       "      <th>Jurisdiccion</th>\n",
       "      <th>Poblacion</th>\n",
       "      <th>Superficie</th>\n",
       "    </tr>\n",
       "  </thead>\n",
       "  <tbody>\n",
       "    <tr>\n",
       "      <th>1</th>\n",
       "      <td>Buenos Aires</td>\n",
       "      <td>15625084</td>\n",
       "      <td>307521</td>\n",
       "    </tr>\n",
       "    <tr>\n",
       "      <th>2</th>\n",
       "      <td>Catamarca</td>\n",
       "      <td>367828</td>\n",
       "      <td>102606</td>\n",
       "    </tr>\n",
       "    <tr>\n",
       "      <th>4</th>\n",
       "      <td>Chubut</td>\n",
       "      <td>509108</td>\n",
       "      <td>509108</td>\n",
       "    </tr>\n",
       "    <tr>\n",
       "      <th>9</th>\n",
       "      <td>Río Negro</td>\n",
       "      <td>638645</td>\n",
       "      <td>203013</td>\n",
       "    </tr>\n",
       "    <tr>\n",
       "      <th>10</th>\n",
       "      <td>Santa Cruz</td>\n",
       "      <td>273964</td>\n",
       "      <td>243943</td>\n",
       "    </tr>\n",
       "  </tbody>\n",
       "</table>\n",
       "</div>"
      ],
      "text/plain": [
       "    Jurisdiccion  Poblacion  Superficie\n",
       "1   Buenos Aires   15625084      307521\n",
       "2      Catamarca     367828      102606\n",
       "4         Chubut     509108      509108\n",
       "9      Río Negro     638645      203013\n",
       "10    Santa Cruz     273964      243943"
      ]
     },
     "execution_count": 53,
     "metadata": {
      "tags": []
     },
     "output_type": "execute_result"
    }
   ],
   "source": [
    "# COMPLETAR\r\n",
    "#mascara = np.logical_or(data_pandas.Poblacion < 500000, data_pandas.Superficie > 200000)\r\n",
    "#data_pandas[mascara]\r\n",
    "\r\n",
    "### Es equivalente\r\n",
    "data_pandas[(data_pandas.Poblacion < 500000) | (data_pandas.Superficie > 200000)]"
   ]
  },
  {
   "cell_type": "markdown",
   "metadata": {
    "id": "H1nzSLbJ1P5g"
   },
   "source": [
    "## 2.3 Iris dataset\n",
    "\n",
    "¿Pero siempre vamos a tener que crear un diccionario y luego pasarlo a un Data Frame? Evidentemente, esta opción no parece muy cómoda, en particular para conjuntos de datos de gran volumen. Veamos cómo trabajamos con un conjunto de datos preexistente.\n",
    "\n",
    "\n",
    "**Aviso**: Esta sección es, en realidad, un ejercicio. Para hacerlo, debes ir googleando y consultando la documentación que consideres apropiada. Obviamente, también puedes consultar a tu mentor/a.\n",
    "\n",
    "Vamos a trabajar con el Iris Dataset, probablemente uno de los conjuntos de datos más famosos, ya que muchos ejemplos se realizan con él. Es un dataset sencillo pero ilustrativo.\n",
    "\n",
    "\n",
    "1. Abrir con Pandas el archivo 'DS_Bitácora_04_iris.csv' (¿Qué tipo de archivo es?) e imprimir sus primeros cinco elementos. Pista: `pd.read...()`."
   ]
  },
  {
   "cell_type": "code",
   "execution_count": 85,
   "metadata": {
    "colab": {
     "base_uri": "https://localhost:8080/",
     "height": 204
    },
    "id": "c6WItGqC1P5i",
    "outputId": "a91bf95d-7343-4055-830d-de71117986cb"
   },
   "outputs": [
    {
     "data": {
      "text/html": [
       "<div>\n",
       "<style scoped>\n",
       "    .dataframe tbody tr th:only-of-type {\n",
       "        vertical-align: middle;\n",
       "    }\n",
       "\n",
       "    .dataframe tbody tr th {\n",
       "        vertical-align: top;\n",
       "    }\n",
       "\n",
       "    .dataframe thead th {\n",
       "        text-align: right;\n",
       "    }\n",
       "</style>\n",
       "<table border=\"1\" class=\"dataframe\">\n",
       "  <thead>\n",
       "    <tr style=\"text-align: right;\">\n",
       "      <th></th>\n",
       "      <th>Id</th>\n",
       "      <th>SepalLengthCm</th>\n",
       "      <th>SepalWidthCm</th>\n",
       "      <th>PetalLengthCm</th>\n",
       "      <th>PetalWidthCm</th>\n",
       "      <th>Species</th>\n",
       "    </tr>\n",
       "  </thead>\n",
       "  <tbody>\n",
       "    <tr>\n",
       "      <th>0</th>\n",
       "      <td>1</td>\n",
       "      <td>5.1</td>\n",
       "      <td>3.5</td>\n",
       "      <td>1.4</td>\n",
       "      <td>0.2</td>\n",
       "      <td>Iris-setosa</td>\n",
       "    </tr>\n",
       "    <tr>\n",
       "      <th>1</th>\n",
       "      <td>2</td>\n",
       "      <td>4.9</td>\n",
       "      <td>3.0</td>\n",
       "      <td>1.4</td>\n",
       "      <td>0.2</td>\n",
       "      <td>Iris-setosa</td>\n",
       "    </tr>\n",
       "    <tr>\n",
       "      <th>2</th>\n",
       "      <td>3</td>\n",
       "      <td>4.7</td>\n",
       "      <td>3.2</td>\n",
       "      <td>1.3</td>\n",
       "      <td>0.2</td>\n",
       "      <td>Iris-setosa</td>\n",
       "    </tr>\n",
       "    <tr>\n",
       "      <th>3</th>\n",
       "      <td>4</td>\n",
       "      <td>4.6</td>\n",
       "      <td>3.1</td>\n",
       "      <td>1.5</td>\n",
       "      <td>0.2</td>\n",
       "      <td>Iris-setosa</td>\n",
       "    </tr>\n",
       "    <tr>\n",
       "      <th>4</th>\n",
       "      <td>5</td>\n",
       "      <td>5.0</td>\n",
       "      <td>3.6</td>\n",
       "      <td>1.4</td>\n",
       "      <td>0.2</td>\n",
       "      <td>Iris-setosa</td>\n",
       "    </tr>\n",
       "  </tbody>\n",
       "</table>\n",
       "</div>"
      ],
      "text/plain": [
       "   Id  SepalLengthCm  SepalWidthCm  PetalLengthCm  PetalWidthCm      Species\n",
       "0   1            5.1           3.5            1.4           0.2  Iris-setosa\n",
       "1   2            4.9           3.0            1.4           0.2  Iris-setosa\n",
       "2   3            4.7           3.2            1.3           0.2  Iris-setosa\n",
       "3   4            4.6           3.1            1.5           0.2  Iris-setosa\n",
       "4   5            5.0           3.6            1.4           0.2  Iris-setosa"
      ]
     },
     "execution_count": 85,
     "metadata": {
      "tags": []
     },
     "output_type": "execute_result"
    }
   ],
   "source": [
    "# COMPLETAR\r\n",
    "Iris= pd.read_csv('https://sc.acamica.com/content/toolbox/ds/ds_04_Iris.csv',sep=',')\r\n",
    "Iris.head(5)"
   ]
  },
  {
   "cell_type": "markdown",
   "metadata": {
    "id": "IcsJiYe31P5p"
   },
   "source": [
    "2. ¿Cuántas columnas (features) tiene?¿Cuáles son sus nombres?¿Y cuántas filas (instancias)? Pistas: `shape`, `columns`."
   ]
  },
  {
   "cell_type": "code",
   "execution_count": 88,
   "metadata": {
    "colab": {
     "base_uri": "https://localhost:8080/"
    },
    "id": "BqDWhNM51P5r",
    "outputId": "66640ae8-6134-44e0-8fb1-e8abb81eb9a9"
   },
   "outputs": [
    {
     "data": {
      "text/plain": [
       "Index(['Id', 'SepalLengthCm', 'SepalWidthCm', 'PetalLengthCm', 'PetalWidthCm',\n",
       "       'Species'],\n",
       "      dtype='object')"
      ]
     },
     "execution_count": 88,
     "metadata": {
      "tags": []
     },
     "output_type": "execute_result"
    }
   ],
   "source": [
    "# COMPLETAR\r\n",
    "Iris.shape\r\n",
    "Iris.columns"
   ]
  },
  {
   "cell_type": "markdown",
   "metadata": {
    "id": "LnO-Yoyh1P50"
   },
   "source": [
    "3. Obtener el valor medio y desviación estándar de cada columna. ¿Hay alguna función de Pandas que nos dé aún más estadísticos? Pistas: `describe`."
   ]
  },
  {
   "cell_type": "code",
   "execution_count": 94,
   "metadata": {
    "colab": {
     "base_uri": "https://localhost:8080/",
     "height": 297
    },
    "id": "wTPFg2yT1P52",
    "outputId": "d4fcd522-31d8-46cd-f082-813e52bb4224"
   },
   "outputs": [
    {
     "data": {
      "text/html": [
       "<div>\n",
       "<style scoped>\n",
       "    .dataframe tbody tr th:only-of-type {\n",
       "        vertical-align: middle;\n",
       "    }\n",
       "\n",
       "    .dataframe tbody tr th {\n",
       "        vertical-align: top;\n",
       "    }\n",
       "\n",
       "    .dataframe thead th {\n",
       "        text-align: right;\n",
       "    }\n",
       "</style>\n",
       "<table border=\"1\" class=\"dataframe\">\n",
       "  <thead>\n",
       "    <tr style=\"text-align: right;\">\n",
       "      <th></th>\n",
       "      <th>Id</th>\n",
       "      <th>SepalLengthCm</th>\n",
       "      <th>SepalWidthCm</th>\n",
       "      <th>PetalLengthCm</th>\n",
       "      <th>PetalWidthCm</th>\n",
       "    </tr>\n",
       "  </thead>\n",
       "  <tbody>\n",
       "    <tr>\n",
       "      <th>count</th>\n",
       "      <td>150.000000</td>\n",
       "      <td>150.000000</td>\n",
       "      <td>150.000000</td>\n",
       "      <td>150.000000</td>\n",
       "      <td>150.000000</td>\n",
       "    </tr>\n",
       "    <tr>\n",
       "      <th>mean</th>\n",
       "      <td>75.500000</td>\n",
       "      <td>5.843333</td>\n",
       "      <td>3.054000</td>\n",
       "      <td>3.758667</td>\n",
       "      <td>1.198667</td>\n",
       "    </tr>\n",
       "    <tr>\n",
       "      <th>std</th>\n",
       "      <td>43.445368</td>\n",
       "      <td>0.828066</td>\n",
       "      <td>0.433594</td>\n",
       "      <td>1.764420</td>\n",
       "      <td>0.763161</td>\n",
       "    </tr>\n",
       "    <tr>\n",
       "      <th>min</th>\n",
       "      <td>1.000000</td>\n",
       "      <td>4.300000</td>\n",
       "      <td>2.000000</td>\n",
       "      <td>1.000000</td>\n",
       "      <td>0.100000</td>\n",
       "    </tr>\n",
       "    <tr>\n",
       "      <th>25%</th>\n",
       "      <td>38.250000</td>\n",
       "      <td>5.100000</td>\n",
       "      <td>2.800000</td>\n",
       "      <td>1.600000</td>\n",
       "      <td>0.300000</td>\n",
       "    </tr>\n",
       "    <tr>\n",
       "      <th>50%</th>\n",
       "      <td>75.500000</td>\n",
       "      <td>5.800000</td>\n",
       "      <td>3.000000</td>\n",
       "      <td>4.350000</td>\n",
       "      <td>1.300000</td>\n",
       "    </tr>\n",
       "    <tr>\n",
       "      <th>75%</th>\n",
       "      <td>112.750000</td>\n",
       "      <td>6.400000</td>\n",
       "      <td>3.300000</td>\n",
       "      <td>5.100000</td>\n",
       "      <td>1.800000</td>\n",
       "    </tr>\n",
       "    <tr>\n",
       "      <th>max</th>\n",
       "      <td>150.000000</td>\n",
       "      <td>7.900000</td>\n",
       "      <td>4.400000</td>\n",
       "      <td>6.900000</td>\n",
       "      <td>2.500000</td>\n",
       "    </tr>\n",
       "  </tbody>\n",
       "</table>\n",
       "</div>"
      ],
      "text/plain": [
       "               Id  SepalLengthCm  SepalWidthCm  PetalLengthCm  PetalWidthCm\n",
       "count  150.000000     150.000000    150.000000     150.000000    150.000000\n",
       "mean    75.500000       5.843333      3.054000       3.758667      1.198667\n",
       "std     43.445368       0.828066      0.433594       1.764420      0.763161\n",
       "min      1.000000       4.300000      2.000000       1.000000      0.100000\n",
       "25%     38.250000       5.100000      2.800000       1.600000      0.300000\n",
       "50%     75.500000       5.800000      3.000000       4.350000      1.300000\n",
       "75%    112.750000       6.400000      3.300000       5.100000      1.800000\n",
       "max    150.000000       7.900000      4.400000       6.900000      2.500000"
      ]
     },
     "execution_count": 94,
     "metadata": {
      "tags": []
     },
     "output_type": "execute_result"
    }
   ],
   "source": [
    "# COMPLETAR\r\n",
    "#Iris.describe esta función en qué se diferencia de la siguiente?\r\n",
    "Iris.describe()"
   ]
  },
  {
   "cell_type": "markdown",
   "metadata": {
    "id": "h0hQVgt21P58"
   },
   "source": [
    "4. ¿Creen que todas las columnas tienen información? *Tirar* la columna que crean que está demás. Dependiendo de la función que uses - hay más de una opción -, tal vez tengas que prestar **mucha** atención al argumento `inplace`. Pista: `drop`, `del`."
   ]
  },
  {
   "cell_type": "code",
   "execution_count": 96,
   "metadata": {
    "colab": {
     "base_uri": "https://localhost:8080/"
    },
    "id": "FMWb9yIz1P5_",
    "outputId": "e5b6a06a-daa4-42fe-eb9c-7fa14e5018a9"
   },
   "outputs": [
    {
     "data": {
      "text/plain": [
       "150"
      ]
     },
     "execution_count": 96,
     "metadata": {
      "tags": []
     },
     "output_type": "execute_result"
    }
   ],
   "source": [
    "# COMPLETAR\r\n",
    "#Iris.Id.count()\r\n",
    "Iris.SepalLengthCm.count()\r\n"
   ]
  },
  {
   "cell_type": "markdown",
   "metadata": {
    "id": "xZc3ROA1uwsi"
   },
   "source": [
    "5. ¿Para qué sirven `loc` e `iloc`? Crea algunos ejemplos."
   ]
  },
  {
   "cell_type": "code",
   "execution_count": 116,
   "metadata": {
    "colab": {
     "base_uri": "https://localhost:8080/"
    },
    "id": "o7t65DAn1P6H",
    "outputId": "b7d24896-177d-417e-8f2d-631dc1a96af8"
   },
   "outputs": [
    {
     "data": {
      "text/plain": [
       "Id                         1\n",
       "SepalLengthCm            5.1\n",
       "SepalWidthCm             3.5\n",
       "PetalLengthCm            1.4\n",
       "PetalWidthCm             0.2\n",
       "Species          Iris-setosa\n",
       "Name: 0, dtype: object"
      ]
     },
     "execution_count": 116,
     "metadata": {
      "tags": []
     },
     "output_type": "execute_result"
    }
   ],
   "source": [
    "Iris.loc[0]\r\n",
    "#Iris.iloc[3:5,2:4]"
   ]
  }
 ],
 "metadata": {
  "colab": {
   "collapsed_sections": [],
   "name": "Copia de DS_Bitácora_04_Estadística_y_Pandas.ipynb",
   "provenance": []
  },
  "kernelspec": {
   "display_name": "Python 3",
   "language": "python",
   "name": "python3"
  },
  "language_info": {
   "codemirror_mode": {
    "name": "ipython",
    "version": 3
   },
   "file_extension": ".py",
   "mimetype": "text/x-python",
   "name": "python",
   "nbconvert_exporter": "python",
   "pygments_lexer": "ipython3",
   "version": "3.8.5"
  }
 },
 "nbformat": 4,
 "nbformat_minor": 4
}
