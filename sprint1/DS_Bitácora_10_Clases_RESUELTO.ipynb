{
 "cells": [
  {
   "cell_type": "markdown",
   "metadata": {
    "id": "GPycKx1jICLG"
   },
   "source": [
    "# Clases en Python\n",
    "\n",
    "## 1 Clases y Objetos\n",
    "\n",
    "### 1.1 ¿Qué son los objetos?\n",
    "Python es un lenguaje de programacion orientado a objetos. Esto quiere decir que posee un tipo de variable particular llamada objeto. Un objeto es un paquete de variables y funciones que conviene tener agrupados por consistencia y comodidad.\n",
    "\n",
    "### 1.2 ¿Qué son las clases?\n",
    "Los objetos tienen una estructura, están compuestos por un conjunto determinado de variables y funciones, a los que llamamos **atributos**. \n",
    "\n",
    "Esta estructura de los objetos no se explicita en el código cada vez que definimos un objeto. En cambio, los objetos suelen crearse a partir de unas *plantillas* a las que llamamos **clases**.\n",
    "\n",
    "Las **clases** le dan la forma a los objetos, definen las variable y funciones que componen a estos objetos.\n",
    "\n",
    "\n",
    "\n",
    "**Definimos una clase**\n",
    "\n",
    "Comenzaremos por definir una clase muy simple, a la que llamaremos `Persona`. Esta clase será la plantilla a través de la cual generaremos objetos, a los que llamaremos **instancias** de esta clase. \n",
    "\n",
    "Para empezar este ejemplo, le daremos los atributos que pensamos indispensables para definir una persona: nombre y edad."
   ]
  },
  {
   "cell_type": "code",
   "execution_count": 2,
   "metadata": {
    "executionInfo": {
     "elapsed": 1489,
     "status": "ok",
     "timestamp": 1614899678490,
     "user": {
      "displayName": "mario puentes",
      "photoUrl": "",
      "userId": "06193586855972744289"
     },
     "user_tz": 300
    },
    "id": "3f8zS8UVDf7h"
   },
   "outputs": [],
   "source": [
    "class Persona:\n",
    "    \"\"\"\n",
    "    Esta es una clase donde se agregan todos los datos\n",
    "    respecto a una persona\n",
    "    \"\"\"\n",
    "    def __init__(self, nombre, edad):\n",
    "        # Todo lo que definamos en __init__ se corre\n",
    "        # al crear una instancia de la clase\n",
    "        self.nombre = nombre\n",
    "        self.edad = edad"
   ]
  },
  {
   "cell_type": "markdown",
   "metadata": {
    "id": "6BvaWE4ODf7m"
   },
   "source": [
    "Hasta ahora no creamos un objeto, sólo definimos la forma que tendrán los objetos de la clase `Persona`. \n",
    "\n",
    "Ahora, usando esta plantilla, sí crearemos una **instancia** de la clase `Persona`, a la que llamaremos p1."
   ]
  },
  {
   "cell_type": "code",
   "execution_count": 3,
   "metadata": {
    "colab": {
     "base_uri": "https://localhost:8080/"
    },
    "executionInfo": {
     "elapsed": 1464,
     "status": "ok",
     "timestamp": 1614899678492,
     "user": {
      "displayName": "mario puentes",
      "photoUrl": "",
      "userId": "06193586855972744289"
     },
     "user_tz": 300
    },
    "id": "61NtOauTDf7n",
    "outputId": "8bb839f7-3eda-4d4f-9e5f-5b1b38f0f66e"
   },
   "outputs": [
    {
     "name": "stdout",
     "output_type": "stream",
     "text": [
      "Juan\n",
      "26\n"
     ]
    }
   ],
   "source": [
    "p1 = Persona(\"Juan\", 26)\n",
    "\n",
    "print(p1.nombre)\n",
    "print(p1.edad)"
   ]
  },
  {
   "cell_type": "markdown",
   "metadata": {
    "id": "iiuysS0ODf7s"
   },
   "source": [
    "Al inspeccionar el tipo de variable, python nos avisa que p1 es un objeto perteneciente a la clase Persona:"
   ]
  },
  {
   "cell_type": "code",
   "execution_count": 4,
   "metadata": {
    "colab": {
     "base_uri": "https://localhost:8080/"
    },
    "executionInfo": {
     "elapsed": 721,
     "status": "ok",
     "timestamp": 1614899797028,
     "user": {
      "displayName": "mario puentes",
      "photoUrl": "",
      "userId": "06193586855972744289"
     },
     "user_tz": 300
    },
    "id": "emWuClVPDf7s",
    "outputId": "1c1c7574-6d38-4817-f335-fe72807f5202"
   },
   "outputs": [
    {
     "data": {
      "text/plain": [
       "__main__.Persona"
      ]
     },
     "execution_count": 4,
     "metadata": {},
     "output_type": "execute_result"
    }
   ],
   "source": [
    "type(p1)"
   ]
  },
  {
   "cell_type": "markdown",
   "metadata": {
    "id": "yXokYBVsDf73"
   },
   "source": [
    "Los atributos de una instancia de la clase pueden modificarse como cualquier variable:"
   ]
  },
  {
   "cell_type": "code",
   "execution_count": 5,
   "metadata": {
    "colab": {
     "base_uri": "https://localhost:8080/"
    },
    "executionInfo": {
     "elapsed": 801,
     "status": "ok",
     "timestamp": 1614899811568,
     "user": {
      "displayName": "mario puentes",
      "photoUrl": "",
      "userId": "06193586855972744289"
     },
     "user_tz": 300
    },
    "id": "wYTbNFDhDf75",
    "outputId": "b921d2b5-f9f0-43be-e989-36e25ed7d417"
   },
   "outputs": [
    {
     "data": {
      "text/plain": [
       "30"
      ]
     },
     "execution_count": 5,
     "metadata": {},
     "output_type": "execute_result"
    }
   ],
   "source": [
    "p1.edad = 30\n",
    "p1.edad"
   ]
  },
  {
   "cell_type": "markdown",
   "metadata": {
    "id": "UXpEJ5wFDf7-"
   },
   "source": [
    "**Ejercicio:** crea una clase llamada `Rectangulo`, cuyos atributos sean las variables `largo_lado_1` y `largo_lado_2`. Luego, crea una instancia de esta clase llamada `c1`, con lados de largo 10 y 20."
   ]
  },
  {
   "cell_type": "code",
   "execution_count": 6,
   "metadata": {
    "id": "gZZE0PnSDf7-"
   },
   "outputs": [],
   "source": [
    "class Rectangulo:\n",
    "    def __init__(self, largo_lado_1, largo_lado_2):\n",
    "        self.largo_lado_1 = largo_lado_1\n",
    "        self.largo_lado_2 = largo_lado_2"
   ]
  },
  {
   "cell_type": "code",
   "execution_count": 7,
   "metadata": {
    "id": "o-6TXaJnDf8C"
   },
   "outputs": [],
   "source": [
    "c1 = Rectangulo(10,20)"
   ]
  },
  {
   "cell_type": "markdown",
   "metadata": {
    "id": "N1iZP4U2Df8K"
   },
   "source": [
    "### 1.3 Métodos\n",
    "A las funciones que componen una clase las llamamos **métodos**. Estas funciones pueden llamarse poniendo el nombre de una instancia de la clase seguido de un punto y el nombre del método. Los métodos pueden actuar sobre los valores de otros atributos de esa instancia, pueden devolver algun output a traves de `return` o pueden hacer ambas cosas.\n",
    "\n",
    "Vamos a darle un método a la clase persona, para esto vamos a redefinir la clase como:"
   ]
  },
  {
   "cell_type": "code",
   "execution_count": 8,
   "metadata": {
    "executionInfo": {
     "elapsed": 779,
     "status": "ok",
     "timestamp": 1614900132088,
     "user": {
      "displayName": "mario puentes",
      "photoUrl": "",
      "userId": "06193586855972744289"
     },
     "user_tz": 300
    },
    "id": "x7rOAm57Df8M"
   },
   "outputs": [],
   "source": [
    "class Persona:\n",
    "    \"\"\"\n",
    "    Esta es una clase donde se agregan todos los datos\n",
    "    respecto a una persona\n",
    "    \"\"\"\n",
    "    def __init__(self, nombre, edad):\n",
    "        # Todo lo que definamos en __init__ se corre\n",
    "        # al crear una instancia de la clase\n",
    "        self.nombre = nombre\n",
    "        self.edad = edad\n",
    "        \n",
    "    def mePresento(self):\n",
    "        print(\"Hola, me llamo \" + self.nombre)"
   ]
  },
  {
   "cell_type": "code",
   "execution_count": 9,
   "metadata": {
    "colab": {
     "base_uri": "https://localhost:8080/"
    },
    "executionInfo": {
     "elapsed": 750,
     "status": "ok",
     "timestamp": 1614900135104,
     "user": {
      "displayName": "mario puentes",
      "photoUrl": "",
      "userId": "06193586855972744289"
     },
     "user_tz": 300
    },
    "id": "o1GumL14Df8Q",
    "outputId": "d5e0a6da-24b7-4703-babe-edde8c9ea6f9"
   },
   "outputs": [
    {
     "name": "stdout",
     "output_type": "stream",
     "text": [
      "Hola, me llamo Juan\n"
     ]
    }
   ],
   "source": [
    "p1 = Persona(\"Juan\", 26)\n",
    "p1.mePresento()"
   ]
  },
  {
   "cell_type": "markdown",
   "metadata": {
    "id": "6z3FMfFpDf8T"
   },
   "source": [
    "Como ya dijimos, los métodos tambien pueden modificar el valor de ciertos atributos de una instancia. Vamos a crear un método para la clase persona, que haga cumplir un año a la persona y al mismo tiempo nos devuelva el valor de su edad:"
   ]
  },
  {
   "cell_type": "code",
   "execution_count": 10,
   "metadata": {
    "id": "RWyQjCiBDf8V"
   },
   "outputs": [],
   "source": [
    "class Persona:\n",
    "    \"\"\"\n",
    "    Esta es una clase donde se agregan todos los datos\n",
    "    respecto a una persona\n",
    "    \"\"\"\n",
    "    def __init__(self, nombre, edad):\n",
    "        # Todo lo que definamos en __init__ se corre\n",
    "        # al crear una instancia de la clase\n",
    "        self.nombre = nombre\n",
    "        self.edad = edad\n",
    "        \n",
    "    def mePresento(self):\n",
    "        print(\"Hola, me llamo \" + self.nombre)\n",
    "    \n",
    "    def cumplirAnios(self):\n",
    "        self.edad = self.edad + 1\n",
    "        # El return hace que, al ejecutar el método,\n",
    "        # el mismo devuelva el valor de la edad \n",
    "        return self.edad"
   ]
  },
  {
   "cell_type": "code",
   "execution_count": 11,
   "metadata": {
    "id": "8KMgHX1sDf8c",
    "outputId": "7758ba48-1336-4a59-ab3b-4c9a0cee8919"
   },
   "outputs": [
    {
     "data": {
      "text/plain": [
       "27"
      ]
     },
     "execution_count": 11,
     "metadata": {},
     "output_type": "execute_result"
    }
   ],
   "source": [
    "p1 = Persona(\"Juan\", 26)\n",
    "p1.cumplirAnios()"
   ]
  },
  {
   "cell_type": "code",
   "execution_count": 12,
   "metadata": {
    "id": "z4eEqCTlDf8f",
    "outputId": "71938b7e-9c55-4255-ef1c-2987db07ce48"
   },
   "outputs": [
    {
     "data": {
      "text/plain": [
       "27"
      ]
     },
     "execution_count": 12,
     "metadata": {},
     "output_type": "execute_result"
    }
   ],
   "source": [
    "p1.edad"
   ]
  },
  {
   "cell_type": "markdown",
   "metadata": {
    "id": "enUnVhGUDf8i"
   },
   "source": [
    "¿Notaron que los atributos los definimos dentro de un método llamado `__init__ `?\n",
    "\n",
    "Estos nombres de métodos con doble guión-bajo a los costados indican que se trata de un **método mágico**. Son nombres especiales que Python se reserva para métodos que tienen una función específica. Por ejemplo, el método mágico `__init__` se correrá automáticamente cuando creemos una instancia de la clase.\n",
    "\n",
    "Veamos un ejemplo donde dentro del método `__init__` agregamos algún otro bloque de código:"
   ]
  },
  {
   "cell_type": "code",
   "execution_count": 13,
   "metadata": {
    "id": "EoCfp55sDf8j"
   },
   "outputs": [],
   "source": [
    "class Persona:\n",
    "    \"\"\"\n",
    "    Esta es una clase donde se agregan todos los datos\n",
    "    respecto a una persona\n",
    "    \"\"\"\n",
    "    def __init__(self, nombre, edad):\n",
    "        # Todo lo que definamos en __init__ se corre\n",
    "        # al crear una instancia de la clase\n",
    "        self.nombre = nombre\n",
    "        self.edad = edad\n",
    "        \n",
    "        print('Una persona nueva ha sido creada!')\n",
    "        \n",
    "    def mePresento(self):\n",
    "        print(\"Hola, me llamo \" + self.nombre)\n",
    "    \n",
    "    def cumplirAnios(self):\n",
    "        self.edad = self.edad + 1\n",
    "        # El return hace que, al ejecutar el método,\n",
    "        # el mismo devuelva el valor de la edad \n",
    "        return self.edad"
   ]
  },
  {
   "cell_type": "code",
   "execution_count": 14,
   "metadata": {
    "id": "GtD0BRqhDf8l",
    "outputId": "dcfcc94c-b145-4bd5-f0bf-63b42a81b710"
   },
   "outputs": [
    {
     "name": "stdout",
     "output_type": "stream",
     "text": [
      "Una persona nueva ha sido creada!\n"
     ]
    }
   ],
   "source": [
    "p1 = Persona(\"Ernesto\", 40)"
   ]
  },
  {
   "cell_type": "markdown",
   "metadata": {
    "id": "eOuuzeC3Df84"
   },
   "source": [
    "### 1.4 Consistencia\n",
    "\n",
    "Uno de los beneficios de trabajar con clases es el hecho de poder chequear la consistencia de los distintos atributos pertenecientes a una misma instancia de esa clase. Supongamos que tenemos una clase llamada `Departamento`. Esta clase agrupa todos las variables relacionadas a un mismo departamento. Esto nos permite chequear que todas estas variables guarden una relación adecuada. Por ejemplo, sabemos que la superficie cubierta no puede ser mayor a la superficie total. Entonces: "
   ]
  },
  {
   "cell_type": "code",
   "execution_count": 15,
   "metadata": {
    "id": "-M1ohuf8Df87"
   },
   "outputs": [],
   "source": [
    "class Departamento:\n",
    "    def __init__(self, calle, altura, piso, sup_total, sup_cubierta):\n",
    "        self.calle = calle\n",
    "        self.altura = altura\n",
    "        self.piso = piso\n",
    "        self.sup_total = sup_total\n",
    "        if sup_cubierta < sup_total:\n",
    "            self.sup_cubierta = self.sup_cubierta\n",
    "        else:\n",
    "            print(\"El valor de superficie cubierta ingresado es inconsistente\")\n",
    "            self.sup_cubierta = self.sup_total"
   ]
  },
  {
   "cell_type": "code",
   "execution_count": 16,
   "metadata": {
    "id": "tu-SHHF8Df8_",
    "outputId": "fb49152b-1136-4ebb-ce4a-a70646c8c1da"
   },
   "outputs": [
    {
     "name": "stdout",
     "output_type": "stream",
     "text": [
      "El valor de superficie cubierta ingresado es inconsistente\n"
     ]
    }
   ],
   "source": [
    "depto_1 = Departamento('Humboldt',1122,4,50,455)"
   ]
  },
  {
   "cell_type": "code",
   "execution_count": 17,
   "metadata": {
    "id": "pNXFWfAxDf9P",
    "outputId": "b7e1b33a-f3f3-491e-fbbb-0a578bf3cb8c"
   },
   "outputs": [
    {
     "data": {
      "text/plain": [
       "50"
      ]
     },
     "execution_count": 17,
     "metadata": {},
     "output_type": "execute_result"
    }
   ],
   "source": [
    "depto_1.sup_cubierta"
   ]
  },
  {
   "cell_type": "markdown",
   "metadata": {
    "id": "CVximuuoDf9U"
   },
   "source": [
    "Otro de los beneficios de trabajar con objetos consiste en tener todas las variables relevantes agrupadas en un mismo objeto. De esta forma se nos facilita la tarea a la hora de mover esta información. Por ejemplo, si tenemos una función que calcula el precio de un departamento en base a distintas propiedades del mismo, sería mucho más fácil para nosotros pasarle a esa función un único argumento (el objeto departameto), y no cada uno de sus atributos:"
   ]
  },
  {
   "cell_type": "code",
   "execution_count": 18,
   "metadata": {
    "id": "vVy-ehCfDf9V"
   },
   "outputs": [],
   "source": [
    "def CalculaPrecios(depto):\n",
    "    precio = 2000 * depto.sup_total + 500 * depto.piso\n",
    "    return precio"
   ]
  },
  {
   "cell_type": "code",
   "execution_count": 19,
   "metadata": {
    "id": "9kfl93zWDf9X",
    "outputId": "a8291f25-de2a-4dbb-9164-fb744a6a5f38"
   },
   "outputs": [
    {
     "data": {
      "text/plain": [
       "102000"
      ]
     },
     "execution_count": 19,
     "metadata": {},
     "output_type": "execute_result"
    }
   ],
   "source": [
    "CalculaPrecios(depto_1)"
   ]
  },
  {
   "cell_type": "markdown",
   "metadata": {
    "id": "nCM0GfZ-g2Kt"
   },
   "source": [
    "En algunas circunstancias, esa función podría ser parte de la clase, siendo en ese caso un método."
   ]
  },
  {
   "cell_type": "markdown",
   "metadata": {
    "id": "NKUefce7Df8q"
   },
   "source": [
    "### Ejercicio - Challenge\n",
    "* Agregar a la clase llamada `Rectangulo` un método llamado `ladoMasLargo` que devuelva el valor del lado mas largo.\n",
    "* Agregue en el `__init__` de `Rectangulo` un nuevo atributo de la clase llamado `area`. El valor de este atributo debe generarse automáticamente a partir de los valores de los lados (recuerde que el área de un rectangulo se calcula multiplicando el largo de sus lados).\n",
    "* Cree una instancia de la clase y verifique que su código funcione adecuadamente"
   ]
  },
  {
   "cell_type": "code",
   "execution_count": 20,
   "metadata": {
    "executionInfo": {
     "elapsed": 852,
     "status": "ok",
     "timestamp": 1614908130690,
     "user": {
      "displayName": "mario puentes",
      "photoUrl": "",
      "userId": "06193586855972744289"
     },
     "user_tz": 300
    },
    "id": "VE9IiONUDf8r"
   },
   "outputs": [],
   "source": [
    "class Rectangulo:\n",
    "    def __init__(self, largo_lado_1, largo_lado_2):\n",
    "        self.largo_lado_1 = largo_lado_1\n",
    "        self.largo_lado_2 = largo_lado_2\n",
    "        self.area = largo_lado_1*largo_lado_2\n",
    "    \n",
    "    def ladoMasLargo(self):\n",
    "        if self.largo_lado_1 > self.largo_lado_2:\n",
    "            return self.largo_lado_1\n",
    "        else:\n",
    "            return self.largo_lado_2"
   ]
  },
  {
   "cell_type": "code",
   "execution_count": 21,
   "metadata": {
    "colab": {
     "base_uri": "https://localhost:8080/"
    },
    "executionInfo": {
     "elapsed": 674,
     "status": "ok",
     "timestamp": 1614908617068,
     "user": {
      "displayName": "mario puentes",
      "photoUrl": "",
      "userId": "06193586855972744289"
     },
     "user_tz": 300
    },
    "id": "PINw95UEDf8u",
    "outputId": "413195a4-559b-45ef-e1e2-ca92a723050a"
   },
   "outputs": [
    {
     "data": {
      "text/plain": [
       "2000"
      ]
     },
     "execution_count": 21,
     "metadata": {},
     "output_type": "execute_result"
    }
   ],
   "source": [
    "rect_1 = Rectangulo(50,40)\n",
    "rect_1.area"
   ]
  },
  {
   "cell_type": "code",
   "execution_count": 22,
   "metadata": {
    "colab": {
     "base_uri": "https://localhost:8080/"
    },
    "executionInfo": {
     "elapsed": 907,
     "status": "ok",
     "timestamp": 1614908138554,
     "user": {
      "displayName": "mario puentes",
      "photoUrl": "",
      "userId": "06193586855972744289"
     },
     "user_tz": 300
    },
    "id": "gUmxxCi_Df8x",
    "outputId": "7323051e-9500-4620-b465-74b189c82cf8"
   },
   "outputs": [
    {
     "data": {
      "text/plain": [
       "50"
      ]
     },
     "execution_count": 22,
     "metadata": {},
     "output_type": "execute_result"
    }
   ],
   "source": [
    "rect_1.ladoMasLargo()"
   ]
  },
  {
   "cell_type": "markdown",
   "metadata": {
    "id": "mxP0yOSWg2Kv"
   },
   "source": [
    "## 2. Ejercitación\n",
    "\n",
    "¡Sí, seguimos trabajando con dados! Vamos a programar una serie de clases que nos servirán para modelar - muy simplificadamente - algunos fenómenos.\n",
    "\n",
    "**Ejercicio 1:** crea una clase `Dado` cuyos atributos sean la cantidad de lados y la probabilidad asignada a cada lado. Algunas características que debe tener la clase:\n",
    "* Debemos pasar la cantidad de lados cuando creamos una instancia. Por defecto deben ser seis.\n",
    "* Cuando creamos la instancia, se debe asignar la misma probabilidad a cada lado (probabilidad uniforme).\n",
    "* La clase debe contar con el método `tirar_dado`, que debe tomar como argumento la cantidad de veces que queremos tirar el dado.\n",
    "\n",
    "Comprueba que la clase está correctamente programada crean un dados de distinto número de caras, tirando 100000 veces ese dado y haciendo un histograma de sus resultados. ¿Qué deberías obtener?"
   ]
  },
  {
   "cell_type": "code",
   "execution_count": 23,
   "metadata": {
    "executionInfo": {
     "elapsed": 729,
     "status": "ok",
     "timestamp": 1614908474227,
     "user": {
      "displayName": "mario puentes",
      "photoUrl": "",
      "userId": "06193586855972744289"
     },
     "user_tz": 300
    },
    "id": "TjDxiinig2Kv"
   },
   "outputs": [],
   "source": [
    "import numpy as np\n",
    "import matplotlib.pyplot as plt"
   ]
  },
  {
   "cell_type": "code",
   "execution_count": 24,
   "metadata": {
    "executionInfo": {
     "elapsed": 780,
     "status": "ok",
     "timestamp": 1614908474976,
     "user": {
      "displayName": "mario puentes",
      "photoUrl": "",
      "userId": "06193586855972744289"
     },
     "user_tz": 300
    },
    "id": "zx7njiTEg2Kw"
   },
   "outputs": [],
   "source": [
    "class Dado:\n",
    "    def __init__(self, n_lados = 6):\n",
    "        self.n_lados = n_lados\n",
    "        self.probabilidades = np.ones(n_lados)/n_lados\n",
    "        \n",
    "    def tirar_dado(self, n = 1):\n",
    "        lados = np.arange(1,self.n_lados+1)\n",
    "        resultados = np.random.choice(lados, size = n, p = self.probabilidades)\n",
    "        return resultados"
   ]
  },
  {
   "cell_type": "code",
   "execution_count": 25,
   "metadata": {
    "colab": {
     "base_uri": "https://localhost:8080/"
    },
    "executionInfo": {
     "elapsed": 671,
     "status": "ok",
     "timestamp": 1614908578278,
     "user": {
      "displayName": "mario puentes",
      "photoUrl": "",
      "userId": "06193586855972744289"
     },
     "user_tz": 300
    },
    "id": "Y-9Oh0Wzg2Kw",
    "outputId": "09a1540c-b821-4cc4-aa1b-6ec3103346d8"
   },
   "outputs": [
    {
     "name": "stdout",
     "output_type": "stream",
     "text": [
      "[5 6 5 2 2 5 8 1 1 4]\n"
     ]
    }
   ],
   "source": [
    "dado = Dado(10)\r\n",
    "\r\n",
    "print(dado.tirar_dado(10))"
   ]
  },
  {
   "cell_type": "code",
   "execution_count": 26,
   "metadata": {
    "colab": {
     "base_uri": "https://localhost:8080/",
     "height": 333
    },
    "executionInfo": {
     "elapsed": 735,
     "status": "ok",
     "timestamp": 1614908685859,
     "user": {
      "displayName": "mario puentes",
      "photoUrl": "",
      "userId": "06193586855972744289"
     },
     "user_tz": 300
    },
    "id": "QcKBZfqSg2Kw",
    "outputId": "b607b163-0f48-4ae4-9fd2-84d3fbfa3320"
   },
   "outputs": [
    {
     "data": {
      "text/plain": [
       "(array([0.09944, 0.09905, 0.10153, 0.09938, 0.10025, 0.09922, 0.10068,\n",
       "        0.10041, 0.10023, 0.09981]),\n",
       " array([ 0.5,  1.5,  2.5,  3.5,  4.5,  5.5,  6.5,  7.5,  8.5,  9.5, 10.5]),\n",
       " <BarContainer object of 10 artists>)"
      ]
     },
     "execution_count": 26,
     "metadata": {},
     "output_type": "execute_result"
    },
    {
     "data": {
      "image/png": "[encoded data removed]",
      "text/plain": [
       "<Figure size 432x288 with 1 Axes>"
      ]
     },
     "metadata": {
      "needs_background": "light"
     },
     "output_type": "display_data"
    }
   ],
   "source": [
    "plt.hist(dado.tirar_dado(100000), bins = np.arange(0.5,dado.n_lados + 1.5), rwidth = 0.5, density = True)"
   ]
  },
  {
   "cell_type": "markdown",
   "metadata": {
    "id": "E8qHs_0Eg2Kx"
   },
   "source": [
    "**Ejercicio 2**\n",
    "\n",
    "En el mundo de la publicidad, de las aplicaciones, las redes sociales, etc., suele ocurrir el siguiente fenómeno: a medida que más se hace conocido un producto, más probabilidad hay de que se siga comprando o consumiendo. A veces, esto se debe a recomendaciones de conocidos, mayor inversión en publicidad o simplemente el producto ya se convirtió en una marca establecida. Pero otras veces es el mismo producto el que requiere tener consumidores para aumentar su número de consumidores. Por ejemplo, pensemos en una red social. En general, nadie querrá pertenecer a una red social que no tiene usuarios. Y a medida que un mayor número de nuestros conocidos se suman a una red social, más probable es que nos sumemos nosotros. Esto también ocurre en otros ámbitos, ¿se te ocurre dónde?  \n",
    "\n",
    "Un modelo muy inocente de esta situación es pensar que se trata de un dado que se va cargando teniendo en cuenta el histórico de sus resultados. Por ejemplo, si el tres salió muchas veces, esto hace que aumente la probabilidad de que en la próxima tirada salga tres. Pensando en las redes sociales, esto es equivalente a pensar que es más probable que se sumen nuevos usuarios a una red que ya tiene muchos usuarios.\n",
    "\n",
    "Te dejamos programada una clase, `DadoCargado`, que intenta simular esta situación.\n",
    "1. Lee detenidamente el código y trata de entendelo.\n",
    "2. Crea una instancia de `DadoCargado`, tira el dado algunas veces e imprime en pantalla el resultado y las probabilidades. ¿Cómo se van modificando?\n",
    "3. Crea una nueva instancia de `DadoCargado` y haz un gráfico de la evolución de la probabilidad para cada lado en función del número de tiradas.\n",
    "4. ¿Qué ocurre si modificas el valor de `premio`?¿Cambia el comportamiento?"
   ]
  },
  {
   "cell_type": "code",
   "execution_count": 27,
   "metadata": {
    "id": "GmSF3DSDg2Kx"
   },
   "outputs": [],
   "source": [
    "class DadoCargado:\n",
    "    def __init__(self, n_lados = 6, premio = 0.1):\n",
    "        self.n_lados = n_lados\n",
    "        self.probabilidades = np.ones(n_lados)/n_lados\n",
    "        self.premio = premio\n",
    "        self.resultados = []\n",
    "        self.counts = np.zeros(n_lados)\n",
    "        \n",
    "    def tirar_dado(self):\n",
    "        lados = np.arange(1,self.n_lados+1)\n",
    "        resultados = np.random.choice(lados, 1, p = self.probabilidades)\n",
    "        self.resultados +=list(resultados)\n",
    "        self.counts[resultados[0] - 1] +=1\n",
    "        self.cargar_dado()\n",
    "        return resultados\n",
    "    \n",
    "    def cargar_dado(self):\n",
    "        self.probabilidades = self.probabilidades + self.premio*self.counts/self.counts.sum()\n",
    "        self.probabilidades = self.probabilidades/self.probabilidades.sum()"
   ]
  },
  {
   "cell_type": "code",
   "execution_count": 28,
   "metadata": {
    "id": "QSKPceOVg2Kx"
   },
   "outputs": [],
   "source": [
    "# 2.\n",
    "dado = DadoCargado(6)"
   ]
  },
  {
   "cell_type": "code",
   "execution_count": 29,
   "metadata": {
    "id": "OIZ4Zrylg2Ky",
    "outputId": "319c747f-d367-48e1-83b3-a8a034b641ab"
   },
   "outputs": [
    {
     "name": "stdout",
     "output_type": "stream",
     "text": [
      "[4]\n",
      "[0.15151515 0.15151515 0.15151515 0.24242424 0.15151515 0.15151515]\n",
      "[4]\n",
      "[0.13774105 0.13774105 0.13774105 0.31129477 0.13774105 0.13774105]\n",
      "[4]\n",
      "[0.12521913 0.12521913 0.12521913 0.37390433 0.12521913 0.12521913]\n",
      "[4]\n",
      "[0.11383558 0.11383558 0.11383558 0.43082212 0.11383558 0.11383558]\n",
      "[3]\n",
      "[0.10348689 0.10348689 0.12166871 0.46438375 0.10348689 0.10348689]\n"
     ]
    }
   ],
   "source": [
    "for i in range(5):\n",
    "    print(dado.tirar_dado())\n",
    "    print(dado.probabilidades)"
   ]
  },
  {
   "cell_type": "code",
   "execution_count": 30,
   "metadata": {
    "id": "jB-W2J_vg2Ky"
   },
   "outputs": [],
   "source": [
    "# 3.\n",
    "n_tiradas = 5000\n",
    "probabilidades = np.zeros((n_tiradas,dado.n_lados))\n",
    "dado = DadoCargado(6, premio = 0.1)\n",
    "for i in range(n_tiradas):\n",
    "    dado.tirar_dado()\n",
    "    probabilidades[i,:] = dado.probabilidades\n"
   ]
  },
  {
   "cell_type": "code",
   "execution_count": 31,
   "metadata": {
    "id": "yXtab2jwg2Ky",
    "outputId": "e7414e72-1beb-4a98-a1eb-a67088e77810"
   },
   "outputs": [
    {
     "data": {
      "text/plain": [
       "<matplotlib.legend.Legend at 0x2032ea2d970>"
      ]
     },
     "execution_count": 31,
     "metadata": {},
     "output_type": "execute_result"
    },
    {
     "data": {
      "image/png": "[encoded data removed]",
      "text/plain": [
       "<Figure size 432x288 with 1 Axes>"
      ]
     },
     "metadata": {
      "needs_background": "light"
     },
     "output_type": "display_data"
    }
   ],
   "source": [
    "for lado in range(dado.n_lados):\n",
    "    plt.plot(np.arange(n_tiradas), probabilidades[:,lado], label = lado  + 1) \n",
    "plt.legend()"
   ]
  },
  {
   "cell_type": "markdown",
   "metadata": {
    "id": "VHWRPJJxg2Ky"
   },
   "source": [
    "**Ejercicio 3**\n",
    "\n",
    "Siguiendo con el ejemplo de las redes sociales, una vez que dejan de sumarse nuevos miembros a una red - la red pasa de moda - es probable que algunos miembros empiecen a darse de baja. Para incorporar esta situación al modelo, podemos incorporar dos nuevos atributos, `latencia` y `castigo`. Si un resultado no ocurre en un número determinado de tiradas (`latencia`) descontamos `castigo` de las cuentas correspondientes a ese resultado. De esta forma, a medida que pasa el tiempo sin nuevos miembros, disminuye la probabilidad que un miembro nuevo se sume.\n",
    "\n",
    "Nuevamente, te dejamos una clase programada que intenta simular esta situación.\n",
    "1. Lee detenidamente el código y trata de entendelo.\n",
    "2. Crea una instancia de `DadoCargado`, tira el dado algunas veces e imprime en pantalla el resultado y las probabilidades. ¿Cómo se van modificando?\n",
    "3. Crea una nueva instancia de `DadoCargado` y haz un gráfico de la evolución de la probabilidad para cada lado en función del número de tiradas.\n",
    "4. ¿Qué ocurre si modificas el valor de `premio`, `castigo` y `latencia`?¿Cambia el comportamiento?¿Cómo estudiarias ese comportamiento?"
   ]
  },
  {
   "cell_type": "code",
   "execution_count": 32,
   "metadata": {
    "id": "eLb-54POg2Kz"
   },
   "outputs": [],
   "source": [
    "class DadoCargado:\n",
    "    def __init__(self, n_lados = 6, premio = 0.2, castigo = 1, latencia = 10):\n",
    "        self.n_lados = n_lados\n",
    "        self.probabilidades = np.ones(n_lados)/n_lados\n",
    "        self.premio = premio\n",
    "        self.castigo = castigo\n",
    "        self.latencia = latencia\n",
    "        self.resultados = []\n",
    "        self.counts = np.zeros(n_lados)\n",
    "        \n",
    "    def tirar_dado(self):\n",
    "        lados = np.arange(1,self.n_lados+1)\n",
    "        resultados = np.random.choice(lados, 1, p = self.probabilidades)\n",
    "        self.resultados +=list(resultados)\n",
    "        self.counts[resultados[0] - 1] +=1\n",
    "        self.cargar_dado()\n",
    "        return resultados\n",
    "    \n",
    "    def cargar_dado(self):\n",
    "        if len(self.resultados) >= self.latencia:\n",
    "            lados = np.arange(1,self.n_lados+1)\n",
    "            for lado in lados:\n",
    "                if lado not in self.resultados[-self.latencia:]:\n",
    "                    self.counts[lado - 1] -= self.castigo\n",
    "                    if self.counts[lado - 1]<0:\n",
    "                        self.counts[lado - 1] = 0\n",
    "                        \n",
    "        self.probabilidades = self.probabilidades + self.premio*self.counts/self.counts.sum()\n",
    "        self.probabilidades = self.probabilidades/self.probabilidades.sum()\n",
    "        "
   ]
  },
  {
   "cell_type": "code",
   "execution_count": 33,
   "metadata": {
    "id": "cKd8HonEg2Kz"
   },
   "outputs": [],
   "source": [
    "# 2. \n",
    "dado = DadoCargado(6)"
   ]
  },
  {
   "cell_type": "code",
   "execution_count": 34,
   "metadata": {
    "id": "ikLEW7GSg2Kz",
    "outputId": "7f0aa68a-b54a-4f4c-9780-66a8aabc4d51"
   },
   "outputs": [
    {
     "name": "stdout",
     "output_type": "stream",
     "text": [
      "[4]\n",
      "[0.13888889 0.13888889 0.13888889 0.30555556 0.13888889 0.13888889]\n",
      "[6]\n",
      "[0.11574074 0.11574074 0.11574074 0.33796296 0.11574074 0.19907407]\n",
      "[3]\n",
      "[0.09645062 0.09645062 0.15200617 0.33719136 0.09645062 0.22145062]\n",
      "[6]\n",
      "[0.08037551 0.08037551 0.16833848 0.32265947 0.08037551 0.26787551]\n",
      "[3]\n",
      "[0.0669796  0.0669796  0.20694873 0.30221622 0.0669796  0.28989626]\n",
      "[4]\n",
      "[0.05581633 0.05581633 0.22801283 0.30740241 0.05581633 0.29713577]\n",
      "[6]\n",
      "[0.04651361 0.04651361 0.23762974 0.30378772 0.04651361 0.31904172]\n",
      "[4]\n",
      "[0.03876134 0.03876134 0.23969145 0.31565643 0.03876134 0.3283681 ]\n",
      "[6]\n",
      "[0.03230112 0.03230112 0.23677991 0.31860258 0.03230112 0.34771415]\n",
      "[6]\n",
      "[0.0269176  0.0269176  0.23064993 0.31550215 0.0269176  0.37309513]\n"
     ]
    }
   ],
   "source": [
    "for i in range(10):\n",
    "    print(dado.tirar_dado())\n",
    "    print(dado.probabilidades)"
   ]
  },
  {
   "cell_type": "code",
   "execution_count": 35,
   "metadata": {
    "id": "2fOmBh27g2Kz"
   },
   "outputs": [],
   "source": [
    "# 3.\n",
    "n_tiradas = 500\n",
    "probabilidades = np.zeros((n_tiradas,dado.n_lados))\n",
    "dado = DadoCargado(6, premio = 0.1)\n",
    "for i in range(n_tiradas):\n",
    "    dado.tirar_dado()\n",
    "    probabilidades[i,:] = dado.probabilidades\n"
   ]
  },
  {
   "cell_type": "code",
   "execution_count": 36,
   "metadata": {
    "id": "HKZ1hBv9g2Kz",
    "outputId": "78992a21-7030-4c0e-be91-e53ee4d1ee26"
   },
   "outputs": [
    {
     "data": {
      "text/plain": [
       "<matplotlib.legend.Legend at 0x2032eadf9a0>"
      ]
     },
     "execution_count": 36,
     "metadata": {},
     "output_type": "execute_result"
    },
    {
     "data": {
      "image/png": "[encoded data removed]",
      "text/plain": [
       "<Figure size 432x288 with 1 Axes>"
      ]
     },
     "metadata": {
      "needs_background": "light"
     },
     "output_type": "display_data"
    }
   ],
   "source": [
    "for lado in range(dado.n_lados):\n",
    "    plt.plot(np.arange(n_tiradas), probabilidades[:,lado], label = lado  + 1) \n",
    "plt.legend()"
   ]
  },
  {
   "cell_type": "markdown",
   "metadata": {
    "id": "71xm_kqAg2K0"
   },
   "source": [
    "**Extra**\n",
    "\n",
    "Juega con estos modelos. Hazles preguntas e intenta responderlas. Por ejemplo, puedes ver que en todos los casos suele haber un lado exitoso que, luego de algunas tiradas, se establece como el lado más probable. Además, en el modelo del ejercicio 3, existen lados cuyas probabilidades caen a cero. ¿En qué momemento se decide cuál es el lado exitoso?¿El que sale primero?¿El que sale más veces en las primeras diez tiradas?¿Cuál será un buen predictor de esta situación?¿Y con los lados cuya probabilidad cae a cero?¿Cuándo se decide su destino?"
   ]
  },
  {
   "cell_type": "code",
   "execution_count": null,
   "metadata": {
    "id": "qCcnfAh1g2K0"
   },
   "outputs": [],
   "source": []
  }
 ],
 "metadata": {
  "colab": {
   "collapsed_sections": [],
   "name": "DS_Bitácora_10_Clases_RESUELTO.ipynb",
   "provenance": []
  },
  "kernelspec": {
   "display_name": "Python 3",
   "language": "python",
   "name": "python3"
  },
  "language_info": {
   "codemirror_mode": {
    "name": "ipython",
    "version": 3
   },
   "file_extension": ".py",
   "mimetype": "text/x-python",
   "name": "python",
   "nbconvert_exporter": "python",
   "pygments_lexer": "ipython3",
   "version": "3.8.5"
  }
 },
 "nbformat": 4,
 "nbformat_minor": 4
}
