{
 "cells": [
  {
   "cell_type": "markdown",
   "metadata": {
    "id": "Ev_oEXjx6w9Q"
   },
   "source": [
    "# Programación y NumPy\n",
    "\n",
    "En la primera parte de este notebook seguiremos explorando algunas cuestiones de programación. En la segunda parte, empezaremos a trabajar con NumPy, nuestra primera librería.\n",
    "\n",
    "## 1. Programación\n",
    "\n",
    "### 1.1 Operaciones Lógicas\n",
    "\n",
    "Comencemos viendo cómo implementar lo que vimos en la bitácora de operaciones lógicas. Te recomendamos tener la bitácora cerca así puedes consultarla.\n",
    "\n",
    "En primer lugar, la operación `not` es simplemente la negación del booleano."
   ]
  },
  {
   "cell_type": "code",
   "execution_count": 1,
   "metadata": {
    "colab": {
     "base_uri": "https://localhost:8080/"
    },
    "id": "kv2eNRpePBOy",
    "outputId": "5b7c6415-d10d-4394-d261-9b758adcd825"
   },
   "outputs": [
    {
     "name": "stdout",
     "output_type": "stream",
     "text": [
      "False\n",
      "True\n"
     ]
    }
   ],
   "source": [
    "variable_1 = True\n",
    "print(not(variable_1))\n",
    "\n",
    "variable_2 = False\n",
    "print(not(variable_2))"
   ]
  },
  {
   "cell_type": "code",
   "execution_count": null,
   "metadata": {
    "id": "LpCJFNp56w-F"
   },
   "outputs": [],
   "source": [
    "La operación `and` nos devuelve `True` unicamente cuando ambas variables son verdaderas. Experimentar con la celda inferior y comprobar su tabla de verdad."
   ]
  },
  {
   "cell_type": "code",
   "execution_count": 6,
   "metadata": {
    "colab": {
     "base_uri": "https://localhost:8080/"
    },
    "id": "mHPhaiiJPBOv",
    "outputId": "65f3d39d-260f-41e0-d1c8-05ba1b56c338"
   },
   "outputs": [
    {
     "name": "stdout",
     "output_type": "stream",
     "text": [
      "True\n"
     ]
    }
   ],
   "source": [
    "variable_1 = True\n",
    "variable_2 = True\n",
    "print(variable_1 and variable_2)"
   ]
  },
  {
   "cell_type": "markdown",
   "metadata": {
    "id": "tIzs0GsO6w-k"
   },
   "source": [
    "**Ejercicio:** comprobar la tabla de verdad de la operación `or` jugando con la celda siguiente. Viene con trampa(s)."
   ]
  },
  {
   "cell_type": "code",
   "execution_count": 11,
   "metadata": {
    "colab": {
     "base_uri": "https://localhost:8080/"
    },
    "id": "i9QxO0SgPBO3",
    "outputId": "af45b3ce-6372-4d62-8650-98490a3e9b91"
   },
   "outputs": [
    {
     "name": "stdout",
     "output_type": "stream",
     "text": [
      "True\n"
     ]
    }
   ],
   "source": [
    "A = True\n",
    "C = False\n",
    "A_or_B = A or C\n",
    "print(A_or_B)"
   ]
  },
  {
   "cell_type": "markdown",
   "metadata": {
    "id": "oa016g7sPBP2"
   },
   "source": [
    "### 1.2 Estructuras de control - Condicionales\n",
    "\n",
    "Los condicionales nos permiten ejecutar o no un bloque de codigo dependiendo de ciertas condiciones. En lenguaje coloquial, vendrían a ser del estilo de \"Si se cumple esta condición, hace A. Si no se cumple, hace B\", donde B puede ser, simplemente, no hacer nada. Veamos qué formas toman.\n",
    "\n",
    "### 1.2.1 If\n",
    "\n",
    "El condicional más simple es el `if`. Para mayor claridad escribiremos la condicion entre parentesis (), aunque esto no es necesario. Su estructura es \n",
    "\n",
    "``` python\n",
    "if condicion:\n",
    "    Si se cumple la condición, se ejecutan estas líneas de código\n",
    "```\n",
    "\n",
    "Veamos algunos ejemplos:"
   ]
  },
  {
   "cell_type": "code",
   "execution_count": 12,
   "metadata": {
    "colab": {
     "base_uri": "https://localhost:8080/"
    },
    "id": "TYisVuiEPBP4",
    "outputId": "ba072cb8-9029-4892-cef0-2e7ae4b296b5"
   },
   "outputs": [
    {
     "name": "stdout",
     "output_type": "stream",
     "text": [
      "El valor es mayor que 10\n"
     ]
    }
   ],
   "source": [
    "valor = 15\n",
    "if (valor > 10):\n",
    "    print('El valor es mayor que 10')"
   ]
  },
  {
   "cell_type": "markdown",
   "metadata": {
    "id": "-hz-IXpJPBP6"
   },
   "source": [
    "Prestar atención a que la condición debe ser un booleano"
   ]
  },
  {
   "cell_type": "code",
   "execution_count": 13,
   "metadata": {
    "colab": {
     "base_uri": "https://localhost:8080/"
    },
    "id": "BCXXXwRMPBP7",
    "outputId": "75257801-0adc-49e9-d2be-783985dd42e2"
   },
   "outputs": [
    {
     "name": "stdout",
     "output_type": "stream",
     "text": [
      "True\n",
      "<class 'bool'>\n"
     ]
    }
   ],
   "source": [
    "print(valor > 10)\n",
    "print(type(valor > 10))"
   ]
  },
  {
   "cell_type": "markdown",
   "metadata": {
    "id": "b8smKAgj6w_Y"
   },
   "source": [
    "**Nota:** para comparar variables, tenemos las operaciones menor `<`, mayor `>`, igualdad `==`, menor o igual  `<=`, y mayor o igual `>=`."
   ]
  },
  {
   "cell_type": "code",
   "execution_count": 18,
   "metadata": {
    "colab": {
     "base_uri": "https://localhost:8080/"
    },
    "id": "ZxEo7yDf6w_b",
    "outputId": "fda82a58-4b71-42cd-d647-cb8c1fddfbce"
   },
   "outputs": [
    {
     "name": "stdout",
     "output_type": "stream",
     "text": [
      "True\n",
      "False\n",
      "True\n"
     ]
    }
   ],
   "source": [
    "print(3 == 3)\n",
    "print(3 < 3)\n",
    "print(3 >= 3)\n"
   ]
  },
  {
   "cell_type": "markdown",
   "metadata": {
    "id": "zaIO1UwlPBP_"
   },
   "source": [
    "### 1.2.2 If, Else\n",
    "\n",
    "A la estrucutra con `if` se le puede agregar otro bloque de codigo que se ejecute si la condición exigida NO se cumple. Esto se logra mediante la expresión `else`.\n",
    "\n",
    "``` python\n",
    "if condicion:\n",
    "    Si se cumple la condición, se ejecutan estas líneas de código\n",
    "else:\n",
    "    Si NO se cumple la condición, se ejecutan estas líneas de código\n",
    "```"
   ]
  },
  {
   "cell_type": "code",
   "execution_count": 19,
   "metadata": {
    "colab": {
     "base_uri": "https://localhost:8080/"
    },
    "id": "Hf8xuG6iPBP_",
    "outputId": "c707262b-6e76-44ce-81c8-0521057e72e7"
   },
   "outputs": [
    {
     "name": "stdout",
     "output_type": "stream",
     "text": [
      "Esta persona NO se llama Juan\n"
     ]
    }
   ],
   "source": [
    "nombre = 'Pedro'\n",
    "\n",
    "if (nombre == 'Juan'):\n",
    "    print('Esta persona se llama Juan')\n",
    "else:\n",
    "    print('Esta persona NO se llama Juan')"
   ]
  },
  {
   "cell_type": "markdown",
   "metadata": {
    "id": "R5prOWCT6w_3"
   },
   "source": [
    "Prestar atención, nuevamente, a que la condición - lo que está entre paréntesis - es un booleano."
   ]
  },
  {
   "cell_type": "code",
   "execution_count": 20,
   "metadata": {
    "colab": {
     "base_uri": "https://localhost:8080/"
    },
    "id": "GVfCLIQyPBQB",
    "outputId": "c83798e8-351e-43bd-f1bb-b5bac34a304d"
   },
   "outputs": [
    {
     "data": {
      "text/plain": [
       "False"
      ]
     },
     "execution_count": 20,
     "metadata": {
      "tags": []
     },
     "output_type": "execute_result"
    }
   ],
   "source": [
    "'Juan'=='Pedro'"
   ]
  },
  {
   "cell_type": "markdown",
   "metadata": {
    "id": "1AJNWoqhPBQJ"
   },
   "source": [
    "### 1.2.3 If, Elif, Else\n",
    "A esta estructura se le pueden sumar tantas condiciones encadenadas como uno desee, mediante la expresión `elif`. El orden en que se van chequeando las condiciones depende de su posición, priemero se chequea el `if`, luego el primer `elif`, luego el segundo, y así sucesivamente.\n",
    "\n",
    "``` python\n",
    "if condicion_1:\n",
    "    Si se cumple la condicion_1 , se ejecutan estas líneas de código\n",
    "elif condicion_2:\n",
    "    Si se cumple la condicion_2 , se ejecutan estas líneas de código\n",
    "elif condicion_3:\n",
    "    Si se cumple la condicion_3 , se ejecutan estas líneas de código\n",
    "else:\n",
    "    Si NO se cumple ninguna de las condiciones anteriores, se ejecutan líneas celdas de código\n",
    "```\n"
   ]
  },
  {
   "cell_type": "code",
   "execution_count": 23,
   "metadata": {
    "colab": {
     "base_uri": "https://localhost:8080/"
    },
    "id": "psA9onaFPBQL",
    "outputId": "ef89bc5c-0cad-496b-dadf-b795ad7db7c5"
   },
   "outputs": [
    {
     "name": "stdout",
     "output_type": "stream",
     "text": [
      "Esta persona tiene mas de 18 años\n"
     ]
    }
   ],
   "source": [
    "edad = 76\n",
    "\n",
    "if (edad < 18):\n",
    "    print('Esta persona tiene menos de 18 años')\n",
    "elif (edad > 18):\n",
    "    print('Esta persona tiene mas de 18 años')\n",
    "else:\n",
    "    print('Esta persona tiene justo 18 años')"
   ]
  },
  {
   "cell_type": "markdown",
   "metadata": {
    "id": "ZHXdIEkSW6wa"
   },
   "source": [
    "**Ejercicio**: Escriba un bloque de código que, dado un número, imprima la frase \"El numero es par\" si el número es par o la frase \"El numero es impar\" si no lo es."
   ]
  },
  {
   "cell_type": "code",
   "execution_count": 30,
   "metadata": {
    "colab": {
     "base_uri": "https://localhost:8080/"
    },
    "id": "7uWbEw9BYAL4",
    "outputId": "69a065b6-116a-4a31-cb27-652eb91d1764"
   },
   "outputs": [
    {
     "name": "stdout",
     "output_type": "stream",
     "text": [
      "El número es impar\n"
     ]
    }
   ],
   "source": [
    "numero = 433\n",
    "# COMPLETAR\n",
    "if numero%2==0:\n",
    "  print(\"El número es par\")\n",
    "else:\n",
    "  print(\"El número es impar\")"
   ]
  },
  {
   "cell_type": "markdown",
   "metadata": {
    "id": "qecxWClXPBQM"
   },
   "source": [
    "### 1.3 Combinando estructuras de código\n",
    "\n",
    "Las estructuras de loops que vimos en la bitácora anterior y condicionales que aprendimos se pueden combinar para generar comportamientos más complejos. Supongamos que tenemos una lista de edades y nos queremos quedar con aquellas que sean mayores que 18 años. Podemos hacer lo siguiente:"
   ]
  },
  {
   "cell_type": "code",
   "execution_count": 31,
   "metadata": {
    "colab": {
     "base_uri": "https://localhost:8080/"
    },
    "id": "69DHgsOjPBQN",
    "outputId": "0a24c502-6c16-4ed8-dac1-164c292dd006"
   },
   "outputs": [
    {
     "name": "stdout",
     "output_type": "stream",
     "text": [
      "[20, 29, 42, 18]\n"
     ]
    }
   ],
   "source": [
    "lista_de_edades = [4,20,15,29,11,42,10,18]\n",
    "lista_mayores = []\n",
    "\n",
    "for edad in lista_de_edades:\n",
    "    if (edad >= 18):\n",
    "        # Agremos a la lista de mayores\n",
    "        lista_mayores.append(edad)\n",
    "\n",
    "print(lista_mayores)"
   ]
  },
  {
   "cell_type": "markdown",
   "metadata": {
    "id": "IeZnpQLV6xAv"
   },
   "source": [
    "### 1.4 Operaciones lógicas y estructuras de control\n",
    "\n",
    "A veces, queremos ejecutar una línea de código si se cumple más de una condición. Esto se puede lograr fácilmente usando las operaciones lógicas que vimos. Supongamos que tenemos una lista de números, y queremos seleccionar aquellos que cumplan ciertas propiedades. Por ejemplo, que son mayores o iguales que 5 y menores que 20. Podríamos hacer lo siguiente:"
   ]
  },
  {
   "cell_type": "code",
   "execution_count": 32,
   "metadata": {
    "colab": {
     "base_uri": "https://localhost:8080/"
    },
    "id": "sC-PhM3o6xA0",
    "outputId": "16460104-db7a-4ed0-a1fb-a9b8e4e6dc73"
   },
   "outputs": [
    {
     "name": "stdout",
     "output_type": "stream",
     "text": [
      "[6, 17, 5, 6, 13, 15]\n"
     ]
    }
   ],
   "source": [
    "numeros = [0,3,1,4,6,17,3,89,5,6,4,13,25,4,3,23,1,15,2]\n",
    "seleccionados = []\n",
    "for numero in numeros:\n",
    "    if numero >= 5:\n",
    "        if numero < 20:\n",
    "            seleccionados.append(numero)\n",
    "print(seleccionados)"
   ]
  },
  {
   "cell_type": "markdown",
   "metadata": {
    "id": "Tc_42Pgi6xA8"
   },
   "source": [
    "Notar que los números seleccionados cumplen los requisitos que pedimos. Pero también podríamos hacerlo así:"
   ]
  },
  {
   "cell_type": "code",
   "execution_count": 33,
   "metadata": {
    "colab": {
     "base_uri": "https://localhost:8080/"
    },
    "id": "GgeeSiSK6xBA",
    "outputId": "93e70048-d6af-4ead-a778-93841195feaa"
   },
   "outputs": [
    {
     "name": "stdout",
     "output_type": "stream",
     "text": [
      "[6, 17, 5, 6, 13, 15]\n"
     ]
    }
   ],
   "source": [
    "numeros = [0,3,1,4,6,17,3,89,5,6,4,13,25,4,3,23,1,15,2]\n",
    "seleccionados = []\n",
    "for numero in numeros:\n",
    "    if numero >= 5 and numero < 20:\n",
    "        seleccionados.append(numero)\n",
    "print(seleccionados)"
   ]
  },
  {
   "cell_type": "markdown",
   "metadata": {
    "id": "bp86CHMb6xBI"
   },
   "source": [
    "El resultado es el mismo. Si bien esta forma es más compacta, no necesariamente implica que sea mejor. Uno/a elije hacerlo de una u otra forma según lo que le parezca más claro; si ambas condiciones juntas son difíciles de leer, tal vez puedes usar la primera forma.\n",
    "\n",
    "**Ejercicio**: Modifica el ejemplo anterior para que seleccione aquellos números **mayores** que 5 **o** impares."
   ]
  },
  {
   "cell_type": "code",
   "execution_count": 36,
   "metadata": {
    "colab": {
     "base_uri": "https://localhost:8080/"
    },
    "id": "AVpW_iRp6xBL",
    "outputId": "69d3d929-f908-4f20-de12-746a1c5277b4"
   },
   "outputs": [
    {
     "data": {
      "text/plain": [
       "[3, 1, 6, 17, 3, 89, 5, 6, 13, 25, 3, 23, 1, 15]"
      ]
     },
     "execution_count": 36,
     "metadata": {
      "tags": []
     },
     "output_type": "execute_result"
    }
   ],
   "source": [
    "# COMPLETAR\r\n",
    "seleccion2=[]\r\n",
    "#for numero in numeros:\r\n",
    "#  if numero>5:\r\n",
    "#    seleccion2.append(numero)\r\n",
    "#  elif numero%2>0:\r\n",
    "#    seleccion2.append(numero)\r\n",
    "\r\n",
    "# forma más compacta\r\n",
    "for numero in numeros:\r\n",
    "  if numero>5 or numero%2>0:\r\n",
    "    seleccion2.append(numero)\r\n",
    "seleccion2"
   ]
  },
  {
   "cell_type": "markdown",
   "metadata": {
    "id": "3t8rRW2j6xBU"
   },
   "source": [
    "### Ejercitación\n",
    "\n",
    "**Ejercicio 1**: ¿Qué pasa si sumás, restás, multiplicás o dividís booleanos? Pruébalo e interpreta."
   ]
  },
  {
   "cell_type": "code",
   "execution_count": 39,
   "metadata": {
    "colab": {
     "base_uri": "https://localhost:8080/"
    },
    "id": "d1FkUOkT6xBW",
    "outputId": "87f18f1d-057e-4339-9ef5-e82f9fd90151"
   },
   "outputs": [
    {
     "name": "stdout",
     "output_type": "stream",
     "text": [
      "2\n",
      "1\n",
      "0\n",
      "1\n",
      "0\n",
      "0\n",
      "1\n",
      "1.0\n",
      "0.0\n"
     ]
    }
   ],
   "source": [
    "print(True + True)\n",
    "print(True + False)\n",
    "print(False+False)\n",
    "# COMPLETAR\n",
    "print(True * True)\n",
    "print(True * False)\n",
    "print(True - True)\n",
    "print(True - False)\n",
    "print(True / True)\n",
    "print(False / True)"
   ]
  },
  {
   "cell_type": "markdown",
   "metadata": {
    "id": "Rn69wJ-y6xBg"
   },
   "source": [
    "**Ejercicio 2**: Hacer una estructur `if/else` que compare dos variables numéricas `A` y `B` y que decida cuál es mayor e imprima en pantalla \"A es mayor que B\" o \"B es mayor que A\" . "
   ]
  },
  {
   "cell_type": "code",
   "execution_count": 43,
   "metadata": {
    "colab": {
     "base_uri": "https://localhost:8080/"
    },
    "id": "NUxrQf9A6xBs",
    "outputId": "9843dcac-f44f-4677-f94b-bcd34e3840a5"
   },
   "outputs": [
    {
     "name": "stdout",
     "output_type": "stream",
     "text": [
      "A es mayor que B\n"
     ]
    }
   ],
   "source": [
    "A = 9\n",
    "B = 4\n",
    "# COMPLETAR\n",
    "if A<B:\n",
    "  print(\"B es mayor que A\")\n",
    "else:\n",
    "  print(\"A es mayor que B\")"
   ]
  },
  {
   "cell_type": "markdown",
   "metadata": {
    "id": "LcNOZBVO6xBz"
   },
   "source": [
    "**Ejercicio 3 - Challenge**: Dada la siguiente lista de numeros:"
   ]
  },
  {
   "cell_type": "code",
   "execution_count": 1,
   "metadata": {
    "id": "nixTh2uwPBQQ"
   },
   "outputs": [],
   "source": [
    "numeros = [4,5,1,3,5,7,8,1,3,4,1,7,8,1,3,4,5,2,1,2,4,5]"
   ]
  },
  {
   "cell_type": "markdown",
   "metadata": {
    "id": "XLWP4dKfPBQS"
   },
   "source": [
    "Escribir una rutina que calcule la suma de los números **pares menores que 5** en esta lista. **Pistas:** \n",
    "* Hay muchas formas de hacerlo, si piensas en más de una, mejor. Pero trata de tomar los ejemplos que vimos en este notebook.\n",
    "* El resultado es 20. \n",
    "* Recuerda que puedes inicializar una variable en cero, y luego ir modificándola en un loop. Hicimos algo así en el notebook de la bitácora anterior con una variable que llamamos `i` y en el ejercicio 5 del mismo notebook."
   ]
  },
  {
   "cell_type": "code",
   "execution_count": 5,
   "metadata": {
    "colab": {
     "base_uri": "https://localhost:8080/"
    },
    "id": "Rl2hqB-e6xB_",
    "outputId": "deb2015e-f9e5-4593-9031-fb1b629481f1"
   },
   "outputs": [
    {
     "ename": "SyntaxError",
     "evalue": "invalid syntax (<ipython-input-5-289c459b9b63>, line 4)",
     "output_type": "error",
     "traceback": [
      "\u001b[1;36m  File \u001b[1;32m\"<ipython-input-5-289c459b9b63>\"\u001b[1;36m, line \u001b[1;32m4\u001b[0m\n\u001b[1;33m    if i<5 and i%2=\u001b[0m\n\u001b[1;37m                  ^\u001b[0m\n\u001b[1;31mSyntaxError\u001b[0m\u001b[1;31m:\u001b[0m invalid syntax\n"
     ]
    }
   ],
   "source": [
    "# COMPLETAR\r\n",
    "sum=0\r\n",
    "for i in numeros:\r\n",
    "  if i<5 and i%2=\n",
    "    #sum+=i=           sum + iu         m+i\r\n",
    "\r\n",
    "print(sum)"
   ]
  },
  {
   "cell_type": "markdown",
   "metadata": {
    "id": "EOZ7KmA46xCG"
   },
   "source": [
    "**Ejercicio 4 - Challenge Opcional**: Dada la siguiente lista de numeros:"
   ]
  },
  {
   "cell_type": "code",
   "execution_count": 47,
   "metadata": {
    "colab": {
     "base_uri": "https://localhost:8080/"
    },
    "id": "aaYZXXHi6xCI",
    "outputId": "9bf2a591-adb4-4392-9d81-f6f11015f88a"
   },
   "outputs": [
    {
     "name": "stdout",
     "output_type": "stream",
     "text": [
      "['2', '3', '2', '3', '2', '2', '2', '2', '3', '2', '3', '1', '3', '1', '2', '2', '2', '2', '2', '2', '2', '2', '1', '2', '3', '2', '2', '2', '2', '1', '2', '3', '2', '2', '3', '2', '3', '3', '2', '2', '1', '3', '3', '2', '3', '2', '2', '1', '2', '1', '1', '2', '2', '3', '2', '2', '2', '3', '2', '2', '2', '1', '2', '2', '3', '2', '2', '2', '2', '1', '2', '2', '2', '2', '3', '1', '2', '3', '3', '2', '3', '2', '2', '3', '3', '1', '1', '3', '2', '1', '2', '2', '2', '1', '1', '2', '2', '2', '2', '2', '2', '2', '3', '3', '1', '3', '3', '3', '2', '2', '2', '2', '2', '2', '2', '3', '3', '2', '2', '3', '2', '2', '2', '2', '2', '3', '3', '2', '2', '1', '3', '2', '2', '2', '3', '2', '3', '1', '3', '3', '2', '3', '3', '2', '2', '2', '2', '2', '2', '1', '2', '2', '1', '2', '3', '2', '1', '3', '1', '2', '3', '3', '3', '2', '3', '1', '3', '2', '3', '1', '2', '2', '2', '3', '3', '2', '2', '2', '2', '2', '3', '1', '2', '3', '3', '2', '2', '3', '2', '2', '2', '3', '2', '2', '2', '2', '1', '2', '3', '1', '3', '2', '2', '3', '3', '3', '2', '2', '1', '1']\n"
     ]
    }
   ],
   "source": [
    "numeros_en_texto = ['2', '3', '2', '3', '2', '2', '2', '2', '3', '2', '3', '1', '3', '1', '2', '2', '2', '2', '2', '2', '2', '2', '1', '2', '3', '2', '2', '2', '2', '1', '2', '3', '2', '2', '3', '2', '3', '3', '2', '2', '1', '3', '3', '2', '3', '2', '2', '1', '2', '1', '1', '2', '2', '3', '2', '2', '2', '3', '2', '2', '2', '1', '2', '2', '3', '2', '2', '2', '2', '1', '2', '2', '2', '2', '3', '1', '2', '3', '3', '2', '3', '2', '2', '3', '3', '1', '1', '3', '2', '1', '2', '2', '2', '1', '1', '2', '2', '2', '2', '2', '2', '2', '3', '3', '1', '3', '3', '3', '2', '2', '2', '2', '2', '2', '2', '3', '3', '2', '2', '3', '2', '2', '2', '2', '2', '3', '3', '2', '2', '1', '3', '2', '2', '2', '3', '2', '3', '1', '3', '3', '2', '3', '3', '2', '2', '2', '2', '2', '2', '1', '2', '2', '1', '2', '3', '2', '1', '3', '1', '2', '3', '3', '3', '2', '3', '1', '3', '2', '3', '1', '2', '2', '2', '3', '3', '2', '2', '2', '2', '2', '3', '1', '2', '3', '3', '2', '2', '3', '2', '2', '2', '3', '2', '2', '2', '2', '1', '2', '3', '1', '3', '2', '2', '3', '3', '3', '2', '2', '1', '1']\n",
    "print(numeros_en_texto)"
   ]
  },
  {
   "cell_type": "markdown",
   "metadata": {
    "id": "7csAGf6h6xCQ"
   },
   "source": [
    "Calcule la suma de los unos (1) y los tres (3) en esta lista. Nuevamente, hay muchas formas de hacerlo. **Pistas:** \n",
    "* El resultado es 210.\n",
    "* Puede reciclar código de ejemplos anteriores y del ejercicio anterior.\n",
    "* Se pueden comparar strings, ver ejemplo más arriba.\n",
    "* También se pueden forzar tipos de datos. Por ejemplo, `int('4')` nos devuelve un 4, entero.\n",
    "* Se puede resolver sin usar todas las pistas"
   ]
  },
  {
   "cell_type": "code",
   "execution_count": 49,
   "metadata": {
    "colab": {
     "base_uri": "https://localhost:8080/"
    },
    "id": "vOghc-f86xCT",
    "outputId": "d5c353d0-6023-4662-a626-09709cab4676"
   },
   "outputs": [
    {
     "name": "stdout",
     "output_type": "stream",
     "text": [
      "210\n"
     ]
    }
   ],
   "source": [
    "# COMPLETAR\r\n",
    "sum2=0\r\n",
    "\r\n",
    "for y in numeros_en_texto:\r\n",
    "  if y==\"1\" or y==\"3\":\r\n",
    "    sum2=sum2+int(y)\r\n",
    "\r\n",
    "print(sum2)"
   ]
  },
  {
   "cell_type": "markdown",
   "metadata": {
    "id": "TTDIO6cP6xCc"
   },
   "source": [
    "## 2. Numpy\n",
    "\n",
    "Empezaremos a dar nuestros primeros pasos con NumPy. Es muy importante que googlees y consultes la documentación. Si no la instalaste, ahora es un buen momento.\n",
    "\n",
    "Cuando queremos usar una librería, primero debemos importarla. Más adelante veremos qué significa importar una librería, pero podemos entenderlo como que es un aviso a Python de que vamos a incorporar nuevas funcionalidades; en este caso, desde NumPy."
   ]
  },
  {
   "cell_type": "code",
   "execution_count": 50,
   "metadata": {
    "id": "rPcaeHHt6xCe"
   },
   "outputs": [],
   "source": [
    "import numpy as np"
   ]
  },
  {
   "cell_type": "markdown",
   "metadata": {
    "id": "W6b95ub26xCn"
   },
   "source": [
    "Ahora nuestro ambiente de trabajo sabe que si ponemos algo del estilo `np.` significa que esa funcionalidad la debe buscar en NumPy. **Importante:** Si la librería NO se instaló correctamente, te saltará un mensaje de error.\n",
    "\n",
    "El principal tipo de dato sobre el que trabaja NumPy son los arreglos o arrays. Los arreglos son parecidos a listas y, de hecho, se pueden crear a partir de ellas."
   ]
  },
  {
   "cell_type": "code",
   "execution_count": 51,
   "metadata": {
    "colab": {
     "base_uri": "https://localhost:8080/"
    },
    "id": "-NYi46pS6xCr",
    "outputId": "12fca803-c2e3-46c6-baa2-a17966f74cac"
   },
   "outputs": [
    {
     "name": "stdout",
     "output_type": "stream",
     "text": [
      "[0, 1, 2, 3, 4, 5]\n",
      "[0 1 2 3 4 5]\n"
     ]
    }
   ],
   "source": [
    "lista = [0,1,2,3,4,5]\n",
    "arreglo = np.array(lista)\n",
    "print(lista)\n",
    "print(arreglo)"
   ]
  },
  {
   "cell_type": "markdown",
   "metadata": {
    "id": "3GTbMtsp6xCy"
   },
   "source": [
    "Pero son más que una lista. Algunas cosas que no se podían hacer con las listas ahora sí se pueden con arreglos. Recordemos que sumarle un número a toda la lista no estaba permitido"
   ]
  },
  {
   "cell_type": "code",
   "execution_count": 55,
   "metadata": {
    "colab": {
     "base_uri": "https://localhost:8080/"
    },
    "id": "oBsq7xKM6xC0",
    "outputId": "ff49c644-8707-401f-8480-20f1a4007e58"
   },
   "outputs": [
    {
     "data": {
      "text/plain": [
       "[0, 1, 2, 3, 4, 5, 0, 1, 2, 3, 4, 5]"
      ]
     },
     "execution_count": 55,
     "metadata": {
      "tags": []
     },
     "output_type": "execute_result"
    }
   ],
   "source": [
    "lista * 2"
   ]
  },
  {
   "cell_type": "markdown",
   "metadata": {
    "id": "XM4rla9L6xC7"
   },
   "source": [
    "¡Pero ahora con los arreglos sí!"
   ]
  },
  {
   "cell_type": "code",
   "execution_count": 53,
   "metadata": {
    "colab": {
     "base_uri": "https://localhost:8080/"
    },
    "id": "QxQS9qSw6xC9",
    "outputId": "7728e203-ba8c-4b60-8185-99982fee4942"
   },
   "outputs": [
    {
     "data": {
      "text/plain": [
       "array([1, 2, 3, 4, 5, 6])"
      ]
     },
     "execution_count": 53,
     "metadata": {
      "tags": []
     },
     "output_type": "execute_result"
    }
   ],
   "source": [
    "arreglo + 1"
   ]
  },
  {
   "cell_type": "markdown",
   "metadata": {
    "id": "xgo-b6nG6xDE"
   },
   "source": [
    "Esto simplifica mucho hacer cuéntas. Pero no es sólo sumar, también muchas otras operaciones:"
   ]
  },
  {
   "cell_type": "code",
   "execution_count": 54,
   "metadata": {
    "colab": {
     "base_uri": "https://localhost:8080/"
    },
    "id": "GDFrflQS6xDG",
    "outputId": "83008a93-391d-464b-a999-ebf810cba9d9"
   },
   "outputs": [
    {
     "name": "stdout",
     "output_type": "stream",
     "text": [
      "[-5 -4 -3 -2 -1  0]\n",
      "[-2 -1  0  1  2  3]\n",
      "[ 0  4  8 12 16 20]\n",
      "[ 0  1  4  9 16 25]\n"
     ]
    }
   ],
   "source": [
    "print(arreglo - 5)\n",
    "print(arreglo - 2)\n",
    "print(arreglo*4)\n",
    "print(arreglo**2)"
   ]
  },
  {
   "cell_type": "markdown",
   "metadata": {
    "id": "OG5vEKqa6xDO"
   },
   "source": [
    "Comprobar que, salvo la multiplicación, ninguno estaba permitido en listas. ¿Qué hace la multiplicación en el caso de una lista?"
   ]
  },
  {
   "cell_type": "markdown",
   "metadata": {
    "id": "8OLptg2q6xDP"
   },
   "source": [
    "### 2.1 Creación de arreglos"
   ]
  },
  {
   "cell_type": "markdown",
   "metadata": {
    "id": "5Besuznw6xDR"
   },
   "source": [
    "Si bien podemos crear arreglos a partir de listas, NumPy viene con muchas funciones para hacerlo. Veamos algunas.\n",
    "\n",
    "Una muy utilizada es `np.arange()`. Consulta su documentación. Otra opción es que, en una celda de código, escribas `np.arange` y aprietes `shift` + `tab`. De esa forma, te aparecerá la ayuda.\n",
    "\n",
    "Juega un poco con el ejemplo a continuación."
   ]
  },
  {
   "cell_type": "code",
   "execution_count": 60,
   "metadata": {
    "colab": {
     "base_uri": "https://localhost:8080/"
    },
    "id": "ffVupHId6xDS",
    "outputId": "503776e8-0548-4e4a-9d2f-903c08f5ccb8"
   },
   "outputs": [
    {
     "name": "stdout",
     "output_type": "stream",
     "text": [
      "[ 3  5  7  9 11 13 15 17 19]\n"
     ]
    }
   ],
   "source": [
    "arreglo = np.arange(3,20,2)\n",
    "print(arreglo)"
   ]
  },
  {
   "cell_type": "code",
   "execution_count": 92,
   "metadata": {
    "colab": {
     "base_uri": "https://localhost:8080/"
    },
    "id": "Ezf57u-8p6zB",
    "outputId": "e03fbc4f-e6fc-4273-fd0e-dc65d361832a"
   },
   "outputs": [
    {
     "name": "stdout",
     "output_type": "stream",
     "text": [
      "[ 3.          4.88888889  6.77777778  8.66666667 10.55555556 12.44444444\n",
      " 14.33333333 16.22222222 18.11111111 20.        ]\n",
      "[[0. 0.]\n",
      " [0. 0.]\n",
      " [0. 0.]]\n",
      "[[1 1]\n",
      " [1 1]\n",
      " [1 1]\n",
      " [1 1]\n",
      " [1 1]]\n"
     ]
    }
   ],
   "source": [
    "#np.linspace\r\n",
    "arreglo1= np.linspace(3, 20, num=10, endpoint=True, retstep=False, dtype=None, axis=0)\r\n",
    "print(arreglo1)\r\n",
    "\r\n",
    "#np.zeros\r\n",
    "arreglo2= np.zeros((3,2), dtype=float)\r\n",
    "print(arreglo2)\r\n",
    "\r\n",
    "#np.ones\r\n",
    "arreglo3= np.ones((5,2), dtype=int, order='C')\r\n",
    "print(arreglo3)"
   ]
  },
  {
   "cell_type": "markdown",
   "metadata": {
    "id": "GrbJZzEA6xDZ"
   },
   "source": [
    "**Ejercicio:** investiga y crea ejemplos con las siguientes funciones\n",
    "* `np.linspace`. Presta particular atención a cómo se diferencia de `np.arange`.\n",
    "* `np.zeros` y `np.ones`\n",
    "\n",
    "### 2.2 Shape de los arreglos\n",
    "\n",
    "Los arreglos tienen muchos más propiedades que las listas. En particular, pueden tener más de un *eje* o dimensión. Veamos a qué nos referimos:"
   ]
  },
  {
   "cell_type": "code",
   "execution_count": 73,
   "metadata": {
    "colab": {
     "base_uri": "https://localhost:8080/"
    },
    "id": "2gj5gtxN6xDb",
    "outputId": "88e63713-b6be-4d3a-8523-a4750a3d7a97"
   },
   "outputs": [
    {
     "name": "stdout",
     "output_type": "stream",
     "text": [
      "[[1 2 3 4]\n",
      " [5 6 7 8]]\n"
     ]
    }
   ],
   "source": [
    "arreglo_2d = np.array([[1,2,3,4],[5,6,7,8]])\n",
    "print(arreglo_2d)"
   ]
  },
  {
   "cell_type": "markdown",
   "metadata": {
    "id": "hd1tzKoY6xDi"
   },
   "source": [
    "Notar que tiene dos filas y cuatro columnas. Podemos descubrir esto sin imprimirlo en pantalla, sino usando la propiedad `.shape` del arreglo."
   ]
  },
  {
   "cell_type": "code",
   "execution_count": 74,
   "metadata": {
    "colab": {
     "base_uri": "https://localhost:8080/"
    },
    "id": "39jXsa356xDk",
    "outputId": "8ac181de-353e-48a0-f090-a64a31fab458"
   },
   "outputs": [
    {
     "name": "stdout",
     "output_type": "stream",
     "text": [
      "(2, 4)\n"
     ]
    }
   ],
   "source": [
    "print(arreglo_2d.shape)"
   ]
  },
  {
   "cell_type": "markdown",
   "metadata": {
    "id": "F0gQzLOW6xDp"
   },
   "source": [
    "Primero aparece el número de filas y luego el de columnas. ¿Qué estructura de dato es `(2, 4)`? Otro ejemplo:"
   ]
  },
  {
   "cell_type": "code",
   "execution_count": 76,
   "metadata": {
    "colab": {
     "base_uri": "https://localhost:8080/"
    },
    "id": "H-w91uc66xDr",
    "outputId": "4089c455-9808-42bc-c0f7-6b59ee435503"
   },
   "outputs": [
    {
     "name": "stdout",
     "output_type": "stream",
     "text": [
      "[[1 2]\n",
      " [3 4]\n",
      " [5 6]\n",
      " [7 8]]\n",
      "(4, 2)\n"
     ]
    }
   ],
   "source": [
    "arreglo_2d = np.array([[1,2],[3,4],[5,6],[7,8]])\n",
    "print(arreglo_2d)\n",
    "print(arreglo_2d.shape)"
   ]
  },
  {
   "cell_type": "markdown",
   "metadata": {
    "id": "NI-72zHF6xDx"
   },
   "source": [
    "Si queremos saber cuántos elementos tiene, podemos usar `.size`"
   ]
  },
  {
   "cell_type": "code",
   "execution_count": null,
   "metadata": {
    "id": "FAM3A5nN6xD1"
   },
   "outputs": [],
   "source": [
    "print(arreglo_2d.size)"
   ]
  },
  {
   "cell_type": "markdown",
   "metadata": {
    "id": "AHudbTb_6xD7"
   },
   "source": [
    "### 2.3 Funciones que operan sobre arreglos\n",
    "\n",
    "Los arreglos de NumPy incorporan un montón de funciones que operan sobre los arreglos. Veamos algunos ejemplos."
   ]
  },
  {
   "cell_type": "code",
   "execution_count": 77,
   "metadata": {
    "colab": {
     "base_uri": "https://localhost:8080/"
    },
    "id": "rsZiMiFa6xD9",
    "outputId": "a587f2de-7e70-4fd4-d0b6-fd99d90cde11"
   },
   "outputs": [
    {
     "name": "stdout",
     "output_type": "stream",
     "text": [
      "-100\n",
      "95\n"
     ]
    }
   ],
   "source": [
    "un_arreglo = np.array([-100,2,3,17,25,1,95])\n",
    "print(un_arreglo.min())\n",
    "print(un_arreglo.max())"
   ]
  },
  {
   "cell_type": "markdown",
   "metadata": {
    "id": "E6xoQQOF6xED"
   },
   "source": [
    "En el caso 2D, podemos pedir que estas funciones operen sobre todo el arreglo, o por ejes.\n",
    "\n"
   ]
  },
  {
   "cell_type": "code",
   "execution_count": 80,
   "metadata": {
    "colab": {
     "base_uri": "https://localhost:8080/"
    },
    "id": "V-MBXYIo6xEH",
    "outputId": "fd920df2-af37-49f0-c5eb-c46771d34774"
   },
   "outputs": [
    {
     "name": "stdout",
     "output_type": "stream",
     "text": [
      "[[1 5 7]\n",
      " [2 0 8]\n",
      " [4 6 3]]\n"
     ]
    }
   ],
   "source": [
    "# No te preocupes si no entiendes lo que hace esta celda\n",
    "arreglo_2d = np.arange(9)\n",
    "np.random.shuffle(arreglo_2d)\n",
    "arreglo_2d = arreglo_2d.reshape((3,3))\n",
    "print(arreglo_2d)"
   ]
  },
  {
   "cell_type": "markdown",
   "metadata": {
    "id": "ieZnEuby6xEN"
   },
   "source": [
    "Trata de entender la diferencia entre las siguientes instrucciones:"
   ]
  },
  {
   "cell_type": "code",
   "execution_count": 81,
   "metadata": {
    "colab": {
     "base_uri": "https://localhost:8080/"
    },
    "id": "sUB0kNoj6xET",
    "outputId": "6ca453e9-fac3-4409-b298-d3626c8285ad"
   },
   "outputs": [
    {
     "name": "stdout",
     "output_type": "stream",
     "text": [
      "8\n",
      "[4 6 8]\n",
      "[7 8 6]\n"
     ]
    }
   ],
   "source": [
    "print(arreglo_2d.max())\n",
    "print(arreglo_2d.max(axis = 0)) #axis=0 hace referencia a las columnas del arreglo\n",
    "print(arreglo_2d.max(axis = 1)) #axis=1 hace referencia a las filas del arreglo"
   ]
  },
  {
   "cell_type": "markdown",
   "metadata": {
    "id": "WtKLIys36xEY"
   },
   "source": [
    "### Últimos comentarios\n",
    "\n",
    "* No dijimos nada sobre indexado ni slicing. Esto se debe a que, para arreglos 1D, es similar que para la listas. Para arreglos 2D, es apenas más complicado. Para estudiarlo, jugar con la siguiente celda:"
   ]
  },
  {
   "cell_type": "code",
   "execution_count": 85,
   "metadata": {
    "colab": {
     "base_uri": "https://localhost:8080/"
    },
    "id": "CNAbEbBw6xEa",
    "outputId": "bbf55333-784a-47d5-a3f1-56daa8a0de3c"
   },
   "outputs": [
    {
     "name": "stdout",
     "output_type": "stream",
     "text": [
      "[[0 1 2]\n",
      " [3 4 5]\n",
      " [6 7 8]]\n",
      "[2 5 8]\n"
     ]
    }
   ],
   "source": [
    "arreglo_2d = np.arange(9).reshape(3,3)\n",
    "print(arreglo_2d)\n",
    "print(arreglo_2d[:,2])"
   ]
  },
  {
   "cell_type": "markdown",
   "metadata": {
    "id": "svHQKfw_6xEg"
   },
   "source": [
    "* Podemos usar `arreglo.max()` o `np.max(arreglo)`. Esto no es válido solamente para la función `max()`, sino también para casi todas las funciones que operen sobre arreglos. "
   ]
  },
  {
   "cell_type": "code",
   "execution_count": 86,
   "metadata": {
    "colab": {
     "base_uri": "https://localhost:8080/"
    },
    "id": "aTBJASA26xEh",
    "outputId": "2ce6dca4-1e3b-43b9-9ec0-2218fdf5cbee"
   },
   "outputs": [
    {
     "name": "stdout",
     "output_type": "stream",
     "text": [
      "-100 -100\n"
     ]
    }
   ],
   "source": [
    "print(np.min(un_arreglo), un_arreglo.min())"
   ]
  },
  {
   "cell_type": "markdown",
   "metadata": {
    "id": "vL5QD71a6xEo"
   },
   "source": [
    "Existe mucho más - realmente mucho más - para decir sobre NumPy. Pero mucho irá apareciendo a medida que lo vayamos necesitando. Y, además, ¡este notebook ya es muy largo!\n",
    "\n",
    "### Ejercitación\n",
    "\n",
    "**Ejercicio 1**: Escribir un arreglo con 100 números equiespaciados del 0 al 9. Pista: `linspace`"
   ]
  },
  {
   "cell_type": "code",
   "execution_count": 88,
   "metadata": {
    "colab": {
     "base_uri": "https://localhost:8080/"
    },
    "id": "_p2bvcte6xEq",
    "outputId": "bc1ef768-724c-4716-89c5-91c3eba8ff56"
   },
   "outputs": [
    {
     "name": "stdout",
     "output_type": "stream",
     "text": [
      "[0.         0.09090909 0.18181818 0.27272727 0.36363636 0.45454545\n",
      " 0.54545455 0.63636364 0.72727273 0.81818182 0.90909091 1.\n",
      " 1.09090909 1.18181818 1.27272727 1.36363636 1.45454545 1.54545455\n",
      " 1.63636364 1.72727273 1.81818182 1.90909091 2.         2.09090909\n",
      " 2.18181818 2.27272727 2.36363636 2.45454545 2.54545455 2.63636364\n",
      " 2.72727273 2.81818182 2.90909091 3.         3.09090909 3.18181818\n",
      " 3.27272727 3.36363636 3.45454545 3.54545455 3.63636364 3.72727273\n",
      " 3.81818182 3.90909091 4.         4.09090909 4.18181818 4.27272727\n",
      " 4.36363636 4.45454545 4.54545455 4.63636364 4.72727273 4.81818182\n",
      " 4.90909091 5.         5.09090909 5.18181818 5.27272727 5.36363636\n",
      " 5.45454545 5.54545455 5.63636364 5.72727273 5.81818182 5.90909091\n",
      " 6.         6.09090909 6.18181818 6.27272727 6.36363636 6.45454545\n",
      " 6.54545455 6.63636364 6.72727273 6.81818182 6.90909091 7.\n",
      " 7.09090909 7.18181818 7.27272727 7.36363636 7.45454545 7.54545455\n",
      " 7.63636364 7.72727273 7.81818182 7.90909091 8.         8.09090909\n",
      " 8.18181818 8.27272727 8.36363636 8.45454545 8.54545455 8.63636364\n",
      " 8.72727273 8.81818182 8.90909091 9.        ]\n"
     ]
    }
   ],
   "source": [
    "# COMPLETAR\r\n",
    "equi_arreglo= np.linspace(0,9,num=100)\r\n",
    "print(equi_arreglo)"
   ]
  },
  {
   "cell_type": "markdown",
   "metadata": {
    "id": "1qRG5b3m6xEv"
   },
   "source": [
    "**Ejercicio 2:** crear un arreglo 1D de 20 ceros. Reemplazar los primeros 15 elementos por unos."
   ]
  },
  {
   "cell_type": "code",
   "execution_count": 96,
   "metadata": {
    "colab": {
     "base_uri": "https://localhost:8080/"
    },
    "id": "6xPwCrg26xEx",
    "outputId": "d3de8eb7-7da3-4971-af57-244d50b06ff4"
   },
   "outputs": [
    {
     "data": {
      "text/plain": [
       "array([1, 1, 1, 1, 1, 1, 1, 1, 1, 1, 1, 1, 1, 1, 1, 0, 0, 0, 0, 0])"
      ]
     },
     "execution_count": 96,
     "metadata": {
      "tags": []
     },
     "output_type": "execute_result"
    }
   ],
   "source": [
    "# COMPLETAR\r\n",
    "D= np.zeros(20, dtype=int)\r\n",
    "D[0:15]=1\r\n",
    "D"
   ]
  },
  {
   "cell_type": "markdown",
   "metadata": {
    "id": "IwdggYiK6xE1"
   },
   "source": [
    "**Ejercicio 3:** crear un arreglo 1D de 50 ceros. Reemplazar los primeros 25 elementos por los números naturales del 0 al 24."
   ]
  },
  {
   "cell_type": "code",
   "execution_count": 98,
   "metadata": {
    "colab": {
     "base_uri": "https://localhost:8080/"
    },
    "id": "Sp5joIbM6xE3",
    "outputId": "3cec5e52-35fc-4840-d23c-e966c4159d91"
   },
   "outputs": [
    {
     "data": {
      "text/plain": [
       "array([ 0,  1,  2,  3,  4,  5,  6,  7,  8,  9, 10, 11, 12, 13, 14, 15, 16,\n",
       "       17, 18, 19, 20, 21, 22, 23, 24,  0,  0,  0,  0,  0,  0,  0,  0,  0,\n",
       "        0,  0,  0,  0,  0,  0,  0,  0,  0,  0,  0,  0,  0,  0,  0,  0])"
      ]
     },
     "execution_count": 98,
     "metadata": {
      "tags": []
     },
     "output_type": "execute_result"
    }
   ],
   "source": [
    "# COMPLETAR\r\n",
    "D2= np.zeros(50, dtype=int)\r\n",
    "D2[0:25]= np.arange(0,25,dtype=int)\r\n",
    "D2"
   ]
  },
  {
   "cell_type": "markdown",
   "metadata": {
    "id": "Vx74LT026xE-"
   },
   "source": [
    "**Ejercicio 4:** crear un arreglo 2D de 3 filas y 3 columnas, lleno de ceros. Reemplazar los elemento de la segunda columna por los números 1, 2 y 3 respectivamente. Es decir, crear la siguiente matriz:\n",
    "\n",
    "```\n",
    "0 1 0 \n",
    "0 2 0\n",
    "0 3 0\n",
    "```"
   ]
  },
  {
   "cell_type": "code",
   "execution_count": 100,
   "metadata": {
    "colab": {
     "base_uri": "https://localhost:8080/"
    },
    "id": "ckTUAo6D6xE_",
    "outputId": "0c0c2621-6828-4ae0-bcb1-0fd172acf2be"
   },
   "outputs": [
    {
     "data": {
      "text/plain": [
       "array([[0., 1., 0.],\n",
       "       [0., 2., 0.],\n",
       "       [0., 3., 0.]])"
      ]
     },
     "execution_count": 100,
     "metadata": {
      "tags": []
     },
     "output_type": "execute_result"
    }
   ],
   "source": [
    "# COMPLETAR\r\n",
    "D3= np.zeros((3,3))\r\n",
    "D3[:,1]= np.arange(1,4)\r\n",
    "D3"
   ]
  },
  {
   "cell_type": "markdown",
   "metadata": {
    "id": "5K-FKtOA6xFE"
   },
   "source": [
    "**Ejercicio 5:** crear un arreglo 2D de 3 filas y 3 columnas, lleno de ceros. Reemplazar los elemento de la diagonal por unos. Es decir, crear la siguiente matriz:\n",
    "\n",
    "```\n",
    "1 0 0 \n",
    "0 1 0\n",
    "0 0 1\n",
    "```"
   ]
  },
  {
   "cell_type": "code",
   "execution_count": 103,
   "metadata": {
    "colab": {
     "base_uri": "https://localhost:8080/"
    },
    "id": "VrkZuD4S6xFH",
    "outputId": "05a82487-3bfb-4177-c75c-fbd864d3508f"
   },
   "outputs": [
    {
     "data": {
      "text/plain": [
       "array([[1., 0., 0.],\n",
       "       [0., 1., 0.],\n",
       "       [0., 0., 1.]])"
      ]
     },
     "execution_count": 103,
     "metadata": {
      "tags": []
     },
     "output_type": "execute_result"
    }
   ],
   "source": [
    "# COMPLETAR\r\n",
    "D4= np.zeros((3,3))\r\n",
    "i=0\r\n",
    "while i<3:\r\n",
    "  D4[i,i]=1\r\n",
    "  i=i+1\r\n",
    "\r\n",
    "D4"
   ]
  },
  {
   "cell_type": "markdown",
   "metadata": {
    "id": "Ap348o4h6xFN"
   },
   "source": [
    "**Ejercicio 6:** crear un arreglo 2D de 100 filas y 100 columnas, lleno de ceros. Reemplazar los elemento de la diagonal por unos. Es decir, crear la siguiente matriz:\n",
    "\n",
    "```\n",
    "1 0 0 ... 0 0 0 \n",
    "0 1 0 ... 0 0 0\n",
    "0 0 1 ... 0 0 0\n",
    "...  \n",
    "0 0 0 ... 1 0 0\n",
    "0 0 0 ... 0 1 0\n",
    "0 0 0 ... 0 0 1\n",
    "```"
   ]
  },
  {
   "cell_type": "code",
   "execution_count": 104,
   "metadata": {
    "colab": {
     "base_uri": "https://localhost:8080/"
    },
    "id": "UHkEt17i6xFP",
    "outputId": "85da4f93-1532-47d2-f3a1-9789adfad18f"
   },
   "outputs": [
    {
     "data": {
      "text/plain": [
       "array([[1., 0., 0., ..., 0., 0., 0.],\n",
       "       [0., 1., 0., ..., 0., 0., 0.],\n",
       "       [0., 0., 1., ..., 0., 0., 0.],\n",
       "       ...,\n",
       "       [0., 0., 0., ..., 1., 0., 0.],\n",
       "       [0., 0., 0., ..., 0., 1., 0.],\n",
       "       [0., 0., 0., ..., 0., 0., 1.]])"
      ]
     },
     "execution_count": 104,
     "metadata": {
      "tags": []
     },
     "output_type": "execute_result"
    }
   ],
   "source": [
    "# COMPLETAR\r\n",
    "D5= np.zeros((100,100))\r\n",
    "i=0\r\n",
    "while i<100:\r\n",
    "  D5[i,i]=1\r\n",
    "  i=i+1\r\n",
    "\r\n",
    "D5"
   ]
  },
  {
   "cell_type": "markdown",
   "metadata": {
    "id": "T78FHjuU6xFV"
   },
   "source": [
    "**Extra:** ¿Qué tipo de dato está usando NumPy cuando crea los arreglos?¿Y si queremos cambiarle el tipo de dato, por ejemplo a `int`? Googlear \"numpy astype\". ¿Qué pasa si usamos `astype(bool)`?"
   ]
  },
  {
   "cell_type": "code",
   "execution_count": 107,
   "metadata": {
    "colab": {
     "base_uri": "https://localhost:8080/"
    },
    "id": "OtKi7jF31rXU",
    "outputId": "40ba82eb-8e33-4044-c6d4-58dd395f4752"
   },
   "outputs": [
    {
     "data": {
      "text/plain": [
       "numpy.ndarray"
      ]
     },
     "execution_count": 107,
     "metadata": {
      "tags": []
     },
     "output_type": "execute_result"
    }
   ],
   "source": [
    "D5.astype(bool)\r\n",
    "type(D5)"
   ]
  },
  {
   "cell_type": "code",
   "execution_count": 4,
   "metadata": {},
   "outputs": [
    {
     "data": {
      "text/plain": [
       "3.0"
      ]
     },
     "execution_count": 4,
     "metadata": {},
     "output_type": "execute_result"
    }
   ],
   "source": [
    "10.0//3"
   ]
  }
 ],
 "metadata": {
  "colab": {
   "collapsed_sections": [
    "1AJNWoqhPBQJ",
    "qecxWClXPBQM",
    "IeZnpQLV6xAv",
    "3t8rRW2j6xBU",
    "8OLptg2q6xDP",
    "GrbJZzEA6xDZ",
    "AHudbTb_6xD7",
    "WtKLIys36xEY",
    "vL5QD71a6xEo"
   ],
   "name": "DS_Bitácora_03_NumPy.ipynb",
   "provenance": []
  },
  "kernelspec": {
   "display_name": "Python 3",
   "language": "python",
   "name": "python3"
  },
  "language_info": {
   "codemirror_mode": {
    "name": "ipython",
    "version": 3
   },
   "file_extension": ".py",
   "mimetype": "text/x-python",
   "name": "python",
   "nbconvert_exporter": "python",
   "pygments_lexer": "ipython3",
   "version": "3.8.5"
  }
 },
 "nbformat": 4,
 "nbformat_minor": 4
}
