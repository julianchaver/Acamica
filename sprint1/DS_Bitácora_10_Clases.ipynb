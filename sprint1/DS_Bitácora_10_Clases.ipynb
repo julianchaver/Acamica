{
  "nbformat": 4,
  "nbformat_minor": 0,
  "metadata": {
    "colab": {
      "name": "Copia de DS_Bitácora_10_Clases.ipynb",
      "provenance": [],
      "collapsed_sections": []
    },
    "kernelspec": {
      "display_name": "Python 3",
      "language": "python",
      "name": "python3"
    },
    "language_info": {
      "codemirror_mode": {
        "name": "ipython",
        "version": 3
      },
      "file_extension": ".py",
      "mimetype": "text/x-python",
      "name": "python",
      "nbconvert_exporter": "python",
      "pygments_lexer": "ipython3",
      "version": "3.7.3"
    }
  },
  "cells": [
    {
      "cell_type": "markdown",
      "metadata": {
        "id": "GPycKx1jICLG"
      },
      "source": [
        "# Clases en Python\n",
        "\n",
        "## 1 Clases y Objetos\n",
        "\n",
        "### 1.1 ¿Qué son los objetos?\n",
        "Python es un lenguaje de programacion orientado a objetos. Esto quiere decir que posee un tipo de variable particular llamada objeto. Un objeto es un paquete de variables y funciones que conviene tener agrupados por consistencia y comodidad.\n",
        "\n",
        "### 1.2 ¿Qué son las clases?\n",
        "Los objetos tienen una estructura, están compuestos por un conjunto determinado de variables y funciones, a los que llamamos **atributos**. \n",
        "\n",
        "Esta estructura de los objetos no se explicita en el código cada vez que definimos un objeto. En cambio, los objetos suelen crearse a partir de unas *plantillas* a las que llamamos **clases**.\n",
        "\n",
        "Las **clases** le dan la forma a los objetos, definen las variable y funciones que componen a estos objetos.\n",
        "\n",
        "\n",
        "\n",
        "**Definimos una clase**\n",
        "\n",
        "Comenzaremos por definir una clase muy simple, a la que llamaremos `Persona`. Esta clase será la plantilla a través de la cual generaremos objetos, a los que llamaremos **instancias** de esta clase. \n",
        "\n",
        "Para empezar este ejemplo, le daremos los atributos que pensamos indispensables para definir una persona: nombre y edad."
      ]
    },
    {
      "cell_type": "code",
      "metadata": {
        "id": "3f8zS8UVDf7h"
      },
      "source": [
        "class Persona:\n",
        "    \"\"\"\n",
        "    Esta es una clase donde se agregan todos los datos\n",
        "    respecto a una persona\n",
        "    \"\"\"\n",
        "    def __init__(self, nombre, edad):\n",
        "        # Todo lo que definamos en __init__ se corre\n",
        "        # al crear una instancia de la clase\n",
        "        self.nombre = nombre\n",
        "        self.edad = edad"
      ],
      "execution_count": 100,
      "outputs": []
    },
    {
      "cell_type": "markdown",
      "metadata": {
        "id": "6BvaWE4ODf7m"
      },
      "source": [
        "Hasta ahora no creamos un objeto, sólo definimos la forma que tendrán los objetos de la clase `Persona`. \n",
        "\n",
        "Ahora, usando esta plantilla, sí crearemos una **instancia** de la clase `Persona`, a la que llamaremos p1."
      ]
    },
    {
      "cell_type": "code",
      "metadata": {
        "colab": {
          "base_uri": "https://localhost:8080/"
        },
        "id": "61NtOauTDf7n",
        "outputId": "daa01d8d-7a7e-4fb2-9589-70dbb34bf2fc"
      },
      "source": [
        "p1 = Persona(\"Juan\", 26)\n",
        "\n",
        "print(p1.nombre)\n",
        "print(p1.edad)"
      ],
      "execution_count": 101,
      "outputs": [
        {
          "output_type": "stream",
          "text": [
            "Juan\n",
            "26\n"
          ],
          "name": "stdout"
        }
      ]
    },
    {
      "cell_type": "markdown",
      "metadata": {
        "id": "iiuysS0ODf7s"
      },
      "source": [
        "Al inspeccionar el tipo de variable, python nos avisa que p1 es un objeto perteneciente a la clase Persona:"
      ]
    },
    {
      "cell_type": "code",
      "metadata": {
        "colab": {
          "base_uri": "https://localhost:8080/"
        },
        "id": "emWuClVPDf7s",
        "outputId": "306daf51-5a5c-4f73-dfb7-d990cd72b355"
      },
      "source": [
        "type(p1)"
      ],
      "execution_count": 102,
      "outputs": [
        {
          "output_type": "execute_result",
          "data": {
            "text/plain": [
              "__main__.Persona"
            ]
          },
          "metadata": {
            "tags": []
          },
          "execution_count": 102
        }
      ]
    },
    {
      "cell_type": "markdown",
      "metadata": {
        "id": "yXokYBVsDf73"
      },
      "source": [
        "Los atributos de una instancia de la clase pueden modificarse como cualquier variable:"
      ]
    },
    {
      "cell_type": "code",
      "metadata": {
        "colab": {
          "base_uri": "https://localhost:8080/"
        },
        "id": "wYTbNFDhDf75",
        "outputId": "5495aa04-bd10-4015-ace6-8c517195f4b2"
      },
      "source": [
        "p1.edad = 30\n",
        "p1.edad"
      ],
      "execution_count": 103,
      "outputs": [
        {
          "output_type": "execute_result",
          "data": {
            "text/plain": [
              "30"
            ]
          },
          "metadata": {
            "tags": []
          },
          "execution_count": 103
        }
      ]
    },
    {
      "cell_type": "markdown",
      "metadata": {
        "id": "UXpEJ5wFDf7-"
      },
      "source": [
        "**Ejercicio:** crea una clase llamada `Rectangulo`, cuyos atributos sean las variables `largo_lado_1` y `largo_lado_2`. Luego, crea una instancia de esta clase llamada `c1`, con lados de largo 10 y 20."
      ]
    },
    {
      "cell_type": "code",
      "metadata": {
        "id": "gZZE0PnSDf7-"
      },
      "source": [
        "# COMPLETAR\r\n",
        "class Rectangulo:\r\n",
        "  'Clase que permite agregar el largo y alto de un rectángulo'\r\n",
        "\r\n",
        "  def __init__(self, largo_lado_1, largo_lado_2):\r\n",
        "    self.lado_1= largo_lado_1\r\n",
        "    self.lado_2= largo_lado_2"
      ],
      "execution_count": 104,
      "outputs": []
    },
    {
      "cell_type": "code",
      "metadata": {
        "colab": {
          "base_uri": "https://localhost:8080/"
        },
        "id": "o-6TXaJnDf8C",
        "outputId": "0cd5a24e-a5f7-4d47-8a2b-67409a161536"
      },
      "source": [
        "# COMPLETAR\r\n",
        "c1= Rectangulo(10,20)\r\n",
        "print(c1.lado_1)\r\n",
        "print(c1.lado_2)"
      ],
      "execution_count": 105,
      "outputs": [
        {
          "output_type": "stream",
          "text": [
            "10\n",
            "20\n"
          ],
          "name": "stdout"
        }
      ]
    },
    {
      "cell_type": "markdown",
      "metadata": {
        "id": "N1iZP4U2Df8K"
      },
      "source": [
        "### 1.3 Métodos\n",
        "A las funciones que componen una clase las llamamos **métodos**. Estas funciones pueden llamarse poniendo el nombre de una instancia de la clase seguido de un punto y el nombre del método. Los métodos pueden actuar sobre los valores de otros atributos de esa instancia, pueden devolver algun output a traves de `return` o pueden hacer ambas cosas.\n",
        "\n",
        "Vamos a darle un método a la clase persona, para esto vamos a redefinir la clase como:"
      ]
    },
    {
      "cell_type": "code",
      "metadata": {
        "id": "x7rOAm57Df8M"
      },
      "source": [
        "class Persona:\n",
        "    \"\"\"\n",
        "    Esta es una clase donde se agregan todos los datos\n",
        "    respecto a una persona\n",
        "    \"\"\"\n",
        "    def __init__(self, nombre, edad):\n",
        "        # Todo lo que definamos en __init__ se corre\n",
        "        # al crear una instancia de la clase\n",
        "        self.nombre = nombre\n",
        "        self.edad = edad\n",
        "        \n",
        "    def mePresento(self):\n",
        "        print(\"Hola, me llamo \" + self.nombre)"
      ],
      "execution_count": 106,
      "outputs": []
    },
    {
      "cell_type": "code",
      "metadata": {
        "colab": {
          "base_uri": "https://localhost:8080/"
        },
        "id": "o1GumL14Df8Q",
        "outputId": "0ec52403-0e44-4806-b142-49877c928982"
      },
      "source": [
        "p1 = Persona(\"Juan\", 26)\n",
        "p1.mePresento()"
      ],
      "execution_count": 107,
      "outputs": [
        {
          "output_type": "stream",
          "text": [
            "Hola, me llamo Juan\n"
          ],
          "name": "stdout"
        }
      ]
    },
    {
      "cell_type": "markdown",
      "metadata": {
        "id": "6z3FMfFpDf8T"
      },
      "source": [
        "Como ya dijimos, los métodos tambien pueden modificar el valor de ciertos atributos de una instancia. Vamos a crear un método para la clase persona, que haga cumplir un año a la persona y al mismo tiempo nos devuelva el valor de su edad:"
      ]
    },
    {
      "cell_type": "code",
      "metadata": {
        "id": "RWyQjCiBDf8V"
      },
      "source": [
        "class Persona:\n",
        "    \"\"\"\n",
        "    Esta es una clase donde se agregan todos los datos\n",
        "    respecto a una persona\n",
        "    \"\"\"\n",
        "    def __init__(self, nombre, edad):\n",
        "        # Todo lo que definamos en __init__ se corre\n",
        "        # al crear una instancia de la clase\n",
        "        self.nombre = nombre\n",
        "        self.edad = edad\n",
        "        \n",
        "    def mePresento(self):\n",
        "        print(\"Hola, me llamo \" + self.nombre)\n",
        "    \n",
        "    def cumplirAnios(self):\n",
        "        self.edad = self.edad + 1\n",
        "        # El return hace que, al ejecutar el método,\n",
        "        # el mismo devuelva el valor de la edad \n",
        "        return self.edad"
      ],
      "execution_count": 108,
      "outputs": []
    },
    {
      "cell_type": "code",
      "metadata": {
        "colab": {
          "base_uri": "https://localhost:8080/"
        },
        "id": "8KMgHX1sDf8c",
        "outputId": "dd5051c6-5fb9-4fdb-a066-74a86588d8de"
      },
      "source": [
        "p1 = Persona(\"Juan\", 26)\n",
        "p1.cumplirAnios()"
      ],
      "execution_count": 109,
      "outputs": [
        {
          "output_type": "execute_result",
          "data": {
            "text/plain": [
              "27"
            ]
          },
          "metadata": {
            "tags": []
          },
          "execution_count": 109
        }
      ]
    },
    {
      "cell_type": "code",
      "metadata": {
        "colab": {
          "base_uri": "https://localhost:8080/"
        },
        "id": "z4eEqCTlDf8f",
        "outputId": "a9b4d1da-564f-4b79-d9f0-9c089e4c52d3"
      },
      "source": [
        "p1.edad"
      ],
      "execution_count": 110,
      "outputs": [
        {
          "output_type": "execute_result",
          "data": {
            "text/plain": [
              "27"
            ]
          },
          "metadata": {
            "tags": []
          },
          "execution_count": 110
        }
      ]
    },
    {
      "cell_type": "markdown",
      "metadata": {
        "id": "enUnVhGUDf8i"
      },
      "source": [
        "¿Notaron que los atributos los definimos dentro de un método llamado `__init__ `?\n",
        "\n",
        "Estos nombres de métodos con doble guión-bajo a los costados indican que se trata de un **método mágico**. Son nombres especiales que Python se reserva para métodos que tienen una función específica. Por ejemplo, el método mágico `__init__` se correrá automáticamente cuando creemos una instancia de la clase.\n",
        "\n",
        "Veamos un ejemplo donde dentro del método `__init__` agregamos algún otro bloque de código:"
      ]
    },
    {
      "cell_type": "code",
      "metadata": {
        "id": "EoCfp55sDf8j"
      },
      "source": [
        "class Persona:\n",
        "    \"\"\"\n",
        "    Esta es una clase donde se agregan todos los datos\n",
        "    respecto a una persona\n",
        "    \"\"\"\n",
        "    def __init__(self, nombre, edad):\n",
        "        # Todo lo que definamos en __init__ se corre\n",
        "        # al crear una instancia de la clase\n",
        "        self.nombre = nombre\n",
        "        self.edad = edad\n",
        "        \n",
        "        print('Una persona nueva ha sido creada!')\n",
        "        \n",
        "    def mePresento(self):\n",
        "        print(\"Hola, me llamo \" + self.nombre)\n",
        "    \n",
        "    def cumplirAnios(self):\n",
        "        self.edad = self.edad + 1\n",
        "        # El return hace que, al ejecutar el método,\n",
        "        # el mismo devuelva el valor de la edad \n",
        "        return self.edad"
      ],
      "execution_count": 111,
      "outputs": []
    },
    {
      "cell_type": "code",
      "metadata": {
        "colab": {
          "base_uri": "https://localhost:8080/"
        },
        "id": "GtD0BRqhDf8l",
        "outputId": "42fb3d10-5b4a-4784-840e-2095047defe7"
      },
      "source": [
        "p1 = Persona(\"Ernesto\", 40)"
      ],
      "execution_count": 112,
      "outputs": [
        {
          "output_type": "stream",
          "text": [
            "Una persona nueva ha sido creada!\n"
          ],
          "name": "stdout"
        }
      ]
    },
    {
      "cell_type": "markdown",
      "metadata": {
        "id": "eOuuzeC3Df84"
      },
      "source": [
        "### 1.4 Consistencia\n",
        "\n",
        "Uno de los beneficios de trabajar con clases es el hecho de poder chequear la consistencia de los distintos atributos pertenecientes a una misma instancia de esa clase. Supongamos que tenemos una clase llamada `Departamento`. Esta clase agrupa todos las variables relacionadas a un mismo departamento. Esto nos permite chequear que todas estas variables guarden una relación adecuada. Por ejemplo, sabemos que la superficie cubierta no puede ser mayor a la superficie total. Entonces: "
      ]
    },
    {
      "cell_type": "code",
      "metadata": {
        "id": "-M1ohuf8Df87"
      },
      "source": [
        "class Departamento:\n",
        "    def __init__(self, calle, altura, piso, sup_total, sup_cubierta):\n",
        "        self.calle = calle\n",
        "        self.altura = altura\n",
        "        self.piso = piso\n",
        "        self.sup_total = sup_total\n",
        "        if sup_cubierta < sup_total:\n",
        "            self.sup_cubierta = sup_cubierta\n",
        "        else:\n",
        "            print(\"El valor de superficie cubierta ingresado es inconsistente\")\n",
        "            self.sup_cubierta = self.sup_total"
      ],
      "execution_count": 113,
      "outputs": []
    },
    {
      "cell_type": "code",
      "metadata": {
        "colab": {
          "base_uri": "https://localhost:8080/"
        },
        "id": "tu-SHHF8Df8_",
        "outputId": "c03d5a7d-0d78-41f8-9f98-19698ab9beff"
      },
      "source": [
        "depto_1 = Departamento('Humboldt',1122,4,50,455)"
      ],
      "execution_count": 114,
      "outputs": [
        {
          "output_type": "stream",
          "text": [
            "El valor de superficie cubierta ingresado es inconsistente\n"
          ],
          "name": "stdout"
        }
      ]
    },
    {
      "cell_type": "code",
      "metadata": {
        "colab": {
          "base_uri": "https://localhost:8080/"
        },
        "id": "pNXFWfAxDf9P",
        "outputId": "365fdb7f-053a-4274-ef8f-313d7b5d92dd"
      },
      "source": [
        "depto_1.sup_cubierta"
      ],
      "execution_count": 115,
      "outputs": [
        {
          "output_type": "execute_result",
          "data": {
            "text/plain": [
              "50"
            ]
          },
          "metadata": {
            "tags": []
          },
          "execution_count": 115
        }
      ]
    },
    {
      "cell_type": "markdown",
      "metadata": {
        "id": "CVximuuoDf9U"
      },
      "source": [
        "Otro de los beneficios de trabajar con objetos consiste en tener todas las variables relevantes agrupadas en un mismo objeto. De esta forma se nos facilita la tarea a la hora de mover esta información. Por ejemplo, si tenemos una función que calcula el precio de un departamento en base a distintas propiedades del mismo, sería mucho más fácil para nosotros pasarle a esa función un único argumento (el objeto departameto), y no cada uno de sus atributos:"
      ]
    },
    {
      "cell_type": "code",
      "metadata": {
        "id": "vVy-ehCfDf9V"
      },
      "source": [
        "def CalculaPrecios(depto):\n",
        "    precio = 2000 * depto.sup_total + 500 * depto.piso\n",
        "    return precio"
      ],
      "execution_count": 116,
      "outputs": []
    },
    {
      "cell_type": "code",
      "metadata": {
        "colab": {
          "base_uri": "https://localhost:8080/"
        },
        "id": "9kfl93zWDf9X",
        "outputId": "5364458e-4e48-4b6b-ea12-2adc75ae40e1"
      },
      "source": [
        "CalculaPrecios(depto_1)"
      ],
      "execution_count": 117,
      "outputs": [
        {
          "output_type": "execute_result",
          "data": {
            "text/plain": [
              "102000"
            ]
          },
          "metadata": {
            "tags": []
          },
          "execution_count": 117
        }
      ]
    },
    {
      "cell_type": "markdown",
      "metadata": {
        "id": "M5SKq03MwrbB"
      },
      "source": [
        "En algunas circunstancias, esa función podría ser parte de la clase, siendo en ese caso un método."
      ]
    },
    {
      "cell_type": "markdown",
      "metadata": {
        "id": "NKUefce7Df8q"
      },
      "source": [
        "### Ejercicio - Challenge\n",
        "* Agregar a la clase llamada `Rectangulo` un método llamado `ladoMasLargo` que devuelva el valor del lado mas largo.\n",
        "* Agregue en el `__init__` de `Rectangulo` un nuevo atributo de la clase llamado `area`. El valor de este atributo debe generarse automáticamente a partir de los valores de los lados (recuerde que el área de un rectangulo se calcula multiplicando el largo de sus lados).\n",
        "* Cree una instancia de la clase y verifique que su código funcione adecuadamente"
      ]
    },
    {
      "cell_type": "code",
      "metadata": {
        "id": "VE9IiONUDf8r"
      },
      "source": [
        "# COMPLETAR\r\n",
        "class Rectangulo:\r\n",
        "  'Clase que permite agregar el largo y alto de un rectángulo'\r\n",
        "\r\n",
        "  def __init__(self, largo_lado_1, largo_lado_2):\r\n",
        "    self.lado_1= largo_lado_1\r\n",
        "    self.lado_2= largo_lado_2\r\n",
        "\r\n",
        "  def ladoMasLargo(self,largo_lado_1, largo_lado_2):\r\n",
        "      if self.lado_1 < self.lado_2:\r\n",
        "        print('el lado más largo mide', largo_lado_2)\r\n",
        "      elif self.lado_1 > self.lado_2:\r\n",
        "        print('el lado más largo mide', largo_lado_1)\r\n",
        "      else:\r\n",
        "        print('el rectangulo es un cuadrado')"
      ],
      "execution_count": 118,
      "outputs": []
    },
    {
      "cell_type": "code",
      "metadata": {
        "colab": {
          "base_uri": "https://localhost:8080/"
        },
        "id": "PINw95UEDf8u",
        "outputId": "93a7e59b-6792-4be6-f43d-2512d4dc8962"
      },
      "source": [
        "l1= Rectangulo(45,10)\r\n",
        "l1.ladoMasLargo(45,10)"
      ],
      "execution_count": 119,
      "outputs": [
        {
          "output_type": "stream",
          "text": [
            "el lado más largo mide 45\n"
          ],
          "name": "stdout"
        }
      ]
    },
    {
      "cell_type": "code",
      "metadata": {
        "id": "wIMpsR3G_G_u"
      },
      "source": [
        "# COMPLETAR\r\n",
        "class Rectangulo:\r\n",
        "  'Clase que permite agregar el largo y alto de un rectángulo'\r\n",
        "\r\n",
        "  def __init__(self, largo_lado_1, largo_lado_2):\r\n",
        "    self.lado_1= largo_lado_1\r\n",
        "    self.lado_2= largo_lado_2\r\n",
        "    self.area = largo_lado_1*largo_lado_2\r\n",
        "\r\n",
        "  def ladoMasLargo(self):\r\n",
        "      if self.lado_1 < self.lado_2:\r\n",
        "        print('el lado más largo mide', self.lado_2)\r\n",
        "      elif self.lado_1 > self.lado_2:\r\n",
        "        print('el lado más largo mide', self.lado_1)\r\n",
        "      else:\r\n",
        "        print('el rectangulo es un cuadrado')\r\n"
      ],
      "execution_count": 120,
      "outputs": []
    },
    {
      "cell_type": "code",
      "metadata": {
        "colab": {
          "base_uri": "https://localhost:8080/"
        },
        "id": "gUmxxCi_Df8x",
        "outputId": "ecbc4d71-6a5e-42f8-abb4-e5dc06f1f6a0"
      },
      "source": [
        "# COMPLETAR\r\n",
        "a1=Rectangulo(100,30)\r\n",
        "a1.area\r\n"
      ],
      "execution_count": 121,
      "outputs": [
        {
          "output_type": "execute_result",
          "data": {
            "text/plain": [
              "3000"
            ]
          },
          "metadata": {
            "tags": []
          },
          "execution_count": 121
        }
      ]
    },
    {
      "cell_type": "markdown",
      "metadata": {
        "id": "XSwvtsACwrbO"
      },
      "source": [
        "## 2. Ejercitación\n",
        "\n",
        "¡Sí, seguimos trabajando con dados! Vamos a programar una serie de clases que nos servirán para modelar - muy simplificadamente - algunos fenómenos.\n",
        "\n",
        "**Ejercicio 1:** crea una clase `Dado` cuyos atributos sean la cantidad de lados y la probabilidad asignada a cada lado. Algunas características que debe tener la clase:\n",
        "* Debemos pasar la cantidad de lados cuando creamos una instancia. Por defecto deben ser seis.\n",
        "* Cuando creamos una instancia, se debe asignar la misma probabilidad a cada lado (probabilidad uniforme).\n",
        "* La clase debe contar con el método `tirar_dado`, que debe tomar como argumento la cantidad de veces que queremos tirar el dado.\n",
        "\n",
        "Comprueba que la clase está correctamente programada crean un dados de distinto número de caras, tirando 100000 veces ese dado y haciendo un histograma de sus resultados. ¿Qué deberías obtener?"
      ]
    },
    {
      "cell_type": "code",
      "metadata": {
        "id": "qw0t1bEbwrbP"
      },
      "source": [
        "import numpy as np\n",
        "import matplotlib.pyplot as plt"
      ],
      "execution_count": 122,
      "outputs": []
    },
    {
      "cell_type": "code",
      "metadata": {
        "id": "dleeP0v6wrbT"
      },
      "source": [
        "class Dado:\n",
        "    '''Esta clase devuelve la cantidad de lados y la probabilidad asignada a cada lado'''\n",
        "    def __init__(self, n_lados=6):\n",
        "        self.n_lados = n_lados\n",
        "        self.probabilidad = np.ones(n_lados)/ n_lados\n",
        "        \n",
        "    def tirar_dado(self,tiradas=1):\n",
        "        #pass\n",
        "        lados= np.arange(1,self.n_lados+1)\n",
        "        resultados= np.random.choice(lados, size= tiradas, p= self.probabilidad)\n",
        "        return resultados"
      ],
      "execution_count": 123,
      "outputs": []
    },
    {
      "cell_type": "code",
      "metadata": {
        "colab": {
          "base_uri": "https://localhost:8080/"
        },
        "id": "b4wx8nmHwrbW",
        "outputId": "ae9284c9-309f-439a-dd67-aa111a9c2ee1"
      },
      "source": [
        "# COMPLETAR\n",
        "prueba= Dado(10)\n",
        "print(prueba.tirar_dado(20))"
      ],
      "execution_count": 124,
      "outputs": [
        {
          "output_type": "stream",
          "text": [
            "[ 6  2  3  3  9  4 10  1  5  2  4  1  8  6  1  6  7  6  4 10]\n"
          ],
          "name": "stdout"
        }
      ]
    },
    {
      "cell_type": "code",
      "metadata": {
        "colab": {
          "base_uri": "https://localhost:8080/",
          "height": 265
        },
        "id": "H55cC36lwrba",
        "outputId": "94e695b6-f66b-4b10-95c8-ba7fd31e26e7"
      },
      "source": [
        "# COMPLETAR\r\n",
        "prueba= Dado(20)\r\n",
        "hist= plt.hist(prueba.tirar_dado(10000),np.arange(0.5,prueba.n_lados+1.5),rwidth=0.5, density=True)\r\n",
        "plt.show(hist)"
      ],
      "execution_count": 125,
      "outputs": [
        {
          "output_type": "display_data",
          "data": {
            "image/png": "[encoded data removed]",
            "text/plain": [
              "<Figure size 432x288 with 1 Axes>"
            ]
          },
          "metadata": {
            "tags": [],
            "needs_background": "light"
          }
        }
      ]
    },
    {
      "cell_type": "markdown",
      "metadata": {
        "id": "cc3m1gniwrbc"
      },
      "source": [
        "**Ejercicio 2**\n",
        "\n",
        "En el mundo de la publicidad, de las aplicaciones, las redes sociales, etc., suele ocurrir el siguiente fenómeno: a medida que más se hace conocido un producto, más probabilidad hay de que se siga comprando o consumiendo. A veces, esto se debe a recomendaciones de conocidos, mayor inversión en publicidad o simplemente el producto ya se convirtió en una marca establecida. Pero otras veces es el mismo producto el que requiere tener consumidores para aumentar su número de consumidores. Por ejemplo, pensemos en una red social. En general, nadie querrá pertenecer a una red social que no tiene usuarios. Y a medida que un mayor número de nuestros conocidos se suman a una red social, más probable es que nos sumemos nosotros. Esto también ocurre en otros ámbitos, ¿se te ocurre dónde?  \n",
        "\n",
        "Un modelo muy inocente de esta situación es pensar que se trata de un dado que se va cargando teniendo en cuenta el histórico de sus resultados. Por ejemplo, si el tres salió muchas veces, esto hace que aumente la probabilidad de que en la próxima tirada salga tres. Pensando en las redes sociales, esto es equivalente a pensar que es más probable que se sumen nuevos usuarios a una red que ya tiene muchos usuarios.\n",
        "\n",
        "Te dejamos programada una clase, `DadoCargado`, que intenta simular esta situación.\n",
        "1. Lee detenidamente el código y trata de entendelo.\n",
        "2. Crea una instancia de `DadoCargado`, tira el dado algunas veces e imprime en pantalla el resultado y las probabilidades. ¿Cómo se van modificando?\n",
        "3. Crea una nueva instancia de `DadoCargado` y haz un gráfico de la evolución de la probabilidad en función del número de tiradas.\n",
        "4. ¿Qué ocurre si modificas el valor de `premio`?¿Cambia el comportamiento?"
      ]
    },
    {
      "cell_type": "code",
      "metadata": {
        "id": "NPAtl4Uvwrbd"
      },
      "source": [
        "class DadoCargado:\n",
        "    def __init__(self, n_lados = 6, premio = 0.1):\n",
        "        self.n_lados = n_lados\n",
        "        self.probabilidades = np.ones(n_lados)/n_lados\n",
        "        self.premio = premio\n",
        "        self.resultados = []\n",
        "        self.counts = np.zeros(n_lados)\n",
        "        \n",
        "    def tirar_dado(self):\n",
        "        lados = np.arange(1,self.n_lados+1)\n",
        "        resultados = np.random.choice(lados, 1, p = self.probabilidades)\n",
        "        self.resultados +=list(resultados)\n",
        "        self.counts[resultados[0] - 1] +=1\n",
        "        self.cargar_dado()\n",
        "        return resultados\n",
        "    \n",
        "    def cargar_dado(self):\n",
        "        self.probabilidades = self.probabilidades + self.premio*self.counts/self.counts.sum()\n",
        "        self.probabilidades = self.probabilidades/self.probabilidades.sum()"
      ],
      "execution_count": 126,
      "outputs": []
    },
    {
      "cell_type": "code",
      "metadata": {
        "colab": {
          "base_uri": "https://localhost:8080/"
        },
        "id": "TyuQg-JRwrbg",
        "outputId": "a85057bc-4ac0-4d51-d600-58a5eaa0b61d"
      },
      "source": [
        "# COMPLETAR\n",
        "lanzar= DadoCargado()\n",
        "for i in range(10):\n",
        "    print(lanzar.tirar_dado())\n",
        "    print(lanzar.probabilidades)\n"
      ],
      "execution_count": 127,
      "outputs": [
        {
          "output_type": "stream",
          "text": [
            "[2]\n",
            "[0.15151515 0.24242424 0.15151515 0.15151515 0.15151515 0.15151515]\n",
            "[3]\n",
            "[0.13774105 0.26584022 0.18319559 0.13774105 0.13774105 0.13774105]\n",
            "[5]\n",
            "[0.12521913 0.27197596 0.19684448 0.12521913 0.15552216 0.12521913]\n",
            "[4]\n",
            "[0.11383558 0.26997814 0.2016768  0.13656285 0.16411106 0.11383558]\n",
            "[4]\n",
            "[0.10348689 0.26361649 0.20152436 0.16051168 0.16737369 0.10348689]\n",
            "[2]\n",
            "[0.09407899 0.26995439 0.19835548 0.17622274 0.16730941 0.09407899]\n",
            "[1]\n",
            "[0.09851337 0.27138711 0.19331018 0.18617652 0.16508648 0.08552635]\n",
            "[5]\n",
            "[0.10092124 0.26944282 0.18710016 0.19197865 0.17280589 0.07775123]\n",
            "[4]\n",
            "[0.10184759 0.26515004 0.18019207 0.20482908 0.17729829 0.07068294]\n",
            "[5]\n",
            "[0.10167963 0.25922731 0.17290188 0.21348098 0.18845299 0.06425721]\n"
          ],
          "name": "stdout"
        }
      ]
    },
    {
      "cell_type": "code",
      "metadata": {
        "colab": {
          "base_uri": "https://localhost:8080/",
          "height": 265
        },
        "id": "fbGnvI0Qwrbi",
        "outputId": "0b3b6d3d-5ac4-44e2-ff81-2213808262ec"
      },
      "source": [
        "# COMPLETAR\r\n",
        "tiradas= []\r\n",
        "for i in range(1000):\r\n",
        "    lanzar= DadoCargado()\r\n",
        "    lanzar.tirar_dado()\r\n",
        "    tiradas= np.append(tiradas, lanzar.resultados)\r\n",
        " \r\n",
        "hist2= plt.hist(tiradas, np.arange(0.5,lanzar.n_lados+1.5),density=True)\r\n",
        "plt.show(hist2)"
      ],
      "execution_count": 128,
      "outputs": [
        {
          "output_type": "display_data",
          "data": {
            "image/png": "[encoded data removed]",
            "text/plain": [
              "<Figure size 432x288 with 1 Axes>"
            ]
          },
          "metadata": {
            "tags": [],
            "needs_background": "light"
          }
        }
      ]
    },
    {
      "cell_type": "code",
      "metadata": {
        "colab": {
          "base_uri": "https://localhost:8080/",
          "height": 265
        },
        "id": "kjPAwZJUwrbm",
        "outputId": "d30c6751-78a6-444b-beee-2088e6003463"
      },
      "source": [
        "# COMPLETAR\r\n",
        "tiradas= []\r\n",
        "for i in range(1000):\r\n",
        "    lanzar= DadoCargado(6,0.6)\r\n",
        "    lanzar.tirar_dado()\r\n",
        "    tiradas= np.append(tiradas, lanzar.resultados)\r\n",
        " \r\n",
        "hist2= plt.hist(tiradas, np.arange(0.5,lanzar.n_lados+1.5),density=True)\r\n",
        "plt.show(hist2)"
      ],
      "execution_count": 129,
      "outputs": [
        {
          "output_type": "display_data",
          "data": {
            "image/png": "[encoded data removed]",
            "text/plain": [
              "<Figure size 432x288 with 1 Axes>"
            ]
          },
          "metadata": {
            "tags": [],
            "needs_background": "light"
          }
        }
      ]
    },
    {
      "cell_type": "code",
      "metadata": {
        "id": "7O42xlwbwrbp",
        "colab": {
          "base_uri": "https://localhost:8080/",
          "height": 282
        },
        "outputId": "22e3642d-a4d0-4614-aff4-48ad04c1322e"
      },
      "source": [
        "# respuesta del profesor\r\n",
        "n_tiradas = 5000\r\n",
        "prueba = DadoCargado(6, premio = 0.3)\r\n",
        "probabilidades = np.zeros((n_tiradas,prueba.n_lados))\r\n",
        "for i in range(n_tiradas):\r\n",
        "    prueba.tirar_dado()\r\n",
        "    probabilidades[i,:] = prueba.probabilidades\r\n",
        "\r\n",
        "for lado in range(prueba.n_lados):\r\n",
        "    plt.plot(np.arange(n_tiradas), probabilidades[:,lado], label = lado  + 1) \r\n",
        "plt.legend()"
      ],
      "execution_count": 130,
      "outputs": [
        {
          "output_type": "execute_result",
          "data": {
            "text/plain": [
              "<matplotlib.legend.Legend at 0x7efc00821790>"
            ]
          },
          "metadata": {
            "tags": []
          },
          "execution_count": 130
        },
        {
          "output_type": "display_data",
          "data": {
            "image/png": "[encoded data removed]",
            "text/plain": [
              "<Figure size 432x288 with 1 Axes>"
            ]
          },
          "metadata": {
            "tags": [],
            "needs_background": "light"
          }
        }
      ]
    },
    {
      "cell_type": "markdown",
      "metadata": {
        "id": "gEO3ko5kwrbr"
      },
      "source": [
        "**Ejercicio 3**\n",
        "\n",
        "Siguiendo con el ejemplo de las redes sociales, una vez que dejan de sumarse nuevos miembros a una red - la red pasa de moda - es probable que algunos miembros empiecen a darse de baja. Para incorporar esta situación al modelo, podemos incorporar dos nuevos atributos, `latencia` y `castigo`. Si un resultado no ocurre en un número determinado de tiradas (`latencia`) descontamos `castigo` de las cuentas correspondientes a ese resultado. De esta forma, a medida que pasa el tiempo sin nuevos miembros, disminuye la probabilidad que un miembro nuevo se sume.\n",
        "\n",
        "Nuevamente, te dejamos una clase programada que intenta simular esta situación.\n",
        "1. Lee detenidamente el código y trata de entendelo.\n",
        "2. Crea una instancia de `DadoCargado`, tira el dado algunas veces e imprime en pantalla el resultado y las probabilidades. ¿Cómo se van modificando?\n",
        "3. Crea una nueva instancia de `DadoCargado` y haz un gráfico de la evolución de la probabilidad en función del número de tiradas.\n",
        "4. ¿Qué ocurre si modificas el valor de `premio`, `castigo` y `latencia`?¿Cambia el comportamiento?¿Cómo estudiarias ese comportamiento?"
      ]
    },
    {
      "cell_type": "code",
      "metadata": {
        "id": "1dgjeQq9wrbs"
      },
      "source": [
        "class DadoCargado:\n",
        "    def __init__(self, n_lados = 6, premio = 0.2, castigo = 1, latencia = 10):\n",
        "        self.n_lados = n_lados\n",
        "        self.probabilidades = np.ones(n_lados)/n_lados\n",
        "        self.premio = premio\n",
        "        self.castigo = castigo\n",
        "        self.latencia = latencia\n",
        "        self.resultados = []\n",
        "        self.counts = np.zeros(n_lados)\n",
        "        \n",
        "    def tirar_dado(self):\n",
        "        lados = np.arange(1,self.n_lados+1)\n",
        "        resultados = np.random.choice(lados, 1, p = self.probabilidades)\n",
        "        self.resultados +=list(resultados)\n",
        "        self.counts[resultados[0] - 1] +=1\n",
        "        self.cargar_dado()\n",
        "        return resultados\n",
        "    \n",
        "    def cargar_dado(self):\n",
        "        if len(self.resultados) >= self.latencia:\n",
        "            lados = np.arange(1,self.n_lados+1)\n",
        "            for lado in lados:\n",
        "                if lado not in self.resultados[-self.latencia:]:\n",
        "                    self.counts[lado - 1] -= self.castigo\n",
        "                    if self.counts[lado - 1]<0:\n",
        "                        self.counts[lado - 1] = 0\n",
        "                        \n",
        "        self.probabilidades = self.probabilidades + self.premio*self.counts/self.counts.sum()\n",
        "        self.probabilidades = self.probabilidades/self.probabilidades.sum()\n",
        "        "
      ],
      "execution_count": 131,
      "outputs": []
    },
    {
      "cell_type": "code",
      "metadata": {
        "id": "P6DzLOVNwrbv"
      },
      "source": [
        "# COMPLETAR\r\n",
        "dado = DadoCargado(6)"
      ],
      "execution_count": 132,
      "outputs": []
    },
    {
      "cell_type": "code",
      "metadata": {
        "id": "x-HEik-Wwrbz",
        "colab": {
          "base_uri": "https://localhost:8080/"
        },
        "outputId": "2c2df775-bd9f-45a5-f7b7-fee39a1563d5"
      },
      "source": [
        "# COMPLETAR\r\n",
        "for i in range(10):\r\n",
        "    print(dado.tirar_dado())\r\n",
        "    print(dado.probabilidades)"
      ],
      "execution_count": 133,
      "outputs": [
        {
          "output_type": "stream",
          "text": [
            "[6]\n",
            "[0.13888889 0.13888889 0.13888889 0.13888889 0.13888889 0.30555556]\n",
            "[2]\n",
            "[0.11574074 0.19907407 0.11574074 0.11574074 0.11574074 0.33796296]\n",
            "[3]\n",
            "[0.09645062 0.22145062 0.15200617 0.09645062 0.09645062 0.33719136]\n",
            "[6]\n",
            "[0.08037551 0.22620885 0.16833848 0.08037551 0.08037551 0.36432613]\n",
            "[1]\n",
            "[0.10031293 0.22184071 0.1736154  0.0669796  0.0669796  0.37027178]\n",
            "[5]\n",
            "[0.11137189 0.21264503 0.17245728 0.05581633 0.08359411 0.36411537]\n",
            "[6]\n",
            "[0.11661943 0.20101372 0.16752392 0.04651361 0.09347128 0.37485805]\n",
            "[5]\n",
            "[0.11801619 0.18834477 0.1604366  0.03876134 0.1195594  0.3748817 ]\n",
            "[4]\n",
            "[0.11686534 0.17547249 0.15221569 0.05081964 0.13666987 0.36795698]\n",
            "[6]\n",
            "[0.11405445 0.16289374 0.14351307 0.05901636 0.14722489 0.37329748]\n"
          ],
          "name": "stdout"
        }
      ]
    },
    {
      "cell_type": "code",
      "metadata": {
        "id": "O01N7rljwrb3"
      },
      "source": [
        "# COMPLETAR\r\n",
        "n_tiradas = 500\r\n",
        "probabilidades = np.zeros((n_tiradas,dado.n_lados))\r\n",
        "dado = DadoCargado(6, premio = 0.1)\r\n",
        "for i in range(n_tiradas):\r\n",
        "    dado.tirar_dado()\r\n",
        "    probabilidades[i,:] = dado.probabilidades"
      ],
      "execution_count": 134,
      "outputs": []
    },
    {
      "cell_type": "code",
      "metadata": {
        "id": "zdLFc63Fwrb5",
        "colab": {
          "base_uri": "https://localhost:8080/",
          "height": 282
        },
        "outputId": "545001e6-a036-4926-aa2b-443bda2d8e59"
      },
      "source": [
        "# COMPLETAR\r\n",
        "for lado in range(dado.n_lados):\r\n",
        "    plt.plot(np.arange(n_tiradas), probabilidades[:,lado], label = lado  + 1) \r\n",
        "plt.legend()"
      ],
      "execution_count": 135,
      "outputs": [
        {
          "output_type": "execute_result",
          "data": {
            "text/plain": [
              "<matplotlib.legend.Legend at 0x7efbffd3e750>"
            ]
          },
          "metadata": {
            "tags": []
          },
          "execution_count": 135
        },
        {
          "output_type": "display_data",
          "data": {
            "image/png": "[encoded data removed]",
            "text/plain": [
              "<Figure size 432x288 with 1 Axes>"
            ]
          },
          "metadata": {
            "tags": [],
            "needs_background": "light"
          }
        }
      ]
    },
    {
      "cell_type": "markdown",
      "metadata": {
        "id": "vXmslNtewrb8"
      },
      "source": [
        "**Extra**\n",
        "\n",
        "Juega con estos modelos. Hazles preguntas e intenta responderlas. Por ejemplo, puedes ver que en todos los casos suele haber un lado exitoso que, luego de algunas tiradas, se establece como el lado más probable. Además, en el modelo del ejercicio 3, existen lados cuyas probabilidades caen a cero. ¿En qué momemento se decide cuál es el lado exitoso?¿El que sale primero?¿El que sale más veces en las primeras diez tiradas?¿Cuál será un buen predictor de esta situación?¿Y con los lados cuya probabilidad cae a cero?¿Cuándo se decide su destino?"
      ]
    },
    {
      "cell_type": "code",
      "metadata": {
        "id": "P_-t3VZjwrb9"
      },
      "source": [
        ""
      ],
      "execution_count": 135,
      "outputs": []
    }
  ]
}