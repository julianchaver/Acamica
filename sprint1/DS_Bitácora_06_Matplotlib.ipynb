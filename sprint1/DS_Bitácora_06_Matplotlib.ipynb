{
 "cells": [
  {
   "cell_type": "markdown",
   "metadata": {
    "id": "HVKK9hcPQaWL"
   },
   "source": [
    "# Visualización con Matplotlib\n",
    "\n",
    "Matplotlib es la librería fundamental de visualización en Python. Es una librería de bajo nivel, con muchísima flexibilidad, de sintaxis compleja pero muy bien [documentada](https://matplotlib.org/users/index.html).\n",
    "\n",
    "Pero antes, para no perder la costumbre de hacer un poco de programación, dejamos el siguiente ejercicio:\n",
    "\n",
    "**Ejercicio - Challenge**: dadas las listas\n",
    "```python\n",
    "a = [12,3,5,12,8,9,25,12,1,3,4,5,17,15]\n",
    "b = [3,5,7,8,45,8,9,16,1,11,30,41,2,3,15,1,29,22]\n",
    "```\n",
    "\n",
    "Armar una nueva lista `c` con:\n",
    "\n",
    "1. Con todos los elementos de *a* y *b*\n",
    "1. Con todos los elementos de *a* y *b*, ordenados de menor a mayor\n",
    "1. Con todos los elementos de *a* y *b*, ordenados de mayor a menor\n",
    "1. Con todos los elementos de *a* y *b*, ordenados de menor a mayor y sin elementos repetidos\n",
    "1. Con todos los elementos que están en ambas listas, sin elementos repetidos. Es decir, si un elemento está sólo en una lista, no debe aparecer en `c`.\n",
    "1. Con todos los elementos que NO están en ambas listas, sin elementos repetidos. Es decir, si un elemento está en `a` y en `b`, no debe aparecer en `c`.\n",
    "\n",
    "**Pistas:** puedes resolver este ejercicio trabajando con listas, arrays o sets (¡Googlear qué son!). ¡Según el ítem, una opción o la otra es conveniente! Insistimos: ¡¡¡googlear mucho!!!"
   ]
  },
  {
   "cell_type": "code",
   "execution_count": 1,
   "metadata": {
    "colab": {
     "base_uri": "https://localhost:8080/"
    },
    "id": "kZomYkqkQaWY",
    "outputId": "d6458501-4a32-48fc-a53f-a93683df529e"
   },
   "outputs": [
    {
     "name": "stdout",
     "output_type": "stream",
     "text": [
      "[2, 4, 7, 41, 11, 12, 45, 16, 17, 22, 25, 29, 30]\n"
     ]
    }
   ],
   "source": [
    "# COMPLETAR\r\n",
    "a = [12,3,5,12,8,9,25,12,1,3,4,5,17,15]\r\n",
    "b = [3,5,7,8,45,8,9,16,1,11,30,41,2,3,15,1,29,22]\r\n",
    "\r\n",
    "c1= a+b\r\n",
    "c2= sorted(c1)\r\n",
    "c3= sorted(c1, reverse=True)\r\n",
    "c4= sorted(set(c1))\r\n",
    "c5= list(set(a) & set(b))\r\n",
    "c6= list(set(c1)-set(c5))\r\n",
    "print(c6)"
   ]
  },
  {
   "cell_type": "markdown",
   "metadata": {
    "id": "LGEV7NvbQaW0"
   },
   "source": [
    "## Matplotlib\n",
    "\n",
    "Ahora sí, veamos de qué se trata Matplotlib. Pero antes, una **advertencia:** hay dos formas de utilizar Matplotlib, como se explica al comienzo de este [tutorial](https://matplotlib.org/3.1.3/tutorials/introductory/usage.html#sphx-glr-tutorials-introductory-usage-py). Una a través de los comandos `plt.`, que es la forma más rápida y sencilla, aunque un poco menos versátil. La otra consiste en crear dos objetos, llamados figuras y ejes. Si bien es un poco más difícil, es también más versátil. En general, vamos a usar la primera opción, pero es importante que conozcan ambas. Por eso, al final del notebook, dejamos algunos ejemplos de cómo hacer gráficos de la segunda manera.\n",
    "\n",
    "\n",
    "### 1. Gráficos de Líneas y Puntos\n",
    "Vamos a empezar con el gráfico más sencillo posible, una línea. Vamos a graficar una función sinusoidal de tipo: $y = sen(2 \\pi x) + 1$.\n",
    "\n",
    "La manera mas rápida de lograr un gráfico es la siguiente:"
   ]
  },
  {
   "cell_type": "code",
   "execution_count": 2,
   "metadata": {
    "id": "5OzD2CrzQaW6"
   },
   "outputs": [],
   "source": [
    "import matplotlib.pyplot as plt\n",
    "import numpy as np"
   ]
  },
  {
   "cell_type": "code",
   "execution_count": 3,
   "metadata": {
    "colab": {
     "base_uri": "https://localhost:8080/",
     "height": 282
    },
    "id": "6R2967clQaXM",
    "outputId": "638902d2-2478-4d15-e71f-004d4b59caf6"
   },
   "outputs": [
    {
     "data": {
      "text/plain": [
       "[<matplotlib.lines.Line2D at 0x21a438dda60>]"
      ]
     },
     "execution_count": 3,
     "metadata": {},
     "output_type": "execute_result"
    },
    {
     "data": {
      "image/png": "[encoded data removed]",
      "text/plain": [
       "<Figure size 432x288 with 1 Axes>"
      ]
     },
     "metadata": {
      "needs_background": "light"
     },
     "output_type": "display_data"
    }
   ],
   "source": [
    "# Generamos dos vectores x e y, que nos daran las cordenadas por donde pasará la linea.\n",
    "x = np.arange(0.0, 2.0, 0.05)\n",
    "y = 1 + np.sin(2 * np.pi * x)\n",
    "\n",
    "# Simplemente le pedimos a la librería que dibuje una variable en funcion de la otra\n",
    "# En el primer lugar va la variable horizontal y en el segundo la vertical\n",
    "plt.plot(x, y)"
   ]
  },
  {
   "cell_type": "markdown",
   "metadata": {
    "id": "YB8I6I2YQaXb"
   },
   "source": [
    "Si queremos pasar este gráfico a uno de puntos, es muy sencillo:"
   ]
  },
  {
   "cell_type": "code",
   "execution_count": 4,
   "metadata": {
    "colab": {
     "base_uri": "https://localhost:8080/",
     "height": 282
    },
    "id": "YPG38FJhQaXh",
    "outputId": "e8e4766b-10bd-40fa-f5f8-d1869e8436d2"
   },
   "outputs": [
    {
     "data": {
      "text/plain": [
       "[<matplotlib.lines.Line2D at 0x21a43c28460>]"
      ]
     },
     "execution_count": 4,
     "metadata": {},
     "output_type": "execute_result"
    },
    {
     "data": {
      "image/png": "[encoded data removed]",
      "text/plain": [
       "<Figure size 432x288 with 1 Axes>"
      ]
     },
     "metadata": {
      "needs_background": "light"
     },
     "output_type": "display_data"
    }
   ],
   "source": [
    "plt.plot(x, y, 'o')"
   ]
  },
  {
   "cell_type": "markdown",
   "metadata": {
    "id": "TTQkjFCVQaXu"
   },
   "source": [
    "O de puntos y líneas:"
   ]
  },
  {
   "cell_type": "code",
   "execution_count": 5,
   "metadata": {
    "colab": {
     "base_uri": "https://localhost:8080/",
     "height": 282
    },
    "id": "UjgPczH6QaX1",
    "outputId": "4e7ac49a-f700-442f-c5e5-89f3c748eca8"
   },
   "outputs": [
    {
     "data": {
      "text/plain": [
       "[<matplotlib.lines.Line2D at 0x21a43c98370>]"
      ]
     },
     "execution_count": 5,
     "metadata": {},
     "output_type": "execute_result"
    },
    {
     "data": {
      "image/png": "[encoded data removed]",
      "text/plain": [
       "<Figure size 432x288 with 1 Axes>"
      ]
     },
     "metadata": {
      "needs_background": "light"
     },
     "output_type": "display_data"
    }
   ],
   "source": [
    "plt.plot(x, y, 'o-')"
   ]
  },
  {
   "cell_type": "markdown",
   "metadata": {
    "id": "Ut6BImmXQaYE"
   },
   "source": [
    "Muy parecida es la función `plt.scatter()`, que sirve para hacer gráficos de dispersión. A diferencia de `plt.plot()`, esta función no permite gráficos de líneas."
   ]
  },
  {
   "cell_type": "code",
   "execution_count": 6,
   "metadata": {
    "colab": {
     "base_uri": "https://localhost:8080/",
     "height": 282
    },
    "id": "8jUenidfQaYI",
    "outputId": "d4d051c7-5f6b-4f31-b684-724446e3c982"
   },
   "outputs": [
    {
     "data": {
      "text/plain": [
       "<matplotlib.collections.PathCollection at 0x21a43cf1af0>"
      ]
     },
     "execution_count": 6,
     "metadata": {},
     "output_type": "execute_result"
    },
    {
     "data": {
      "image/png": "[encoded data removed]",
      "text/plain": [
       "<Figure size 432x288 with 1 Axes>"
      ]
     },
     "metadata": {
      "needs_background": "light"
     },
     "output_type": "display_data"
    }
   ],
   "source": [
    "plt.scatter(x, y)"
   ]
  },
  {
   "cell_type": "markdown",
   "metadata": {
    "id": "6wOTqaDkQaYZ"
   },
   "source": [
    "### 2. Agregando información al gráfico.\n",
    "\n",
    "Es muy importante que los gráficos sean entendibles. Esto puede parecer una obviedad, pero muchas veces nos lo olvidamos. Agregar información a los gráficos - cuidándonos de no saturarlos - favorece su comprensión. Algunas cosas que podemos hacer son:\n",
    "\n",
    "* Etiquetar correctamente los ejes. ¡No olvidar sus unidades!\n",
    "* Agregar un título.\n"
   ]
  },
  {
   "cell_type": "code",
   "execution_count": 7,
   "metadata": {
    "colab": {
     "base_uri": "https://localhost:8080/",
     "height": 295
    },
    "id": "wA2WxNntQaYg",
    "outputId": "1e002903-a5a6-4d83-81c7-b312b02b369f"
   },
   "outputs": [
    {
     "data": {
      "image/png": "[encoded data removed]",
      "text/plain": [
       "<Figure size 432x288 with 1 Axes>"
      ]
     },
     "metadata": {
      "needs_background": "light"
     },
     "output_type": "display_data"
    }
   ],
   "source": [
    "x = np.arange(0.0, 24, 0.5)\n",
    "y = 20 + 5*np.sin(2*np.pi*(x - 8)/24)\n",
    "\n",
    "plt.plot(x, y, color = 'g', linewidth = 2)\n",
    "\n",
    "# Podemos agregarle etiquetas a los ejes y un titulo al gráfico\n",
    "plt.xlabel('Tiempo (horas)')\n",
    "plt.ylabel('Temperatura (°C)')\n",
    "plt.title('Temperatura de un día primaveral')\n",
    "\n",
    "#plt.grid() # Este comando enciende la grilla de referencia \n",
    "plt.show() #Show muestra el gráfico. Si no lo ponemos, en general no pasa nada.¡Pero no siempre es así!"
   ]
  },
  {
   "cell_type": "markdown",
   "metadata": {
    "id": "jbo7-8XhQaYw"
   },
   "source": [
    "**Leyendas**\n",
    "\n",
    "En general, los gráficos suelen contener más de una curva. Para poder distinguirlas correctamente, usamos las leyendas, que son cuadros que se agregan dentro del gráfico que nos brindan información sobre los distintos elementos. Matplotlib se encarga de manejar muy bien las leyendas. Nosotros sólo debemos decirle el nombre de cada objeto que graficamos y avisarle que queremos que agregue la leyenda al gráfico.\n",
    "\n",
    "Veamos cómo graficar más de una curva con sus correspondientes etiquetas (`label`) y cómo crear la leyenda."
   ]
  },
  {
   "cell_type": "code",
   "execution_count": 8,
   "metadata": {
    "colab": {
     "base_uri": "https://localhost:8080/",
     "height": 295
    },
    "id": "kvZrW7cgQaY0",
    "outputId": "bc6dff77-4cd8-4698-d44e-4aa08d8fb4ef"
   },
   "outputs": [
    {
     "data": {
      "image/png": "[encoded data removed]",
      "text/plain": [
       "<Figure size 432x288 with 1 Axes>"
      ]
     },
     "metadata": {
      "needs_background": "light"
     },
     "output_type": "display_data"
    }
   ],
   "source": [
    "x = np.arange(0.0, 24, 0.5)\n",
    "y1 = 20 + 5*np.sin(2*np.pi*(x - 8)/24)\n",
    "y2 = 5 + 5*np.sin(2*np.pi*(x - 6)/24)\n",
    "\n",
    "# Ploteamos las dos lineas, dandole un nombre a cada una mediante el parámetro 'label'.\n",
    "# Notar que para agregar una curva, simplemente debemos poner una debajo de la otra\n",
    "plt.plot(x, y2, label = 'invierno')\n",
    "plt.plot(x, y1, label = 'Primavera')\n",
    "\n",
    "\n",
    "plt.xlabel('Tiempo (horas)')\n",
    "plt.ylabel('Temperatura (°C)')\n",
    "plt.title('Temperatura diaria promedio')\n",
    "\n",
    "# Este comando enciende la grilla de referencia \n",
    "plt.grid()\n",
    "\n",
    "# Agregamos la leyenda al gráfico\n",
    "plt.legend() #loc='upper center', shadow=True, fontsize='x-large')\n",
    "plt.show() "
   ]
  },
  {
   "cell_type": "markdown",
   "metadata": {
    "id": "2GQunhEcQaZG"
   },
   "source": [
    "**Probar** cambiar el orden en que graficas las curvas, los estilos, los colores, etc. También, cambiar algunos parámetros de `plt.legend()`. Siempre puedes ir a la documentación de la función.\n",
    "\n",
    "**Ejercicio - Challenge:** Para realizar este ejercicio, debes consultar la documentación de Matplotlib.\n",
    "1. Define dos listas de valores `x` e `y`, tal que los pares (x,y) cumplan una relación lineal del tipo $y = 2x + 1$. Defina la lista de valores de `x` con 100 puntos en el intervalo de valores que van desde -1 hasta 1.\n",
    "2. Grafica la curva generada por los valores (x,y) en color verde, con un ancho `linewidth = 3` y que sea una línea a trazos. Agrega al gráfico el título 'Relación Lineal'.\n",
    "3. Agrega una segunda curva de su invención.\n",
    "4. Agrega etiquetas en los ejes, leyenda y título al gráfico. ¡Puede ser lo que desees, pero tiene que tener sentido!"
   ]
  },
  {
   "cell_type": "code",
   "execution_count": 9,
   "metadata": {
    "colab": {
     "base_uri": "https://localhost:8080/",
     "height": 312
    },
    "id": "LNDmvLYWQaZM",
    "outputId": "67ac5c42-1052-472f-b9a0-9b59e8753b73"
   },
   "outputs": [
    {
     "data": {
      "text/plain": [
       "Text(0, 0.5, 'Aceleración')"
      ]
     },
     "execution_count": 9,
     "metadata": {},
     "output_type": "execute_result"
    },
    {
     "data": {
      "image/png": "[encoded data removed]",
      "text/plain": [
       "<Figure size 432x288 with 1 Axes>"
      ]
     },
     "metadata": {
      "needs_background": "light"
     },
     "output_type": "display_data"
    }
   ],
   "source": [
    "# COMPLETAR\r\n",
    "x= np.linspace(-1,1,100,True)\r\n",
    "y= 2*x+1\r\n",
    "y2= -2*x+1\r\n",
    "\r\n",
    "plt.plot(x,y,color='green',linewidth = 3, linestyle='dashed', label='Positiva')\r\n",
    "plt.plot(x,y2,color='red',linewidth=2,linestyle='dashdot', label='Negativa')\r\n",
    "plt.title('Relación Lineal')\r\n",
    "plt.legend()\r\n",
    "plt.xlabel('Velacidad')\r\n",
    "plt.ylabel('Aceleración')"
   ]
  },
  {
   "cell_type": "markdown",
   "metadata": {
    "id": "EJM73g69QaZY"
   },
   "source": [
    "### 3. Histogramas\n",
    "\n",
    "Matplotlib también nos permite graficar fácilmente histogramas mediante la función `hist`, como vimos en el notebook anterior. Prestar atención a la siguiente celda, vamos a generar muestras de una distribución normal de una forma ligeramente distinta a la que usamos en ese notebook."
   ]
  },
  {
   "cell_type": "code",
   "execution_count": 10,
   "metadata": {
    "colab": {
     "base_uri": "https://localhost:8080/"
    },
    "id": "Aq3G97vJQaZc",
    "outputId": "32606f92-c200-4fee-a730-31ea8cd39133"
   },
   "outputs": [
    {
     "name": "stdout",
     "output_type": "stream",
     "text": [
      "Media: 20.015651668730868\n",
      "Desvio Estandar: 3.9269479617597196\n"
     ]
    }
   ],
   "source": [
    "# Elegimos una distribución con centro en 20 y una desviación igual a 4\n",
    "mu = 20  # Media de la distribución\n",
    "sigma = 4  # Desviación Estandar\n",
    "valores = mu + sigma * np.random.randn(1000)\n",
    "\n",
    "# Imprimimos la media y la desviación de los valores generados\n",
    "print('Media:',np.mean(valores))\n",
    "print('Desvio Estandar:',np.std(valores))\n",
    "# Recuerden que cuantos mas valores sampleen, \n",
    "# mas se aproximaran estos valores a los de la distribución."
   ]
  },
  {
   "cell_type": "markdown",
   "metadata": {
    "id": "xC6PBG5PQaZq"
   },
   "source": [
    "Ahora vamos a graficar un histograma para estos valores:"
   ]
  },
  {
   "cell_type": "code",
   "execution_count": 11,
   "metadata": {
    "colab": {
     "base_uri": "https://localhost:8080/",
     "height": 265
    },
    "id": "TMGGQctkQaZt",
    "outputId": "6b9ceda2-68ae-4b9e-a2ff-1a3b8870a90f"
   },
   "outputs": [
    {
     "data": {
      "image/png": "[encoded data removed]",
      "text/plain": [
       "<Figure size 432x288 with 1 Axes>"
      ]
     },
     "metadata": {
      "needs_background": "light"
     },
     "output_type": "display_data"
    }
   ],
   "source": [
    "plt.hist(valores, bins = 50)\n",
    "plt.show()"
   ]
  },
  {
   "cell_type": "markdown",
   "metadata": {
    "id": "Tta_l42XQaZ7"
   },
   "source": [
    "**Ejercicio**: \n",
    "\n",
    "1. Repite el histograma anterior, pero esta vez cambiando el número de `bins`. Por ejemplo, prueba con 5, 10, 20, 50, 500 y 5000. ¿Cuál les parece la opción más adecuada? ¿De qué dependará el número de bins adecuado a seleccionar?\n",
    "2. Prueba qué sucede si no le pasan el argumento `bins` a la función. Busca en la bibliografía de la librería que es lo que hace por default la función.\n",
    "3. Averigua cuales son los argumentos de la función `hist` y modifica el color del histograma, el tamaño de las barras, etc."
   ]
  },
  {
   "cell_type": "code",
   "execution_count": 12,
   "metadata": {
    "colab": {
     "base_uri": "https://localhost:8080/",
     "height": 265
    },
    "id": "_pFno0hnG5Ro",
    "outputId": "611f26ab-afbc-4c37-fcfa-a38afb50d210"
   },
   "outputs": [
    {
     "data": {
      "image/png": "[encoded data removed]",
      "text/plain": [
       "<Figure size 432x288 with 1 Axes>"
      ]
     },
     "metadata": {
      "needs_background": "light"
     },
     "output_type": "display_data"
    }
   ],
   "source": [
    "plt.hist(valores,bins= 20, color='green',orientation='horizontal',cumulative=True)\r\n",
    "plt.show()"
   ]
  },
  {
   "cell_type": "markdown",
   "metadata": {
    "id": "3bVbBx6hQaaA"
   },
   "source": [
    "**Nota**: la función `hist` además nos devuelve dos vectores relevantes. El vector `n` donde nos especifica el número de cuentas de cada bin (columna) del histograma. Y el vector `bins`, que nos dice los límites de estos bines (donde empieza y termina cada columna. Notar que el vector 'bins' tiene un largo igual a `len(n)+1`."
   ]
  },
  {
   "cell_type": "code",
   "execution_count": 13,
   "metadata": {
    "colab": {
     "base_uri": "https://localhost:8080/",
     "height": 452
    },
    "id": "-Q3WRwbGQaaE",
    "outputId": "e63a7844-b4ad-46e8-9fb9-233680deaca1"
   },
   "outputs": [
    {
     "data": {
      "image/png": "[encoded data removed]",
      "text/plain": [
       "<Figure size 432x288 with 1 Axes>"
      ]
     },
     "metadata": {
      "needs_background": "light"
     },
     "output_type": "display_data"
    },
    {
     "name": "stdout",
     "output_type": "stream",
     "text": [
      "[ 1.  0.  1.  1.  7.  1.  1. 11. 10. 15. 19. 27. 22. 28. 36. 38. 39. 52.\n",
      " 53. 48. 46. 51. 53. 57. 46. 52. 38. 55. 34. 37. 27. 16. 24. 14. 14. 11.\n",
      "  3.  2.  2.  3.  1.  1.  0.  1.  0.  1.  0.  0.  0.  1.] [ 8.04537845  8.59576728  9.1461561   9.69654492 10.24693375 10.79732257\n",
      " 11.34771139 11.89810022 12.44848904 12.99887787 13.54926669 14.09965551\n",
      " 14.65004434 15.20043316 15.75082198 16.30121081 16.85159963 17.40198845\n",
      " 17.95237728 18.5027661  19.05315493 19.60354375 20.15393257 20.7043214\n",
      " 21.25471022 21.80509904 22.35548787 22.90587669 23.45626551 24.00665434\n",
      " 24.55704316 25.10743199 25.65782081 26.20820963 26.75859846 27.30898728\n",
      " 27.8593761  28.40976493 28.96015375 29.51054258 30.0609314  30.61132022\n",
      " 31.16170905 31.71209787 32.26248669 32.81287552 33.36326434 33.91365316\n",
      " 34.46404199 35.01443081 35.56481964]\n"
     ]
    }
   ],
   "source": [
    "n, bins, _ = plt.hist(valores, bins = 50)\n",
    "plt.show()\n",
    "print(n, bins)"
   ]
  },
  {
   "cell_type": "markdown",
   "metadata": {
    "id": "jDcmQNNeQaaP"
   },
   "source": [
    "### Ejercitación\n",
    "\n",
    "Vamos a trabajar con un dataset de reviews de vinos, 'DS_Bitácora_06_Wine_Reviews.csv'. Pueden obtener más información sobre este dataset [aquí](https://www.kaggle.com/zynicide/wine-reviews/). Recomendamos leer su descripción.\n",
    "\n",
    "**Si no puedes hacer el ejercicio 1, no te preocupes, en el ejercicio 2 te dejamos las líneas de código necesarias para que puedas continuar.**\n",
    "\n",
    "**Ejercicio 1: Exploración del Dataset** abrir el dataset con Pandas y:\n",
    "1. Imprimir sus primeras cinco instancias.\n",
    "1. ¿Cuántas columnas (features) tiene?¿Cuáles son sus nombres?¿Y cuántas filas (instancias)? Descartar la columna `'Unnamed: 0'`.\n",
    "1. ¿Qué es un valor faltante?¿Cuántos valores faltantes hay en cada columna? Pista: `isna()`, `sum()`.\n",
    "1. ¿Cuáles son el peor y el mejor vino? Imprimir en pantalla sus características y su descripción. ¿Hay un solo vino que sea el mejor o el peor?\n",
    "1. Hacer una pregunta y responderla utilizando el dataset.\n",
    "\n",
    "**Recomendación:** puede ser útil recordar qué es una máscara o filtro booleano."
   ]
  },
  {
   "cell_type": "code",
   "execution_count": 14,
   "metadata": {
    "colab": {
     "base_uri": "https://localhost:8080/",
     "height": 756
    },
    "id": "0SjnOrx_PyXd",
    "outputId": "a542dc21-b72d-4d8e-a7d0-289ea128ada6"
   },
   "outputs": [
    {
     "name": "stdout",
     "output_type": "stream",
     "text": [
      "country                                                          Australia\n",
      "description              This wine contains some material over 100 year...\n",
      "designation                                                           Rare\n",
      "points                                                                 100\n",
      "price                                                                  350\n",
      "province                                                          Victoria\n",
      "region_1                                                        Rutherglen\n",
      "region_2                                                               NaN\n",
      "taster_name                                                 Joe Czerwinski\n",
      "taster_twitter_handle                                               @JoeCz\n",
      "title                    Chambers Rosewood Vineyards NV Rare Muscat (Ru...\n",
      "variety                                                             Muscat\n",
      "winery                                         Chambers Rosewood Vineyards\n",
      "Name: 345, dtype: object country                                                              Chile\n",
      "description              Aromas of pumpkin, squash and corn chips are s...\n",
      "designation                                                   Gran Reserva\n",
      "points                                                                  80\n",
      "price                                                                   19\n",
      "province                                                      Leyda Valley\n",
      "region_1                                                               NaN\n",
      "region_2                                                               NaN\n",
      "taster_name                                              Michael Schachner\n",
      "taster_twitter_handle                                          @wineschach\n",
      "title                    Viña Tarapacá 2015 Gran Reserva Chardonnay (Le...\n",
      "variety                                                         Chardonnay\n",
      "winery                                                       Viña Tarapacá\n",
      "Name: 344, dtype: object\n"
     ]
    },
    {
     "data": {
      "text/html": [
       "<div>\n",
       "<style scoped>\n",
       "    .dataframe tbody tr th:only-of-type {\n",
       "        vertical-align: middle;\n",
       "    }\n",
       "\n",
       "    .dataframe tbody tr th {\n",
       "        vertical-align: top;\n",
       "    }\n",
       "\n",
       "    .dataframe thead th {\n",
       "        text-align: right;\n",
       "    }\n",
       "</style>\n",
       "<table border=\"1\" class=\"dataframe\">\n",
       "  <thead>\n",
       "    <tr style=\"text-align: right;\">\n",
       "      <th></th>\n",
       "      <th>points</th>\n",
       "      <th>price</th>\n",
       "    </tr>\n",
       "  </thead>\n",
       "  <tbody>\n",
       "    <tr>\n",
       "      <th>count</th>\n",
       "      <td>129971.000000</td>\n",
       "      <td>120975.000000</td>\n",
       "    </tr>\n",
       "    <tr>\n",
       "      <th>mean</th>\n",
       "      <td>88.447138</td>\n",
       "      <td>35.363389</td>\n",
       "    </tr>\n",
       "    <tr>\n",
       "      <th>std</th>\n",
       "      <td>3.039730</td>\n",
       "      <td>41.022218</td>\n",
       "    </tr>\n",
       "    <tr>\n",
       "      <th>min</th>\n",
       "      <td>80.000000</td>\n",
       "      <td>4.000000</td>\n",
       "    </tr>\n",
       "    <tr>\n",
       "      <th>25%</th>\n",
       "      <td>86.000000</td>\n",
       "      <td>17.000000</td>\n",
       "    </tr>\n",
       "    <tr>\n",
       "      <th>50%</th>\n",
       "      <td>88.000000</td>\n",
       "      <td>25.000000</td>\n",
       "    </tr>\n",
       "    <tr>\n",
       "      <th>75%</th>\n",
       "      <td>91.000000</td>\n",
       "      <td>42.000000</td>\n",
       "    </tr>\n",
       "    <tr>\n",
       "      <th>max</th>\n",
       "      <td>100.000000</td>\n",
       "      <td>3300.000000</td>\n",
       "    </tr>\n",
       "  </tbody>\n",
       "</table>\n",
       "</div>"
      ],
      "text/plain": [
       "              points          price\n",
       "count  129971.000000  120975.000000\n",
       "mean       88.447138      35.363389\n",
       "std         3.039730      41.022218\n",
       "min        80.000000       4.000000\n",
       "25%        86.000000      17.000000\n",
       "50%        88.000000      25.000000\n",
       "75%        91.000000      42.000000\n",
       "max       100.000000    3300.000000"
      ]
     },
     "execution_count": 14,
     "metadata": {},
     "output_type": "execute_result"
    }
   ],
   "source": [
    "import pandas as pd\r\n",
    "\r\n",
    "vinos= pd.read_csv('https://sc.acamica.com/content/toolbox/ds/ds_06_wine_reviews.csv', sep=',')\r\n",
    "\r\n",
    "# eliminar la primer columna e imprimir los primeros 5 registros y consultar la cantidad de filas y columnas\r\n",
    "vinos.drop(['Unnamed: 0'], axis='columns', inplace=True)\r\n",
    "vinos.head()\r\n",
    "vinos.shape\r\n",
    "\r\n",
    "np.sum(pd.isna(vinos))  # Cuántos nulos se tienen por columna\r\n",
    "\r\n",
    "# imprimir el vino mejor calificado y con menor calificación\r\n",
    "mejor= vinos.loc[vinos.points.idxmax()]\r\n",
    "peor= vinos.loc[vinos.points.idxmin()]\r\n",
    "print(mejor, peor)\r\n",
    "vinos.describe()"
   ]
  },
  {
   "cell_type": "markdown",
   "metadata": {
    "id": "RRIsQ5X3QaaR"
   },
   "source": [
    "**Ejercicio 2:** Hacer una diagrama de dispersión entre los precios (eje x) y el puntaje de los vinos (eje y). Ponerle las etiquetas correspondientes a los ejes y un título informativo. ¿Qué ocurre con la escala en el eje de los precios en este gráfico?¿Te animás a cambiarle los límites al eje x? ¿Qué conclusiones pueden sacar sobre la relación de precio y puntaje observando este gráfico?"
   ]
  },
  {
   "cell_type": "code",
   "execution_count": 15,
   "metadata": {
    "colab": {
     "base_uri": "https://localhost:8080/",
     "height": 204
    },
    "id": "cTiZAb9MQaaY",
    "outputId": "f085df5b-c52c-4ab1-b40d-1618c0c0aa69"
   },
   "outputs": [
    {
     "data": {
      "text/html": [
       "<div>\n",
       "<style scoped>\n",
       "    .dataframe tbody tr th:only-of-type {\n",
       "        vertical-align: middle;\n",
       "    }\n",
       "\n",
       "    .dataframe tbody tr th {\n",
       "        vertical-align: top;\n",
       "    }\n",
       "\n",
       "    .dataframe thead th {\n",
       "        text-align: right;\n",
       "    }\n",
       "</style>\n",
       "<table border=\"1\" class=\"dataframe\">\n",
       "  <thead>\n",
       "    <tr style=\"text-align: right;\">\n",
       "      <th></th>\n",
       "      <th>country</th>\n",
       "      <th>points</th>\n",
       "      <th>price</th>\n",
       "      <th>variety</th>\n",
       "    </tr>\n",
       "  </thead>\n",
       "  <tbody>\n",
       "    <tr>\n",
       "      <th>1</th>\n",
       "      <td>Portugal</td>\n",
       "      <td>87</td>\n",
       "      <td>15.0</td>\n",
       "      <td>Portuguese Red</td>\n",
       "    </tr>\n",
       "    <tr>\n",
       "      <th>2</th>\n",
       "      <td>US</td>\n",
       "      <td>87</td>\n",
       "      <td>14.0</td>\n",
       "      <td>Pinot Gris</td>\n",
       "    </tr>\n",
       "    <tr>\n",
       "      <th>3</th>\n",
       "      <td>US</td>\n",
       "      <td>87</td>\n",
       "      <td>13.0</td>\n",
       "      <td>Riesling</td>\n",
       "    </tr>\n",
       "    <tr>\n",
       "      <th>4</th>\n",
       "      <td>US</td>\n",
       "      <td>87</td>\n",
       "      <td>65.0</td>\n",
       "      <td>Pinot Noir</td>\n",
       "    </tr>\n",
       "    <tr>\n",
       "      <th>5</th>\n",
       "      <td>Spain</td>\n",
       "      <td>87</td>\n",
       "      <td>15.0</td>\n",
       "      <td>Tempranillo-Merlot</td>\n",
       "    </tr>\n",
       "  </tbody>\n",
       "</table>\n",
       "</div>"
      ],
      "text/plain": [
       "    country  points  price             variety\n",
       "1  Portugal      87   15.0      Portuguese Red\n",
       "2        US      87   14.0          Pinot Gris\n",
       "3        US      87   13.0            Riesling\n",
       "4        US      87   65.0          Pinot Noir\n",
       "5     Spain      87   15.0  Tempranillo-Merlot"
      ]
     },
     "execution_count": 15,
     "metadata": {},
     "output_type": "execute_result"
    }
   ],
   "source": [
    "### En estas celdas preparamos el dataset de forma de que puedas trabajar sin inconvenientes.\n",
    "# Definimos las columnas que nos interesan\n",
    "fields = ['country', 'points','price', 'variety']\n",
    "\n",
    "# Cargamos el DataFrame solo con esas columnas\n",
    "wine_reviews = pd.read_csv('ds_06_wine_reviews.csv', usecols = fields)\n",
    "\n",
    "# Tiramos las isntancias que tienen un nan en alguno de los features.\n",
    "wine_reviews.dropna(inplace=True)\n",
    "wine_reviews.head()"
   ]
  },
  {
   "cell_type": "code",
   "execution_count": 16,
   "metadata": {
    "colab": {
     "base_uri": "https://localhost:8080/",
     "height": 282
    },
    "id": "w0NCTT7rQaal",
    "outputId": "c434ea69-0cef-4fe7-b35c-ebd567ad1463"
   },
   "outputs": [
    {
     "data": {
      "text/plain": [
       "<matplotlib.collections.PathCollection at 0x21a4684aaf0>"
      ]
     },
     "execution_count": 16,
     "metadata": {},
     "output_type": "execute_result"
    },
    {
     "data": {
      "image/png": "[encoded data removed]",
      "text/plain": [
       "<Figure size 432x288 with 1 Axes>"
      ]
     },
     "metadata": {
      "needs_background": "light"
     },
     "output_type": "display_data"
    }
   ],
   "source": [
    "# COMPLETAR\r\n",
    "fig, ax = plt.subplots()\r\n",
    "ax.scatter(wine_reviews.price,wine_reviews.points)"
   ]
  },
  {
   "cell_type": "code",
   "execution_count": 17,
   "metadata": {
    "colab": {
     "base_uri": "https://localhost:8080/"
    },
    "id": "-NuC9KagyfKJ",
    "outputId": "fdc0e9b0-4ea6-4ccc-d74d-afa839b0e1a8"
   },
   "outputs": [
    {
     "data": {
      "text/plain": [
       "{'Argentina',\n",
       " 'Armenia',\n",
       " 'Australia',\n",
       " 'Austria',\n",
       " 'Bosnia and Herzegovina',\n",
       " 'Brazil',\n",
       " 'Bulgaria',\n",
       " 'Canada',\n",
       " 'Chile',\n",
       " 'China',\n",
       " 'Croatia',\n",
       " 'Cyprus',\n",
       " 'Czech Republic',\n",
       " 'England',\n",
       " 'France',\n",
       " 'Georgia',\n",
       " 'Germany',\n",
       " 'Greece',\n",
       " 'Hungary',\n",
       " 'India',\n",
       " 'Israel',\n",
       " 'Italy',\n",
       " 'Lebanon',\n",
       " 'Luxembourg',\n",
       " 'Macedonia',\n",
       " 'Mexico',\n",
       " 'Moldova',\n",
       " 'Morocco',\n",
       " 'New Zealand',\n",
       " 'Peru',\n",
       " 'Portugal',\n",
       " 'Romania',\n",
       " 'Serbia',\n",
       " 'Slovakia',\n",
       " 'Slovenia',\n",
       " 'South Africa',\n",
       " 'Spain',\n",
       " 'Switzerland',\n",
       " 'Turkey',\n",
       " 'US',\n",
       " 'Ukraine',\n",
       " 'Uruguay'}"
      ]
     },
     "execution_count": 17,
     "metadata": {},
     "output_type": "execute_result"
    }
   ],
   "source": [
    "set(wine_reviews.country)"
   ]
  },
  {
   "cell_type": "code",
   "execution_count": 18,
   "metadata": {
    "colab": {
     "base_uri": "https://localhost:8080/",
     "height": 312
    },
    "id": "2WblOml4Qaax",
    "outputId": "312ab6ce-02aa-4ed2-baa1-cd7a2ffded10"
   },
   "outputs": [
    {
     "ename": "ValueError",
     "evalue": "'color' kwarg must be an color or sequence of color specs.  For a sequence of values to be color-mapped, use the 'c' argument instead.",
     "output_type": "error",
     "traceback": [
      "\u001b[1;31m---------------------------------------------------------------------------\u001b[0m",
      "\u001b[1;31mValueError\u001b[0m                                Traceback (most recent call last)",
      "\u001b[1;32m~\\Anaconda3\\lib\\site-packages\\matplotlib\\colors.py\u001b[0m in \u001b[0;36mto_rgba_array\u001b[1;34m(c, alpha)\u001b[0m\n\u001b[0;32m    324\u001b[0m         \u001b[1;32mtry\u001b[0m\u001b[1;33m:\u001b[0m\u001b[1;33m\u001b[0m\u001b[1;33m\u001b[0m\u001b[0m\n\u001b[1;32m--> 325\u001b[1;33m             \u001b[0mresult\u001b[0m \u001b[1;33m=\u001b[0m \u001b[0mnp\u001b[0m\u001b[1;33m.\u001b[0m\u001b[0marray\u001b[0m\u001b[1;33m(\u001b[0m\u001b[1;33m[\u001b[0m\u001b[0mto_rgba\u001b[0m\u001b[1;33m(\u001b[0m\u001b[0mcc\u001b[0m\u001b[1;33m,\u001b[0m \u001b[0malpha\u001b[0m\u001b[1;33m)\u001b[0m \u001b[1;32mfor\u001b[0m \u001b[0mcc\u001b[0m \u001b[1;32min\u001b[0m \u001b[0mc\u001b[0m\u001b[1;33m]\u001b[0m\u001b[1;33m)\u001b[0m\u001b[1;33m\u001b[0m\u001b[1;33m\u001b[0m\u001b[0m\n\u001b[0m\u001b[0;32m    326\u001b[0m         \u001b[1;32mexcept\u001b[0m \u001b[0mValueError\u001b[0m \u001b[1;32mas\u001b[0m \u001b[0merr\u001b[0m\u001b[1;33m:\u001b[0m\u001b[1;33m\u001b[0m\u001b[1;33m\u001b[0m\u001b[0m\n",
      "\u001b[1;32m~\\Anaconda3\\lib\\site-packages\\matplotlib\\colors.py\u001b[0m in \u001b[0;36m<listcomp>\u001b[1;34m(.0)\u001b[0m\n\u001b[0;32m    324\u001b[0m         \u001b[1;32mtry\u001b[0m\u001b[1;33m:\u001b[0m\u001b[1;33m\u001b[0m\u001b[1;33m\u001b[0m\u001b[0m\n\u001b[1;32m--> 325\u001b[1;33m             \u001b[0mresult\u001b[0m \u001b[1;33m=\u001b[0m \u001b[0mnp\u001b[0m\u001b[1;33m.\u001b[0m\u001b[0marray\u001b[0m\u001b[1;33m(\u001b[0m\u001b[1;33m[\u001b[0m\u001b[0mto_rgba\u001b[0m\u001b[1;33m(\u001b[0m\u001b[0mcc\u001b[0m\u001b[1;33m,\u001b[0m \u001b[0malpha\u001b[0m\u001b[1;33m)\u001b[0m \u001b[1;32mfor\u001b[0m \u001b[0mcc\u001b[0m \u001b[1;32min\u001b[0m \u001b[0mc\u001b[0m\u001b[1;33m]\u001b[0m\u001b[1;33m)\u001b[0m\u001b[1;33m\u001b[0m\u001b[1;33m\u001b[0m\u001b[0m\n\u001b[0m\u001b[0;32m    326\u001b[0m         \u001b[1;32mexcept\u001b[0m \u001b[0mValueError\u001b[0m \u001b[1;32mas\u001b[0m \u001b[0merr\u001b[0m\u001b[1;33m:\u001b[0m\u001b[1;33m\u001b[0m\u001b[1;33m\u001b[0m\u001b[0m\n",
      "\u001b[1;32m~\\Anaconda3\\lib\\site-packages\\matplotlib\\colors.py\u001b[0m in \u001b[0;36mto_rgba\u001b[1;34m(c, alpha)\u001b[0m\n\u001b[0;32m    188\u001b[0m     \u001b[1;32mif\u001b[0m \u001b[0mrgba\u001b[0m \u001b[1;32mis\u001b[0m \u001b[1;32mNone\u001b[0m\u001b[1;33m:\u001b[0m  \u001b[1;31m# Suppress exception chaining of cache lookup failure.\u001b[0m\u001b[1;33m\u001b[0m\u001b[1;33m\u001b[0m\u001b[0m\n\u001b[1;32m--> 189\u001b[1;33m         \u001b[0mrgba\u001b[0m \u001b[1;33m=\u001b[0m \u001b[0m_to_rgba_no_colorcycle\u001b[0m\u001b[1;33m(\u001b[0m\u001b[0mc\u001b[0m\u001b[1;33m,\u001b[0m \u001b[0malpha\u001b[0m\u001b[1;33m)\u001b[0m\u001b[1;33m\u001b[0m\u001b[1;33m\u001b[0m\u001b[0m\n\u001b[0m\u001b[0;32m    190\u001b[0m         \u001b[1;32mtry\u001b[0m\u001b[1;33m:\u001b[0m\u001b[1;33m\u001b[0m\u001b[1;33m\u001b[0m\u001b[0m\n",
      "\u001b[1;32m~\\Anaconda3\\lib\\site-packages\\matplotlib\\colors.py\u001b[0m in \u001b[0;36m_to_rgba_no_colorcycle\u001b[1;34m(c, alpha)\u001b[0m\n\u001b[0;32m    259\u001b[0m             \u001b[1;32mreturn\u001b[0m \u001b[0mc\u001b[0m\u001b[1;33m,\u001b[0m \u001b[0mc\u001b[0m\u001b[1;33m,\u001b[0m \u001b[0mc\u001b[0m\u001b[1;33m,\u001b[0m \u001b[0malpha\u001b[0m \u001b[1;32mif\u001b[0m \u001b[0malpha\u001b[0m \u001b[1;32mis\u001b[0m \u001b[1;32mnot\u001b[0m \u001b[1;32mNone\u001b[0m \u001b[1;32melse\u001b[0m \u001b[1;36m1.\u001b[0m\u001b[1;33m\u001b[0m\u001b[1;33m\u001b[0m\u001b[0m\n\u001b[1;32m--> 260\u001b[1;33m         \u001b[1;32mraise\u001b[0m \u001b[0mValueError\u001b[0m\u001b[1;33m(\u001b[0m\u001b[1;34mf\"Invalid RGBA argument: {orig_c!r}\"\u001b[0m\u001b[1;33m)\u001b[0m\u001b[1;33m\u001b[0m\u001b[1;33m\u001b[0m\u001b[0m\n\u001b[0m\u001b[0;32m    261\u001b[0m     \u001b[1;31m# tuple color.\u001b[0m\u001b[1;33m\u001b[0m\u001b[1;33m\u001b[0m\u001b[1;33m\u001b[0m\u001b[0m\n",
      "\u001b[1;31mValueError\u001b[0m: Invalid RGBA argument: 'C'",
      "\nThe above exception was the direct cause of the following exception:\n",
      "\u001b[1;31mValueError\u001b[0m                                Traceback (most recent call last)",
      "\u001b[1;32m~\\Anaconda3\\lib\\site-packages\\matplotlib\\axes\\_axes.py\u001b[0m in \u001b[0;36m_parse_scatter_color_args\u001b[1;34m(c, edgecolors, kwargs, xsize, get_next_color_func)\u001b[0m\n\u001b[0;32m   4229\u001b[0m             \u001b[1;32mtry\u001b[0m\u001b[1;33m:\u001b[0m\u001b[1;33m\u001b[0m\u001b[1;33m\u001b[0m\u001b[0m\n\u001b[1;32m-> 4230\u001b[1;33m                 \u001b[0mmcolors\u001b[0m\u001b[1;33m.\u001b[0m\u001b[0mto_rgba_array\u001b[0m\u001b[1;33m(\u001b[0m\u001b[0mkwcolor\u001b[0m\u001b[1;33m)\u001b[0m\u001b[1;33m\u001b[0m\u001b[1;33m\u001b[0m\u001b[0m\n\u001b[0m\u001b[0;32m   4231\u001b[0m             \u001b[1;32mexcept\u001b[0m \u001b[0mValueError\u001b[0m \u001b[1;32mas\u001b[0m \u001b[0merr\u001b[0m\u001b[1;33m:\u001b[0m\u001b[1;33m\u001b[0m\u001b[1;33m\u001b[0m\u001b[0m\n",
      "\u001b[1;32m~\\Anaconda3\\lib\\site-packages\\matplotlib\\colors.py\u001b[0m in \u001b[0;36mto_rgba_array\u001b[1;34m(c, alpha)\u001b[0m\n\u001b[0;32m    326\u001b[0m         \u001b[1;32mexcept\u001b[0m \u001b[0mValueError\u001b[0m \u001b[1;32mas\u001b[0m \u001b[0merr\u001b[0m\u001b[1;33m:\u001b[0m\u001b[1;33m\u001b[0m\u001b[1;33m\u001b[0m\u001b[0m\n\u001b[1;32m--> 327\u001b[1;33m             raise ValueError(\n\u001b[0m\u001b[0;32m    328\u001b[0m                 \u001b[1;34m\"'%s' is neither a valid single color nor a color sequence \"\u001b[0m\u001b[1;33m\u001b[0m\u001b[1;33m\u001b[0m\u001b[0m\n",
      "\u001b[1;31mValueError\u001b[0m: 'C' is neither a valid single color nor a color sequence consisting of single character color specifiers such as 'rgb'. Note also that the latter is deprecated.",
      "\nThe above exception was the direct cause of the following exception:\n",
      "\u001b[1;31mValueError\u001b[0m                                Traceback (most recent call last)",
      "\u001b[1;32m<ipython-input-18-eff6d0732a9b>\u001b[0m in \u001b[0;36m<module>\u001b[1;34m\u001b[0m\n\u001b[0;32m      1\u001b[0m \u001b[1;31m# COMPLETAR\u001b[0m\u001b[1;33m\u001b[0m\u001b[1;33m\u001b[0m\u001b[1;33m\u001b[0m\u001b[0m\n\u001b[0;32m      2\u001b[0m \u001b[0mfig\u001b[0m\u001b[1;33m,\u001b[0m \u001b[0max\u001b[0m \u001b[1;33m=\u001b[0m \u001b[0mplt\u001b[0m\u001b[1;33m.\u001b[0m\u001b[0msubplots\u001b[0m\u001b[1;33m(\u001b[0m\u001b[1;33m)\u001b[0m\u001b[1;33m\u001b[0m\u001b[1;33m\u001b[0m\u001b[0m\n\u001b[1;32m----> 3\u001b[1;33m \u001b[0max\u001b[0m\u001b[1;33m.\u001b[0m\u001b[0mscatter\u001b[0m\u001b[1;33m(\u001b[0m\u001b[0mwine_reviews\u001b[0m\u001b[1;33m.\u001b[0m\u001b[0mprice\u001b[0m\u001b[1;33m,\u001b[0m\u001b[0mwine_reviews\u001b[0m\u001b[1;33m.\u001b[0m\u001b[0mpoints\u001b[0m\u001b[1;33m,\u001b[0m \u001b[0mlabel\u001b[0m\u001b[1;33m=\u001b[0m\u001b[0mwine_reviews\u001b[0m\u001b[1;33m.\u001b[0m\u001b[0mvariety\u001b[0m\u001b[1;33m,\u001b[0m \u001b[0mcolor\u001b[0m\u001b[1;33m=\u001b[0m \u001b[1;34m'C'\u001b[0m\u001b[1;33m)\u001b[0m\u001b[1;33m\u001b[0m\u001b[1;33m\u001b[0m\u001b[0m\n\u001b[0m\u001b[0;32m      4\u001b[0m \u001b[1;33m\u001b[0m\u001b[0m\n\u001b[0;32m      5\u001b[0m \u001b[0mplt\u001b[0m\u001b[1;33m.\u001b[0m\u001b[0mtitle\u001b[0m\u001b[1;33m(\u001b[0m\u001b[1;34m'Relación precio vs puntaje'\u001b[0m\u001b[1;33m)\u001b[0m\u001b[1;33m\u001b[0m\u001b[1;33m\u001b[0m\u001b[0m\n",
      "\u001b[1;32m~\\Anaconda3\\lib\\site-packages\\matplotlib\\__init__.py\u001b[0m in \u001b[0;36minner\u001b[1;34m(ax, data, *args, **kwargs)\u001b[0m\n\u001b[0;32m   1436\u001b[0m     \u001b[1;32mdef\u001b[0m \u001b[0minner\u001b[0m\u001b[1;33m(\u001b[0m\u001b[0max\u001b[0m\u001b[1;33m,\u001b[0m \u001b[1;33m*\u001b[0m\u001b[0margs\u001b[0m\u001b[1;33m,\u001b[0m \u001b[0mdata\u001b[0m\u001b[1;33m=\u001b[0m\u001b[1;32mNone\u001b[0m\u001b[1;33m,\u001b[0m \u001b[1;33m**\u001b[0m\u001b[0mkwargs\u001b[0m\u001b[1;33m)\u001b[0m\u001b[1;33m:\u001b[0m\u001b[1;33m\u001b[0m\u001b[1;33m\u001b[0m\u001b[0m\n\u001b[0;32m   1437\u001b[0m         \u001b[1;32mif\u001b[0m \u001b[0mdata\u001b[0m \u001b[1;32mis\u001b[0m \u001b[1;32mNone\u001b[0m\u001b[1;33m:\u001b[0m\u001b[1;33m\u001b[0m\u001b[1;33m\u001b[0m\u001b[0m\n\u001b[1;32m-> 1438\u001b[1;33m             \u001b[1;32mreturn\u001b[0m \u001b[0mfunc\u001b[0m\u001b[1;33m(\u001b[0m\u001b[0max\u001b[0m\u001b[1;33m,\u001b[0m \u001b[1;33m*\u001b[0m\u001b[0mmap\u001b[0m\u001b[1;33m(\u001b[0m\u001b[0msanitize_sequence\u001b[0m\u001b[1;33m,\u001b[0m \u001b[0margs\u001b[0m\u001b[1;33m)\u001b[0m\u001b[1;33m,\u001b[0m \u001b[1;33m**\u001b[0m\u001b[0mkwargs\u001b[0m\u001b[1;33m)\u001b[0m\u001b[1;33m\u001b[0m\u001b[1;33m\u001b[0m\u001b[0m\n\u001b[0m\u001b[0;32m   1439\u001b[0m \u001b[1;33m\u001b[0m\u001b[0m\n\u001b[0;32m   1440\u001b[0m         \u001b[0mbound\u001b[0m \u001b[1;33m=\u001b[0m \u001b[0mnew_sig\u001b[0m\u001b[1;33m.\u001b[0m\u001b[0mbind\u001b[0m\u001b[1;33m(\u001b[0m\u001b[0max\u001b[0m\u001b[1;33m,\u001b[0m \u001b[1;33m*\u001b[0m\u001b[0margs\u001b[0m\u001b[1;33m,\u001b[0m \u001b[1;33m**\u001b[0m\u001b[0mkwargs\u001b[0m\u001b[1;33m)\u001b[0m\u001b[1;33m\u001b[0m\u001b[1;33m\u001b[0m\u001b[0m\n",
      "\u001b[1;32m~\\Anaconda3\\lib\\site-packages\\matplotlib\\cbook\\deprecation.py\u001b[0m in \u001b[0;36mwrapper\u001b[1;34m(*inner_args, **inner_kwargs)\u001b[0m\n\u001b[0;32m    409\u001b[0m                          \u001b[1;32melse\u001b[0m \u001b[0mdeprecation_addendum\u001b[0m\u001b[1;33m,\u001b[0m\u001b[1;33m\u001b[0m\u001b[1;33m\u001b[0m\u001b[0m\n\u001b[0;32m    410\u001b[0m                 **kwargs)\n\u001b[1;32m--> 411\u001b[1;33m         \u001b[1;32mreturn\u001b[0m \u001b[0mfunc\u001b[0m\u001b[1;33m(\u001b[0m\u001b[1;33m*\u001b[0m\u001b[0minner_args\u001b[0m\u001b[1;33m,\u001b[0m \u001b[1;33m**\u001b[0m\u001b[0minner_kwargs\u001b[0m\u001b[1;33m)\u001b[0m\u001b[1;33m\u001b[0m\u001b[1;33m\u001b[0m\u001b[0m\n\u001b[0m\u001b[0;32m    412\u001b[0m \u001b[1;33m\u001b[0m\u001b[0m\n\u001b[0;32m    413\u001b[0m     \u001b[1;32mreturn\u001b[0m \u001b[0mwrapper\u001b[0m\u001b[1;33m\u001b[0m\u001b[1;33m\u001b[0m\u001b[0m\n",
      "\u001b[1;32m~\\Anaconda3\\lib\\site-packages\\matplotlib\\axes\\_axes.py\u001b[0m in \u001b[0;36mscatter\u001b[1;34m(self, x, y, s, c, marker, cmap, norm, vmin, vmax, alpha, linewidths, verts, edgecolors, plotnonfinite, **kwargs)\u001b[0m\n\u001b[0;32m   4449\u001b[0m \u001b[1;33m\u001b[0m\u001b[0m\n\u001b[0;32m   4450\u001b[0m         \u001b[0mc\u001b[0m\u001b[1;33m,\u001b[0m \u001b[0mcolors\u001b[0m\u001b[1;33m,\u001b[0m \u001b[0medgecolors\u001b[0m \u001b[1;33m=\u001b[0m\u001b[0;31m \u001b[0m\u001b[0;31m\\\u001b[0m\u001b[1;33m\u001b[0m\u001b[1;33m\u001b[0m\u001b[0m\n\u001b[1;32m-> 4451\u001b[1;33m             self._parse_scatter_color_args(\n\u001b[0m\u001b[0;32m   4452\u001b[0m                 \u001b[0mc\u001b[0m\u001b[1;33m,\u001b[0m \u001b[0medgecolors\u001b[0m\u001b[1;33m,\u001b[0m \u001b[0mkwargs\u001b[0m\u001b[1;33m,\u001b[0m \u001b[0mx\u001b[0m\u001b[1;33m.\u001b[0m\u001b[0msize\u001b[0m\u001b[1;33m,\u001b[0m\u001b[1;33m\u001b[0m\u001b[1;33m\u001b[0m\u001b[0m\n\u001b[0;32m   4453\u001b[0m                 get_next_color_func=self._get_patches_for_fill.get_next_color)\n",
      "\u001b[1;32m~\\Anaconda3\\lib\\site-packages\\matplotlib\\axes\\_axes.py\u001b[0m in \u001b[0;36m_parse_scatter_color_args\u001b[1;34m(c, edgecolors, kwargs, xsize, get_next_color_func)\u001b[0m\n\u001b[0;32m   4230\u001b[0m                 \u001b[0mmcolors\u001b[0m\u001b[1;33m.\u001b[0m\u001b[0mto_rgba_array\u001b[0m\u001b[1;33m(\u001b[0m\u001b[0mkwcolor\u001b[0m\u001b[1;33m)\u001b[0m\u001b[1;33m\u001b[0m\u001b[1;33m\u001b[0m\u001b[0m\n\u001b[0;32m   4231\u001b[0m             \u001b[1;32mexcept\u001b[0m \u001b[0mValueError\u001b[0m \u001b[1;32mas\u001b[0m \u001b[0merr\u001b[0m\u001b[1;33m:\u001b[0m\u001b[1;33m\u001b[0m\u001b[1;33m\u001b[0m\u001b[0m\n\u001b[1;32m-> 4232\u001b[1;33m                 raise ValueError(\n\u001b[0m\u001b[0;32m   4233\u001b[0m                     \u001b[1;34m\"'color' kwarg must be an color or sequence of color \"\u001b[0m\u001b[1;33m\u001b[0m\u001b[1;33m\u001b[0m\u001b[0m\n\u001b[0;32m   4234\u001b[0m                     \u001b[1;34m\"specs.  For a sequence of values to be color-mapped, use \"\u001b[0m\u001b[1;33m\u001b[0m\u001b[1;33m\u001b[0m\u001b[0m\n",
      "\u001b[1;31mValueError\u001b[0m: 'color' kwarg must be an color or sequence of color specs.  For a sequence of values to be color-mapped, use the 'c' argument instead."
     ]
    },
    {
     "data": {
      "image/png": "[encoded data removed]",
      "text/plain": [
       "<Figure size 432x288 with 1 Axes>"
      ]
     },
     "metadata": {
      "needs_background": "light"
     },
     "output_type": "display_data"
    }
   ],
   "source": [
    "# COMPLETAR\r\n",
    "fig, ax = plt.subplots()\r\n",
    "ax.scatter(wine_reviews.price,wine_reviews.points, label=wine_reviews.variety, color= 'C')\r\n",
    "\r\n",
    "plt.title('Relación precio vs puntaje')\r\n",
    "plt.xlabel('Precio')\r\n",
    "plt.ylabel('Puntaje')\r\n",
    "plt.legend()\r\n",
    "plt.xlim(left=0 , right=1000)   # cambia el límite sólo al lado derecho\r\n",
    "plt.show"
   ]
  },
  {
   "cell_type": "markdown",
   "metadata": {
    "id": "OpYoPn23Qaa8"
   },
   "source": [
    "**Ejercicio 3:** Selecciona solamente solamente los vinos realizados en Argentina, Italia y un país de su elección (recuerde usar máscaras) y realice nuevamente un scatter plot de precio vs puntaje para estos vinos. Distinga, utilizando una leyenda, la procedencia de cada vino. **Recomendaciones:** \n",
    "* Si no sabes bien por dónde empezar, empieza haciéndolo para un solo país y luego ve agregando al resto.\n",
    "* NO es necesario, pero puede ser útil utilizar un for-loop.\n",
    "* No te olvides de etiquetar los ejes y poner un título.\n",
    "* Si los puntos se ocultan entre sí, puede ser útil utilzar el argumento `alpha` en `plt.scatter`. También, cambiar el orden en que grafican cada país y el tamaño de la figura.\n",
    "* Hecho correctamente, el gráfico te puede indicar qué país tiene mejor relación calidad-precio en sus vinos.\n",
    "\n",
    "¡Experimenta hasta lograr un gráfico que te parezca interesante!"
   ]
  },
  {
   "cell_type": "code",
   "execution_count": null,
   "metadata": {
    "colab": {
     "base_uri": "https://localhost:8080/",
     "height": 312
    },
    "id": "bb3yftYAQaa_",
    "outputId": "f479e9b0-1c29-4619-defb-9f135bea5e7e"
   },
   "outputs": [],
   "source": [
    "# COMPLETAR\r\n",
    "mascara= wine_reviews[(wine_reviews.country=='Argentina') | (wine_reviews.country=='Italy') | (wine_reviews.country=='Portugal')]\r\n",
    "#mascara.head()\r\n",
    "\r\n",
    "# Definir un color por país\r\n",
    "colores= {'Argentina' : 'Red', 'Italy' : 'Blue', 'Portugal' : 'Yellow'}\r\n",
    "pais_color= mascara.country.map(colores)\r\n",
    "\r\n",
    "fig, ax = plt.subplots()\r\n",
    "ax.scatter(mascara.price,mascara.points, color= pais_color, alpha= 0.7)\r\n",
    "\r\n",
    "plt.title('Relación precio vs puntaje')\r\n",
    "plt.xlabel('Precio')\r\n",
    "plt.ylabel('Puntaje')\r\n",
    "\r\n",
    "for pais in set(mascara.country):  ##Corregir la leyenda\r\n",
    "    ax.scatter(\r\n",
    "        mascara.price[mascara.country == pais],\r\n",
    "        mascara.points[mascara.country == pais],\r\n",
    "        s = 30,\r\n",
    "        c = colores[pais],\r\n",
    "        label = pais)\r\n",
    "\r\n",
    "plt.legend()\r\n",
    "plt.xlim(left=0 , right=500)   # cambia el límite sólo al lado derecho\r\n",
    "plt.show\r\n"
   ]
  },
  {
   "cell_type": "markdown",
   "metadata": {
    "id": "k_U5KgHOQabL"
   },
   "source": [
    "## Extras Uno\n",
    "\n",
    "A continuación, puedes ver cómo creamos los ejemplos para la bitácora. Prestar atención a que usamos la función `plt.subplot()`. ¿Qué te parece que hace? También, prestar atención a cómo modificar el tamaño de una figura."
   ]
  },
  {
   "cell_type": "code",
   "execution_count": null,
   "metadata": {
    "id": "sWR2WZIfQabS"
   },
   "outputs": [],
   "source": [
    "import numpy as np\n",
    "import matplotlib.pyplot as plt"
   ]
  },
  {
   "cell_type": "code",
   "execution_count": null,
   "metadata": {
    "id": "6gIHQX-IQabb"
   },
   "outputs": [],
   "source": [
    "x = np.linspace(0,10,50)\n",
    "y = np.sin(x)"
   ]
  },
  {
   "cell_type": "code",
   "execution_count": null,
   "metadata": {
    "colab": {
     "base_uri": "https://localhost:8080/",
     "height": 323
    },
    "id": "3RsrEh-rQabq",
    "outputId": "ea875ab2-b950-4d28-e90a-c5238eb3c0e6"
   },
   "outputs": [],
   "source": [
    "plt.figure(figsize = (6.4*3,4.8))\n",
    "plt.subplot(1,3,1)\n",
    "plt.scatter(x,y)\n",
    "\n",
    "plt.subplot(1,3,2)\n",
    "plt.plot(x,y)\n",
    "\n",
    "plt.subplot(1,3,3)\n",
    "plt.plot(x,y, 'o-')\n",
    "\n",
    "plt.tight_layout()\n",
    "# plt.savefig('DS_Bitacora_06_Ejemplos_puntos_y_lineas.png', dpi = 300)\n",
    "plt.show()"
   ]
  },
  {
   "cell_type": "code",
   "execution_count": null,
   "metadata": {
    "id": "DKkyb3oJQab2"
   },
   "outputs": [],
   "source": [
    "x = np.linspace(0,10,200) + 0.15*np.random.randn(200)\n",
    "y = np.sin(x) + 0.15*np.random.randn(200)"
   ]
  },
  {
   "cell_type": "code",
   "execution_count": null,
   "metadata": {
    "colab": {
     "base_uri": "https://localhost:8080/",
     "height": 355
    },
    "id": "kjtCOJtqQab_",
    "outputId": "a5eb714b-abae-4c8e-b071-18be5ed46de4"
   },
   "outputs": [],
   "source": [
    "plt.figure(figsize = (6.4*2,4.8))\n",
    "plt.subplot(1,2,1)\n",
    "plt.scatter(x ,y)\n",
    "\n",
    "plt.subplot(1,2,2)\n",
    "plt.plot(x,y)\n",
    "\n",
    "\n",
    "plt.tight_layout()\n",
    "# plt.savefig('DS_Bitacora_06_Ejemplos_puntos_y_lineas_malo.png', dpi = 300)\n",
    "plt.show()"
   ]
  },
  {
   "cell_type": "code",
   "execution_count": null,
   "metadata": {
    "id": "j3_6shRvQacJ"
   },
   "outputs": [],
   "source": [
    "muestras = np.random.normal(50,15, 5000)"
   ]
  },
  {
   "cell_type": "code",
   "execution_count": null,
   "metadata": {
    "colab": {
     "base_uri": "https://localhost:8080/",
     "height": 355
    },
    "id": "7a1a88vjQacT",
    "outputId": "12557b60-5083-4c16-b301-102fd0767f1e"
   },
   "outputs": [],
   "source": [
    "plt.figure(figsize = (6.4*2,4.8))\n",
    "plt.subplot(1,2,1)\n",
    "plt.hist(muestras, bins = range(0,101,10), alpha = 0.75, edgecolor='black', linewidth=1.2)\n",
    "\n",
    "plt.subplot(1,2,2)\n",
    "plt.hist(muestras, bins = range(0,101,10), alpha = 0.75, edgecolor='black', linewidth=1.2, weights=np.ones_like(muestras)/len(muestras))\n",
    "\n",
    "plt.tight_layout()\n",
    "# plt.savefig('DS_Bitacora_06_Ejemplos_histograma.png', dpi = 300)\n",
    "plt.show()"
   ]
  },
  {
   "cell_type": "code",
   "execution_count": null,
   "metadata": {
    "colab": {
     "base_uri": "https://localhost:8080/",
     "height": 323
    },
    "id": "aorw8mo-QadC",
    "outputId": "543a5d32-8a6f-4400-aabe-c4ae8eaa8b1f"
   },
   "outputs": [],
   "source": [
    "muestras = np.random.normal(50,15, 200)\n",
    "\n",
    "plt.figure(figsize = (6.4*3,4.8))\n",
    "plt.subplot(1,3,1)\n",
    "plt.hist(muestras, bins = np.linspace(0,100,6), alpha = 0.75, edgecolor='black', linewidth=1.2)\n",
    "\n",
    "plt.subplot(1,3,2)\n",
    "plt.hist(muestras, bins = np.linspace(0,100,21), alpha = 0.75, edgecolor='black', linewidth=1.2)\n",
    "\n",
    "plt.subplot(1,3,3)\n",
    "plt.hist(muestras, bins = np.linspace(0,100,101), alpha = 0.75, edgecolor='black', linewidth=1.2)\n",
    "\n",
    "plt.tight_layout()\n",
    "# plt.savefig('DS_Bitacora_06_Ejemplos_histograma_muchos_bines.png', dpi = 300)\n",
    "plt.show()"
   ]
  },
  {
   "cell_type": "markdown",
   "metadata": {
    "id": "4sJrOnZDQadK"
   },
   "source": [
    "## Extras Dos \n",
    "\n",
    "Veamos cómo hacer algunos gráficos usando los elementos `fig` y `ax`. ¡Notar que algunas instrucciones son muy parecidas!"
   ]
  },
  {
   "cell_type": "code",
   "execution_count": null,
   "metadata": {
    "colab": {
     "base_uri": "https://localhost:8080/",
     "height": 282
    },
    "id": "8dBRgIMVQadM",
    "outputId": "6353510a-b500-4207-815c-983cf220632b"
   },
   "outputs": [],
   "source": [
    "# Generamos las dos curvas\n",
    "x = np.arange(0.0, 2.0, 0.01)\n",
    "y = 1 + np.sin(2 * np.pi * x)\n",
    "\n",
    "x2 = np.arange(0.0, 2.0, 0.01)\n",
    "y2 = x2\n",
    "\n",
    "# Generamos la figura y los ejes\n",
    "fig = plt.figure()\n",
    "ax = plt.axes()\n",
    "\n",
    "# Ploteamos las dos lineas\n",
    "ax.plot(x, y)\n",
    "ax.plot(x2,y2)"
   ]
  },
  {
   "cell_type": "code",
   "execution_count": null,
   "metadata": {
    "colab": {
     "base_uri": "https://localhost:8080/",
     "height": 295
    },
    "id": "VdOdvzY3QadW",
    "outputId": "eb7018bf-4f78-4d51-e7ae-61b0785ae508"
   },
   "outputs": [],
   "source": [
    "fig = plt.figure()\n",
    "ax = plt.axes()\n",
    "\n",
    "ax.plot(x, y, color = 'k', linewidth = 2, linestyle = '-')\n",
    "\n",
    "# Podemos agregarle etiquetas a los ejes y un titulo al gráfico\n",
    "ax.set(xlabel='Tiempo (s)', ylabel='Temperatura (°C)',\n",
    "       title='Valor de temperatura')\n",
    "\n",
    "# Podemos también modificar los márgenes del gráfico\n",
    "ax.set(xlim = (0,1), ylim = (0,4))\n",
    "\n",
    "# Este comando enciende la grilla de referencia \n",
    "ax.grid()\n",
    "\n",
    "# Con este comando pueden guardar la imagen en su pc\n",
    "#fig.savefig(\"test.png\")"
   ]
  }
 ],
 "metadata": {
  "colab": {
   "collapsed_sections": [],
   "name": "Copia de DS_Bitácora_06_Matplotlib.ipynb",
   "provenance": []
  },
  "kernelspec": {
   "display_name": "Python 3",
   "language": "python",
   "name": "python3"
  },
  "language_info": {
   "codemirror_mode": {
    "name": "ipython",
    "version": 3
   },
   "file_extension": ".py",
   "mimetype": "text/x-python",
   "name": "python",
   "nbconvert_exporter": "python",
   "pygments_lexer": "ipython3",
   "version": "3.8.5"
  }
 },
 "nbformat": 4,
 "nbformat_minor": 4
}
