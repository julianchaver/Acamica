{
  "nbformat": 4,
  "nbformat_minor": 0,
  "metadata": {
    "kernelspec": {
      "display_name": "Python 3",
      "language": "python",
      "name": "python3"
    },
    "language_info": {
      "codemirror_mode": {
        "name": "ipython",
        "version": 3
      },
      "file_extension": ".py",
      "mimetype": "text/x-python",
      "name": "python",
      "nbconvert_exporter": "python",
      "pygments_lexer": "ipython3",
      "version": "3.7.3"
    },
    "colab": {
      "name": "Copia de Copia de DS_Bitácora_13_Evaluación.ipynb",
      "provenance": [],
      "toc_visible": true
    }
  },
  "cells": [
    {
      "cell_type": "markdown",
      "metadata": {
        "id": "MExW75iNTzsb"
      },
      "source": [
        "# Evaluación de Modelos\n",
        "\n",
        "\n",
        "En este notebook veremos cómo implementar los pasos necesarios para una correcta evaluación de modelos. Las secciones del notebook son:\n",
        "1. Comenzaremos con nuestro infaltable ejemplo con el dataset de Iris, implementando un `train_test_split` y, luego, optimización de hiperparámetros. A esta altura, ya debés estar cansado/a de este dataset. Pero si entiendes bien este ejemplo, el resto será más fácil.\n",
        "2. En esta sección, debes aplicar lo aprendido en el dataset de Titanic.\n",
        "\n",
        "## 1. Train-Test Split y Optimización de Hiperparámetros\n",
        "\n",
        "### 1.1 Train-Test Split\n",
        "\n",
        "1. Carga del dataset y separa en `X` e `y` como venimos haciendo."
      ]
    },
    {
      "cell_type": "code",
      "metadata": {
        "scrolled": true,
        "id": "mUlqdzrFTzsg"
      },
      "source": [
        "import pandas as pd\n",
        "import numpy as np\n",
        "\n",
        "import matplotlib.pyplot as plt\n",
        "import seaborn as sns\n",
        "\n",
        "from sklearn.datasets import load_iris"
      ],
      "execution_count": null,
      "outputs": []
    },
    {
      "cell_type": "code",
      "metadata": {
        "id": "_o53AFYDTzsh",
        "colab": {
          "base_uri": "https://localhost:8080/",
          "height": 204
        },
        "outputId": "27190391-0fc3-4619-9bf7-2130f2785e4f"
      },
      "source": [
        "iris = load_iris()\n",
        "data = pd.DataFrame(data= np.c_[iris['data'],iris['target']],columns=iris['feature_names']+['target'])\n",
        "data.head()"
      ],
      "execution_count": null,
      "outputs": [
        {
          "output_type": "execute_result",
          "data": {
            "text/html": [
              "<div>\n",
              "<style scoped>\n",
              "    .dataframe tbody tr th:only-of-type {\n",
              "        vertical-align: middle;\n",
              "    }\n",
              "\n",
              "    .dataframe tbody tr th {\n",
              "        vertical-align: top;\n",
              "    }\n",
              "\n",
              "    .dataframe thead th {\n",
              "        text-align: right;\n",
              "    }\n",
              "</style>\n",
              "<table border=\"1\" class=\"dataframe\">\n",
              "  <thead>\n",
              "    <tr style=\"text-align: right;\">\n",
              "      <th></th>\n",
              "      <th>sepal length (cm)</th>\n",
              "      <th>sepal width (cm)</th>\n",
              "      <th>petal length (cm)</th>\n",
              "      <th>petal width (cm)</th>\n",
              "      <th>target</th>\n",
              "    </tr>\n",
              "  </thead>\n",
              "  <tbody>\n",
              "    <tr>\n",
              "      <th>0</th>\n",
              "      <td>5.1</td>\n",
              "      <td>3.5</td>\n",
              "      <td>1.4</td>\n",
              "      <td>0.2</td>\n",
              "      <td>0.0</td>\n",
              "    </tr>\n",
              "    <tr>\n",
              "      <th>1</th>\n",
              "      <td>4.9</td>\n",
              "      <td>3.0</td>\n",
              "      <td>1.4</td>\n",
              "      <td>0.2</td>\n",
              "      <td>0.0</td>\n",
              "    </tr>\n",
              "    <tr>\n",
              "      <th>2</th>\n",
              "      <td>4.7</td>\n",
              "      <td>3.2</td>\n",
              "      <td>1.3</td>\n",
              "      <td>0.2</td>\n",
              "      <td>0.0</td>\n",
              "    </tr>\n",
              "    <tr>\n",
              "      <th>3</th>\n",
              "      <td>4.6</td>\n",
              "      <td>3.1</td>\n",
              "      <td>1.5</td>\n",
              "      <td>0.2</td>\n",
              "      <td>0.0</td>\n",
              "    </tr>\n",
              "    <tr>\n",
              "      <th>4</th>\n",
              "      <td>5.0</td>\n",
              "      <td>3.6</td>\n",
              "      <td>1.4</td>\n",
              "      <td>0.2</td>\n",
              "      <td>0.0</td>\n",
              "    </tr>\n",
              "  </tbody>\n",
              "</table>\n",
              "</div>"
            ],
            "text/plain": [
              "   sepal length (cm)  sepal width (cm)  ...  petal width (cm)  target\n",
              "0                5.1               3.5  ...               0.2     0.0\n",
              "1                4.9               3.0  ...               0.2     0.0\n",
              "2                4.7               3.2  ...               0.2     0.0\n",
              "3                4.6               3.1  ...               0.2     0.0\n",
              "4                5.0               3.6  ...               0.2     0.0\n",
              "\n",
              "[5 rows x 5 columns]"
            ]
          },
          "metadata": {
            "tags": []
          },
          "execution_count": 2
        }
      ]
    },
    {
      "cell_type": "code",
      "metadata": {
        "id": "32QzBgWITzsh"
      },
      "source": [
        "X = data[['petal length (cm)','petal width (cm)']]\n",
        "y = data.target"
      ],
      "execution_count": null,
      "outputs": []
    },
    {
      "cell_type": "code",
      "metadata": {
        "colab": {
          "base_uri": "https://localhost:8080/"
        },
        "id": "cpKz5GYFe4ij",
        "outputId": "ea45a224-50b5-42d9-9bc7-4d13ac39e273"
      },
      "source": [
        "print(X.shape)\r\n",
        "print(y.shape)"
      ],
      "execution_count": null,
      "outputs": [
        {
          "output_type": "stream",
          "text": [
            "(150, 2)\n",
            "(150,)\n"
          ],
          "name": "stdout"
        }
      ]
    },
    {
      "cell_type": "markdown",
      "metadata": {
        "id": "jbar266_Tzsh"
      },
      "source": [
        "Luego, como aprendimos, vamos a separar el dataset en conjuntos de entrenamiento `X_train, y_train` y de testeo `X_test,y_test` usando la función `train_test_split` de Scikit-Learn (¡recuerda mirar su documentación e importarla!). Esto lo hacemos para separar parte de los datos `X_test,y_test` con los cuales **no vamos a entrenar el modelo, sino que vamos a usarlos únicamente para evaluar su desempeño**.\n",
        "\n",
        "2. Separa `X` e `y`, tomando en las variables `X_train, y_train` un 70% para entrenamiento y en las variables `X_test,y_test` un 30% para evaluación. Recuerda fijar el `random_state`."
      ]
    },
    {
      "cell_type": "code",
      "metadata": {
        "id": "gdHv2nuVTzsi"
      },
      "source": [
        "# COMPLETAR\r\n",
        "from sklearn.model_selection import train_test_split\r\n",
        "X_train, X_test, y_train, y_test = train_test_split(X, y, test_size= 0.3, random_state=18, shuffle=True, stratify= None )"
      ],
      "execution_count": null,
      "outputs": []
    },
    {
      "cell_type": "markdown",
      "metadata": {
        "id": "2E_UO-OJTzsi"
      },
      "source": [
        "3. Crea un modelo de vecino más cercanos y entrénalo sobre el conjunto de Train."
      ]
    },
    {
      "cell_type": "code",
      "metadata": {
        "id": "WRlmjmb-Tzsi"
      },
      "source": [
        "# COMPLETAR\n",
        "from sklearn.neighbors import KNeighborsClassifier\n",
        "n_neighbors = 30\n",
        "clf_knn = KNeighborsClassifier(n_neighbors= n_neighbors)"
      ],
      "execution_count": null,
      "outputs": []
    },
    {
      "cell_type": "code",
      "metadata": {
        "id": "bhOhtKSKTzsi",
        "colab": {
          "base_uri": "https://localhost:8080/"
        },
        "outputId": "d64a88bf-5895-48d0-f54d-78844a05cc61"
      },
      "source": [
        "# COMPLETAR\r\n",
        "clf_knn.fit(X_train, y_train)"
      ],
      "execution_count": null,
      "outputs": [
        {
          "output_type": "execute_result",
          "data": {
            "text/plain": [
              "KNeighborsClassifier(algorithm='auto', leaf_size=30, metric='minkowski',\n",
              "                     metric_params=None, n_jobs=None, n_neighbors=30, p=2,\n",
              "                     weights='uniform')"
            ]
          },
          "metadata": {
            "tags": []
          },
          "execution_count": 27
        }
      ]
    },
    {
      "cell_type": "markdown",
      "metadata": {
        "id": "FlpKECOxTzsi"
      },
      "source": [
        "4. Predice las etiquetas sobre el conjunto de Train y sobre el conjunto de Test."
      ]
    },
    {
      "cell_type": "code",
      "metadata": {
        "id": "dsB6148gTzsj"
      },
      "source": [
        "y_train_pred = clf_knn.predict(X_train) # COMPLETAR\n",
        "y_test_pred = clf_knn.predict(X_test)   # COMPLETAR"
      ],
      "execution_count": null,
      "outputs": []
    },
    {
      "cell_type": "markdown",
      "metadata": {
        "id": "0linnhSgTzsj"
      },
      "source": [
        "5. Evalúa el desempeño del modelo usando la función `accuracy_score` y la matriz de confusión sobre ambos conjuntos (Train y Test)."
      ]
    },
    {
      "cell_type": "code",
      "metadata": {
        "id": "LX_n7hHATzsj",
        "colab": {
          "base_uri": "https://localhost:8080/"
        },
        "outputId": "7e5fc964-6777-4125-d876-fcbea698d35e"
      },
      "source": [
        "# COMPLETAR\r\n",
        "from sklearn.metrics import accuracy_score, confusion_matrix\r\n",
        "\r\n",
        "accuracy_score(y_train_pred,y_train) # Exactitud del modelo con los datos de entrenamiento"
      ],
      "execution_count": null,
      "outputs": [
        {
          "output_type": "execute_result",
          "data": {
            "text/plain": [
              "0.9333333333333333"
            ]
          },
          "metadata": {
            "tags": []
          },
          "execution_count": 29
        }
      ]
    },
    {
      "cell_type": "code",
      "metadata": {
        "id": "qsDKS4SfTzsj",
        "colab": {
          "base_uri": "https://localhost:8080/"
        },
        "outputId": "bf749b5a-86e5-4de4-c76b-4824c2abb3d2"
      },
      "source": [
        "# COMPLETAR\r\n",
        "\r\n",
        "confusion_matrix(y_train_pred, y_train)"
      ],
      "execution_count": null,
      "outputs": [
        {
          "output_type": "execute_result",
          "data": {
            "text/plain": [
              "array([[35,  0,  0],\n",
              "       [ 0, 36,  6],\n",
              "       [ 0,  1, 27]])"
            ]
          },
          "metadata": {
            "tags": []
          },
          "execution_count": 30
        }
      ]
    },
    {
      "cell_type": "code",
      "metadata": {
        "id": "5Iw5bzxBTzsj",
        "colab": {
          "base_uri": "https://localhost:8080/"
        },
        "outputId": "f03be443-cbbc-4b9a-8438-2e5b4a475194"
      },
      "source": [
        "# COMPLETAR\r\n",
        "accuracy_score(y_test_pred,y_test) #Exactitud del modelo con los datos de testeo"
      ],
      "execution_count": null,
      "outputs": [
        {
          "output_type": "execute_result",
          "data": {
            "text/plain": [
              "0.9777777777777777"
            ]
          },
          "metadata": {
            "tags": []
          },
          "execution_count": 31
        }
      ]
    },
    {
      "cell_type": "code",
      "metadata": {
        "id": "wZen06TVTzsk",
        "colab": {
          "base_uri": "https://localhost:8080/"
        },
        "outputId": "97f1bcda-8e22-40ee-92c7-96359dfd85aa"
      },
      "source": [
        "# COMPLETAR\r\n",
        "\r\n",
        "confusion_matrix(y_test_pred,y_test)"
      ],
      "execution_count": null,
      "outputs": [
        {
          "output_type": "execute_result",
          "data": {
            "text/plain": [
              "array([[15,  0,  0],\n",
              "       [ 0, 13,  1],\n",
              "       [ 0,  0, 16]])"
            ]
          },
          "metadata": {
            "tags": []
          },
          "execution_count": 32
        }
      ]
    },
    {
      "cell_type": "markdown",
      "metadata": {
        "id": "IVHL2L1OTzsk"
      },
      "source": [
        "**Para Pensar**:\n",
        "\n",
        "1. ¿Qué ocurre con el desempeño con número de vecinos igual a 1 y un número de vecinos grande (del orden del tamaño del dataset?\n",
        "2. ¿Cuál será el número óptimo de vecinos para este modelo?¿Cómo podrías obtenerlo?\n",
        "\n",
        "\n",
        "### 1.2 Encontrando el mejor hiperparámetro\n",
        "\n",
        "Durante el entrenamiento, el modelo ajusta ciertas característica intrínsecas que llamamos parámetros. Por ejemplo, un árbol de decisión debe decidir automáticamente con qué umbrales comparar ciertos atributos en cada nodo. Pero los hiperparámetros son características que debemos definir nosotros; por ejemplo, la profundidad del árbol o el número de vecinos. Optimización de hiperparámetros se lleva un tiempo considerable en un flujo de ML, y si bien hay técnicas más o menos automáticas para hacerlo, al final siempre tiene algo artesanal. Además, está fuertemente ligado a la evaluación de nuestro modelo: siempre optimizamos hiperparámetros dada cierta métrica. Esta métrica se define en función del problema, nuestras necesidades y posibilidades.\n",
        " \n",
        "La variación de hiperparámetros está asociada a la complejidad del modelo, al overfitting y al underfitting. Por ejemplo, en el caso de árboles de decisión, un árbol de profundidad 1 es mucho más sencillo que uno de profundidad 10. En el primer caso, el modelo tenderá a estar subajustado, mientras que en el segundo, sobreajustado. En esta sección vamos a empezar haciendo la optimización más sencilla posible, un sólo hiperparámetro. En este caso, una buena opción es probar con muchos valores del hiperparámetro, y graficar su desempeño en función de estos valores. De esta forma, variamos la complejidad del modelo y observámos como impacta en su desempeño. Estas curvas se llaman curvas de validación, y se pueden hacer automáticamente desde Scikit-Learn, pero primero las vamos a hacer *a mano* para entender bien su funcionamiento.\n",
        "\n",
        "Vamos a ver esto en el caso de un modelo de vecinos más cercanos. Para ello, debemos evaluar la exactitud y del modelo en el set de train y test para distintos valores del parámetro `n_neighbors`. Vamos entonces a repetir el esquema de: **definir, entrenar y predecir** en un loop `for` que recorre una lista con distintos valores de vecinos.\n",
        "\n",
        "**Ejercicio**: Trabaja en el siguiente bloque de codigo, de manera de completar con valores las listas `lista_accuracy_train` y `lista_accuracy_test`."
      ]
    },
    {
      "cell_type": "code",
      "metadata": {
        "id": "mL_6vBD4Tzsk"
      },
      "source": [
        "# Definimos las listas vacias para los valores de accuracy deseados\n",
        "lista_accuracy_train = []\n",
        "lista_accuracy_test = []\n",
        "\n",
        "# Definimos la lista de valores de k que vamos a explorar\n",
        "k_vecinos = [1,2,3,4,5,6,7,8,9,10,15,20,25,30,35,40,50]\n",
        "\n",
        "# Generamos un loop sobre los distintos valores de k \n",
        "for k in k_vecinos:\n",
        "    \n",
        "    # Vamos a repetir el siguiente bloque de código\n",
        "    \n",
        "    # Definir el modelo con el valor de vecinos deseado\n",
        "    clf = KNeighborsClassifier(n_neighbors= k)\n",
        "    \n",
        "    # Entrenar el modelo\n",
        "    clf.fit(X_train,y_train)\n",
        "    \n",
        "    # Predecir y evaluar sobre el set de entrenamiento\n",
        "    y_train_pred = clf.predict(X_train)\n",
        "    train_acc = accuracy_score(y_train, y_train_pred)\n",
        "    \n",
        "    # Predecir y evaluar sobre el set de evaluación\n",
        "    y_test_pred = clf.predict(X_test)\n",
        "    test_acc = accuracy_score(y_test,y_test_pred)\n",
        "    \n",
        "    # Agregar la información a las listas\n",
        "    lista_accuracy_train.append(train_acc)\n",
        "    lista_accuracy_test.append(test_acc)"
      ],
      "execution_count": null,
      "outputs": []
    },
    {
      "cell_type": "markdown",
      "metadata": {
        "id": "MZ5eZQAeTzsk"
      },
      "source": [
        "**Ejercicio**: Realiza un gráfico que muestre la curvas de accuracy en el set de entrenamiento (`lista_accuracy_train`) y accuracy en el set de testeo (`lista_accuracy_test`) en función del numero de vecinos (`k_vecinos`)."
      ]
    },
    {
      "cell_type": "code",
      "metadata": {
        "id": "9WkbIJLLTzsl",
        "colab": {
          "base_uri": "https://localhost:8080/",
          "height": 296
        },
        "outputId": "9000694f-cc37-42a8-85a1-a36128f4cbae"
      },
      "source": [
        "plt.plot(k_vecinos,lista_accuracy_train,'o-',label='train' )\n",
        "plt.plot(k_vecinos,lista_accuracy_test,'o-',label='test')\n",
        "plt.legend()\n",
        "plt.xlabel('Número de vecinos')\n",
        "plt.ylabel('Exactitud del modelo')"
      ],
      "execution_count": null,
      "outputs": [
        {
          "output_type": "execute_result",
          "data": {
            "text/plain": [
              "Text(0, 0.5, 'Exactitud del modelo')"
            ]
          },
          "metadata": {
            "tags": []
          },
          "execution_count": 18
        },
        {
          "output_type": "display_data",
          "data": {
            "image/png": "[encoded data removed]",
            "text/plain": [
              "<Figure size 432x288 with 1 Axes>"
            ]
          },
          "metadata": {
            "tags": [],
            "needs_background": "light"
          }
        }
      ]
    },
    {
      "cell_type": "markdown",
      "metadata": {
        "id": "joHLPNTjTzsl"
      },
      "source": [
        "**Para pensar**: ¿cuál será el mejor hiperparámetro?¿En que región hay sobre-ajuste y en cuál sub-ajuste?\n",
        "\n",
        "Te dejamos una celda que puedes correr para observar distintas fronteras de decisión obtenidas para distintos valores del número de vecinos. ¿Notas para qué número de vecinos y en qué región está sobreajustando?"
      ]
    },
    {
      "cell_type": "code",
      "metadata": {
        "id": "3zHx-ZUoTzsl",
        "colab": {
          "base_uri": "https://localhost:8080/",
          "height": 1000
        },
        "outputId": "a555d975-6d84-40ca-884d-e91df3fccac5"
      },
      "source": [
        "from matplotlib.colors import ListedColormap\n",
        "\n",
        "X = data[['petal length (cm)', 'petal width (cm)']].values\n",
        "\n",
        "y = data.target\n",
        "h = .02  # step size in the mesh\n",
        "\n",
        "# Create color maps\n",
        "cmap_light = ListedColormap(['#FFAAAA', '#AAFFAA', '#AAAAFF'])\n",
        "cmap_bold = ListedColormap(['#FF0000', '#00FF00', '#0000FF'])\n",
        "\n",
        "for k in [1,5,25,50]:\n",
        "    \n",
        "    # we create an instance of Neighbours Classifier and fit the data.\n",
        "    clf = KNeighborsClassifier(n_neighbors=k)\n",
        "    clf.fit(X, y)\n",
        "\n",
        "    # Plot the decision boundary. For that, we will assign a color to each\n",
        "    # point in the mesh [x_min, x_max]x[y_min, y_max].\n",
        "    x_min, x_max = X[:, 0].min() - 1, X[:, 0].max() + 1\n",
        "    y_min, y_max = X[:, 1].min() - 1, X[:, 1].max() + 1\n",
        "    xx, yy = np.meshgrid(np.arange(x_min, x_max, h),\n",
        "                         np.arange(y_min, y_max, h))\n",
        "    Z = clf.predict(np.c_[xx.ravel(), yy.ravel()])\n",
        "\n",
        "    # Put the result into a color plot\n",
        "    Z = Z.reshape(xx.shape)\n",
        "    plt.figure()\n",
        "    plt.pcolormesh(xx, yy, Z, cmap=cmap_light)\n",
        "\n",
        "    # Plot also the training points\n",
        "    plt.scatter(X[:, 0], X[:, 1], c=y, cmap=cmap_bold,\n",
        "                edgecolor='k', s=20)\n",
        "    \n",
        "    plt.xlim(xx.min(), xx.max())\n",
        "    plt.ylim(yy.min(), yy.max())\n",
        "    plt.title(\"Clasificador KNN con k = %i\"% (k))"
      ],
      "execution_count": null,
      "outputs": [
        {
          "output_type": "display_data",
          "data": {
            "image/png": "[encoded data removed]",
            "text/plain": [
              "<Figure size 432x288 with 1 Axes>"
            ]
          },
          "metadata": {
            "tags": [],
            "needs_background": "light"
          }
        },
        {
          "output_type": "display_data",
          "data": {
            "image/png": "[encoded data removed]",
            "text/plain": [
              "<Figure size 432x288 with 1 Axes>"
            ]
          },
          "metadata": {
            "tags": [],
            "needs_background": "light"
          }
        },
        {
          "output_type": "display_data",
          "data": {
            "image/png": "[encoded data removed]",
            "text/plain": [
              "<Figure size 432x288 with 1 Axes>"
            ]
          },
          "metadata": {
            "tags": [],
            "needs_background": "light"
          }
        },
        {
          "output_type": "display_data",
          "data": {
            "image/png": "[encoded data removed]",
            "text/plain": [
              "<Figure size 432x288 with 1 Axes>"
            ]
          },
          "metadata": {
            "tags": [],
            "needs_background": "light"
          }
        }
      ]
    },
    {
      "cell_type": "markdown",
      "metadata": {
        "id": "zM5xeuwCTzsl"
      },
      "source": [
        "**Curvas de validacíon en Scikit-Learn**\n",
        "\n",
        "Mencionamos que puedes hacer curvas de validación en Scikit-Learn; puedes encontrar su documentación [aquí](https://scikit-learn.org/stable/modules/learning_curve.html), pero utilizan algo que todavía no vimos, Validación Cruzada. Sin embargo, puedes mirar la documentación para ir familiarizándote.\n",
        "\n",
        "**Ejercicio:** Repite entrenamiento, evaluación, optimización de hiperparámetro (profundidad) y visualización de fronteras para un`DecisionTreeClassifier`."
      ]
    },
    {
      "cell_type": "code",
      "metadata": {
        "id": "lEOLCgtyTzsm"
      },
      "source": [
        "# COMPLETAR\r\n",
        "from sklearn.tree import DecisionTreeClassifier\r\n",
        "clf_tree = DecisionTreeClassifier(max_depth = 2, random_state=42)"
      ],
      "execution_count": null,
      "outputs": []
    },
    {
      "cell_type": "code",
      "metadata": {
        "id": "1AATrcngTzsm"
      },
      "source": [
        "# COMPLETAR\r\n",
        "clf_tree.fit(X_train,y_train)\r\n",
        "\r\n",
        "y_train_pred = clf_tree.predict(X_train)\r\n",
        "y_test_pred = clf_tree.predict(X_test)"
      ],
      "execution_count": null,
      "outputs": []
    },
    {
      "cell_type": "code",
      "metadata": {
        "colab": {
          "base_uri": "https://localhost:8080/"
        },
        "id": "b-lDfk73K3LN",
        "outputId": "7500efee-4350-4f8a-d613-d27ed70f8847"
      },
      "source": [
        "train_acc = accuracy_score(y_train, y_train_pred)\r\n",
        "test_acc = accuracy_score(y_test, y_test_pred)\r\n",
        "\r\n",
        "print('Porcentaje de aceirtos sobre el set de entrenamiento:', train_acc)\r\n",
        "print('Porcentaje de aceirtos sobre el set de evaluación:',test_acc)"
      ],
      "execution_count": null,
      "outputs": [
        {
          "output_type": "stream",
          "text": [
            "Porcentaje de aceirtos sobre el set de entrenamiento: 0.9523809523809523\n",
            "Porcentaje de aceirtos sobre el set de evaluación: 0.9777777777777777\n"
          ],
          "name": "stdout"
        }
      ]
    },
    {
      "cell_type": "code",
      "metadata": {
        "colab": {
          "base_uri": "https://localhost:8080/"
        },
        "id": "F6GTYVedK-Ga",
        "outputId": "24cb12de-4b8b-45da-de93-3ae025700423"
      },
      "source": [
        "confusion_matrix(y_train, y_train_pred)"
      ],
      "execution_count": null,
      "outputs": [
        {
          "output_type": "execute_result",
          "data": {
            "text/plain": [
              "array([[35,  0,  0],\n",
              "       [ 0, 36,  1],\n",
              "       [ 0,  4, 29]])"
            ]
          },
          "metadata": {
            "tags": []
          },
          "execution_count": 37
        }
      ]
    },
    {
      "cell_type": "code",
      "metadata": {
        "colab": {
          "base_uri": "https://localhost:8080/"
        },
        "id": "1sC2xf5_LCUz",
        "outputId": "fdb1c452-11df-4278-8305-5bfd139a73be"
      },
      "source": [
        "confusion_matrix(y_test, y_test_pred)"
      ],
      "execution_count": null,
      "outputs": [
        {
          "output_type": "execute_result",
          "data": {
            "text/plain": [
              "array([[15,  0,  0],\n",
              "       [ 0, 13,  0],\n",
              "       [ 0,  1, 16]])"
            ]
          },
          "metadata": {
            "tags": []
          },
          "execution_count": 38
        }
      ]
    },
    {
      "cell_type": "code",
      "metadata": {
        "id": "Enz1ccnHTzsm",
        "colab": {
          "base_uri": "https://localhost:8080/"
        },
        "outputId": "076796ef-ab3b-4eed-be31-831639901251"
      },
      "source": [
        "# Definimos las listas vacias para los valores de accuracy deseados\n",
        "lista_accuracy_train = []\n",
        "lista_accuracy_test = []\n",
        "\n",
        "# Definimos la lista de valores de max_depth que vamos a explorar\n",
        "max_depths = [1,2,3,4,5,6,7,8,9,10]\n",
        "\n",
        "# Generamos un loop sobre los distintos valores de profundidad \n",
        "for max_depth in max_depths:\n",
        "    # COMPLETAR\n",
        "    clf_tree = DecisionTreeClassifier(max_depth = max_depth, random_state=42)\n",
        "    clf_tree.fit(X_train,y_train)\n",
        "\n",
        "    y_train_pred = clf_tree.predict(X_train)\n",
        "    y_test_pred = clf_tree.predict(X_test)\n",
        "    lista_accuracy_train.append(accuracy_score(y_train, y_train_pred))\n",
        "    lista_accuracy_test.append(accuracy_score(y_test, y_test_pred))\n",
        "\n",
        "lista_accuracy_test\n"
      ],
      "execution_count": null,
      "outputs": [
        {
          "output_type": "execute_result",
          "data": {
            "text/plain": [
              "[0.6222222222222222,\n",
              " 0.9777777777777777,\n",
              " 1.0,\n",
              " 0.9777777777777777,\n",
              " 0.9777777777777777,\n",
              " 0.9777777777777777,\n",
              " 0.9777777777777777,\n",
              " 0.9777777777777777,\n",
              " 0.9777777777777777,\n",
              " 0.9777777777777777]"
            ]
          },
          "metadata": {
            "tags": []
          },
          "execution_count": 41
        }
      ]
    },
    {
      "cell_type": "code",
      "metadata": {
        "id": "lhWtlS8ATzsn",
        "colab": {
          "base_uri": "https://localhost:8080/",
          "height": 296
        },
        "outputId": "35b6837b-bf02-45c3-8252-301ca995bab3"
      },
      "source": [
        "# COMPLETAR\r\n",
        "plt.plot(max_depths,lista_accuracy_train,'o-',label='train' )\r\n",
        "plt.plot(max_depths,lista_accuracy_test,'o-',label='test')\r\n",
        "plt.legend()\r\n",
        "plt.xlabel('Profundidad del árbol')\r\n",
        "plt.ylabel('Exactitud')"
      ],
      "execution_count": null,
      "outputs": [
        {
          "output_type": "execute_result",
          "data": {
            "text/plain": [
              "Text(0, 0.5, 'Exactitud')"
            ]
          },
          "metadata": {
            "tags": []
          },
          "execution_count": 42
        },
        {
          "output_type": "display_data",
          "data": {
            "image/png": "[encoded data removed]",
            "text/plain": [
              "<Figure size 432x288 with 1 Axes>"
            ]
          },
          "metadata": {
            "tags": [],
            "needs_background": "light"
          }
        }
      ]
    },
    {
      "cell_type": "code",
      "metadata": {
        "id": "clGj7q15Tzsn",
        "colab": {
          "base_uri": "https://localhost:8080/",
          "height": 1000
        },
        "outputId": "5d547bbb-9926-4e3c-81ae-4bf4715aa79d"
      },
      "source": [
        "X = data[['petal length (cm)', 'petal width (cm)']].values\n",
        "y = data.target\n",
        "h = .02  # step size in the mesh\n",
        "\n",
        "# Create color maps\n",
        "cmap_light = ListedColormap(['#FFAAAA', '#AAFFAA', '#AAAAFF'])\n",
        "cmap_bold = ListedColormap(['#FF0000', '#00FF00', '#0000FF'])\n",
        "\n",
        "for max_depth in [1,3,5,10]:\n",
        "    \n",
        "    # we create an instance of Neighbours Classifier and fit the data.\n",
        "    clf = DecisionTreeClassifier(max_depth=max_depth, random_state=42)\n",
        "    clf.fit(X, y)\n",
        "\n",
        "    # Plot the decision boundary. For that, we will assign a color to each\n",
        "    # point in the mesh [x_min, x_max]x[y_min, y_max].\n",
        "    x_min, x_max = X[:, 0].min() - 1, X[:, 0].max() + 1\n",
        "    y_min, y_max = X[:, 1].min() - 1, X[:, 1].max() + 1\n",
        "    xx, yy = np.meshgrid(np.arange(x_min, x_max, h),\n",
        "                         np.arange(y_min, y_max, h))\n",
        "    Z = clf.predict(np.c_[xx.ravel(), yy.ravel()])\n",
        "\n",
        "    # Put the result into a color plot\n",
        "    Z = Z.reshape(xx.shape)\n",
        "    plt.figure()\n",
        "    plt.pcolormesh(xx, yy, Z, cmap=cmap_light)\n",
        "\n",
        "    # Plot also the training points\n",
        "    plt.scatter(X[:, 0], X[:, 1], c=y, cmap=cmap_bold,\n",
        "                edgecolor='k', s=20)\n",
        "    \n",
        "    plt.xlim(xx.min(), xx.max())\n",
        "    plt.ylim(yy.min(), yy.max())\n",
        "    plt.title(\"Clasificador DT con profundidad = %i\"% (max_depth))"
      ],
      "execution_count": null,
      "outputs": [
        {
          "output_type": "display_data",
          "data": {
            "image/png": "[encoded data removed]",
            "text/plain": [
              "<Figure size 432x288 with 1 Axes>"
            ]
          },
          "metadata": {
            "tags": [],
            "needs_background": "light"
          }
        },
        {
          "output_type": "display_data",
          "data": {
            "image/png": "[encoded data removed]",
            "text/plain": [
              "<Figure size 432x288 with 1 Axes>"
            ]
          },
          "metadata": {
            "tags": [],
            "needs_background": "light"
          }
        },
        {
          "output_type": "display_data",
          "data": {
            "image/png": "[encoded data removed]",
            "text/plain": [
              "<Figure size 432x288 with 1 Axes>"
            ]
          },
          "metadata": {
            "tags": [],
            "needs_background": "light"
          }
        },
        {
          "output_type": "display_data",
          "data": {
            "image/png": "[encoded data removed]",
            "text/plain": [
              "<Figure size 432x288 with 1 Axes>"
            ]
          },
          "metadata": {
            "tags": [],
            "needs_background": "light"
          }
        }
      ]
    },
    {
      "cell_type": "markdown",
      "metadata": {
        "id": "ZFGR2Z4NTzsn"
      },
      "source": [
        "### 2. Dataset Titanic\n",
        "\n",
        "Nuevamente, vamos a trabajar con el dataset del Titanic. La consigna consiste en:\n",
        "\n",
        "1. Generar dos casos benchmark para este dataset. ¿Cuáles se te ocurren? Hay una pista en el notebook anterior.\n",
        "1. Encontrar los mejores parámetros para profundidad y número de vecinos para un modelo de árbol de decisión y kNN, respectivamente. No te olvides de agregar un `train_test_split`, predecir sobre `X_train` y `X_test` y evaluar el desempeño de los modelos sobre esos conjuntos. \n",
        "1. Evaluar precisión, exhaustividad y F-Score para los modelos con los mejores hiperparámetros. Existen varias funciones de Scikit-Learn que puedes usar. Puedes consultar la información [aquí](https://scikit-learn.org/stable/modules/model_evaluation.html#classification-metrics). Es importante que leas **detalladamente** la documentación de la función que elijas."
      ]
    },
    {
      "cell_type": "code",
      "metadata": {
        "id": "CspUGrKjOkM4"
      },
      "source": [
        "import pandas as pd\r\n",
        "import numpy as np\r\n",
        "import matplotlib.pyplot as plt\r\n",
        "import seaborn as sns"
      ],
      "execution_count": null,
      "outputs": []
    },
    {
      "cell_type": "code",
      "metadata": {
        "colab": {
          "base_uri": "https://localhost:8080/",
          "height": 173
        },
        "id": "ldVSG8-xOkD-",
        "outputId": "7c478c36-8767-40df-c1f4-d8cd15c690a1"
      },
      "source": [
        "# Importamos el Dataset\r\n",
        "df = pd.read_csv(\"ds_12_titanic.csv\")\r\n",
        "df.head(4)"
      ],
      "execution_count": null,
      "outputs": [
        {
          "output_type": "execute_result",
          "data": {
            "text/html": [
              "<div>\n",
              "<style scoped>\n",
              "    .dataframe tbody tr th:only-of-type {\n",
              "        vertical-align: middle;\n",
              "    }\n",
              "\n",
              "    .dataframe tbody tr th {\n",
              "        vertical-align: top;\n",
              "    }\n",
              "\n",
              "    .dataframe thead th {\n",
              "        text-align: right;\n",
              "    }\n",
              "</style>\n",
              "<table border=\"1\" class=\"dataframe\">\n",
              "  <thead>\n",
              "    <tr style=\"text-align: right;\">\n",
              "      <th></th>\n",
              "      <th>Survived</th>\n",
              "      <th>Pclass</th>\n",
              "      <th>Sex</th>\n",
              "      <th>Age</th>\n",
              "      <th>SibSp</th>\n",
              "      <th>Parch</th>\n",
              "    </tr>\n",
              "  </thead>\n",
              "  <tbody>\n",
              "    <tr>\n",
              "      <th>0</th>\n",
              "      <td>0</td>\n",
              "      <td>3</td>\n",
              "      <td>0</td>\n",
              "      <td>22.0</td>\n",
              "      <td>1</td>\n",
              "      <td>0</td>\n",
              "    </tr>\n",
              "    <tr>\n",
              "      <th>1</th>\n",
              "      <td>1</td>\n",
              "      <td>1</td>\n",
              "      <td>1</td>\n",
              "      <td>38.0</td>\n",
              "      <td>1</td>\n",
              "      <td>0</td>\n",
              "    </tr>\n",
              "    <tr>\n",
              "      <th>2</th>\n",
              "      <td>1</td>\n",
              "      <td>3</td>\n",
              "      <td>1</td>\n",
              "      <td>26.0</td>\n",
              "      <td>0</td>\n",
              "      <td>0</td>\n",
              "    </tr>\n",
              "    <tr>\n",
              "      <th>3</th>\n",
              "      <td>1</td>\n",
              "      <td>1</td>\n",
              "      <td>1</td>\n",
              "      <td>35.0</td>\n",
              "      <td>1</td>\n",
              "      <td>0</td>\n",
              "    </tr>\n",
              "  </tbody>\n",
              "</table>\n",
              "</div>"
            ],
            "text/plain": [
              "   Survived  Pclass  Sex   Age  SibSp  Parch\n",
              "0         0       3    0  22.0      1      0\n",
              "1         1       1    1  38.0      1      0\n",
              "2         1       3    1  26.0      0      0\n",
              "3         1       1    1  35.0      1      0"
            ]
          },
          "metadata": {
            "tags": []
          },
          "execution_count": 61
        }
      ]
    },
    {
      "cell_type": "code",
      "metadata": {
        "id": "GSSZ9ZfhOj8L"
      },
      "source": [
        "X = df.drop(\"Survived\", axis=1)\r\n",
        "y = df.Survived"
      ],
      "execution_count": null,
      "outputs": []
    },
    {
      "cell_type": "code",
      "metadata": {
        "id": "M4YnmxrFUmJd"
      },
      "source": [
        "from sklearn.model_selection import train_test_split\r\n",
        "\r\n",
        "X_train, X_test, y_train, y_test = train_test_split(X, y, test_size=0.10, stratify=y, random_state=42)"
      ],
      "execution_count": null,
      "outputs": []
    },
    {
      "cell_type": "markdown",
      "metadata": {
        "id": "Ki3veguUQLsi"
      },
      "source": [
        "Casos Benchmark\r\n",
        "\r\n",
        "Predecimos que todos sobreviven"
      ]
    },
    {
      "cell_type": "code",
      "metadata": {
        "id": "GWzSrW7XOjs5"
      },
      "source": [
        "y_pred = np.ones(y.size)\r\n",
        "#y_pred"
      ],
      "execution_count": null,
      "outputs": []
    },
    {
      "cell_type": "code",
      "metadata": {
        "colab": {
          "base_uri": "https://localhost:8080/"
        },
        "id": "y9py9zp9OjkN",
        "outputId": "f2e54770-6dee-4124-84a9-a92ad88784d0"
      },
      "source": [
        "accuracy_score(y, y_pred)"
      ],
      "execution_count": null,
      "outputs": [
        {
          "output_type": "execute_result",
          "data": {
            "text/plain": [
              "0.4061624649859944"
            ]
          },
          "metadata": {
            "tags": []
          },
          "execution_count": 65
        }
      ]
    },
    {
      "cell_type": "code",
      "metadata": {
        "colab": {
          "base_uri": "https://localhost:8080/"
        },
        "id": "kIARib1lOjHp",
        "outputId": "dd3007a9-7733-4293-91d3-fc80801549d6"
      },
      "source": [
        "confusion_matrix(y, y_pred)"
      ],
      "execution_count": null,
      "outputs": [
        {
          "output_type": "execute_result",
          "data": {
            "text/plain": [
              "array([[  0, 424],\n",
              "       [  0, 290]])"
            ]
          },
          "metadata": {
            "tags": []
          },
          "execution_count": 66
        }
      ]
    },
    {
      "cell_type": "markdown",
      "metadata": {
        "id": "rBz2UzrHQwvl"
      },
      "source": [
        "Y que nadie sobrevive"
      ]
    },
    {
      "cell_type": "code",
      "metadata": {
        "colab": {
          "base_uri": "https://localhost:8080/"
        },
        "id": "nJGUrKEZQf_m",
        "outputId": "f2dc0a87-6001-4cad-f8eb-99c52825e368"
      },
      "source": [
        "y_pred = np.zeros(y.size)\r\n",
        "accuracy_score(y, y_pred)"
      ],
      "execution_count": null,
      "outputs": [
        {
          "output_type": "execute_result",
          "data": {
            "text/plain": [
              "0.5938375350140056"
            ]
          },
          "metadata": {
            "tags": []
          },
          "execution_count": 67
        }
      ]
    },
    {
      "cell_type": "code",
      "metadata": {
        "colab": {
          "base_uri": "https://localhost:8080/"
        },
        "id": "iW_-3104Qf5g",
        "outputId": "94de2abf-2519-4b83-926b-64e350656cec"
      },
      "source": [
        "confusion_matrix(y, y_pred)"
      ],
      "execution_count": null,
      "outputs": [
        {
          "output_type": "execute_result",
          "data": {
            "text/plain": [
              "array([[424,   0],\n",
              "       [290,   0]])"
            ]
          },
          "metadata": {
            "tags": []
          },
          "execution_count": 68
        }
      ]
    },
    {
      "cell_type": "markdown",
      "metadata": {
        "id": "Vuobo22mQ8jr"
      },
      "source": [
        "## Optimización para vecinos más cercanos"
      ]
    },
    {
      "cell_type": "code",
      "metadata": {
        "id": "qB9ohzxTQfxK"
      },
      "source": [
        "# Definimos las listas vacias para los valores de accuracy deseados\r\n",
        "lista_accuracy_train = []\r\n",
        "lista_accuracy_test = []\r\n",
        "\r\n",
        "# Definimos la lista de valores de k que vamos a explorar\r\n",
        "k_vecinos = [1,2,3,4,5,6,7,8,9,10,15,20,25,30,35,40,50]\r\n",
        "\r\n",
        "# Generamos en loop sobre los distintos valores de k \r\n",
        "for k in k_vecinos:\r\n",
        "    \r\n",
        "    # Vamos a repetir el siguiente bloque de código\r\n",
        "    \r\n",
        "    # Definir el modelo con el valor de vecinos deseado\r\n",
        "    clf = KNeighborsClassifier(n_neighbors=k)\r\n",
        "    \r\n",
        "    # Entrenar el modelo\r\n",
        "    clf.fit(X_train,y_train)\r\n",
        "    \r\n",
        "    # Predecir y evaluar sobre el set de entrenamiento\r\n",
        "    y_train_pred = clf.predict(X_train)\r\n",
        "    train_acc = accuracy_score(y_train, y_train_pred)\r\n",
        "    \r\n",
        "    # Predecir y evaluar sobre el set de evaluación\r\n",
        "    y_test_pred = clf.predict(X_test)\r\n",
        "    test_acc = accuracy_score(y_test, y_test_pred)\r\n",
        "    \r\n",
        "    # Agregar la información a las listas\r\n",
        "    lista_accuracy_train.append(train_acc)\r\n",
        "    lista_accuracy_test.append(test_acc)"
      ],
      "execution_count": null,
      "outputs": []
    },
    {
      "cell_type": "code",
      "metadata": {
        "colab": {
          "base_uri": "https://localhost:8080/",
          "height": 282
        },
        "id": "cMy8GdkrQfmh",
        "outputId": "627969fe-d6df-47d6-d0e6-60636069d082"
      },
      "source": [
        "plt.plot(k_vecinos,lista_accuracy_train,'o-',label='train' )\r\n",
        "plt.plot(k_vecinos,lista_accuracy_test,'o-',label='test')\r\n",
        "plt.legend()"
      ],
      "execution_count": null,
      "outputs": [
        {
          "output_type": "execute_result",
          "data": {
            "text/plain": [
              "<matplotlib.legend.Legend at 0x7f0e648a3310>"
            ]
          },
          "metadata": {
            "tags": []
          },
          "execution_count": 70
        },
        {
          "output_type": "display_data",
          "data": {
            "image/png": "[encoded data removed]",
            "text/plain": [
              "<Figure size 432x288 with 1 Axes>"
            ]
          },
          "metadata": {
            "tags": [],
            "needs_background": "light"
          }
        }
      ]
    },
    {
      "cell_type": "markdown",
      "metadata": {
        "id": "UhDQzlOwSEOe"
      },
      "source": [
        "## Optimización para árboles"
      ]
    },
    {
      "cell_type": "code",
      "metadata": {
        "id": "-4IzK8O-QfTS"
      },
      "source": [
        "# Definimos las listas vacias para los valores de accuracy deseados\r\n",
        "lista_accuracy_train = []\r\n",
        "lista_accuracy_test = []\r\n",
        "\r\n",
        "# Definimos la lista de valores de max_depth que vamos a explorar\r\n",
        "max_depths = np.arange(1,20)\r\n",
        "\r\n",
        "# Generamos en loop sobre los distintos valores de profundidad\r\n",
        "for max_depth in max_depths:\r\n",
        "    \r\n",
        "    # Vamos a repetir el siguiente bloque de código\r\n",
        "    \r\n",
        "    # Definir el modelo con el valor de profundidad\r\n",
        "    clf = DecisionTreeClassifier(max_depth = max_depth, random_state=42)\r\n",
        "    \r\n",
        "    # Entrenar el modelo\r\n",
        "    clf.fit(X_train,y_train)\r\n",
        "    \r\n",
        "    # Predecir y evaluar sobre el set de entrenamiento\r\n",
        "    y_train_pred = clf.predict(X_train)\r\n",
        "    train_acc = accuracy_score(y_train, y_train_pred)\r\n",
        "    \r\n",
        "    # Predecir y evaluar sobre el set de evaluación\r\n",
        "    y_test_pred = clf.predict(X_test)\r\n",
        "    test_acc = accuracy_score(y_test, y_test_pred)\r\n",
        "    \r\n",
        "    # Agregar la información a las listas\r\n",
        "    lista_accuracy_train.append(train_acc)\r\n",
        "    lista_accuracy_test.append(test_acc)"
      ],
      "execution_count": null,
      "outputs": []
    },
    {
      "cell_type": "code",
      "metadata": {
        "colab": {
          "base_uri": "https://localhost:8080/",
          "height": 283
        },
        "id": "vFAuMRF2STpz",
        "outputId": "45091b29-f443-48f6-df8c-d659a0ddca40"
      },
      "source": [
        "plt.plot(max_depths,lista_accuracy_train,'o-',label='train' )\r\n",
        "plt.plot(max_depths,lista_accuracy_test,'o-',label='test')\r\n",
        "plt.legend()"
      ],
      "execution_count": null,
      "outputs": [
        {
          "output_type": "execute_result",
          "data": {
            "text/plain": [
              "<matplotlib.legend.Legend at 0x7f0e6481b090>"
            ]
          },
          "metadata": {
            "tags": []
          },
          "execution_count": 72
        },
        {
          "output_type": "display_data",
          "data": {
            "image/png": "[encoded data removed]",
            "text/plain": [
              "<Figure size 432x288 with 1 Axes>"
            ]
          },
          "metadata": {
            "tags": [],
            "needs_background": "light"
          }
        }
      ]
    },
    {
      "cell_type": "markdown",
      "metadata": {
        "id": "bWXaVJ4FSW5S"
      },
      "source": [
        "## Precisión, Exhaustividad y F-Score"
      ]
    },
    {
      "cell_type": "code",
      "metadata": {
        "colab": {
          "base_uri": "https://localhost:8080/"
        },
        "id": "jJaT2d04SWDZ",
        "outputId": "79ca0313-aa15-46f5-8a56-d485278bab4a"
      },
      "source": [
        "clf_tree_best = DecisionTreeClassifier(max_depth = 5)\r\n",
        "clf_knn_best = KNeighborsClassifier(n_neighbors=15)\r\n",
        "\r\n",
        "clf_tree_best.fit(X_train, y_train)\r\n",
        "clf_knn_best.fit(X_train, y_train)"
      ],
      "execution_count": null,
      "outputs": [
        {
          "output_type": "execute_result",
          "data": {
            "text/plain": [
              "KNeighborsClassifier(algorithm='auto', leaf_size=30, metric='minkowski',\n",
              "                     metric_params=None, n_jobs=None, n_neighbors=15, p=2,\n",
              "                     weights='uniform')"
            ]
          },
          "metadata": {
            "tags": []
          },
          "execution_count": 74
        }
      ]
    },
    {
      "cell_type": "code",
      "metadata": {
        "id": "v0g3ZaNTSdxT"
      },
      "source": [
        "from sklearn.metrics import precision_recall_fscore_support"
      ],
      "execution_count": null,
      "outputs": []
    },
    {
      "cell_type": "markdown",
      "metadata": {
        "id": "1K56a-LqSiaJ"
      },
      "source": [
        "## Para el modelo árbol"
      ]
    },
    {
      "cell_type": "code",
      "metadata": {
        "colab": {
          "base_uri": "https://localhost:8080/"
        },
        "id": "s5XJZtCASiBN",
        "outputId": "7b78a034-1cff-49c9-d04f-11f322f81846"
      },
      "source": [
        "y_test_pred = clf_tree_best.predict(X_test)\r\n",
        "\r\n",
        "precision_recall_fscore_support(y_test, y_test_pred, pos_label= 1)"
      ],
      "execution_count": null,
      "outputs": [
        {
          "output_type": "execute_result",
          "data": {
            "text/plain": [
              "(array([0.82222222, 0.77777778]),\n",
              " array([0.86046512, 0.72413793]),\n",
              " array([0.84090909, 0.75      ]),\n",
              " array([43, 29]))"
            ]
          },
          "metadata": {
            "tags": []
          },
          "execution_count": 76
        }
      ]
    },
    {
      "cell_type": "markdown",
      "metadata": {
        "id": "In-vSH-xSzal"
      },
      "source": [
        "## Para el modelo de vecinos"
      ]
    },
    {
      "cell_type": "code",
      "metadata": {
        "colab": {
          "base_uri": "https://localhost:8080/"
        },
        "id": "EmDbOC9HS2Na",
        "outputId": "aeb3bea1-3e1c-4054-de7d-b3dd01fe8f67"
      },
      "source": [
        "y_test_pred = clf_knn_best.predict(X_test)\r\n",
        "\r\n",
        "precision_recall_fscore_support(y_test, y_test_pred, pos_label= 1)"
      ],
      "execution_count": null,
      "outputs": [
        {
          "output_type": "execute_result",
          "data": {
            "text/plain": [
              "(array([0.73076923, 0.75      ]),\n",
              " array([0.88372093, 0.51724138]),\n",
              " array([0.8      , 0.6122449]),\n",
              " array([43, 29]))"
            ]
          },
          "metadata": {
            "tags": []
          },
          "execution_count": 77
        }
      ]
    }
  ]
}