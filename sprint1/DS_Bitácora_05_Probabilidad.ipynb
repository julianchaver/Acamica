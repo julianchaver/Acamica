{
 "cells": [
  {
   "cell_type": "markdown",
   "metadata": {
    "id": "GEFRqVgwU4TH"
   },
   "source": [
    "# Probabilidad y Estadística\n",
    "\n",
    "El objetivo del siguiente notebook es afianzar algunos conceptos de Probabilidad y, de paso, empezar a ver cómo se hacen gráficos con Matplotlib, una nueva librería que veremos más en detalle en la próxima bitácora y encuentro. Por ahora, solamente tienen que instalarla y correr las celdas. ¡No te preocupes si no entiendes lo que hacen esas celdas! Lo importante es que prestes atención a sus resultados.\n",
    "\n",
    "## 1. Distribuciones de probabilidad\n",
    "\n",
    "El concepto de distribución de probabilidad es un concepto central en probabilidad y estadística y, por lo tanto, hay mucho para decir. Nos limitamos acá a los puntos más importantes.\n",
    "\n",
    "\n",
    "### 1.1 Distrubución Uniforme Discreta\n",
    "\n",
    "Comencemos por un ejemplo: un dado de seis caras. La probabilidad de que al tirar el dado *salga* una cara es $1/6$. Si graficamos la probabilidad para cada resultado posible de tirar un dado, obtendríamos un gráfico como el siguiente:"
   ]
  },
  {
   "cell_type": "code",
   "execution_count": 2,
   "metadata": {
    "id": "J-fHqWnzU4TR"
   },
   "outputs": [],
   "source": [
    "import numpy as np\n",
    "import matplotlib.pyplot as plt"
   ]
  },
  {
   "cell_type": "code",
   "execution_count": null,
   "metadata": {
    "colab": {
     "base_uri": "https://localhost:8080/",
     "height": 281
    },
    "id": "VSbq4R-aU4Tt",
    "outputId": "097f9d28-e7cc-47e9-a0b7-c819b0ed8ff2"
   },
   "outputs": [
    {
     "data": {
      "image/png": "[encoded data removed]",
      "text/plain": [
       "<Figure size 432x288 with 1 Axes>"
      ]
     },
     "metadata": {
      "needs_background": "light",
      "tags": []
     },
     "output_type": "display_data"
    }
   ],
   "source": [
    "valores = np.arange(1,7)\n",
    "probas = np.zeros(6) + 1/6\n",
    "plt.bar(valores, probas)\n",
    "plt.title('Distribución de probabilidad uniforme: lanzamiento de un dado')\n",
    "#plt.savefig('distribucion_dado.png', dpi = 400)\n",
    "plt.show()"
   ]
  },
  {
   "cell_type": "markdown",
   "metadata": {
    "id": "Hl-vXlaCU4T_"
   },
   "source": [
    "En este caso, decimos que la distribución de probabilidad es *uniforme discreta*, ya que le asigna la misma probabilidad a los seis valores que pueden salir al tirar el dado. Si el dado estuviera cargado, ya no sería uniforme.\n",
    "\n",
    "**Algunos detalles**:\n",
    "1. El resultado de tirar un dado es un ejemplo de una *variable aleatoria*.\n",
    "2. En el caso del dado, la variable aleatoria puede tomar valores *discretos* y *acotados* (limitados): 1, 2, 3, 4, 5 y 6\n",
    "3. Existen variables aleatorias donde los posibles valores que puede tomar son continuos y no acotados. Veremos la distribución más famosa de ellas a continuación."
   ]
  },
  {
   "cell_type": "markdown",
   "metadata": {
    "id": "mIXL9A1yU4UE"
   },
   "source": [
    "### 1.2 Distribución Normal o Gaussiana\n",
    "\n",
    "La distribución normal o gaussiana debe ser la distribución más famosa dentro de las distribuciones. Es una distribución de variable continua y aparece en una infinidad de ámbitos de la ciencia. Muchas variables asociadas a fenómenos naturales siguen una distribución gaussiana; un ejemplo típico es la estatura de las personas. La forma que tiene esta distribución está dada por la siguiente fórmula:\n",
    "\n",
    "$$f(x|\\mu, \\sigma^2)=\\frac{1}{\\sqrt{2 \\pi \\sigma^2}}e^{\\frac{-(x - \\mu)^2}{2\\sigma^2}}$$\n",
    "\n",
    "¡No te asustes si no la entiendes! Durante el encuentro, veremos más en detalle algunos aspectos de esta distribución. Pero es importante resaltar que tiene sólo dos parámetros: su valor medio $\\mu$ y su desviacíon estándar $\\sigma$. Estos valores son *teóricos*, es decir, son propios de la distribución de probabilidad. \n",
    "\n",
    "Recomendamos entrar en la página de Wikipedia de la [Distribución Normal](https://es.wikipedia.org/wiki/Distribuci%C3%B3n_normal) y prestar atención al primer gráfico - dónde podrán ver la forma teórica de la distribución - y a la sección \"Propiedades\".\n",
    "\n",
    "\n",
    "**Distribución Normal en NumPy**\n",
    "\n",
    "Como mencionamos en el encuentro anterior, NumPy nos provee de herramientas para generar valores aleatorios de distribuciones. A continuación generamos, usando `np.random.normal()`, muestras de dos distribuciones normales, con el mismo valor medio pero distinta desviación estándar. **Consultar** la ayuda de la función para entender bien qué hace."
   ]
  },
  {
   "cell_type": "code",
   "execution_count": null,
   "metadata": {
    "colab": {
     "base_uri": "https://localhost:8080/"
    },
    "id": "mnQ6ZwhAU4UJ",
    "outputId": "068256e0-a600-460e-c1fd-20f9de3a345f",
    "scrolled": true
   },
   "outputs": [
    {
     "name": "stdout",
     "output_type": "stream",
     "text": [
      "[ 2.40907552e+00  5.08258111e+00  4.00876198e+00  4.07363811e+00\n",
      " -3.28669131e-01  9.54951426e+00  5.93947256e+00 -1.30034682e+01\n",
      "  1.78840827e+00  1.28921183e+01 -3.20653330e+00  1.83494754e+00\n",
      "  2.36316862e+00 -2.80636704e+00 -8.13682240e+00  4.33221268e+00\n",
      "  5.64299494e+00 -2.58491099e-01  6.81716322e-01 -7.23204245e+00\n",
      "  2.32435031e+00  3.36391841e+00 -2.53697240e+00 -1.45874305e+00\n",
      " -6.77901590e+00  1.06563673e+00 -1.10046923e+00  1.31810287e+01\n",
      "  7.19755846e+00  5.57959871e+00  6.27039496e+00 -6.62875576e+00\n",
      "  3.50677601e+00  5.07599346e+00  1.54747737e-01  9.55335273e+00\n",
      "  3.48349321e+00 -1.43433355e+00 -7.28192403e+00  1.82662665e+00\n",
      " -3.23749677e-01  5.13647860e+00  4.23768493e+00  4.49009043e+00\n",
      "  3.39387579e+00  1.05007252e+01  5.90449433e-01  4.77979081e+00\n",
      "  3.01386899e+00 -4.35040005e+00  2.36450871e-01  8.23959979e+00\n",
      "  5.71072162e+00  1.78779210e+00 -1.19634832e+00  8.00920365e-01\n",
      "  4.23102074e-02  8.14040401e-01 -2.80762333e+00  1.38496570e+01\n",
      "  4.94571330e+00  2.33302710e+00  4.17297005e+00  5.07193281e+00\n",
      "  1.90409163e+00  4.03191804e-01  1.17852008e+01  4.36354101e+00\n",
      " -2.15757005e+00  1.12044933e+01  3.39051927e+00 -9.45091360e-01\n",
      "  4.11908920e-01  4.87435424e-01 -4.21328488e+00  4.34436213e+00\n",
      "  3.17478444e+00 -1.08386825e+00 -9.53614056e-01 -3.19510207e+00\n",
      "  8.79699132e+00 -3.58228437e+00 -5.09659548e+00  2.69993353e+00\n",
      "  3.67037192e+00 -5.61239821e-01 -3.36557378e+00 -6.40944911e+00\n",
      "  8.72699787e-01  3.29962054e+00  8.46791765e-01 -4.07197722e+00\n",
      "  4.08687303e+00  1.35915717e+00 -6.61614498e+00 -2.76091154e+00\n",
      " -4.54019902e+00  9.28203101e+00 -4.48930874e+00 -1.00536606e+01\n",
      " -2.44275905e+00 -9.80935982e-01  1.41098073e+00  6.71080988e+00\n",
      "  5.47798681e-01  5.84334428e+00 -2.54489450e+00  5.01029532e+00\n",
      " -1.53486971e-01  2.40690644e+00  1.53798454e+00  6.18460620e+00\n",
      "  3.08139983e+00 -7.96325528e-02  1.16544711e+01  9.70458056e+00\n",
      "  7.52980830e+00 -2.18967955e+00  4.22009704e+00 -2.08003360e+00\n",
      "  4.45850031e+00  6.81647198e+00 -4.15804290e-01  5.64277412e+00\n",
      "  4.91032473e+00  4.30419369e+00 -2.12287835e+00 -5.83438062e+00\n",
      "  3.62309661e+00  4.40994489e-01  3.82772370e-01 -5.29795834e+00\n",
      "  7.36754856e+00  3.68458961e-01 -2.34590371e-01 -1.00479292e+00\n",
      "  6.54827707e+00  8.45354673e+00  2.84516477e+00  9.68857446e+00\n",
      "  4.25845929e+00  3.69504094e+00 -1.45271252e+00 -3.57046701e+00\n",
      "  9.96111358e-01  4.59731131e-01  8.72897939e+00  8.49327209e+00\n",
      "  9.74412544e+00  7.64386943e+00  6.19788486e+00  4.48006382e-01\n",
      "  4.17801589e+00  4.41644604e+00  7.58998534e+00  6.01009352e+00\n",
      "  3.18768546e+00  5.63042737e+00  5.32380674e+00  5.95961805e+00\n",
      "  1.16606059e+00 -1.06909423e+01  1.32901782e+00  1.58645549e+00\n",
      "  7.13399195e-01  5.96641005e+00  2.55271195e+00  4.90895141e-01\n",
      "  6.59423382e+00  5.08922963e+00  7.29014963e+00  6.76585550e+00\n",
      "  7.42886126e+00 -4.46107110e-01 -2.57635735e+00  2.97029459e+00\n",
      "  2.11411718e+00  4.35197594e+00  5.36652833e+00  7.34788391e+00\n",
      " -2.03114798e+00  7.75472509e+00  4.96584882e+00  3.23994294e+00\n",
      " -5.45068316e+00  1.24229782e-01  1.37334198e+00 -1.76804849e+00\n",
      "  7.52616946e+00  4.67417372e+00  5.58793604e+00  4.46887869e+00\n",
      "  2.22732033e+00  1.58986410e+01  9.41889789e+00  3.82386222e-01\n",
      " -3.82699464e+00  5.15786282e+00 -3.72118483e+00 -1.05244378e+00\n",
      "  1.69259456e+00 -1.99810673e+00  4.94894311e+00 -3.24209534e+00\n",
      "  7.13791346e+00  3.40830820e+00  1.89376217e+00 -6.50301316e+00\n",
      "  8.77665239e+00  7.33209826e+00  4.93124829e+00 -2.91151116e-01\n",
      "  2.65147290e+00  1.40337301e+01  5.02025831e+00  6.01540809e+00\n",
      "  1.23909558e+00  7.23558738e+00 -1.11093431e+00  2.94534233e+00\n",
      "  3.44620740e+00  1.81774250e+00  3.03710102e+00  8.36465942e+00\n",
      " -1.08566783e+00  7.74562736e+00  9.09102018e+00  1.63779719e+00\n",
      " -9.05912479e-01  5.69432000e+00 -5.56161305e+00 -1.36446009e+00\n",
      " -2.48394367e+00  9.28396564e+00  7.69860623e+00 -4.42627972e+00\n",
      " -2.57199764e+00  6.56270119e+00  1.03144862e+01  3.60610542e+00\n",
      "  7.12349896e+00 -3.49559501e+00  7.72003257e+00  3.07232992e+00\n",
      "  3.33018550e+00 -6.87277360e+00  3.48502350e+00  2.40475185e+00\n",
      "  6.00190369e+00 -1.75707067e+00  3.72083076e+00 -2.28807740e+00\n",
      "  1.36478625e+00  4.98089134e+00 -8.20197837e-01  5.19741249e-01\n",
      " -3.29704204e+00  1.48126832e+00  1.28001344e+00  5.72472693e+00\n",
      " -2.95607565e+00  1.11026772e+01 -3.02031710e+00  3.82373099e+00\n",
      "  1.09241729e+00  3.26454365e+00 -1.02234286e+00  4.53983683e+00\n",
      " -3.49263876e+00  6.82504797e+00 -3.90621661e+00 -6.64717934e-01\n",
      "  6.12912252e+00  9.27955911e+00 -6.74494208e-01 -4.13118188e+00\n",
      "  3.39875570e-01  5.95001369e+00  1.24329232e+00 -1.23393984e+00\n",
      "  1.32942436e+01 -3.85326363e+00  9.07705580e+00 -1.18037378e+00\n",
      "  1.19544975e+01  7.21519628e+00  6.55564029e+00  5.17837763e+00\n",
      "  5.61979351e+00  1.19246718e+01  9.54509628e+00 -5.46135116e+00\n",
      "  1.77301583e+00 -9.48108986e-01  5.77796411e+00 -1.49659084e+00\n",
      " -3.64372194e+00 -4.95309490e+00  1.30758401e+00 -5.98339823e+00\n",
      "  5.68469609e+00  7.46417790e+00  1.20303406e+00 -2.87082027e+00\n",
      "  2.55917545e+00 -7.82047120e+00  1.62680526e+01  1.00819995e+01\n",
      "  3.05569542e+00  7.28682720e-01 -3.25961738e-03 -6.53724812e-01\n",
      " -8.27858298e-01  4.06935197e+00 -5.02382632e+00  4.38654050e+00\n",
      "  9.48837443e+00  5.01434578e+00  2.12843191e+00 -2.62802488e+00\n",
      " -3.08635456e+00  2.72667946e+00  6.17039023e+00  1.19892867e+01\n",
      "  7.33582840e+00 -2.53259211e+00 -1.58212429e+00  1.57898081e+00\n",
      " -6.63119867e+00  9.84642779e-02 -3.24661556e+00 -3.29966206e-02\n",
      "  4.43015776e+00 -4.78319610e+00  4.91481043e-01 -1.42429730e+00\n",
      " -3.29455669e+00 -5.87113813e+00  2.06675046e+01  4.20259492e+00\n",
      "  4.52627498e+00  5.99972720e+00  2.04720522e+00  1.64087651e-01\n",
      "  6.92906970e+00  4.74109158e+00  8.72551819e+00  2.80408016e+00\n",
      "  8.85731319e+00  7.12689274e-01  2.92297589e+00  1.39796489e+01\n",
      "  3.16141691e+00  2.61543368e+00  1.96657452e+00  2.99729571e+00\n",
      "  1.17765199e+00  1.11193972e-01 -4.49614069e+00 -2.88279674e+00\n",
      "  1.54783426e+00 -1.10356167e+00  4.55896355e+00  6.33416252e+00\n",
      "  6.06268757e+00 -1.76400723e+00 -1.85181971e-01  1.72742389e+00\n",
      "  8.84111323e+00  4.16379766e+00  3.38703502e+00 -5.67597429e+00\n",
      "  8.10228965e+00  1.03374654e+00  4.02595535e+00 -4.67049069e+00\n",
      "  5.89473412e+00 -1.16315088e-02 -9.00209551e-01  2.77651722e+00\n",
      "  5.73342770e-01  1.14502593e+01  7.53830523e+00  2.20592786e+00\n",
      "  7.03234095e+00  1.03119513e+00 -1.26767323e+00 -8.98052658e-01\n",
      "  1.17254019e+00  5.01541589e+00 -7.14325476e-02 -8.12639971e-01\n",
      "  8.95959355e+00  6.63763477e+00  1.08929903e+01 -5.62860066e+00\n",
      " -3.11870056e+00  7.85429086e+00  8.56981283e+00  2.33587343e+00\n",
      "  7.82961070e+00 -1.14314109e+01 -9.10663282e-01  1.04422292e+01\n",
      " -6.07073764e+00  3.71065384e+00  3.52294694e+00  3.58780823e+00\n",
      "  6.15545028e+00 -1.81396611e+00  2.12817399e+00  3.80268092e+00\n",
      " -6.91754924e+00  5.29112060e+00  2.64761444e+00  1.12773589e+00\n",
      "  6.59978549e+00  6.59726784e+00  7.04730933e-01  7.04818122e+00\n",
      "  3.11185426e+00  5.13690446e+00  4.58943264e+00  3.66498081e+00\n",
      " -1.88801089e+00  2.96724907e+00 -2.94477152e+00  3.05795394e+00\n",
      " -1.26847224e+00  1.35345368e+01  4.82588835e+00  1.17917451e+01\n",
      " -3.14559828e+00  5.56959958e+00  4.03850384e+00 -9.65890050e-01\n",
      "  2.09257858e+00 -4.49697773e+00  1.71508664e+01  3.38239894e+00\n",
      "  8.00512608e-01  1.09783311e+01  3.15148510e+00  1.66010922e+00\n",
      " -2.40089604e+00 -1.92758719e-01 -6.49963191e-01 -2.31596761e+00\n",
      "  3.35024809e+00 -1.33553713e+00  5.13880669e+00  4.42515930e+00\n",
      "  1.50917557e+00  4.29408470e+00  2.43250558e+00  7.27325285e+00\n",
      " -4.53213541e+00  5.08962946e+00 -2.24786673e-01  5.68007420e+00\n",
      "  9.86175706e+00  6.71007558e+00 -1.51408887e+00 -1.72400893e+00\n",
      " -6.91942961e-01 -6.70913187e-02  1.78022566e+00 -1.59021599e+00\n",
      "  5.21974301e+00  9.17253522e+00 -6.41858425e-01 -1.85408715e-01\n",
      "  5.32273253e+00  6.89117834e+00  1.15448863e-01 -4.40084627e+00\n",
      " -4.61791457e+00  7.94059143e+00  9.93381062e+00  1.17843170e+00\n",
      " -1.65931681e+00 -5.88776258e+00  5.44802559e+00 -3.00740919e+00\n",
      " -5.22722200e-01 -2.30441450e+00 -1.20518315e-01  5.72046984e-01\n",
      "  1.59040801e+00  1.60595133e+00  6.39359627e+00 -1.25404790e+00\n",
      "  2.00633958e+00 -6.25301910e-01  5.79855959e+00  6.51063416e+00\n",
      "  5.32489372e+00  2.90662256e+00 -3.36884909e+00  1.13428548e+01] [ 1.76211227e+00  2.69950806e+00  3.83339934e+00 -1.95896616e+00\n",
      "  1.46983998e+00  2.48522555e+00  1.79718712e+00  4.23524117e+00\n",
      "  3.47386658e+00  3.79934885e+00  2.14867270e+00  7.41904333e-02\n",
      "  3.14935800e+00  2.81097899e+00 -1.76664888e+00  4.14696989e-01\n",
      "  1.72108368e+00 -1.26807532e+00  1.70190070e+00  2.41691613e+00\n",
      "  3.88877955e+00  1.32018947e+00  2.25072983e+00  6.74600184e-01\n",
      "  1.14006901e+00  4.20014647e+00  4.05246905e-01  7.55012410e-02\n",
      " -1.38796953e+00  3.14200293e+00  5.09720091e+00  1.44241012e+00\n",
      "  2.11266739e+00  2.69907903e+00 -1.83753419e+00  2.34060893e+00\n",
      "  4.50562733e+00  3.18811884e+00  1.86150219e+00  4.64436780e+00\n",
      "  3.23940042e+00  4.54779047e+00  4.12381449e+00  4.02181771e+00\n",
      "  5.26272640e+00  2.89800620e+00  2.89194588e+00 -2.16388682e+00\n",
      "  6.36792733e+00 -1.57429213e+00  1.24072746e+00  5.85002965e+00\n",
      "  3.25877579e+00  3.47127425e+00  4.14996436e-01  8.34275274e-01\n",
      "  1.12367624e+00  2.21836370e+00  1.97449119e+00  3.16522752e-01\n",
      " -1.07738747e+00  5.82379380e+00  2.52679725e+00  2.99291392e+00\n",
      " -9.61713368e-01 -3.05095554e-01  2.63681948e+00  3.44167949e+00\n",
      "  2.27608743e+00  4.92136686e-02  2.75905847e+00 -2.59127819e-01\n",
      " -5.68315200e-01 -2.86173233e+00  3.90342265e+00  3.87845955e+00\n",
      "  4.08429494e+00  6.21761752e+00  3.39975354e+00  1.05688301e+00\n",
      "  2.70534836e+00  1.03998869e+00  4.65295849e+00  1.69386765e+00\n",
      " -7.26826462e-01  2.87246649e+00  3.72059574e+00 -4.99540574e-01\n",
      "  1.62055872e+00  4.59683110e+00  3.14801196e+00  4.88861956e+00\n",
      "  4.19367732e+00  1.39731202e+00  2.14820543e+00  4.10225384e-01\n",
      "  4.11920416e+00  5.14709511e+00 -2.38389973e+00  2.76242504e+00\n",
      "  1.32420334e+00  1.10147671e+00  2.33926326e+00  1.26436669e+00\n",
      "  3.12152538e+00  2.57429831e+00  1.28106773e+00 -2.76155184e-01\n",
      "  2.07397222e+00  1.49346627e+00  1.71199419e+00  1.44681704e+00\n",
      "  4.28071825e+00  1.42732427e+00  3.49408564e+00  3.83638025e-01\n",
      " -6.76540643e-01  1.33143718e+00  1.79656114e+00  4.87706662e+00\n",
      "  3.93421772e+00  1.20891287e+00  1.58269126e+00 -8.00131565e-01\n",
      "  2.93062125e+00  2.45574614e+00  3.56995728e+00  5.49468875e+00\n",
      "  3.38604421e+00  4.79239739e+00  4.83421477e+00  3.50994833e+00\n",
      "  3.14707438e-01 -8.14978885e-01  2.78859772e-01  1.57385838e+00\n",
      "  3.07202723e+00  3.66798392e+00  1.88300610e+00  1.08628766e+00\n",
      "  4.07269757e+00  2.15939544e+00  5.81907564e-01  3.31020846e+00\n",
      "  1.19324967e+00  1.14798105e+00  1.83283911e+00  1.93133349e+00\n",
      "  4.24214962e+00 -1.55543748e+00  3.30169378e+00  2.59088985e+00\n",
      " -1.14473698e+00  1.89641296e+00  1.29397546e-01  3.11250770e+00\n",
      "  9.27408179e+00  7.36933895e-01  4.99530532e+00  2.48997987e+00\n",
      "  2.86867932e+00  1.96756333e+00  3.14142289e-01  4.05743089e+00\n",
      "  4.25799477e+00  4.45727533e+00  4.09409691e+00  1.69487773e+00\n",
      " -2.19746043e-01  3.17160019e+00  2.75341220e+00 -1.26978287e-01\n",
      " -2.95119706e+00  2.92816165e-01  1.02361105e+00  5.90432564e+00\n",
      "  4.01002784e-01  3.60118048e+00  2.87963628e+00  4.40396617e-01\n",
      "  4.74246430e+00  2.93494282e+00  1.62400019e+00  5.50596941e+00\n",
      "  4.10284720e-01  1.74555637e+00  6.50785964e+00  3.57716506e-01\n",
      "  3.60757372e+00  1.26203580e+00  2.69185076e+00  3.33422232e+00\n",
      "  4.07869739e+00  4.70430930e+00  1.01739928e+00  3.46838305e+00\n",
      "  1.57783507e+00  7.93628655e+00 -5.30648856e-01  1.59210489e+00\n",
      "  2.31505295e+00  3.38633780e+00  4.38775102e-01  1.32112874e+00\n",
      " -1.76420576e-01  1.45040589e+00 -8.54533986e-01  2.45551954e+00\n",
      "  1.71081632e+00  3.29530716e+00  5.85046680e+00 -1.43903895e+00\n",
      "  1.75642544e+00  1.17218191e+00  1.25442355e+00  3.43265435e+00\n",
      "  4.10663920e+00 -9.14170089e-01  1.97430973e+00  1.53682963e+00\n",
      "  5.90230749e-01  6.78484353e-01  1.27554520e+00  4.41160860e+00\n",
      "  1.46455045e+00  9.32760335e-02 -2.22535349e+00  2.81437141e+00\n",
      "  1.57181574e+00  2.40828167e+00  4.29548677e+00 -2.16128414e+00\n",
      "  2.45393731e+00  2.56201426e+00  3.39598952e+00 -9.16014438e-01\n",
      " -6.17474261e-01 -1.66766876e+00  2.22089626e+00  5.51050480e+00\n",
      "  5.58982172e+00  4.74672043e+00  5.68002680e+00  5.68655383e+00\n",
      "  3.37322850e+00  2.46808567e-01  1.56573097e+00  3.37075778e+00\n",
      " -2.61667973e+00  5.29011908e+00 -2.57139544e+00 -6.44298729e-01\n",
      "  2.59052189e+00  4.37165461e+00  3.12302370e+00 -6.04339836e-01\n",
      "  8.64488632e-01  2.29331618e+00 -4.78092670e-02  1.79021368e+00\n",
      "  1.75008402e+00  3.06164079e+00  3.02762873e+00  4.05906171e+00\n",
      "  3.28614266e+00  2.93664675e+00  1.86606520e+00  5.76328726e+00\n",
      " -1.42309177e+00  3.98677511e+00  5.43626733e+00  2.25644561e+00\n",
      "  2.66832081e+00  1.81026625e+00  3.88651834e+00  3.54529228e+00\n",
      "  4.01403681e+00  7.77785755e-01 -7.05959196e-01  2.48843522e+00\n",
      "  5.16640673e+00  3.05008950e+00  4.70984177e+00  4.67192818e+00\n",
      "  1.61978956e+00  4.16548125e+00  1.87547753e+00  3.79999810e+00\n",
      "  9.13615220e-01  5.06018450e-01  4.89698567e+00 -8.65673772e-01\n",
      "  3.01414812e+00 -7.32847112e-01  3.27947582e+00  4.36447087e-01\n",
      "  1.68377425e+00  3.02694358e+00  3.15731257e+00  1.91336103e+00\n",
      " -9.07798269e-01  5.81584993e+00  1.49449247e+00 -2.39081521e-01\n",
      "  1.50944117e+00  4.25155046e+00  1.33975853e-02 -6.73939237e-01\n",
      "  2.58268254e+00  1.69281050e+00  3.78803855e+00  3.62780146e+00\n",
      "  3.09033455e-01  4.05581616e+00 -7.82390440e-01  3.31621406e+00\n",
      "  4.14868583e+00  4.32800755e+00  5.98298006e+00  3.44211284e+00\n",
      " -4.35423222e-01  2.78125508e+00  1.56986978e+00  4.49174329e-01\n",
      "  3.72121541e+00 -3.62940938e-01  4.50738272e+00  1.37983320e+00\n",
      "  2.15480324e+00  2.10565688e+00  3.23811847e+00  1.68533221e+00\n",
      "  4.96703576e+00 -1.98789261e+00  2.35306481e+00  2.47036436e+00\n",
      "  7.95740518e-01 -1.86297653e+00  3.76846284e+00  3.05961900e-01\n",
      "  1.41768674e+00  8.83741833e-01 -1.67974798e-02 -9.10781009e-03\n",
      "  1.25471027e+00  1.77779862e+00  6.15484931e+00  4.02602892e+00\n",
      "  4.15640131e+00  2.59259759e+00  1.47374355e+00  1.32685013e+00\n",
      "  2.02007057e+00  1.67418887e+00  2.56186058e+00  7.66237922e+00\n",
      "  3.53486019e+00  7.79273106e-01  7.25185698e-02  5.02092412e+00\n",
      "  3.42686215e+00 -1.62950104e-01  6.21361052e+00  1.32949079e+00\n",
      "  4.55103102e+00  1.05277164e+00  4.03956922e+00  2.52393101e+00\n",
      "  2.22909130e+00  7.49489860e-01  2.56239112e+00  7.08658516e-01\n",
      "  1.63667811e+00  6.11961002e-01  9.39446103e-01  1.18790582e-01\n",
      "  5.14373640e-01  2.73465889e+00  1.40564544e+00  1.54691611e+00\n",
      "  8.83804835e-01  2.97385873e+00  1.94748068e+00  3.66956538e+00\n",
      "  4.12998454e+00  2.53951539e+00  2.70806853e+00  1.73664076e+00\n",
      "  2.43743555e+00  2.55498191e+00 -1.60538998e-01 -3.41831573e-01\n",
      "  1.83373762e+00  5.25019312e+00  1.44971484e+00  4.23056535e+00\n",
      "  4.38525299e+00  2.87439251e+00  2.59761165e+00  2.72661673e+00\n",
      "  2.61507007e-01  7.26565854e+00 -3.49579754e-02  9.26460273e-01\n",
      "  1.29722434e+00  2.90157649e+00  6.49299788e-01  5.92035657e+00\n",
      "  2.94050291e+00  1.94679453e+00  6.16120369e-02  1.05431287e+00\n",
      "  4.21269138e+00  2.09570602e+00  1.54770273e+00 -1.81311746e+00\n",
      "  1.39965926e+00  1.16583554e+00  3.30098689e+00  1.19719425e+00\n",
      "  3.81706105e+00  1.26587615e+00  1.72220582e+00  3.88596922e+00\n",
      "  2.28292933e+00  1.39971214e+00  1.18958738e+00 -2.24212181e+00\n",
      "  9.42883397e-01  4.79442842e+00  4.12643787e+00  6.10998872e+00\n",
      " -3.97024455e-01  4.26443111e+00  4.00919239e-01 -8.25931462e-01\n",
      "  9.10824772e-01  5.56193751e-01  2.61338259e+00  1.06627350e+00\n",
      "  9.23923836e-01  1.52508059e+00  3.64371836e+00  5.79440871e+00\n",
      "  1.17185699e+00 -4.88354988e-01  1.98045589e+00  5.00921047e+00\n",
      "  3.11455361e+00  9.83635521e-01 -1.20364552e+00  5.84079894e-01\n",
      "  2.07480189e+00  4.19922202e+00  5.00342254e+00  1.92260778e+00\n",
      "  2.02298844e+00  2.22576450e+00  3.18247457e+00  3.65271427e+00\n",
      "  4.09828436e+00  1.73859873e+00  6.10879177e-01 -2.72953064e-01\n",
      "  1.60992989e-01  4.02033958e+00  1.57628338e+00 -5.59058528e-01\n",
      "  4.65703243e-01  8.59072392e-01  4.32017850e+00  1.46196459e+00\n",
      "  4.43027761e+00  2.30520954e+00  1.69143620e+00  1.03482506e+00\n",
      "  6.42742167e-01  2.10332955e+00  1.36857017e+00  2.75260602e-01\n",
      "  2.95439875e+00 -1.66113741e+00  4.27993035e+00  3.70389666e+00\n",
      "  1.03530791e+00 -6.92918282e-01  2.97865507e+00  1.63648939e+00\n",
      "  1.19830076e+00  8.79603997e-01  2.15014980e+00  1.53820979e+00\n",
      "  3.31865762e+00  3.73244552e+00 -8.08837526e-01  4.84140089e+00\n",
      " -4.81283113e-02  2.71762076e+00  1.66109895e+00 -1.39075440e+00]\n"
     ]
    }
   ],
   "source": [
    "mu = 2.0\n",
    "sigma_1 = 5.0\n",
    "sigma_2 = 2.0\n",
    "muestras_1 = np.random.normal(loc = mu, scale = sigma_1, size = 500)\n",
    "muestras_2 = np.random.normal(loc = mu, scale = sigma_2, size = 500)\n",
    "print(muestras_1, muestras_2)"
   ]
  },
  {
   "cell_type": "markdown",
   "metadata": {
    "id": "OHFxZhG0U4Ub"
   },
   "source": [
    "Notar que son dos \"tiras\" de números, bastante largas y que a simple vista no nos dicen mucho. Mejor, podemos graficar su histograma. Veremos bien qué es un histograma en la próxima bitácora. Por ahora, basta saber que es una forma de visualizar cómo está distribuida una tira de números. Lo que hace es tomar un número determinado de intervalos (`bins = 20`) y contar cuántas muestras caen en cada intervalo."
   ]
  },
  {
   "cell_type": "code",
   "execution_count": null,
   "metadata": {
    "colab": {
     "base_uri": "https://localhost:8080/",
     "height": 265
    },
    "id": "4nu_9GbwU4Uf",
    "outputId": "e7e9f782-a18d-47f1-8b45-0e042a0f005d"
   },
   "outputs": [
    {
     "data": {
      "image/png": "[encoded data removed]",
      "text/plain": [
       "<Figure size 432x288 with 1 Axes>"
      ]
     },
     "metadata": {
      "needs_background": "light",
      "tags": []
     },
     "output_type": "display_data"
    }
   ],
   "source": [
    "plt.hist(muestras_1, bins = 20, alpha = 0.5, label = 'Histrograma Muestra 1')\n",
    "plt.hist(muestras_2, bins = 20, alpha = 0.5, label = 'Histrograma Muestra 2')\n",
    "plt.legend()\n",
    "plt.grid()\n",
    "plt.show()"
   ]
  },
  {
   "cell_type": "code",
   "execution_count": null,
   "metadata": {
    "colab": {
     "base_uri": "https://localhost:8080/"
    },
    "id": "mGnFic5hso2h",
    "outputId": "6adae741-f30d-4adc-8d92-e80fb58218b3"
   },
   "outputs": [
    {
     "name": "stdout",
     "output_type": "stream",
     "text": [
      "[ 4.3315865   3.71527897  1.45459971  2.99161615  3.62133597  2.27991444\n",
      "  3.26551159  3.10854853  3.00429143  2.82539979  3.43302619  4.20303737\n",
      "  2.03493433  4.02827408  3.22863013  3.44513761  1.86339779  3.13513688\n",
      "  4.484537    1.92019511  1.02227172  1.2566277   3.26607016  5.38496733\n",
      "  4.12369125  4.67262221  3.09914922  4.39799638  2.72875201  3.61320418\n",
      "  2.73268281  2.45069099  3.1327083   2.52385799  4.30847308  3.19501328\n",
      "  3.40020999  2.66236766  4.25647226  2.2680305   3.66023155  2.64912811\n",
      "  2.06056664  2.51066278  2.19540886  2.78730236  2.66085975  3.31216994\n",
      "  3.56515267  2.85257974  2.97409466  3.2890942   2.46012093  3.70816002\n",
      "  3.84222474  3.2035808   5.39470366  3.91745894  2.88772753  2.63781955\n",
      "  2.76781774  2.4982711   4.12878515  2.30218997  2.91887782  2.47070392\n",
      "  4.04618286  1.58144397  2.63750082  2.87809431  3.31935642  3.4609029\n",
      "  2.78421011  3.98907246  3.31475378  5.46765106  1.49167851  3.62060066\n",
      "  1.95486746  2.20199118  4.98508459  4.74481415  1.14381452  2.7772263\n",
      "  2.93415215  0.86828789  2.95116949  3.39334122  3.21726515  1.00560623\n",
      "  4.10770823  3.24454398  2.93808797  2.24610704  3.71195902  3.91826915\n",
      "  2.51790686  3.08958761  3.82699862  1.04548788  3.11747566  1.09254311\n",
      "  2.07709074  3.46975143  2.85563324  2.59986165  2.70401615  3.84820861\n",
      "  3.70683045  2.21273107  3.29294072  2.52919275  5.40432561  2.26064326\n",
      "  2.68717124  2.65111808  2.56097376  3.14110417  3.27304932  1.38142925\n",
      "  2.42688664  1.67955245  4.23620533  5.46532508  4.38323223  3.34623312\n",
      "  4.02251611  3.16681027  4.65671662  3.66788961  2.77005336  1.87044881\n",
      "  2.3600374   3.31383052  1.77416402  2.77820686  4.33992631  3.02930971\n",
      "  4.98538575  4.4471656   2.71237059  1.64068943  2.95195867  2.51921266\n",
      "  3.37775309  4.61440797  1.87689596  2.61127205  3.33234995  4.13497317\n",
      "  3.51071441  3.41429764  4.34454942  3.49351532  2.76299582  3.05728515\n",
      "  2.29292855  3.54666484  3.94250041  0.02040323  4.21814885  2.94347928\n",
      "  3.46088845  3.66237401  0.70489667  1.80407069  2.66689884  2.20860923\n",
      "  3.27417278  2.48509008  1.2889288   3.61229731  4.10012937  3.56435253\n",
      "  2.28720056  2.73914052  3.54842807  3.60319905  4.00686114  2.70557399\n",
      "  1.57911948  2.32105323  3.53388481  3.7439744   5.22504964  3.11718142\n",
      "  3.24461452  2.82270118  2.59427047  3.78177519  3.35347761  2.79272051\n",
      "  1.92030262  2.87693017  2.60901781  4.25517373  3.94712608  1.97768931\n",
      "  4.16716837  2.42802319  3.1331375   4.20274387  1.97524703  3.16039916\n",
      "  1.86952471  1.05870032  3.98659782  3.02822737  2.1776324   1.41344824\n",
      "  2.59852718  4.34217928  3.40246909  2.62723858  2.32797656  3.10581208\n",
      "  1.45269461  4.34480651  3.50318918  4.1943506   2.43649433  3.85482876\n",
      "  3.68790473  1.46693128  3.1489607   3.31511117  2.42508234  2.63982887\n",
      "  3.4361853   2.96208212  1.99528365  3.59145309  3.22781736  3.24917866\n",
      "  3.09576324  3.44902173  2.71399799  2.1372417   2.25817516  4.10557514\n",
      "  0.98228135  3.54054071  1.55770112  1.39114964  1.99343144  2.74246638\n",
      "  3.73050745  1.30159851  4.67407555  4.1637237   2.86742641  2.70975419\n",
      "  2.04646758  3.58804059  3.06880147  4.4120643   2.31378439  3.54794393\n",
      "  2.96361746  2.15298375  4.90230404  3.27960539  3.6202545   1.93143229\n",
      "  2.27737927  3.08413956  2.41554484  3.60202227  3.43836524  2.21765681\n",
      "  3.19293598  3.00402491  2.83592471  1.85118774  2.1644915   3.21045073\n",
      "  4.01398463  2.02980218  4.21718156  3.18264738  1.73018041  3.32338993\n",
      "  3.88577486  3.26439469  5.31912732  3.30866767  3.89256403  3.0110227\n",
      "  3.98007413  0.60442799  2.14247748  2.63572191  3.5039269   3.18833121\n",
      "  4.08522707  3.35693907  3.20732957  2.85493546  3.16390425  3.82951248\n",
      "  3.75529996  3.87948569  2.7600437   2.30494335  2.52859992  3.34947641\n",
      "  4.61145729  3.23933927  3.48500263  1.34139529  5.67991031  1.89647787\n",
      "  4.81778261  2.44395266  3.95771124  3.81522068  3.0643194   2.83359463\n",
      "  2.05929023  2.9464055   4.1011362   3.37212255  2.11653901  4.15805157\n",
      "  1.79634651  3.20983914  2.10881308  2.21731225  4.07973068  2.53715911\n",
      "  1.48492432  2.46128147  3.75662186  2.27060078  4.21478265  4.00828297\n",
      "  3.07328301  4.17373241  4.86295167  1.0163635   4.15668893  3.60928227\n",
      "  2.67679877  3.66414561  3.39672599  2.42388314  4.48821839  3.14024687\n",
      "  4.18831675  2.75425461  1.36441338  3.24479809  2.76491777  1.73917219\n",
      "  1.30803207  3.61645092  4.26969128  4.39733798  3.53422496  3.00410204\n",
      "  3.18941984  3.04477469  3.79468527  2.50685926  1.73841026  2.78073974\n",
      "  3.19727222  2.74471955  3.02580759  5.20096644  3.8843676   1.61317747\n",
      "  3.65366231  0.82339137  3.61894892  3.4772343   3.02609653  2.03029433\n",
      "  2.01627188  3.41253272  2.38569515  3.83708178  2.37638099  2.6368138\n",
      "  3.75947133  2.966073    2.83359931  3.26957242  3.37530555  2.91608476\n",
      "  3.22612635  2.88411927  3.41160241  3.28781043  3.50427148  3.80426736\n",
      "  1.96939179  1.64230244  2.73349813  2.8287072   3.46238555  1.78014447\n",
      "  3.19257284  3.43545039  1.36505586  3.43493727  4.39781939  3.12466678\n",
      "  2.1085486   2.42310666  2.92505113  2.47822355 -0.20440134  4.46271099\n",
      "  2.53309738  2.8209803   3.92474763  3.23524476  2.51139174  2.90701846\n",
      "  3.53540138  3.5508447   2.80847795  3.79469763  3.7850965   2.51227558\n",
      "  1.99413514  3.32757537  3.57904845  2.54007445  2.56418409  3.53626855\n",
      "  3.15701498  4.35878914  3.51534525  5.38412462  3.52919027  2.10385616\n",
      "  2.80218988  2.90452417  1.31955408  3.6767082   3.06072782  2.97695881\n",
      "  2.44668157  1.89387676  2.78286511  2.12457762  3.01078143  2.09375318\n",
      "  1.58424679  3.09470831  3.19380061  3.54323509  3.05633578  4.46565501\n",
      "  2.36403079  4.10950523  2.00736752  2.31765853  2.5907308   2.75252473\n",
      "  4.52785112  2.35056163  1.73098447  3.75487607  2.97609156  1.44245753\n",
      "  3.34635158  3.9423645   2.61452318  4.56020878  4.54516176  2.30831235\n",
      "  3.86451847  0.90220813  3.17029469  2.24217035  3.96781042  2.12547496\n",
      "  4.02784039  2.19711037  2.57169659  2.24458417  3.2204969   1.62688582\n",
      "  3.64675834  2.32649819  5.2418665   2.75351288  2.23639566  3.48078874\n",
      "  2.1682008   3.59318923  2.55122086  3.48769594  3.05631473  3.54578447\n",
      "  2.3168776   2.34098269]\n"
     ]
    }
   ],
   "source": [
    "mu = 3.0\r\n",
    "sigma_3 = 1.0\r\n",
    "np.random.seed(10)\r\n",
    "muestras_3 = np.random.normal(loc = mu, scale = sigma_3, size = 500)\r\n",
    "print(muestras_3)"
   ]
  },
  {
   "cell_type": "markdown",
   "metadata": {
    "id": "_Ez12LcZU4Uu"
   },
   "source": [
    "**Ejercicio:** Volver a \"generar\" las muestas y hacer sus histogramas. ¿Cambió?¿Por qué? Googlear que es una *semilla* (`seed`) en NumPy e implementar. También, cambiar la cantidad de muestras, modificando el argumento `size`. \n",
    "\n",
    "### 1.3 Relación entre Probabilidad y Estadística\n",
    "\n",
    "**Promedio y desviación estándar en una distribución Normal**\n",
    "\n",
    "En una distribución normal, el promedio de las muestras obtenidas *tiende* al valor medio $\\mu$ de la distribución, y la desviación estándar *tiende* a la desviacíon estándar $\\sigma$ de la distribución. Notar, entonces, que existen valores calculados (promedio, desviación estándar) y valores teóricos ($\\mu$ y $\\sigma$). Confundirlos entre sí es un error común.\n",
    "\n",
    "Veamos un ejemplo. Nuevamente, obtenemos muestras de una distribución normal:"
   ]
  },
  {
   "cell_type": "code",
   "execution_count": null,
   "metadata": {
    "id": "55UHxgsWU4Uy"
   },
   "outputs": [],
   "source": [
    "mu = 8.5\n",
    "sigma = 3.0\n",
    "muestras = np.random.normal(loc = mu, scale = sigma, size = 1100)"
   ]
  },
  {
   "cell_type": "markdown",
   "metadata": {
    "id": "IrLpnkqqU4U9"
   },
   "source": [
    "Y calculamos su promedio y desviación estándar, y comparamos con $\\mu$ y $\\sigma$."
   ]
  },
  {
   "cell_type": "code",
   "execution_count": null,
   "metadata": {
    "colab": {
     "base_uri": "https://localhost:8080/"
    },
    "id": "k1JKKz5eU4VC",
    "outputId": "b3762a88-9fbe-4393-e4b9-b43a028c7dad"
   },
   "outputs": [
    {
     "name": "stdout",
     "output_type": "stream",
     "text": [
      "Valor medio teorico: 8.5 . Valor medio calculado: 8.330430124144144\n",
      "Desviacion estandar teorica: 3.0 . Desviacion estandar calculada: 2.992367856317991\n"
     ]
    }
   ],
   "source": [
    "print('Valor medio teorico:', mu, '. Valor medio calculado:', muestras.mean())\n",
    "print('Desviacion estandar teorica:', sigma, '. Desviacion estandar calculada:', muestras.std())"
   ]
  },
  {
   "cell_type": "markdown",
   "metadata": {
    "id": "YqQs6D_YU4VQ"
   },
   "source": [
    "Comparemos el histograma de las muestras y la distribución teórica, que graficaremos haciendo uso de la librería `SciPy`:"
   ]
  },
  {
   "cell_type": "code",
   "execution_count": 20,
   "metadata": {
    "colab": {
     "base_uri": "https://localhost:8080/",
     "height": 231
    },
    "id": "bf31AbLMU4VU",
    "outputId": "b729095d-441d-4d16-8812-501fa308e234"
   },
   "outputs": [
    {
     "ename": "NameError",
     "evalue": "ignored",
     "output_type": "error",
     "traceback": [
      "\u001b[0;31m---------------------------------------------------------------------------\u001b[0m",
      "\u001b[0;31mNameError\u001b[0m                                 Traceback (most recent call last)",
      "\u001b[0;32m<ipython-input-20-36b69576d6e1>\u001b[0m in \u001b[0;36m<module>\u001b[0;34m()\u001b[0m\n\u001b[1;32m      1\u001b[0m \u001b[0;32mfrom\u001b[0m \u001b[0mscipy\u001b[0m\u001b[0;34m.\u001b[0m\u001b[0mstats\u001b[0m \u001b[0;32mimport\u001b[0m \u001b[0mnorm\u001b[0m\u001b[0;34m\u001b[0m\u001b[0;34m\u001b[0m\u001b[0m\n\u001b[1;32m      2\u001b[0m \u001b[0;34m\u001b[0m\u001b[0m\n\u001b[0;32m----> 3\u001b[0;31m \u001b[0mplt\u001b[0m\u001b[0;34m.\u001b[0m\u001b[0mhist\u001b[0m\u001b[0;34m(\u001b[0m\u001b[0mmuestras\u001b[0m\u001b[0;34m,\u001b[0m \u001b[0mbins\u001b[0m\u001b[0;34m=\u001b[0m\u001b[0;36m20\u001b[0m\u001b[0;34m,\u001b[0m \u001b[0mdensity\u001b[0m\u001b[0;34m=\u001b[0m\u001b[0;32mTrue\u001b[0m\u001b[0;34m,\u001b[0m \u001b[0malpha\u001b[0m\u001b[0;34m=\u001b[0m\u001b[0;36m0.6\u001b[0m\u001b[0;34m,\u001b[0m \u001b[0mcolor\u001b[0m\u001b[0;34m=\u001b[0m\u001b[0;34m'g'\u001b[0m\u001b[0;34m)\u001b[0m\u001b[0;34m\u001b[0m\u001b[0;34m\u001b[0m\u001b[0m\n\u001b[0m\u001b[1;32m      4\u001b[0m \u001b[0;34m\u001b[0m\u001b[0m\n\u001b[1;32m      5\u001b[0m \u001b[0mxmin\u001b[0m\u001b[0;34m,\u001b[0m \u001b[0mxmax\u001b[0m \u001b[0;34m=\u001b[0m \u001b[0mplt\u001b[0m\u001b[0;34m.\u001b[0m\u001b[0mxlim\u001b[0m\u001b[0;34m(\u001b[0m\u001b[0;34m)\u001b[0m\u001b[0;34m\u001b[0m\u001b[0;34m\u001b[0m\u001b[0m\n",
      "\u001b[0;31mNameError\u001b[0m: name 'plt' is not defined"
     ]
    }
   ],
   "source": [
    "from scipy.stats import norm\n",
    "\n",
    "plt.hist(muestras, bins=20, density=True, alpha=0.6, color='g')\n",
    "\n",
    "xmin, xmax = plt.xlim()\n",
    "x = np.linspace(xmin, xmax, 100)\n",
    "p = norm.pdf(x, mu, sigma)\n",
    "plt.plot(x, p, 'k', linewidth=2, label = 'Distribución Teórica')\n",
    "\n",
    "title = \"Muestras obtenidas de una distribución normal con mu = %.2f,  sigma = %.2f\" % (mu, sigma)\n",
    "\n",
    "plt.title(title)\n",
    "plt.legend()\n",
    "plt.show()"
   ]
  },
  {
   "cell_type": "markdown",
   "metadata": {
    "id": "RTOjCCEQU4Vi"
   },
   "source": [
    "**Nota:** si estás atento/a a la escala en el eje *y*, notarás que es distinta a la escala de los histogramas anteriores. Esto se debe a que, en un histograma, además de graficar la cantidad de muestras que entran en cada intervalo, podemos también graficar la **proporción** de muestras que entran en cada intervalo.\n",
    "\n",
    "**Para pensar y probar:** \n",
    "1. ¿Por qué no coinciden $\\mu$ y $\\sigma$ con los valores calculados?¿Qué podemos hacer para que se parezcan cada vez más?¿Y qué ocurre en ese caso con el histograma y la distribución teórica?\n",
    "2. Con respecto al ejercicio que acabamos de hacer, ¿cuáles son los *parámetros* asociados al mundo de las probabilidades y cuáles son los *valores estadísticos* asociados al mundo de la estadística?\n",
    "\n",
    "\n",
    "### Ejercitación\n",
    " \n",
    "Los siguientes ejercicios pueden parecer muy difíciles, pero te aseguramos que no lo son tanto. ¡Lo importante es que los intentes!\n",
    "\n",
    "**Ejercicio 1 - Challenge:** Muchos juegos de mesa requieren tirar dados y sumar sus resultados. Por ejemplo, el [Catán](https://es.wikipedia.org/wiki/Los_Colonos_de_Cat%C3%A1n). Es evidente que, mientras en un dado la probabilidad de que salga cada cara es la misma, en esta variable aleatoria todos los resultados no son igual de probables (¿Cuáles son los posibles resultados?). Entonces, para mejorar tu estrategia en estos juegos, es útil saber cuál es la probabilidad asociada a cada resultado. Para ello, debes calcular su distribución de probabilidad. Entonces, \n",
    "\n",
    "Obtener la distribución de la variable aleatoria *suma del resultado de tirar dos dados*. Para ello puedes intentar alguna o ambas de las siguientes opciones:\n",
    "1. **Obtener la distribución teórica:** para ello, basta contar los casos *a mano* con lápiz y papel. Por ejemplo:\n",
    "    1. Uno (1) es un resultado imposible\n",
    "    2. Dos (2) solamente puede ser obtenida con ambos dados en 1, 1 + 1\n",
    "    3. Tres (3) tiene dos opciones, 2 + 1 y 1 + 2\n",
    "    4. Cuatro (4) tiene tres opciones: 3 + 1, 2 + 2, 1 + 3\n",
    "    \n",
    "    y así para el resto de los posibles resultados. Completa la lista hasta el 12 y cuenta cuántas combinaciones existen para cada resultado. ¿Cuántos combinaciones debe haber en total, teniendo en cuenta que cada dado tiene seis caras? Al final, debes llevarlos a porcentaje. Por ejemplo, si en total son 100 posibles combinaciones, y el 12 tiene 10 posibles combinaciones, su probabilidad es 10/100 = 0.1\n",
    "    \n",
    "2. **Simular y obtener una distribución aproximada:** otra opción es simular esta situación. Viste en el notebook de la bitácora anterior cómo simular un dado. Ahora simula dos dados y obtiene la suma de sus resultados.\n",
    "\n",
    "¿Te animas a comparar ambos métodos?"
   ]
  },
  {
   "cell_type": "code",
   "execution_count": 54,
   "metadata": {
    "colab": {
     "base_uri": "https://localhost:8080/"
    },
    "id": "327V3n7oU4Vm",
    "outputId": "5b128c7e-f414-48ba-d35c-94e6438ae25b"
   },
   "outputs": [
    {
     "name": "stdout",
     "output_type": "stream",
     "text": [
      "    Probabilidad  Resultado\n",
      "0       0.027778        2.0\n",
      "1       0.055556        3.0\n",
      "2       0.083333        4.0\n",
      "3       0.111111        5.0\n",
      "4       0.138889        6.0\n",
      "5       0.166667        7.0\n",
      "6       0.138889        8.0\n",
      "7       0.111111        9.0\n",
      "8       0.083333       10.0\n",
      "9       0.055556       11.0\n",
      "10      0.027778       12.0\n"
     ]
    }
   ],
   "source": [
    "# COMPLETAR: UNA LINEA DE CODIGO \n",
    "teorica= {2: ['1+1'],\n",
    "          3: ['2+1','1+2'],\n",
    "          4: ['3+1','2+2','1+3'],\n",
    "          5: ['3+2','4+1','1+4','2+3'],\n",
    "          6: ['5+1','4+2','3+3','2+4','1+5'],\n",
    "          7: ['6+1','5+2','4+3','3+4','2+5','1+6'],\n",
    "          8: ['6+2','5+3','4+4','3+5','2+6'],\n",
    "          9: ['6+3','5+4','4+5','3+6'],\n",
    "          10: ['6+4','5+5','4+6'],\n",
    "          11: ['6+5','5+6'],\n",
    "          12: ['6+6']}\n",
    "\n",
    "n=0    # posibles compbinaciones\n",
    "for i in teorica:\n",
    "  n=n+ len(teorica[i])\n",
    "\n",
    "#print(n)\n",
    "\n",
    "import pandas as pd\n",
    "\n",
    "dist= pd.DataFrame()\n",
    "for  i in teorica:\n",
    "    prob= len(teorica[i])/n\n",
    "    dist= dist.append({'Resultado':i,'Probabilidad':prob},ignore_index=True)\n",
    "\n",
    "print(dist)\n",
    "\n",
    "# COMPLETAR: OTRA LINEA DE CODIGO - EXPERIMENTAL\n",
    "#suma= []\n",
    "#for i in range(100):\n",
    " #   suma.append(np.sum(np.random.randint(1,7, size = 2)))\n",
    "\n",
    "#plt.hist(suma, bins = np.arange(1.5,13.5,1), density=True, rwidth = 0.8,)\n",
    "#plt.show()"
   ]
  },
  {
   "cell_type": "code",
   "execution_count": 4,
   "metadata": {},
   "outputs": [
    {
     "data": {
      "image/png": "[encoded data removed]",
      "text/plain": [
       "<Figure size 432x288 with 1 Axes>"
      ]
     },
     "metadata": {
      "needs_background": "light"
     },
     "output_type": "display_data"
    }
   ],
   "source": [
    "# COMPLETAR: OTRA LINEA DE CODIGO - EXPERIMENTAL\n",
    "suma= []\n",
    "for i in range(1000):\n",
    "    suma.append(np.sum(np.random.randint(1,7, size = 2)))\n",
    "\n",
    "plt.hist(suma, bins = np.arange(1.5,13.5,1), density=True, rwidth = 0.8,)\n",
    "plt.show()"
   ]
  },
  {
   "cell_type": "markdown",
   "metadata": {
    "id": "EkNiPekCU4V0"
   },
   "source": [
    "**Ejercicio 2:** Obtiene, simulando, la distribución de la variable aleatoria *máximo valor obtenido al tirar dos dados.* Por ejemplo, si obtenemos 2 y 5, el resultado es 5. Nuevamente, si lo deseas, también puedes contar casos y obtener la distribución teórica."
   ]
  },
  {
   "cell_type": "code",
   "execution_count": 90,
   "metadata": {
    "colab": {
     "base_uri": "https://localhost:8080/",
     "height": 282
    },
    "id": "tzyvWre3U4V4",
    "outputId": "368d9db8-f125-413e-8848-25f9162ff8ab"
   },
   "outputs": [
    {
     "name": "stdout",
     "output_type": "stream",
     "text": [
      "(2, 100)\n"
     ]
    },
    {
     "data": {
      "image/png": "[encoded data removed]",
      "text/plain": [
       "<Figure size 432x288 with 1 Axes>"
      ]
     },
     "metadata": {
      "needs_background": "light",
      "tags": []
     },
     "output_type": "display_data"
    }
   ],
   "source": [
    "# COMPLETAR: UNA LINEA DE CODIGO \n",
    "# COMPLETAR: OTRA LINEA DE CODIGO \n",
    "\n",
    "'''Combinamos las muestras obtenidas en un arreglo de dos filas, donde\n",
    "cada columna corresponde a una tirada'''\n",
    "muestras = np.array([np.random.randint(1,7, size = 100),np.random.randint(1,7, size = 100)])\n",
    "print(muestras.shape)\n",
    "\n",
    "\n",
    "'''Obtenemos el máximo de cada tirada. Recordar obtener el máximo\n",
    "en el eje (axis) correspondiente'''\n",
    "maximos = np.max(muestras, axis = 0)\n",
    "\n",
    "plt.hist(maximos, bins = np.arange(0.5,7.5,1), density=True, rwidth = 0.8)\n",
    "plt.show()"
   ]
  },
  {
   "cell_type": "markdown",
   "metadata": {
    "id": "Iu_y4bliU4WK"
   },
   "source": [
    "## 2. Correlación\n",
    "\n",
    "El objetivo de esta sección es que te familiarices con los conceptos de **Covarianza** y **Correlación**. Si bien las fórmulas parecen difíciles, esperemos que veas que nada es tan grave como parece. También que prestes atención a cómo a veces es útil simular datos para aprender o acercarse a algunas técnicas.\n",
    "\n",
    "Tenemos dos variables aleatorias $X$ e $Y$, de las cuales tenemos $n$ muestras de cada una, $x_1,x_2,..., x_n$ e $y_1,y_2,..., y_n$. Sus valores medios son $\\bar{x}$ e $\\bar{y}$, respectivamente. Definimos la Covarianza como\n",
    "\n",
    "$$Cov(X,Y) = \\sum_{i=1}^{n} \\frac{(x_i - \\bar{x})(y_i - \\bar{y})}{n}$$\n",
    "\n",
    "A veces verás que, en lugar de dividir por $n$, se divide por $n - 1$ ó $n - 2$, pero eso no es importante ahora. Según Wikipedia, \"la covarianza es un valor que indica el grado de variación conjunta de dos variables aleatorias respecto a sus medias. Es el dato básico para determinar si existe una dependencia entre ambas variables y además es el dato necesario para estimar otros parámetros básicos, como el coeficiente de correlación lineal o la recta de regresión.\". \n",
    "\n",
    "Si bien la fórmula puede parecer difícil, veamos qué nos dice de nuestros datos simulando algunos casos sencillos.\n",
    "\n",
    "Empezamos generandos muestras al azar de dos variables aleatorias no relacionadas entre sí. "
   ]
  },
  {
   "cell_type": "code",
   "execution_count": 91,
   "metadata": {
    "id": "q66jDC_IU4WO"
   },
   "outputs": [],
   "source": [
    "import matplotlib.pyplot as plt\n",
    "import numpy as np"
   ]
  },
  {
   "cell_type": "code",
   "execution_count": 98,
   "metadata": {
    "colab": {
     "base_uri": "https://localhost:8080/",
     "height": 269
    },
    "id": "dWwL1LZ7U4Wa",
    "outputId": "f7979ed3-32e5-4e3c-d822-f9f1ead0ccd5"
   },
   "outputs": [
    {
     "data": {
      "image/png": "[encoded data removed]",
      "text/plain": [
       "<Figure size 432x288 with 1 Axes>"
      ]
     },
     "metadata": {
      "needs_background": "light",
      "tags": []
     },
     "output_type": "display_data"
    }
   ],
   "source": [
    "n = 1000\n",
    "sigma_1 = 2\n",
    "sigma_2 = 29\n",
    "x = np.random.normal(size = n, scale = sigma_1)\n",
    "y = np.random.normal(size = n, scale = sigma_2)\n",
    "\n",
    "# Graficamos\n",
    "plt.scatter(x, y)\n",
    "plt.grid()\n",
    "plt.xlim([-60,60])\n",
    "plt.ylim([-60,60])\n",
    "plt.show()"
   ]
  },
  {
   "cell_type": "markdown",
   "metadata": {
    "id": "w44BW3CCU4Wl"
   },
   "source": [
    "¿Hay alguna relación entre ellos? Por relación nos referimos a \"variación conjunta\". Y por \"variación conjunta\" podemos imaginarnos que si una de las variables aumenta, la otra también lo hace. Y si una variable disminuye su valor, la otra también lo hace. La covarianza intenta cuantificar esa relación."
   ]
  },
  {
   "cell_type": "code",
   "execution_count": 99,
   "metadata": {
    "colab": {
     "base_uri": "https://localhost:8080/"
    },
    "id": "3wX-H3y-U4Wo",
    "outputId": "876afd39-8c89-4e14-a2de-8a6a7227191c"
   },
   "outputs": [
    {
     "name": "stdout",
     "output_type": "stream",
     "text": [
      "0.3337350347865369\n"
     ]
    }
   ],
   "source": [
    "cov = np.sum((x - x.mean())*(y - y.mean()))/x.size\n",
    "print(cov)"
   ]
  },
  {
   "cell_type": "markdown",
   "metadata": {
    "id": "zzbRb7kmU4W0"
   },
   "source": [
    "La covarianza, sin embargo, tiene un pequeño problema: depende de la escala de nuestros datos. Entonces, para deshacernos de la escala, se puede definir la Correlación, que no es otra cosa que la covarianza dividida la desviación estándar de cada variable aletaria.\n",
    "\n",
    "$$Corr(X,Y) = \\frac{Cov(X,Y)}{\\sigma_X \\sigma_Y}$$"
   ]
  },
  {
   "cell_type": "code",
   "execution_count": 100,
   "metadata": {
    "colab": {
     "base_uri": "https://localhost:8080/"
    },
    "id": "wW2-EG20U4W2",
    "outputId": "96bd3995-723b-4725-a07e-d99081e0f33d"
   },
   "outputs": [
    {
     "name": "stdout",
     "output_type": "stream",
     "text": [
      "0.0058486891577149295\n"
     ]
    }
   ],
   "source": [
    "corr = cov/(x.std()*y.std())\n",
    "print(corr)"
   ]
  },
  {
   "cell_type": "markdown",
   "metadata": {
    "id": "UHClidVeU4XC"
   },
   "source": [
    "Y con eso nos deshacemos de la escala. Un valor cercano a cero nos indica que no existe una relación (¿lineal?) entre las variables.\n",
    "\n",
    "**Probar** con distintas escalas (modificando `sigma_1` y `sigma_2`) y verán que `cov` tomará valores en un rango muy amplio, mientras que `corr` se mantendrá cercana a cero.\n",
    "\n",
    "### 2.1 Relación lineal\n",
    "\n",
    "Veamos otro ejemplo: sabemos que existe una relación lineal entre $X$ e $Y$, es decir, podemos aproximar $Y =aX+b$, donde $a$ y $b$ son la pendiente y la ordenada al origen."
   ]
  },
  {
   "cell_type": "code",
   "execution_count": 104,
   "metadata": {
    "colab": {
     "base_uri": "https://localhost:8080/",
     "height": 265
    },
    "id": "JV0TUTcCU4XE",
    "outputId": "8b780d1a-c61e-44c1-a5a0-c37080351202"
   },
   "outputs": [
    {
     "data": {
      "image/png": "[encoded data removed]",
      "text/plain": [
       "<Figure size 432x288 with 1 Axes>"
      ]
     },
     "metadata": {
      "needs_background": "light",
      "tags": []
     },
     "output_type": "display_data"
    }
   ],
   "source": [
    "n = 100\n",
    "x = np.linspace(-1,1,n) + 0.25*np.random.normal(size = n)\n",
    "y = -5*x + 0.25*np.random.normal(size = n)\n",
    "\n",
    "# Graficamos\n",
    "plt.scatter(x, y)\n",
    "plt.grid()\n",
    "plt.show()"
   ]
  },
  {
   "cell_type": "markdown",
   "metadata": {
    "id": "SpN-9JFmU4XM"
   },
   "source": [
    "La covarianza nos da"
   ]
  },
  {
   "cell_type": "code",
   "execution_count": 105,
   "metadata": {
    "colab": {
     "base_uri": "https://localhost:8080/"
    },
    "id": "LEzzOeFtU4XR",
    "outputId": "4e3ff61e-551a-4a0f-edd4-165bf47e8fbc"
   },
   "outputs": [
    {
     "name": "stdout",
     "output_type": "stream",
     "text": [
      "-2.1453423075822062\n"
     ]
    }
   ],
   "source": [
    "cov = np.sum((x - x.mean())*(y - y.mean()))/x.size\n",
    "print(cov)"
   ]
  },
  {
   "cell_type": "code",
   "execution_count": 106,
   "metadata": {
    "colab": {
     "base_uri": "https://localhost:8080/"
    },
    "id": "ofbVUp7xU4Xa",
    "outputId": "5fd84bf7-a3ae-4de7-a5ad-f42e8e729890"
   },
   "outputs": [
    {
     "data": {
      "text/plain": [
       "-0.9976709301968686"
      ]
     },
     "execution_count": 106,
     "metadata": {
      "tags": []
     },
     "output_type": "execute_result"
    }
   ],
   "source": [
    "corr = cov/(x.std()*y.std())\n",
    "corr"
   ]
  },
  {
   "cell_type": "markdown",
   "metadata": {
    "id": "3O19qjolU4Xi"
   },
   "source": [
    "Ahora, en cambio, el valor es cercano a uno, indicando una relación lineal creciente entre ambas variables.\n",
    "\n",
    "**Probar** cambiando la pendiente de la función lineal (el número que multiplica a `x` en `y = ...`) y mirar qué pasa. ¿Qué pasa si la pendiente es negativa?"
   ]
  },
  {
   "cell_type": "markdown",
   "metadata": {
    "id": "vjgjstKaU4Xm"
   },
   "source": [
    "#### Conclusiones\n",
    "\n",
    "1. La covarianza es una medida de la variación conjunta de dos variables. Pero tiene un problema: depende de la escala.\n",
    "2. Para \"deshacernos\" de la escala, definimos la correlación, que es simplemente la covarianza dividida por el producto de la desviación estándar de cada variable. **Para pensar:** ¿por qué la desviación estándar está asociada a la escala de una variable?\n",
    "3. La correlación es un valor entre -1 y 1. La correlación toma un valor cercano a uno cuando hay una relación lineal creciente entre las variables, cero cuando no hay relación y -1 cuando hay una relación lineal decreciente.\n",
    "4. Esta correlación tiene un nombre particular: **Correlación de Pearson**."
   ]
  },
  {
   "cell_type": "markdown",
   "metadata": {
    "id": "piVs0Av1U4Xp"
   },
   "source": [
    "### 2.2 Covarianza y Correlación con NumPy\n",
    "\n",
    "**Esta sección es opcional**\n",
    "\n",
    "NumPy ya tiene incorporadas funciones que calculan la covarianza y la correlación entre dos variables. La única diferencia es que, en lugar de devolver un único valor, devuelve cuatro valores, que corresponden a la covarianza/correlación entre $X$ con $X$, $X$ con $Y$, $Y$ con $X$, e $Y$ con $Y$. ¿Por qué, en la correlación, algunos valores son exactamente uno (1.)?"
   ]
  },
  {
   "cell_type": "code",
   "execution_count": 107,
   "metadata": {
    "colab": {
     "base_uri": "https://localhost:8080/"
    },
    "id": "frlmIIkKU4Xr",
    "outputId": "f633a068-86a8-42a5-c1be-13e53a5c585e"
   },
   "outputs": [
    {
     "data": {
      "text/plain": [
       "array([[ 0.42814296, -2.16701243],\n",
       "       [-2.16701243, 11.01943601]])"
      ]
     },
     "execution_count": 107,
     "metadata": {
      "tags": []
     },
     "output_type": "execute_result"
    }
   ],
   "source": [
    "np.cov([x,y])"
   ]
  },
  {
   "cell_type": "code",
   "execution_count": 108,
   "metadata": {
    "colab": {
     "base_uri": "https://localhost:8080/"
    },
    "id": "AWJOKo6sU4Xz",
    "outputId": "5c1bb50d-65fe-489e-9b84-d54e795d2138"
   },
   "outputs": [
    {
     "data": {
      "text/plain": [
       "array([[ 1.        , -0.99767093],\n",
       "       [-0.99767093,  1.        ]])"
      ]
     },
     "execution_count": 108,
     "metadata": {
      "tags": []
     },
     "output_type": "execute_result"
    }
   ],
   "source": [
    "np.corrcoef([x,y])"
   ]
  },
  {
   "cell_type": "markdown",
   "metadata": {
    "id": "MyrooOHbU4X8"
   },
   "source": [
    "### 2.3 Relación No-Lineal entre variables\n",
    "\n",
    "**Esta sección es opcional, pero recomendamos leerla**\n",
    "\n",
    "¿Qué ocurre cuando la relación no es lineal entre las variables? Veámoslo con un ejemplo.\n"
   ]
  },
  {
   "cell_type": "code",
   "execution_count": 109,
   "metadata": {
    "colab": {
     "base_uri": "https://localhost:8080/",
     "height": 265
    },
    "id": "iW2lL_d8U4X-",
    "outputId": "2c903c92-4324-4b55-ce13-548a351ef030"
   },
   "outputs": [
    {
     "data": {
      "image/png": "[encoded data removed]",
      "text/plain": [
       "<Figure size 432x288 with 1 Axes>"
      ]
     },
     "metadata": {
      "needs_background": "light",
      "tags": []
     },
     "output_type": "display_data"
    }
   ],
   "source": [
    "n = 1000\n",
    "x = np.linspace(-5,5,n) + 0.25*np.random.normal(size = n)\n",
    "y = x**2 + 0.25*np.random.normal(size = n)\n",
    "\n",
    "# Graficamos\n",
    "plt.scatter(x, y)\n",
    "plt.grid()\n",
    "plt.show()"
   ]
  },
  {
   "cell_type": "markdown",
   "metadata": {
    "id": "x0f8gozSU4YF"
   },
   "source": [
    "La covarianza nos da"
   ]
  },
  {
   "cell_type": "code",
   "execution_count": 110,
   "metadata": {
    "colab": {
     "base_uri": "https://localhost:8080/"
    },
    "id": "qyOWwrbQU4YH",
    "outputId": "2da01f17-3020-41ce-fc6e-4769abef1f6b"
   },
   "outputs": [
    {
     "name": "stdout",
     "output_type": "stream",
     "text": [
      "-0.04842002880846303\n"
     ]
    }
   ],
   "source": [
    "cov = np.sum((x - x.mean())*(y - y.mean()))/x.size\n",
    "print(cov)"
   ]
  },
  {
   "cell_type": "code",
   "execution_count": 111,
   "metadata": {
    "colab": {
     "base_uri": "https://localhost:8080/"
    },
    "id": "_90NldnwU4YP",
    "outputId": "bb0fc094-3acb-4eb4-e41a-437063c04865"
   },
   "outputs": [
    {
     "data": {
      "text/plain": [
       "-0.0022067492372606305"
      ]
     },
     "execution_count": 111,
     "metadata": {
      "tags": []
     },
     "output_type": "execute_result"
    }
   ],
   "source": [
    "corr = cov/(x.std()*y.std())\n",
    "corr"
   ]
  },
  {
   "cell_type": "markdown",
   "metadata": {
    "id": "9XiFp1CZU4YX"
   },
   "source": [
    "Notar que la correlación de un valor alrededor de cero, indicando que no hay una correlación entre ambas variables. Pero esto NO indica que no hay una *relación* entre esas variables, solamente nos dice que no es lineal. Por eso es muy importante graficar.\n",
    "\n",
    "**Probar** cambiando la relación matemática entre `x` e `y` y mirar qué pasa.\n",
    "\n",
    "Para tratar con relaciones no lineal entre variables, existen otros tipos de correlaciones. La que vimos se llama **Correlación de Pearson**, que es la más famosa. Pero también existen otras, Spearman y Kendall, que son muy útiles cuando existe una relación no lineal entre variables.\n",
    "\n",
    "### 3. Correlación en Pandas\n",
    "\n",
    "Probablemente ya estés un poco mareado/a con tantos términos, conceptos y líneas de código. Si no entendiste del todo lo anterior, no te preocupes. Vamos a ver cómo lo aplicamos en un conjunto de datos. ¡Verás que es muy sencillo!\n",
    "\n",
    "Para eso, volvemos a usar el Iris Dataset del encuentro anterior."
   ]
  },
  {
   "cell_type": "code",
   "execution_count": 112,
   "metadata": {
    "id": "jwu9X-67U4Ya"
   },
   "outputs": [],
   "source": [
    "import pandas as pd"
   ]
  },
  {
   "cell_type": "code",
   "execution_count": 114,
   "metadata": {
    "colab": {
     "base_uri": "https://localhost:8080/",
     "height": 204
    },
    "id": "QSWYv0_WU4Yk",
    "outputId": "2ab84243-72b1-4f8f-d2d0-5ea21eb6577d"
   },
   "outputs": [
    {
     "data": {
      "text/html": [
       "<div>\n",
       "<style scoped>\n",
       "    .dataframe tbody tr th:only-of-type {\n",
       "        vertical-align: middle;\n",
       "    }\n",
       "\n",
       "    .dataframe tbody tr th {\n",
       "        vertical-align: top;\n",
       "    }\n",
       "\n",
       "    .dataframe thead th {\n",
       "        text-align: right;\n",
       "    }\n",
       "</style>\n",
       "<table border=\"1\" class=\"dataframe\">\n",
       "  <thead>\n",
       "    <tr style=\"text-align: right;\">\n",
       "      <th></th>\n",
       "      <th>SepalLengthCm</th>\n",
       "      <th>SepalWidthCm</th>\n",
       "      <th>PetalLengthCm</th>\n",
       "      <th>PetalWidthCm</th>\n",
       "      <th>Species</th>\n",
       "    </tr>\n",
       "  </thead>\n",
       "  <tbody>\n",
       "    <tr>\n",
       "      <th>0</th>\n",
       "      <td>5.1</td>\n",
       "      <td>3.5</td>\n",
       "      <td>1.4</td>\n",
       "      <td>0.2</td>\n",
       "      <td>Iris-setosa</td>\n",
       "    </tr>\n",
       "    <tr>\n",
       "      <th>1</th>\n",
       "      <td>4.9</td>\n",
       "      <td>3.0</td>\n",
       "      <td>1.4</td>\n",
       "      <td>0.2</td>\n",
       "      <td>Iris-setosa</td>\n",
       "    </tr>\n",
       "    <tr>\n",
       "      <th>2</th>\n",
       "      <td>4.7</td>\n",
       "      <td>3.2</td>\n",
       "      <td>1.3</td>\n",
       "      <td>0.2</td>\n",
       "      <td>Iris-setosa</td>\n",
       "    </tr>\n",
       "    <tr>\n",
       "      <th>3</th>\n",
       "      <td>4.6</td>\n",
       "      <td>3.1</td>\n",
       "      <td>1.5</td>\n",
       "      <td>0.2</td>\n",
       "      <td>Iris-setosa</td>\n",
       "    </tr>\n",
       "    <tr>\n",
       "      <th>4</th>\n",
       "      <td>5.0</td>\n",
       "      <td>3.6</td>\n",
       "      <td>1.4</td>\n",
       "      <td>0.2</td>\n",
       "      <td>Iris-setosa</td>\n",
       "    </tr>\n",
       "  </tbody>\n",
       "</table>\n",
       "</div>"
      ],
      "text/plain": [
       "   SepalLengthCm  SepalWidthCm  PetalLengthCm  PetalWidthCm      Species\n",
       "0            5.1           3.5            1.4           0.2  Iris-setosa\n",
       "1            4.9           3.0            1.4           0.2  Iris-setosa\n",
       "2            4.7           3.2            1.3           0.2  Iris-setosa\n",
       "3            4.6           3.1            1.5           0.2  Iris-setosa\n",
       "4            5.0           3.6            1.4           0.2  Iris-setosa"
      ]
     },
     "execution_count": 114,
     "metadata": {
      "tags": []
     },
     "output_type": "execute_result"
    }
   ],
   "source": [
    "data = pd.read_csv('https://sc.acamica.com/content/toolbox/ds/ds_04_Iris.csv')\n",
    "data.drop(columns = 'Id', inplace = True)\n",
    "data.head()"
   ]
  },
  {
   "cell_type": "markdown",
   "metadata": {
    "id": "_hpR90jUU4Yr"
   },
   "source": [
    "Para obtener las correlaciones entre las distintas variables, simplemente tenemos que hacer:"
   ]
  },
  {
   "cell_type": "code",
   "execution_count": 115,
   "metadata": {
    "colab": {
     "base_uri": "https://localhost:8080/",
     "height": 173
    },
    "id": "j24K4utyU4Yw",
    "outputId": "d7dec57e-dacd-4f92-cd57-0618489b4cf7"
   },
   "outputs": [
    {
     "data": {
      "text/html": [
       "<div>\n",
       "<style scoped>\n",
       "    .dataframe tbody tr th:only-of-type {\n",
       "        vertical-align: middle;\n",
       "    }\n",
       "\n",
       "    .dataframe tbody tr th {\n",
       "        vertical-align: top;\n",
       "    }\n",
       "\n",
       "    .dataframe thead th {\n",
       "        text-align: right;\n",
       "    }\n",
       "</style>\n",
       "<table border=\"1\" class=\"dataframe\">\n",
       "  <thead>\n",
       "    <tr style=\"text-align: right;\">\n",
       "      <th></th>\n",
       "      <th>SepalLengthCm</th>\n",
       "      <th>SepalWidthCm</th>\n",
       "      <th>PetalLengthCm</th>\n",
       "      <th>PetalWidthCm</th>\n",
       "    </tr>\n",
       "  </thead>\n",
       "  <tbody>\n",
       "    <tr>\n",
       "      <th>SepalLengthCm</th>\n",
       "      <td>1.000000</td>\n",
       "      <td>-0.109369</td>\n",
       "      <td>0.871754</td>\n",
       "      <td>0.817954</td>\n",
       "    </tr>\n",
       "    <tr>\n",
       "      <th>SepalWidthCm</th>\n",
       "      <td>-0.109369</td>\n",
       "      <td>1.000000</td>\n",
       "      <td>-0.420516</td>\n",
       "      <td>-0.356544</td>\n",
       "    </tr>\n",
       "    <tr>\n",
       "      <th>PetalLengthCm</th>\n",
       "      <td>0.871754</td>\n",
       "      <td>-0.420516</td>\n",
       "      <td>1.000000</td>\n",
       "      <td>0.962757</td>\n",
       "    </tr>\n",
       "    <tr>\n",
       "      <th>PetalWidthCm</th>\n",
       "      <td>0.817954</td>\n",
       "      <td>-0.356544</td>\n",
       "      <td>0.962757</td>\n",
       "      <td>1.000000</td>\n",
       "    </tr>\n",
       "  </tbody>\n",
       "</table>\n",
       "</div>"
      ],
      "text/plain": [
       "               SepalLengthCm  SepalWidthCm  PetalLengthCm  PetalWidthCm\n",
       "SepalLengthCm       1.000000     -0.109369       0.871754      0.817954\n",
       "SepalWidthCm       -0.109369      1.000000      -0.420516     -0.356544\n",
       "PetalLengthCm       0.871754     -0.420516       1.000000      0.962757\n",
       "PetalWidthCm        0.817954     -0.356544       0.962757      1.000000"
      ]
     },
     "execution_count": 115,
     "metadata": {
      "tags": []
     },
     "output_type": "execute_result"
    }
   ],
   "source": [
    "data.corr()"
   ]
  },
  {
   "cell_type": "markdown",
   "metadata": {
    "id": "1ePNNkIzU4Y3"
   },
   "source": [
    "**Para responder**: ¿Cuáles variables están correlacionadas entre sí?¿Por qué los elementos de la diagonal son exactamente uno (1.0)?\n",
    "\n",
    "Dentro de dos encuentros veremos una forma más eficiente de visualizar esta información, ¡pero ya puedes aplicarla!"
   ]
  }
 ],
 "metadata": {
  "colab": {
   "collapsed_sections": [],
   "name": "Copia de DS_Bitácora_05_Probabilidad.ipynb",
   "provenance": []
  },
  "kernelspec": {
   "display_name": "Python 3",
   "language": "python",
   "name": "python3"
  },
  "language_info": {
   "codemirror_mode": {
    "name": "ipython",
    "version": 3
   },
   "file_extension": ".py",
   "mimetype": "text/x-python",
   "name": "python",
   "nbconvert_exporter": "python",
   "pygments_lexer": "ipython3",
   "version": "3.8.5"
  }
 },
 "nbformat": 4,
 "nbformat_minor": 4
}
